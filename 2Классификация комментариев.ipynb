{
 "cells": [
  {
   "cell_type": "markdown",
   "metadata": {
    "toc": true
   },
   "source": [
    "<h1>Содержание<span class=\"tocSkip\"></span></h1>\n",
    "<div class=\"toc\"><ul class=\"toc-item\"><li><span><a href=\"#Обзор-данных\" data-toc-modified-id=\"Обзор-данных-1\"><span class=\"toc-item-num\">1&nbsp;&nbsp;</span>Обзор данных</a></span></li><li><span><a href=\"#Подготовка-данных\" data-toc-modified-id=\"Подготовка-данных-2\"><span class=\"toc-item-num\">2&nbsp;&nbsp;</span>Подготовка данных</a></span></li><li><span><a href=\"#Обучение-моделей\" data-toc-modified-id=\"Обучение-моделей-3\"><span class=\"toc-item-num\">3&nbsp;&nbsp;</span>Обучение моделей</a></span><ul class=\"toc-item\"><li><span><a href=\"#LogisticRegression\" data-toc-modified-id=\"LogisticRegression-3.1\"><span class=\"toc-item-num\">3.1&nbsp;&nbsp;</span>LogisticRegression</a></span></li><li><span><a href=\"#DecisionTreeClassifier\" data-toc-modified-id=\"DecisionTreeClassifier-3.2\"><span class=\"toc-item-num\">3.2&nbsp;&nbsp;</span>DecisionTreeClassifier</a></span></li><li><span><a href=\"#LGBMClassifier\" data-toc-modified-id=\"LGBMClassifier-3.3\"><span class=\"toc-item-num\">3.3&nbsp;&nbsp;</span>LGBMClassifier</a></span></li></ul></li><li><span><a href=\"#Общий-вывод\" data-toc-modified-id=\"Общий-вывод-4\"><span class=\"toc-item-num\">4&nbsp;&nbsp;</span>Общий вывод</a></span></li><li><span><a href=\"#Чек-лист-проверки\" data-toc-modified-id=\"Чек-лист-проверки-5\"><span class=\"toc-item-num\">5&nbsp;&nbsp;</span>Чек-лист проверки</a></span></li></ul></div>"
   ]
  },
  {
   "cell_type": "markdown",
   "metadata": {},
   "source": [
    "# Проект для «Викишоп»"
   ]
  },
  {
   "cell_type": "markdown",
   "metadata": {},
   "source": [
    "Интернет-магазин «Викишоп» запускает новый сервис. Теперь пользователи могут редактировать и дополнять описания товаров, как в вики-сообществах. То есть клиенты предлагают свои правки и комментируют изменения других. Магазину нужен инструмент, который будет искать токсичные комментарии и отправлять их на модерацию. \n",
    "\n",
    "Обучите модель классифицировать комментарии на позитивные и негативные. В вашем распоряжении набор данных с разметкой о токсичности правок.\n",
    "\n",
    "Постройте модель со значением метрики качества *F1* не меньше 0.75. \n",
    "\n",
    "**Инструкция по выполнению проекта**\n",
    "\n",
    "1. Загрузите и подготовьте данные.\n",
    "2. Обучите разные модели. \n",
    "3. Сделайте выводы.\n",
    "\n",
    "Для выполнения проекта применять *BERT* необязательно, но вы можете попробовать.\n",
    "\n",
    "**Описание данных**\n",
    "\n",
    "Данные находятся в файле `toxic_comments.csv`. Столбец *text* в нём содержит текст комментария, а *toxic* — целевой признак."
   ]
  },
  {
   "cell_type": "markdown",
   "metadata": {},
   "source": [
    "## Обзор данных"
   ]
  },
  {
   "cell_type": "code",
   "execution_count": 21,
   "metadata": {},
   "outputs": [
    {
     "name": "stderr",
     "output_type": "stream",
     "text": [
      "[nltk_data] Downloading package averaged_perceptron_tagger to\n",
      "[nltk_data]     /home/jovyan/nltk_data...\n",
      "[nltk_data]   Package averaged_perceptron_tagger is already up-to-\n",
      "[nltk_data]       date!\n",
      "[nltk_data] Downloading package punkt to /home/jovyan/nltk_data...\n",
      "[nltk_data]   Package punkt is already up-to-date!\n",
      "[nltk_data] Downloading package wordnet to /home/jovyan/nltk_data...\n",
      "[nltk_data]   Package wordnet is already up-to-date!\n",
      "[nltk_data] Downloading package omw-1.4 to /home/jovyan/nltk_data...\n",
      "[nltk_data]   Package omw-1.4 is already up-to-date!\n"
     ]
    }
   ],
   "source": [
    "import numpy as np\n",
    "import pandas as pd\n",
    "\n",
    "import re\n",
    "\n",
    "import nltk\n",
    "\n",
    "nltk.download('averaged_perceptron_tagger')\n",
    "from sklearn.tree import DecisionTreeClassifier\n",
    "from lightgbm import LGBMClassifier\n",
    "from nltk.corpus import stopwords\n",
    "from nltk.stem import WordNetLemmatizer\n",
    "from sklearn.feature_extraction.text import TfidfVectorizer\n",
    "from sklearn.linear_model import LogisticRegression\n",
    "from sklearn.metrics import confusion_matrix, f1_score\n",
    "from sklearn.model_selection import GridSearchCV, train_test_split\n",
    "from tqdm.notebook import tqdm\n",
    "\n",
    "import matplotlib.pyplot as plt\n",
    "import warnings\n",
    "warnings.filterwarnings('ignore')\n",
    "\n",
    "nltk.download('punkt')\n",
    "nltk.download('wordnet')\n",
    "nltk.download('omw-1.4')\n",
    "tqdm.pandas()\n"
   ]
  },
  {
   "cell_type": "code",
   "execution_count": 3,
   "metadata": {},
   "outputs": [
    {
     "data": {
      "text/html": [
       "<div>\n",
       "<style scoped>\n",
       "    .dataframe tbody tr th:only-of-type {\n",
       "        vertical-align: middle;\n",
       "    }\n",
       "\n",
       "    .dataframe tbody tr th {\n",
       "        vertical-align: top;\n",
       "    }\n",
       "\n",
       "    .dataframe thead th {\n",
       "        text-align: right;\n",
       "    }\n",
       "</style>\n",
       "<table border=\"1\" class=\"dataframe\">\n",
       "  <thead>\n",
       "    <tr style=\"text-align: right;\">\n",
       "      <th></th>\n",
       "      <th>Unnamed: 0</th>\n",
       "      <th>text</th>\n",
       "      <th>toxic</th>\n",
       "    </tr>\n",
       "  </thead>\n",
       "  <tbody>\n",
       "    <tr>\n",
       "      <th>0</th>\n",
       "      <td>0</td>\n",
       "      <td>Explanation\\nWhy the edits made under my usern...</td>\n",
       "      <td>0</td>\n",
       "    </tr>\n",
       "    <tr>\n",
       "      <th>1</th>\n",
       "      <td>1</td>\n",
       "      <td>D'aww! He matches this background colour I'm s...</td>\n",
       "      <td>0</td>\n",
       "    </tr>\n",
       "    <tr>\n",
       "      <th>2</th>\n",
       "      <td>2</td>\n",
       "      <td>Hey man, I'm really not trying to edit war. It...</td>\n",
       "      <td>0</td>\n",
       "    </tr>\n",
       "    <tr>\n",
       "      <th>3</th>\n",
       "      <td>3</td>\n",
       "      <td>\"\\nMore\\nI can't make any real suggestions on ...</td>\n",
       "      <td>0</td>\n",
       "    </tr>\n",
       "    <tr>\n",
       "      <th>4</th>\n",
       "      <td>4</td>\n",
       "      <td>You, sir, are my hero. Any chance you remember...</td>\n",
       "      <td>0</td>\n",
       "    </tr>\n",
       "  </tbody>\n",
       "</table>\n",
       "</div>"
      ],
      "text/plain": [
       "   Unnamed: 0                                               text  toxic\n",
       "0           0  Explanation\\nWhy the edits made under my usern...      0\n",
       "1           1  D'aww! He matches this background colour I'm s...      0\n",
       "2           2  Hey man, I'm really not trying to edit war. It...      0\n",
       "3           3  \"\\nMore\\nI can't make any real suggestions on ...      0\n",
       "4           4  You, sir, are my hero. Any chance you remember...      0"
      ]
     },
     "execution_count": 3,
     "metadata": {},
     "output_type": "execute_result"
    }
   ],
   "source": [
    "data = pd.read_csv('/datasets/toxic_comments.csv')\n",
    "pd.set_option('display.max_rows', None)#параметр для выводы всего датафрейма\n",
    "data.head()"
   ]
  },
  {
   "cell_type": "code",
   "execution_count": 4,
   "metadata": {},
   "outputs": [],
   "source": [
    "def inf(data):\n",
    "    print(f'Размер датасета - {data.shape}')\n",
    "    print()\n",
    "    print('Информация о данных:')\n",
    "    print(data.info())\n",
    "    print()\n",
    "    print(f'Количество пропусков в датасете: {data.isna().sum().sum()}')\n",
    "    print(f'Указание на пропуски в датасете: {data.isna().sum()}')\n",
    "    print(f'Дубликаты в датасете: {data.duplicated().sum()}')"
   ]
  },
  {
   "cell_type": "code",
   "execution_count": 5,
   "metadata": {},
   "outputs": [
    {
     "name": "stdout",
     "output_type": "stream",
     "text": [
      "Размер датасета - (159292, 3)\n",
      "\n",
      "Информация о данных:\n",
      "<class 'pandas.core.frame.DataFrame'>\n",
      "RangeIndex: 159292 entries, 0 to 159291\n",
      "Data columns (total 3 columns):\n",
      " #   Column      Non-Null Count   Dtype \n",
      "---  ------      --------------   ----- \n",
      " 0   Unnamed: 0  159292 non-null  int64 \n",
      " 1   text        159292 non-null  object\n",
      " 2   toxic       159292 non-null  int64 \n",
      "dtypes: int64(2), object(1)\n",
      "memory usage: 3.6+ MB\n",
      "None\n",
      "\n",
      "Количество пропусков в датасете: 0\n",
      "Указание на пропуски в датасете: Unnamed: 0    0\n",
      "text          0\n",
      "toxic         0\n",
      "dtype: int64\n",
      "Дубликаты в датасете: 0\n"
     ]
    }
   ],
   "source": [
    "inf(data)"
   ]
  },
  {
   "cell_type": "code",
   "execution_count": 6,
   "metadata": {},
   "outputs": [
    {
     "data": {
      "image/png": "[encoded data removed]",
      "text/plain": [
       "<Figure size 504x504 with 1 Axes>"
      ]
     },
     "metadata": {},
     "output_type": "display_data"
    }
   ],
   "source": [
    "data['toxic'].value_counts().plot(kind='pie', autopct='%1.0f%%', colors = ( \"plum\",\"gold\"),figsize=(7,7),\n",
    "                                       title = 'Процентное соотношение позитивных и негативных комментариев')\n",
    "plt.legend(bbox_to_anchor=(1, 0.6));"
   ]
  },
  {
   "cell_type": "markdown",
   "metadata": {},
   "source": [
    "**Вывод по первому пункту:**\n",
    "\n",
    "- В таблице 159 292 объектов,\n",
    "- Пропусков нет, явных дубликатов нет,\n",
    "- Тексты комментариев на английском,\n",
    "- Процентное соотношение позитивных и негативных комментариев показывает, что комментариев класса '0' в 9 раз больше комментариев класса '1'"
   ]
  },
  {
   "cell_type": "markdown",
   "metadata": {},
   "source": [
    "## Подготовка данных"
   ]
  },
  {
   "cell_type": "markdown",
   "metadata": {},
   "source": [
    "**Проведем очистку и лемматизацию текста**"
   ]
  },
  {
   "cell_type": "code",
   "execution_count": 7,
   "metadata": {},
   "outputs": [],
   "source": [
    "def clear_text(text):\n",
    "    text = re.sub(r\"[^a-zA-Z']\", ' ', text)\n",
    "    return ' '.join(text.split())"
   ]
  },
  {
   "cell_type": "code",
   "execution_count": 8,
   "metadata": {},
   "outputs": [],
   "source": [
    "def lemmatize(text):\n",
    "    m = WordNetLemmatizer()\n",
    "    txt_list =  nltk.word_tokenize(text)\n",
    "    return ' '.join([m.lemmatize(word) for word in txt_list])"
   ]
  },
  {
   "cell_type": "code",
   "execution_count": 9,
   "metadata": {},
   "outputs": [
    {
     "data": {
      "application/vnd.jupyter.widget-view+json": {
       "model_id": "d1a9b3665caa4d608e0cb00ffa4e9ad2",
       "version_major": 2,
       "version_minor": 0
      },
      "text/plain": [
       "  0%|          | 0/159292 [00:00<?, ?it/s]"
      ]
     },
     "metadata": {},
     "output_type": "display_data"
    }
   ],
   "source": [
    "data['lemm_text'] = data['text'].progress_apply(lambda x: lemmatize(clear_text(x)))"
   ]
  },
  {
   "cell_type": "code",
   "execution_count": 10,
   "metadata": {},
   "outputs": [
    {
     "data": {
      "text/html": [
       "<div>\n",
       "<style scoped>\n",
       "    .dataframe tbody tr th:only-of-type {\n",
       "        vertical-align: middle;\n",
       "    }\n",
       "\n",
       "    .dataframe tbody tr th {\n",
       "        vertical-align: top;\n",
       "    }\n",
       "\n",
       "    .dataframe thead th {\n",
       "        text-align: right;\n",
       "    }\n",
       "</style>\n",
       "<table border=\"1\" class=\"dataframe\">\n",
       "  <thead>\n",
       "    <tr style=\"text-align: right;\">\n",
       "      <th></th>\n",
       "      <th>Unnamed: 0</th>\n",
       "      <th>text</th>\n",
       "      <th>toxic</th>\n",
       "      <th>lemm_text</th>\n",
       "    </tr>\n",
       "  </thead>\n",
       "  <tbody>\n",
       "    <tr>\n",
       "      <th>0</th>\n",
       "      <td>0</td>\n",
       "      <td>Explanation\\nWhy the edits made under my usern...</td>\n",
       "      <td>0</td>\n",
       "      <td>Explanation Why the edits made under my userna...</td>\n",
       "    </tr>\n",
       "    <tr>\n",
       "      <th>1</th>\n",
       "      <td>1</td>\n",
       "      <td>D'aww! He matches this background colour I'm s...</td>\n",
       "      <td>0</td>\n",
       "      <td>D'aww He match this background colour I 'm see...</td>\n",
       "    </tr>\n",
       "    <tr>\n",
       "      <th>2</th>\n",
       "      <td>2</td>\n",
       "      <td>Hey man, I'm really not trying to edit war. It...</td>\n",
       "      <td>0</td>\n",
       "      <td>Hey man I 'm really not trying to edit war It ...</td>\n",
       "    </tr>\n",
       "    <tr>\n",
       "      <th>3</th>\n",
       "      <td>3</td>\n",
       "      <td>\"\\nMore\\nI can't make any real suggestions on ...</td>\n",
       "      <td>0</td>\n",
       "      <td>More I ca n't make any real suggestion on impr...</td>\n",
       "    </tr>\n",
       "    <tr>\n",
       "      <th>4</th>\n",
       "      <td>4</td>\n",
       "      <td>You, sir, are my hero. Any chance you remember...</td>\n",
       "      <td>0</td>\n",
       "      <td>You sir are my hero Any chance you remember wh...</td>\n",
       "    </tr>\n",
       "  </tbody>\n",
       "</table>\n",
       "</div>"
      ],
      "text/plain": [
       "   Unnamed: 0                                               text  toxic  \\\n",
       "0           0  Explanation\\nWhy the edits made under my usern...      0   \n",
       "1           1  D'aww! He matches this background colour I'm s...      0   \n",
       "2           2  Hey man, I'm really not trying to edit war. It...      0   \n",
       "3           3  \"\\nMore\\nI can't make any real suggestions on ...      0   \n",
       "4           4  You, sir, are my hero. Any chance you remember...      0   \n",
       "\n",
       "                                           lemm_text  \n",
       "0  Explanation Why the edits made under my userna...  \n",
       "1  D'aww He match this background colour I 'm see...  \n",
       "2  Hey man I 'm really not trying to edit war It ...  \n",
       "3  More I ca n't make any real suggestion on impr...  \n",
       "4  You sir are my hero Any chance you remember wh...  "
      ]
     },
     "execution_count": 10,
     "metadata": {},
     "output_type": "execute_result"
    }
   ],
   "source": [
    "data.head()"
   ]
  },
  {
   "cell_type": "markdown",
   "metadata": {},
   "source": [
    "**Разделим выборки**"
   ]
  },
  {
   "cell_type": "code",
   "execution_count": 11,
   "metadata": {},
   "outputs": [],
   "source": [
    "train, test = train_test_split(data, test_size=0.1, random_state=12345)\n",
    "\n",
    "target_train = train['toxic']\n",
    "features_train = train['lemm_text']\n",
    "\n",
    "target_test = test['toxic']\n",
    "features_test = test['lemm_text']"
   ]
  },
  {
   "cell_type": "markdown",
   "metadata": {},
   "source": [
    "**Вызовем функцию stopwords.words(), передадим ей аргумент 'english', то есть англоязычные стоп-слова, а также вычислим TF-IDF**"
   ]
  },
  {
   "cell_type": "code",
   "execution_count": 13,
   "metadata": {},
   "outputs": [
    {
     "data": {
      "application/vnd.jupyter.widget-view+json": {
       "model_id": "7c5fa7ef7d1a4aa88455039a0ce076c3",
       "version_major": 2,
       "version_minor": 0
      },
      "text/plain": [
       "  0%|          | 0/143362 [00:00<?, ?it/s]"
      ]
     },
     "metadata": {},
     "output_type": "display_data"
    },
    {
     "name": "stdout",
     "output_type": "stream",
     "text": [
      "Размер матрицы: (143362, 153955)\n",
      "Размер матрицы tf-idf_test: (15930, 153955)\n"
     ]
    }
   ],
   "source": [
    "stopwords_ = set(stopwords.words('english'))\n",
    "count_tf_idf = TfidfVectorizer(stop_words=stopwords_)\n",
    "tf_idf = count_tf_idf.fit_transform(tqdm(features_train))\n",
    "tf_idf_test = count_tf_idf.transform(features_test)\n",
    "print(\"Размер матрицы:\", tf_idf.shape)\n",
    "print(\"Размер матрицы tf-idf_test:\", tf_idf_test.shape)"
   ]
  },
  {
   "cell_type": "markdown",
   "metadata": {},
   "source": [
    "## Обучение моделей"
   ]
  },
  {
   "cell_type": "markdown",
   "metadata": {},
   "source": [
    "### LogisticRegression"
   ]
  },
  {
   "cell_type": "code",
   "execution_count": 34,
   "metadata": {},
   "outputs": [
    {
     "name": "stdout",
     "output_type": "stream",
     "text": [
      "Лучший показатель F1: 0.761\n"
     ]
    }
   ],
   "source": [
    "model = LogisticRegression(solver='liblinear', class_weight = 'balanced', random_state=12345)\n",
    "parameters = {\n",
    "    'C': [10],\n",
    "    'penalty': ['l2'],\n",
    "    'max_iter': [90],\n",
    "}\n",
    "log = GridSearchCV(model, parameters, scoring='f1', cv=3)\n",
    "log.fit(tf_idf, target_train)\n",
    "log_fit_score = log.best_score_\n",
    "print(f'F1: {log_fit_score:.3f}')"
   ]
  },
  {
   "cell_type": "markdown",
   "metadata": {},
   "source": [
    "### DecisionTreeClassifier"
   ]
  },
  {
   "cell_type": "code",
   "execution_count": 22,
   "metadata": {},
   "outputs": [
    {
     "name": "stdout",
     "output_type": "stream",
     "text": [
      "Лучший показатель F1: 0.71\n"
     ]
    }
   ],
   "source": [
    "model = DecisionTreeClassifier(random_state=12345)\n",
    "parameters = {\n",
    "    'max_depth': [100],\n",
    "    'min_samples_leaf': [10],\n",
    "    'min_samples_split': [10],\n",
    "}\n",
    "dt = GridSearchCV(model, parameters, scoring='f1', cv=3)\n",
    "dt.fit(tf_idf, target_train)\n",
    "dt_fit_score = dt.best_score_\n",
    "print(f'F1: {dt_fit_score:.2f}')"
   ]
  },
  {
   "cell_type": "markdown",
   "metadata": {},
   "source": [
    "### LGBMClassifier"
   ]
  },
  {
   "cell_type": "code",
   "execution_count": 27,
   "metadata": {},
   "outputs": [
    {
     "name": "stdout",
     "output_type": "stream",
     "text": [
      "Лучший показатель F1: 0.73\n"
     ]
    }
   ],
   "source": [
    "model = LGBMClassifier(random_state=12345, class_weight='balanced')\n",
    "parameters = {\n",
    "    'max_depth': [5],\n",
    "    'num_leaves': [30],\n",
    "    'learning_rate': [0.1],\n",
    "    'n_estimators' : [300],\n",
    "}\n",
    "lgbm_grid = GridSearchCV(model, parameters, scoring='f1', cv=3, n_jobs=2)\n",
    "lgbm_grid.fit(tf_idf, target_train)\n",
    "lgbm_fit_score = lgbm_grid.best_score_\n",
    "print(f'F1: {lgbm_fit_score:.2f}')"
   ]
  },
  {
   "cell_type": "markdown",
   "metadata": {},
   "source": [
    "**Лучший показатель F1 = 0.761, что удовлетворяет условию ТЗ, оказался у LogisticRegression, поэтому проведем его тестирование**"
   ]
  },
  {
   "cell_type": "code",
   "execution_count": 33,
   "metadata": {},
   "outputs": [
    {
     "name": "stdout",
     "output_type": "stream",
     "text": [
      "F1-score: 0.759\n",
      "\n"
     ]
    }
   ],
   "source": [
    "pred = log.predict(tf_idf_test)\n",
    "log_f = f1_score(target_test, pred)\n",
    "log_matr = confusion_matrix(target_test, pred)\n",
    "print(f'F1: {log_f:.3f}\\n')"
   ]
  },
  {
   "cell_type": "markdown",
   "metadata": {},
   "source": [
    "**На тестовой выборке F1 почти не отличается**"
   ]
  },
  {
   "cell_type": "code",
   "execution_count": 44,
   "metadata": {},
   "outputs": [
    {
     "data": {
      "text/html": [
       "<style  type=\"text/css\" >\n",
       "#T_51cb2_row0_col0,#T_51cb2_row0_col1{\n",
       "            background-color:  #f7fbff;\n",
       "            color:  #000000;\n",
       "        }</style><table id=\"T_51cb2_\" ><thead>    <tr>        <th class=\"blank level0\" ></th>        <th class=\"col_heading level0 col0\" >Значение метрики качества F1</th>        <th class=\"col_heading level0 col1\" >Значение метрики качества F1 на тестовой выборке</th>    </tr></thead><tbody>\n",
       "                <tr>\n",
       "                        <th id=\"T_51cb2_level0_row0\" class=\"row_heading level0 row0\" >LogisticRegression</th>\n",
       "                        <td id=\"T_51cb2_row0_col0\" class=\"data row0 col0\" >0.761090</td>\n",
       "                        <td id=\"T_51cb2_row0_col1\" class=\"data row0 col1\" >0.758957</td>\n",
       "            </tr>\n",
       "    </tbody></table>"
      ],
      "text/plain": [
       "<pandas.io.formats.style.Styler at 0x7f0ba0c6e580>"
      ]
     },
     "metadata": {},
     "output_type": "display_data"
    }
   ],
   "source": [
    "data = {'Значение метрики качества F1':[log_fit_score],\n",
    "        'Значение метрики качества F1 на тестовой выборке':[log_f]}\n",
    "\n",
    "index = ['LogisticRegression']\n",
    "\n",
    "data_final = pd.DataFrame(data=data, index=index)\n",
    "\n",
    "display(data_final.style.background_gradient(cmap='Blues', axis=0))"
   ]
  },
  {
   "cell_type": "markdown",
   "metadata": {},
   "source": [
    "## Общий вывод"
   ]
  },
  {
   "cell_type": "markdown",
   "metadata": {},
   "source": [
    "**По завершении проекта можно сделать следующие выводы:**\n",
    "\n",
    "- Загрузила данные, где пропусков и дубликатов обнаружено не было;\n",
    "- Провела очистку и лемматизацию текста;\n",
    "- Обучила 3 модели(LogisticRegression,DecisionTreeClassifier,LGBMClassifier) с разными гиперпараметрами и проверила лучшую на тестовой выборке;\n",
    "- Выбрала лучшую модель LogisticRegression  по показателю F1 = 0.758957 на тестовой выборке, что удовлетворяет условию ТЗ."
   ]
  }
 ],
 "metadata": {
  "ExecuteTimeLog": [
   {
    "duration": 1308,
    "start_time": "2024-01-24T16:50:12.634Z"
   },
   {
    "duration": 3329,
    "start_time": "2024-01-24T16:51:08.565Z"
   },
   {
    "duration": 1486,
    "start_time": "2024-01-24T16:51:40.329Z"
   },
   {
    "duration": 817,
    "start_time": "2024-01-24T16:52:26.416Z"
   },
   {
    "duration": 3,
    "start_time": "2024-01-24T16:52:57.534Z"
   },
   {
    "duration": 284,
    "start_time": "2024-01-24T16:53:15.207Z"
   },
   {
    "duration": 52,
    "start_time": "2024-01-28T07:38:32.621Z"
   },
   {
    "duration": 1508,
    "start_time": "2024-01-28T07:38:44.126Z"
   },
   {
    "duration": 3293,
    "start_time": "2024-01-28T07:38:45.636Z"
   },
   {
    "duration": 3,
    "start_time": "2024-01-28T07:38:50.277Z"
   },
   {
    "duration": 310,
    "start_time": "2024-01-28T07:38:51.541Z"
   },
   {
    "duration": 197,
    "start_time": "2024-01-28T07:38:52.785Z"
   },
   {
    "duration": 7,
    "start_time": "2024-01-28T07:43:22.882Z"
   },
   {
    "duration": 777,
    "start_time": "2024-01-28T07:49:57.390Z"
   },
   {
    "duration": 5,
    "start_time": "2024-01-28T07:50:46.164Z"
   },
   {
    "duration": 170,
    "start_time": "2024-01-28T07:50:50.028Z"
   },
   {
    "duration": 168,
    "start_time": "2024-01-28T07:56:28.581Z"
   },
   {
    "duration": 15,
    "start_time": "2024-01-28T08:11:42.000Z"
   },
   {
    "duration": 308,
    "start_time": "2024-01-28T08:13:22.690Z"
   },
   {
    "duration": 1967,
    "start_time": "2024-01-28T08:14:48.697Z"
   },
   {
    "duration": 956,
    "start_time": "2024-01-28T08:15:00.461Z"
   },
   {
    "duration": 4,
    "start_time": "2024-01-28T08:15:02.436Z"
   },
   {
    "duration": 311,
    "start_time": "2024-01-28T08:15:04.394Z"
   },
   {
    "duration": 178,
    "start_time": "2024-01-28T08:15:05.476Z"
   },
   {
    "duration": 5,
    "start_time": "2024-01-28T08:15:06.742Z"
   },
   {
    "duration": 2139,
    "start_time": "2024-01-28T08:20:54.740Z"
   },
   {
    "duration": 954,
    "start_time": "2024-01-28T08:20:56.882Z"
   },
   {
    "duration": 4,
    "start_time": "2024-01-28T08:20:57.837Z"
   },
   {
    "duration": 335,
    "start_time": "2024-01-28T08:20:57.844Z"
   },
   {
    "duration": 202,
    "start_time": "2024-01-28T08:21:00.524Z"
   },
   {
    "duration": 5,
    "start_time": "2024-01-28T08:21:02.883Z"
   },
   {
    "duration": 7,
    "start_time": "2024-01-28T08:21:04.085Z"
   },
   {
    "duration": 1600,
    "start_time": "2024-01-28T08:38:20.133Z"
   },
   {
    "duration": 987,
    "start_time": "2024-01-28T08:38:21.735Z"
   },
   {
    "duration": 5,
    "start_time": "2024-01-28T08:38:22.724Z"
   },
   {
    "duration": 319,
    "start_time": "2024-01-28T08:38:24.944Z"
   },
   {
    "duration": 198,
    "start_time": "2024-01-28T08:38:25.997Z"
   },
   {
    "duration": 2,
    "start_time": "2024-01-28T08:40:52.907Z"
   },
   {
    "duration": 4,
    "start_time": "2024-01-28T08:40:53.500Z"
   },
   {
    "duration": 133,
    "start_time": "2024-01-28T08:40:54.215Z"
   },
   {
    "duration": 7898,
    "start_time": "2024-01-28T08:43:19.456Z"
   },
   {
    "duration": 1678,
    "start_time": "2024-01-28T08:44:40.438Z"
   },
   {
    "duration": 975,
    "start_time": "2024-01-28T08:44:42.118Z"
   },
   {
    "duration": 4,
    "start_time": "2024-01-28T08:44:44.195Z"
   },
   {
    "duration": 324,
    "start_time": "2024-01-28T08:44:47.825Z"
   },
   {
    "duration": 181,
    "start_time": "2024-01-28T08:44:48.949Z"
   },
   {
    "duration": 2,
    "start_time": "2024-01-28T08:44:51.318Z"
   },
   {
    "duration": 3,
    "start_time": "2024-01-28T08:44:51.945Z"
   },
   {
    "duration": 129,
    "start_time": "2024-01-28T08:44:53.039Z"
   },
   {
    "duration": 7725,
    "start_time": "2024-01-28T08:45:01.677Z"
   },
   {
    "duration": 82,
    "start_time": "2024-01-28T08:56:02.452Z"
   },
   {
    "duration": 123,
    "start_time": "2024-01-28T08:56:13.242Z"
   },
   {
    "duration": 12592,
    "start_time": "2024-01-28T08:56:17.553Z"
   },
   {
    "duration": 12484,
    "start_time": "2024-01-28T08:57:06.159Z"
   },
   {
    "duration": 47,
    "start_time": "2024-01-28T08:59:19.137Z"
   },
   {
    "duration": 12411,
    "start_time": "2024-01-28T08:59:39.289Z"
   },
   {
    "duration": 1802,
    "start_time": "2024-01-28T09:11:16.112Z"
   },
   {
    "duration": 1047,
    "start_time": "2024-01-28T09:11:17.916Z"
   },
   {
    "duration": 4,
    "start_time": "2024-01-28T09:11:18.965Z"
   },
   {
    "duration": 348,
    "start_time": "2024-01-28T09:11:18.970Z"
   },
   {
    "duration": 191,
    "start_time": "2024-01-28T09:11:19.320Z"
   },
   {
    "duration": 91,
    "start_time": "2024-01-28T09:13:18.741Z"
   },
   {
    "duration": 88,
    "start_time": "2024-01-28T09:13:28.297Z"
   },
   {
    "duration": 613,
    "start_time": "2024-01-28T09:13:32.657Z"
   },
   {
    "duration": 18,
    "start_time": "2024-01-28T09:24:00.915Z"
   },
   {
    "duration": 3,
    "start_time": "2024-01-28T09:24:20.067Z"
   },
   {
    "duration": 4,
    "start_time": "2024-01-28T09:24:20.903Z"
   },
   {
    "duration": 8056,
    "start_time": "2024-01-28T09:25:28.954Z"
   },
   {
    "duration": 3,
    "start_time": "2024-01-28T09:31:20.850Z"
   },
   {
    "duration": 3757,
    "start_time": "2024-01-28T09:31:57.116Z"
   },
   {
    "duration": 1431,
    "start_time": "2024-01-28T09:32:37.788Z"
   },
   {
    "duration": 1039,
    "start_time": "2024-01-28T09:32:39.221Z"
   },
   {
    "duration": 4,
    "start_time": "2024-01-28T09:32:40.262Z"
   },
   {
    "duration": 330,
    "start_time": "2024-01-28T09:32:41.692Z"
   },
   {
    "duration": 572,
    "start_time": "2024-01-28T09:32:42.379Z"
   },
   {
    "duration": 5,
    "start_time": "2024-01-28T09:33:03.488Z"
   },
   {
    "duration": 952,
    "start_time": "2024-01-28T09:33:04.608Z"
   },
   {
    "duration": 4,
    "start_time": "2024-01-28T09:33:05.563Z"
   },
   {
    "duration": 325,
    "start_time": "2024-01-28T09:33:05.614Z"
   },
   {
    "duration": 176,
    "start_time": "2024-01-28T09:33:06.688Z"
   },
   {
    "duration": 11,
    "start_time": "2024-01-28T09:33:09.230Z"
   },
   {
    "duration": 3,
    "start_time": "2024-01-28T09:33:10.073Z"
   },
   {
    "duration": 4653,
    "start_time": "2024-01-28T09:33:10.962Z"
   },
   {
    "duration": 3889,
    "start_time": "2024-01-28T09:33:59.633Z"
   },
   {
    "duration": 4,
    "start_time": "2024-01-28T09:56:14.822Z"
   },
   {
    "duration": 3,
    "start_time": "2024-01-28T09:56:40.544Z"
   },
   {
    "duration": 4,
    "start_time": "2024-01-28T09:56:54.840Z"
   },
   {
    "duration": 67,
    "start_time": "2024-01-28T09:57:23.617Z"
   },
   {
    "duration": 379,
    "start_time": "2024-01-28T09:57:36.732Z"
   },
   {
    "duration": 1661,
    "start_time": "2024-01-28T09:58:21.124Z"
   },
   {
    "duration": 1017,
    "start_time": "2024-01-28T09:58:22.787Z"
   },
   {
    "duration": 4,
    "start_time": "2024-01-28T09:58:23.806Z"
   },
   {
    "duration": 325,
    "start_time": "2024-01-28T09:58:32.544Z"
   },
   {
    "duration": 193,
    "start_time": "2024-01-28T09:58:34.383Z"
   },
   {
    "duration": 11,
    "start_time": "2024-01-28T09:58:34.827Z"
   },
   {
    "duration": 3,
    "start_time": "2024-01-28T09:58:35.512Z"
   },
   {
    "duration": 4757,
    "start_time": "2024-01-28T09:58:37.068Z"
   },
   {
    "duration": 4,
    "start_time": "2024-01-28T09:58:53.504Z"
   },
   {
    "duration": 3,
    "start_time": "2024-01-28T09:58:54.787Z"
   },
   {
    "duration": 3,
    "start_time": "2024-01-28T09:58:55.189Z"
   },
   {
    "duration": 539,
    "start_time": "2024-01-28T09:58:58.592Z"
   },
   {
    "duration": 473,
    "start_time": "2024-01-28T10:00:39.850Z"
   },
   {
    "duration": 4,
    "start_time": "2024-01-28T10:00:51.865Z"
   },
   {
    "duration": 3,
    "start_time": "2024-01-28T10:00:52.490Z"
   },
   {
    "duration": 4,
    "start_time": "2024-01-28T10:00:53.232Z"
   },
   {
    "duration": 1252067,
    "start_time": "2024-01-28T10:00:53.770Z"
   },
   {
    "duration": 51,
    "start_time": "2024-01-28T10:31:12.380Z"
   },
   {
    "duration": 1226,
    "start_time": "2024-01-28T10:31:30.113Z"
   },
   {
    "duration": 12756,
    "start_time": "2024-01-28T10:31:58.444Z"
   },
   {
    "duration": 5,
    "start_time": "2024-01-28T10:43:40.566Z"
   },
   {
    "duration": 23,
    "start_time": "2024-01-28T10:44:00.613Z"
   },
   {
    "duration": 11,
    "start_time": "2024-01-28T10:44:24.281Z"
   },
   {
    "duration": 8,
    "start_time": "2024-01-28T10:46:50.554Z"
   },
   {
    "duration": 1153,
    "start_time": "2024-01-28T10:47:52.689Z"
   },
   {
    "duration": 9329,
    "start_time": "2024-01-28T10:48:39.385Z"
   },
   {
    "duration": 62,
    "start_time": "2024-01-28T10:49:31.366Z"
   },
   {
    "duration": 8,
    "start_time": "2024-01-28T10:49:43.391Z"
   },
   {
    "duration": 7,
    "start_time": "2024-01-28T10:49:51.084Z"
   },
   {
    "duration": 4,
    "start_time": "2024-01-28T10:49:56.080Z"
   },
   {
    "duration": 1930,
    "start_time": "2024-01-28T10:50:13.300Z"
   },
   {
    "duration": 338,
    "start_time": "2024-01-28T10:50:15.232Z"
   },
   {
    "duration": 3261,
    "start_time": "2024-01-28T10:50:15.571Z"
   },
   {
    "duration": 5,
    "start_time": "2024-01-28T10:50:18.835Z"
   },
   {
    "duration": 340,
    "start_time": "2024-01-28T10:50:18.842Z"
   },
   {
    "duration": 200,
    "start_time": "2024-01-28T10:50:19.184Z"
   },
   {
    "duration": 13,
    "start_time": "2024-01-28T10:50:19.386Z"
   },
   {
    "duration": 3,
    "start_time": "2024-01-28T10:50:21.637Z"
   },
   {
    "duration": 4865,
    "start_time": "2024-01-28T10:51:30.079Z"
   },
   {
    "duration": 4,
    "start_time": "2024-01-28T10:51:38.565Z"
   },
   {
    "duration": 2,
    "start_time": "2024-01-28T10:51:43.590Z"
   },
   {
    "duration": 4,
    "start_time": "2024-01-28T10:51:47.190Z"
   },
   {
    "duration": 1263161,
    "start_time": "2024-01-28T10:51:48.539Z"
   },
   {
    "duration": 130,
    "start_time": "2024-01-28T11:13:02.618Z"
   },
   {
    "duration": 1797,
    "start_time": "2024-01-28T11:24:53.086Z"
   },
   {
    "duration": 1070,
    "start_time": "2024-01-28T11:25:02.333Z"
   },
   {
    "duration": 4,
    "start_time": "2024-01-28T11:25:04.047Z"
   },
   {
    "duration": 330,
    "start_time": "2024-01-28T11:25:05.933Z"
   },
   {
    "duration": 471,
    "start_time": "2024-01-28T11:25:07.006Z"
   },
   {
    "duration": 3,
    "start_time": "2024-01-28T11:25:53.747Z"
   },
   {
    "duration": 3,
    "start_time": "2024-01-28T11:25:57.107Z"
   },
   {
    "duration": 14,
    "start_time": "2024-01-28T11:26:08.346Z"
   },
   {
    "duration": 1369,
    "start_time": "2024-01-28T11:26:37.434Z"
   },
   {
    "duration": 1851,
    "start_time": "2024-01-28T11:26:44.265Z"
   },
   {
    "duration": 1069,
    "start_time": "2024-01-28T11:26:46.118Z"
   },
   {
    "duration": 3,
    "start_time": "2024-01-28T11:26:47.191Z"
   },
   {
    "duration": 324,
    "start_time": "2024-01-28T11:26:49.478Z"
   },
   {
    "duration": 506,
    "start_time": "2024-01-28T11:26:49.862Z"
   },
   {
    "duration": 7,
    "start_time": "2024-01-28T11:27:35.993Z"
   },
   {
    "duration": 51,
    "start_time": "2024-01-28T11:27:41.773Z"
   },
   {
    "duration": 1861,
    "start_time": "2024-01-28T11:27:43.253Z"
   },
   {
    "duration": 1021,
    "start_time": "2024-01-28T11:27:45.116Z"
   },
   {
    "duration": 4,
    "start_time": "2024-01-28T11:27:48.521Z"
   },
   {
    "duration": 315,
    "start_time": "2024-01-28T11:27:49.235Z"
   },
   {
    "duration": 216,
    "start_time": "2024-01-28T11:27:49.984Z"
   },
   {
    "duration": 3,
    "start_time": "2024-01-28T11:27:51.630Z"
   },
   {
    "duration": 4,
    "start_time": "2024-01-28T11:27:52.610Z"
   },
   {
    "duration": 105542,
    "start_time": "2024-01-28T11:27:53.210Z"
   },
   {
    "duration": 9,
    "start_time": "2024-01-28T11:30:07.855Z"
   },
   {
    "duration": 66,
    "start_time": "2024-01-28T11:37:21.436Z"
   },
   {
    "duration": 8113,
    "start_time": "2024-01-28T11:37:38.905Z"
   },
   {
    "duration": 8754,
    "start_time": "2024-01-28T11:39:27.472Z"
   },
   {
    "duration": 4,
    "start_time": "2024-01-28T11:49:57.328Z"
   },
   {
    "duration": 3,
    "start_time": "2024-01-28T11:50:08.471Z"
   },
   {
    "duration": 101,
    "start_time": "2024-01-28T11:52:04.191Z"
   },
   {
    "duration": 5,
    "start_time": "2024-01-28T11:52:19.981Z"
   },
   {
    "duration": 99319,
    "start_time": "2024-01-28T11:52:20.389Z"
   },
   {
    "duration": 92831,
    "start_time": "2024-01-28T11:55:10.380Z"
   },
   {
    "duration": 97982,
    "start_time": "2024-01-28T11:57:22.225Z"
   },
   {
    "duration": 29,
    "start_time": "2024-01-28T12:09:50.164Z"
   },
   {
    "duration": 215044,
    "start_time": "2024-01-28T12:11:45.009Z"
   },
   {
    "duration": 5,
    "start_time": "2024-01-28T12:17:43.019Z"
   },
   {
    "duration": 166805,
    "start_time": "2024-01-28T12:18:01.526Z"
   },
   {
    "duration": 0,
    "start_time": "2024-01-28T12:23:05.925Z"
   },
   {
    "duration": 0,
    "start_time": "2024-01-28T12:23:05.926Z"
   },
   {
    "duration": 1421336,
    "start_time": "2024-01-28T12:24:01.773Z"
   },
   {
    "duration": 1358466,
    "start_time": "2024-01-28T12:47:53.948Z"
   },
   {
    "duration": 99512,
    "start_time": "2024-01-28T13:21:19.304Z"
   },
   {
    "duration": 88,
    "start_time": "2024-01-28T13:23:20.862Z"
   },
   {
    "duration": 15,
    "start_time": "2024-01-28T13:23:44.318Z"
   },
   {
    "duration": 12,
    "start_time": "2024-01-28T13:24:17.954Z"
   },
   {
    "duration": 23,
    "start_time": "2024-01-28T13:24:27.930Z"
   },
   {
    "duration": 21,
    "start_time": "2024-01-28T13:24:38.608Z"
   },
   {
    "duration": 99644,
    "start_time": "2024-01-28T13:24:55.282Z"
   },
   {
    "duration": 90,
    "start_time": "2024-01-28T13:45:32.875Z"
   },
   {
    "duration": 83,
    "start_time": "2024-01-28T13:46:10.305Z"
   },
   {
    "duration": 404,
    "start_time": "2024-01-28T13:46:26.884Z"
   },
   {
    "duration": 84,
    "start_time": "2024-01-28T13:49:47.799Z"
   },
   {
    "duration": 15,
    "start_time": "2024-01-28T13:49:55.416Z"
   },
   {
    "duration": 93,
    "start_time": "2024-01-28T13:57:01.794Z"
   },
   {
    "duration": 12,
    "start_time": "2024-01-28T14:21:20.355Z"
   },
   {
    "duration": 13,
    "start_time": "2024-01-28T14:31:03.182Z"
   },
   {
    "duration": 35,
    "start_time": "2024-01-28T14:33:41.667Z"
   },
   {
    "duration": 13,
    "start_time": "2024-01-28T14:33:50.307Z"
   }
  ],
  "kernelspec": {
   "display_name": "Python 3 (ipykernel)",
   "language": "python",
   "name": "python3"
  },
  "language_info": {
   "codemirror_mode": {
    "name": "ipython",
    "version": 3
   },
   "file_extension": ".py",
   "mimetype": "text/x-python",
   "name": "python",
   "nbconvert_exporter": "python",
   "pygments_lexer": "ipython3",
   "version": "3.10.0"
  },
  "toc": {
   "base_numbering": 1,
   "nav_menu": {},
   "number_sections": true,
   "sideBar": true,
   "skip_h1_title": true,
   "title_cell": "Содержание",
   "title_sidebar": "Contents",
   "toc_cell": true,
   "toc_position": {
    "height": "calc(100% - 180px)",
    "left": "10px",
    "top": "150px",
    "width": "302.391px"
   },
   "toc_section_display": true,
   "toc_window_display": false
  }
 },
 "nbformat": 4,
 "nbformat_minor": 2
}
