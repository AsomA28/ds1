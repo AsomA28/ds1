{
 "cells": [
  {
   "cell_type": "markdown",
   "metadata": {
    "toc": true
   },
   "source": [
    "<h1>Содержание<span class=\"tocSkip\"></span></h1>\n",
    "<div class=\"toc\"><ul class=\"toc-item\"><li><span><a href=\"#Подготовка\" data-toc-modified-id=\"Подготовка-1\"><span class=\"toc-item-num\">1&nbsp;&nbsp;</span>Подготовка</a></span></li><li><span><a href=\"#Анализ\" data-toc-modified-id=\"Анализ-2\"><span class=\"toc-item-num\">2&nbsp;&nbsp;</span>Анализ</a></span></li><li><span><a href=\"#Обучение\" data-toc-modified-id=\"Обучение-3\"><span class=\"toc-item-num\">3&nbsp;&nbsp;</span>Обучение</a></span><ul class=\"toc-item\"><li><span><a href=\"#Модель-линейной-регрессии\" data-toc-modified-id=\"Модель-линейной-регрессии-3.1\"><span class=\"toc-item-num\">3.1&nbsp;&nbsp;</span>Модель линейной регрессии</a></span></li><li><span><a href=\"#Дерево-решений\" data-toc-modified-id=\"Дерево-решений-3.2\"><span class=\"toc-item-num\">3.2&nbsp;&nbsp;</span>Дерево решений</a></span></li><li><span><a href=\"#Модель-Lasso\" data-toc-modified-id=\"Модель-Lasso-3.3\"><span class=\"toc-item-num\">3.3&nbsp;&nbsp;</span>Модель Lasso</a></span></li></ul></li><li><span><a href=\"#Тестирование\" data-toc-modified-id=\"Тестирование-4\"><span class=\"toc-item-num\">4&nbsp;&nbsp;</span>Тестирование</a></span></li><li><span><a href=\"#Общий-вывод\" data-toc-modified-id=\"Общий-вывод-5\"><span class=\"toc-item-num\">5&nbsp;&nbsp;</span>Общий вывод</a></span></li><li><span><a href=\"#Чек-лист-проверки\" data-toc-modified-id=\"Чек-лист-проверки-6\"><span class=\"toc-item-num\">6&nbsp;&nbsp;</span>Чек-лист проверки</a></span></li></ul></div>"
   ]
  },
  {
   "cell_type": "markdown",
   "metadata": {},
   "source": [
    "#  Прогнозирование заказов такси"
   ]
  },
  {
   "cell_type": "markdown",
   "metadata": {},
   "source": [
    "Компания «Чётенькое такси» собрала исторические данные о заказах такси в аэропортах. Чтобы привлекать больше водителей в период пиковой нагрузки, нужно спрогнозировать количество заказов такси на следующий час. Постройте модель для такого предсказания.\n",
    "\n",
    "Значение метрики *RMSE* на тестовой выборке должно быть не больше 48.\n",
    "\n",
    "Вам нужно:\n",
    "\n",
    "1. Загрузить данные и выполнить их ресемплирование по одному часу.\n",
    "2. Проанализировать данные.\n",
    "3. Обучить разные модели с различными гиперпараметрами. Сделать тестовую выборку размером 10% от исходных данных.\n",
    "4. Проверить данные на тестовой выборке и сделать выводы.\n",
    "\n",
    "\n",
    "Данные лежат в файле `taxi.csv`. Количество заказов находится в столбце `num_orders` (от англ. *number of orders*, «число заказов»)."
   ]
  },
  {
   "cell_type": "markdown",
   "metadata": {},
   "source": [
    "## Подготовка"
   ]
  },
  {
   "cell_type": "code",
   "execution_count": null,
   "metadata": {},
   "outputs": [],
   "source": [
    "import warnings\n",
    "warnings.filterwarnings('ignore')"
   ]
  },
  {
   "cell_type": "code",
   "execution_count": null,
   "metadata": {},
   "outputs": [],
   "source": [
    "!pip install scikit-learn==1.2.2"
   ]
  },
  {
   "cell_type": "code",
   "execution_count": null,
   "metadata": {},
   "outputs": [],
   "source": [
    "import pandas as pd\n",
    "import time\n",
    "import numpy as np\n",
    "import matplotlib.pyplot as plt\n",
    "from statsmodels.tsa.seasonal import seasonal_decompose\n",
    "from sklearn.model_selection import train_test_split\n",
    "from sklearn.linear_model import LinearRegression,Lasso\n",
    "from sklearn.tree import DecisionTreeRegressor\n",
    "from sklearn.preprocessing import PolynomialFeatures\n",
    "from sklearn.preprocessing import OneHotEncoder\n",
    "from sklearn import linear_model\n",
    "from sklearn.metrics import mean_squared_error"
   ]
  },
  {
   "cell_type": "code",
   "execution_count": null,
   "metadata": {},
   "outputs": [],
   "source": [
    "data  = pd.read_csv('/datasets/taxi.csv', parse_dates=['datetime'], index_col=['datetime'])"
   ]
  },
  {
   "cell_type": "code",
   "execution_count": null,
   "metadata": {},
   "outputs": [],
   "source": [
    "data = data.sort_index() "
   ]
  },
  {
   "cell_type": "markdown",
   "metadata": {},
   "source": [
    "## Анализ"
   ]
  },
  {
   "cell_type": "code",
   "execution_count": null,
   "metadata": {},
   "outputs": [],
   "source": [
    "def inf(data):\n",
    "    print(f'Размер датасета - {data.shape}')\n",
    "    print()\n",
    "    print('Информация о данных:')\n",
    "    print(data.info())\n",
    "    print()\n",
    "    print(f'Количество пропусков в датасете: {data.isna().sum().sum()}')\n",
    "    print(f'Указание на пропуски в датасете: {data.isna().sum()}')\n",
    "    print(f'Дубликаты в датасете: {data.duplicated().sum()}')"
   ]
  },
  {
   "cell_type": "code",
   "execution_count": null,
   "metadata": {},
   "outputs": [],
   "source": [
    "inf(data)"
   ]
  },
  {
   "cell_type": "code",
   "execution_count": null,
   "metadata": {},
   "outputs": [],
   "source": [
    "data.index.min(), data.index.max()"
   ]
  },
  {
   "cell_type": "code",
   "execution_count": null,
   "metadata": {},
   "outputs": [],
   "source": [
    "data = data['2018-03-01 00:00:00':'2018-08-31 23:50:00']\n",
    "data.plot(color = 'lightcoral',figsize=(20,8))\n",
    "plt.title('График временного ряда')\n",
    "plt.xlabel('Дата/время')\n",
    "plt.ylabel('Кол-во заказов')\n",
    "plt.show()"
   ]
  },
  {
   "cell_type": "code",
   "execution_count": null,
   "metadata": {},
   "outputs": [],
   "source": [
    "data=data.resample('1H').sum()\n",
    "data.plot(color = 'rebeccapurple',figsize=(20,8))\n",
    "plt.title('Распределение количество заказов по времени (ресемплирование по одному часу)')\n",
    "plt.xlabel('Дата/время')\n",
    "plt.ylabel('Кол-во заказов')\n",
    "plt.show()"
   ]
  },
  {
   "cell_type": "code",
   "execution_count": null,
   "metadata": {},
   "outputs": [],
   "source": [
    "data = data.sort_index()\n",
    "data=data.resample('1H').sum()"
   ]
  },
  {
   "cell_type": "markdown",
   "metadata": {},
   "source": [
    "**Построим графики временного ряда. Разложим данные на три составляющие: тренд, сезонность и остаток.**"
   ]
  },
  {
   "cell_type": "code",
   "execution_count": null,
   "metadata": {},
   "outputs": [],
   "source": [
    "decomposed = seasonal_decompose(data)"
   ]
  },
  {
   "cell_type": "code",
   "execution_count": null,
   "metadata": {},
   "outputs": [],
   "source": [
    "decomposed.trend.plot(figsize=(20,8))\n",
    "plt.title('Тренд')\n",
    "plt.xlabel('Дата/время')\n",
    "plt.ylabel('Кол-во заказов')\n",
    "plt.show()"
   ]
  },
  {
   "cell_type": "code",
   "execution_count": null,
   "metadata": {},
   "outputs": [],
   "source": [
    "decomposed.seasonal.plot(figsize=(20,8))\n",
    "plt.title('Сезонность')\n",
    "plt.xlabel('Дата/время')\n",
    "plt.ylabel('Кол-во заказов')\n",
    "plt.show()"
   ]
  },
  {
   "cell_type": "code",
   "execution_count": null,
   "metadata": {},
   "outputs": [],
   "source": [
    "decomposed.resid.plot(figsize=(20,8))\n",
    "plt.title('Остаток')\n",
    "plt.xlabel('Дата/время')\n",
    "plt.ylabel('Кол-во заказов')\n",
    "plt.show()"
   ]
  },
  {
   "cell_type": "markdown",
   "metadata": {},
   "source": [
    "**Рост количества заказов виден летом, что можно объяснить потоком туристов или, наоборот, тех, кто улетает или возвращается с отдыха.**"
   ]
  },
  {
   "cell_type": "markdown",
   "metadata": {},
   "source": [
    "**Построим графики для последнего и самого потокового месяца временного ряда.**"
   ]
  },
  {
   "cell_type": "code",
   "execution_count": null,
   "metadata": {},
   "outputs": [],
   "source": [
    "som = decomposed.trend['2018-08':'2018-08']\n",
    "som.plot(color='orange', figsize=(20,8))\n",
    "plt.title('Тренд')\n",
    "plt.xlabel('Дата/время')\n",
    "plt.ylabel('Кол-во заказов')\n",
    "plt.show()"
   ]
  },
  {
   "cell_type": "code",
   "execution_count": null,
   "metadata": {},
   "outputs": [],
   "source": [
    "nom = decomposed.seasonal['2018-08':'2018-08']\n",
    "nom.plot(color='magenta', figsize=(20,8))\n",
    "plt.title('Сезонность')\n",
    "plt.xlabel('Дата/время')\n",
    "plt.ylabel('Кол-во заказов')\n",
    "plt.show()"
   ]
  },
  {
   "cell_type": "code",
   "execution_count": null,
   "metadata": {},
   "outputs": [],
   "source": [
    "tom = decomposed.resid['2018-08':'2018-08']\n",
    "tom.plot(color='mediumspringgreen', figsize=(20,8))\n",
    "plt.title('Остаток')\n",
    "plt.xlabel('Дата/время')\n",
    "plt.ylabel('Кол-во заказов')\n",
    "plt.show()"
   ]
  },
  {
   "cell_type": "markdown",
   "metadata": {},
   "source": [
    "**Построим график временного ряда на неделю начиная с понедельника 13 августа 2018 года**"
   ]
  },
  {
   "cell_type": "code",
   "execution_count": null,
   "metadata": {},
   "outputs": [],
   "source": [
    "week = decomposed.trend['2018-08-13':'2018-08-20']\n",
    "week.plot(color='palevioletred', figsize=(20,8))\n",
    "plt.title('Тренд')\n",
    "plt.xlabel('Дата/время')\n",
    "plt.ylabel('Кол-во заказов')\n",
    "plt.show()"
   ]
  },
  {
   "cell_type": "code",
   "execution_count": null,
   "metadata": {},
   "outputs": [],
   "source": [
    "week_1 = decomposed.seasonal['2018-08-13':'2018-08-20']\n",
    "week_1.plot(color='purple', figsize=(20,8))\n",
    "plt.title('Сезонность')\n",
    "plt.xlabel('Дата/время')\n",
    "plt.ylabel('Кол-во заказов')\n",
    "plt.show()"
   ]
  },
  {
   "cell_type": "code",
   "execution_count": null,
   "metadata": {},
   "outputs": [],
   "source": [
    "week_2 = decomposed.resid['2018-08-13':'2018-08-20']\n",
    "week_2.plot(color='red', figsize=(20,8))\n",
    "plt.title('Остаток')\n",
    "plt.xlabel('Дата/время')\n",
    "plt.ylabel('Кол-во заказов')\n",
    "plt.show()"
   ]
  },
  {
   "cell_type": "markdown",
   "metadata": {},
   "source": [
    "**Построим графики для 15 августа 2018. Выбор этого дня связан с тем, что это середина недели, интересно посмотреть на динамику заказов**"
   ]
  },
  {
   "cell_type": "code",
   "execution_count": null,
   "metadata": {},
   "outputs": [],
   "source": [
    "day = decomposed.trend['2018-08-15':'2018-08-16']\n",
    "day.plot(color='yellowgreen', figsize=(20,8))\n",
    "plt.title('Тренд')\n",
    "plt.xlabel('Дата/время')\n",
    "plt.ylabel('Кол-во заказов')\n",
    "plt.show()"
   ]
  },
  {
   "cell_type": "code",
   "execution_count": null,
   "metadata": {},
   "outputs": [],
   "source": [
    "day_1 = decomposed.seasonal['2018-08-15':'2018-08-16']\n",
    "day_1.plot(color='hotpink', figsize=(20,8))\n",
    "plt.title('Сезонность')\n",
    "plt.xlabel('Дата/время')\n",
    "plt.ylabel('Кол-во заказов')\n",
    "plt.show()"
   ]
  },
  {
   "cell_type": "code",
   "execution_count": null,
   "metadata": {},
   "outputs": [],
   "source": [
    "day_2 = decomposed.resid['2018-08-15':'2018-08-16']\n",
    "day_2.plot(color='darkgreen', figsize=(20,8))\n",
    "plt.title('Остаток')\n",
    "plt.xlabel('Дата/время')\n",
    "plt.ylabel('Кол-во заказов')\n",
    "plt.show()"
   ]
  },
  {
   "cell_type": "markdown",
   "metadata": {},
   "source": [
    "**Выводы по анализу и подготовке данных:**\n",
    "\n",
    "* Пропусков нет, тип данных в столбце num_orders менять не надо\n",
    "* Дубликаты искать бессмысленно, так как кол-во заказов из-за сезонности и времени суток может повторяться\n",
    "* Рост количества заказов виден летом, что можно объяснить потоком туристов или, наоборот, тех, кто улетает или возвращается с отдыха\n",
    "* Самый высокий спрос в августе\n",
    "* В среднем больше всего заказов в понедельник\n",
    "* В среднем пиковая нагрузка приходится на промежуток времени с 22:00 до 00:00\n",
    "* В среднем меньше всего заказов между пятью и семью утра.\n",
    "* Распределение сезонной части выглядит статическим в интервале суток."
   ]
  },
  {
   "cell_type": "markdown",
   "metadata": {},
   "source": [
    "## Обучение"
   ]
  },
  {
   "cell_type": "markdown",
   "metadata": {},
   "source": [
    "**Введем функцию признаков:**"
   ]
  },
  {
   "cell_type": "code",
   "execution_count": null,
   "metadata": {},
   "outputs": [],
   "source": [
    "def make_features(data, max_lag, rolling_mean_size):\n",
    "    df = data.copy()\n",
    "    df['day_of_week'] = df.index.day_name()\n",
    "    df['hour'] = df.index.hour\n",
    "    \n",
    "    \n",
    "    for lag in range(1, max_lag + 1):\n",
    "        df['lag_{}'.format(lag)] = df['num_orders'].shift(lag)\n",
    "        \n",
    "        \n",
    "    df['rolling_mean'] = df['num_orders'].shift().rolling(rolling_mean_size).mean()    \n",
    "    return df\n",
    "\n",
    "make_features(data, 24, 24)"
   ]
  },
  {
   "cell_type": "code",
   "execution_count": null,
   "metadata": {},
   "outputs": [],
   "source": [
    "df = make_features(data, 24, 24)"
   ]
  },
  {
   "cell_type": "code",
   "execution_count": null,
   "metadata": {},
   "outputs": [],
   "source": [
    "train, test = train_test_split(df, shuffle=False, test_size=0.2)\n",
    "valid,test = train_test_split(test, shuffle = False, test_size = 0.5)\n",
    "train = train.dropna()"
   ]
  },
  {
   "cell_type": "markdown",
   "metadata": {},
   "source": [
    "### Модель линейной регрессии"
   ]
  },
  {
   "cell_type": "code",
   "execution_count": null,
   "metadata": {},
   "outputs": [],
   "source": [
    "cat_features = ['day_of_week', 'hour']"
   ]
  },
  {
   "cell_type": "code",
   "execution_count": null,
   "metadata": {},
   "outputs": [],
   "source": [
    "X_train = train.drop('num_orders', axis = 1)\n",
    "y_train = train['num_orders']\n",
    "X_valid = valid.drop('num_orders', axis = 1)\n",
    "y_valid = valid['num_orders']\n",
    "\n",
    "encoder_ohe = OneHotEncoder(drop='first',  handle_unknown='ignore', sparse=False)\n",
    "encoder_ohe.fit(X_train[cat_features])\n",
    "\n",
    "X_train[encoder_ohe.get_feature_names_out()] = encoder_ohe.transform(X_train[cat_features])\n",
    "X_train = X_train.drop(cat_features, axis=1)\n",
    "\n",
    "X_valid[encoder_ohe.get_feature_names_out()] = encoder_ohe.transform(X_valid[cat_features])\n",
    "X_valid = X_valid.drop(cat_features, axis=1)\n",
    "\n",
    "model_lm = LinearRegression()\n",
    "model_lm.fit(X_train, y_train)"
   ]
  },
  {
   "cell_type": "code",
   "execution_count": null,
   "metadata": {},
   "outputs": [],
   "source": [
    "pred_train = model_lm.predict(X_train)\n",
    "print('RMSE на обучающей выборке = ', round(mean_squared_error(y_train, pred_train, squared = False), 2))\n",
    "pred_valid = model_lm.predict(X_valid)\n",
    "print('RMSE на валидационной выборке = ', round(mean_squared_error(y_valid, pred_valid, squared = False), 2))"
   ]
  },
  {
   "cell_type": "markdown",
   "metadata": {},
   "source": [
    "**Обучим и проверим модель со сменой гиперпараметров**"
   ]
  },
  {
   "cell_type": "code",
   "execution_count": null,
   "metadata": {},
   "outputs": [],
   "source": [
    "best_rmse_lm = 48\n",
    "best_lag_lm = 0\n",
    "best_roll_size_lm = 0\n",
    "for lag in range(1, 168, 12):\n",
    "    for roll_size in range(1, 168, 12):\n",
    "\n",
    "        df = make_features(data, lag, roll_size)\n",
    "        train, test = train_test_split(df, shuffle=False, test_size=0.2)\n",
    "        valid,test = train_test_split(test, shuffle = False, test_size = 0.5)\n",
    "        train = train.dropna()\n",
    "        \n",
    "        X_train = train.drop('num_orders', axis = 1)\n",
    "        y_train = train['num_orders']\n",
    "        X_valid = valid.drop('num_orders', axis = 1)\n",
    "        y_valid = valid['num_orders']\n",
    "        \n",
    "        encoder_ohe = OneHotEncoder(drop='first',  handle_unknown='ignore', sparse=False)\n",
    "        encoder_ohe.fit(X_train[cat_features])\n",
    "\n",
    "        X_train[encoder_ohe.get_feature_names_out()] = encoder_ohe.transform(X_train[cat_features])\n",
    "        X_train = X_train.drop(cat_features, axis=1)\n",
    "\n",
    "        X_valid[encoder_ohe.get_feature_names_out()] = encoder_ohe.transform(X_valid[cat_features])\n",
    "        X_valid = X_valid.drop(cat_features, axis=1)\n",
    "        \n",
    "        model_lm = LinearRegression()\n",
    "        model_lm.fit(X_train, y_train)\n",
    "\n",
    "        pred_valid = model_lm.predict(X_valid)\n",
    "        rmse = mean_squared_error(y_valid, pred_valid, squared = False)\n",
    "        \n",
    "        if rmse < best_rmse_lm :\n",
    "            best_rmse_lm = rmse\n",
    "            best_lag_lm = lag\n",
    "            best_roll_size_lm = roll_size\n",
    "            best_y_valid_lm = y_valid\n",
    "            best_preds_valid_lm = pred_valid\n",
    "            model_lm1 = model_lm\n",
    "        \n",
    "print('Лучшая метрика RMSE на валид.выборке =', best_rmse_lm, 'при максимальном смещении', best_lag_lm,\n",
    "      'с размером скользящего окна', best_roll_size_lm)"
   ]
  },
  {
   "cell_type": "code",
   "execution_count": null,
   "metadata": {},
   "outputs": [],
   "source": [
    "fig, ax = plt.subplots(figsize=(20,8))\n",
    "ax.plot(best_y_valid_lm, label='Исходная выборка')\n",
    "ax.plot(best_y_valid_lm.index,best_preds_valid_lm, label='Предсказания')\n",
    "plt.title('Распределение количества заказов по времени для валидационной выборки и предсказания')\n",
    "plt.xlabel('Дата')\n",
    "plt.ylabel('Кол-во заказов')\n",
    "plt.legend()\n",
    "plt.show()"
   ]
  },
  {
   "cell_type": "markdown",
   "metadata": {},
   "source": [
    "**Графики показывают, что линейная регрессия достаточно точно предсказывает значения, за исключением всплесков на остатках**"
   ]
  },
  {
   "cell_type": "markdown",
   "metadata": {},
   "source": [
    "### Дерево решений"
   ]
  },
  {
   "cell_type": "code",
   "execution_count": null,
   "metadata": {},
   "outputs": [],
   "source": [
    "best_rmse_dt = 48\n",
    "best_lag_dt = 0\n",
    "best_roll_size_dt = 0\n",
    "for lag in range(1, 168, 12):\n",
    "    for roll_size in range(1, 168, 12):\n",
    "        for max_depth in range(2, 21,12):\n",
    "\n",
    "        \n",
    "            df = make_features(data, lag,roll_size)\n",
    "        train, test = train_test_split(df, shuffle=False, test_size=0.2)\n",
    "        valid,test = train_test_split(test, shuffle = False, test_size = 0.5)\n",
    "        train = train.dropna()\n",
    "        \n",
    "        X_train = train.drop('num_orders', axis = 1)\n",
    "        y_train = train['num_orders']\n",
    "        X_valid = valid.drop('num_orders', axis = 1)\n",
    "        y_valid = valid['num_orders']\n",
    "        \n",
    "        encoder_ohe = OneHotEncoder(drop='first',  handle_unknown='ignore', sparse=False)\n",
    "        encoder_ohe.fit(X_train[cat_features])\n",
    "\n",
    "        X_train[encoder_ohe.get_feature_names_out()] = encoder_ohe.transform(X_train[cat_features])\n",
    "        X_train = X_train.drop(cat_features, axis=1)\n",
    "\n",
    "        X_valid[encoder_ohe.get_feature_names_out()] = encoder_ohe.transform(X_valid[cat_features])\n",
    "        X_valid = X_valid.drop(cat_features, axis=1)\n",
    "        \n",
    "        model_dt = DecisionTreeRegressor(max_depth=max_depth, random_state=12345)\n",
    "        model_dt.fit(X_train, y_train)\n",
    "\n",
    "        pred_valid = model_dt.predict(X_valid)\n",
    "        rmse = mean_squared_error(y_valid, pred_valid, squared = False)\n",
    "        \n",
    "        if rmse < best_rmse_dt :\n",
    "            best_rmse_dt = rmse\n",
    "            best_lag_dt = lag\n",
    "            best_roll_size_dt = roll_size\n",
    "            best_y_valid_dt = y_valid\n",
    "            best_preds_valid_dt = pred_valid\n",
    "            model_dt1 = model_dt\n",
    "            best_max_depth = max_depth\n",
    "            \n",
    "\n",
    "print('Лучшая метрика RMSE на валид.выборке =', best_rmse_dt, 'при лаге', best_max_depth,\n",
    "      'с размером скользящего окна', best_roll_size_dt, 'и глубине',best_max_depth )"
   ]
  },
  {
   "cell_type": "code",
   "execution_count": null,
   "metadata": {},
   "outputs": [],
   "source": [
    "fig, ax = plt.subplots(figsize=(20,8))\n",
    "ax.plot(best_y_valid_dt, label='Исходная выборка')\n",
    "ax.plot(best_y_valid_dt.index,best_preds_valid_dt, label='Предсказания')\n",
    "plt.title('Распределение количества заказов по времени для валидационной выборки и предсказания')\n",
    "plt.xlabel('Дата')\n",
    "plt.ylabel('Кол-во заказов')\n",
    "plt.legend()\n",
    "plt.show()"
   ]
  },
  {
   "cell_type": "markdown",
   "metadata": {},
   "source": [
    "### Модель Lasso"
   ]
  },
  {
   "cell_type": "code",
   "execution_count": null,
   "metadata": {},
   "outputs": [],
   "source": [
    "best_rmse_ls = 48\n",
    "best_lag_ls = 0\n",
    "best_roll_size_ls = 0\n",
    "best_alpha_ls = 0\n",
    "for lag in range(1, 168, 12):\n",
    "    for roll_size in range(1, 168, 12):\n",
    "        for alpha in np.arange(0.1, 1, 0.2):\n",
    "\n",
    "            df = make_features(data, lag, roll_size)\n",
    "            train, test = train_test_split(df, shuffle=False, test_size=0.2)\n",
    "            valid,test = train_test_split(test, shuffle = False, test_size = 0.5)\n",
    "            train = train.dropna()\n",
    "\n",
    "            X_train = train.drop('num_orders', axis = 1)\n",
    "            y_train = train['num_orders']\n",
    "            X_valid = valid.drop('num_orders', axis = 1)\n",
    "            y_valid = valid['num_orders']\n",
    "\n",
    "            encoder_ohe = OneHotEncoder(drop='first',  handle_unknown='ignore', sparse_output=False)\n",
    "            encoder_ohe.fit(X_train[cat_features])\n",
    "\n",
    "            X_train[encoder_ohe.get_feature_names_out()] = encoder_ohe.transform(X_train[cat_features])\n",
    "            X_train = X_train.drop(cat_features, axis=1)\n",
    "\n",
    "            X_valid[encoder_ohe.get_feature_names_out()] = encoder_ohe.transform(X_valid[cat_features])\n",
    "            X_valid = X_valid.drop(cat_features, axis=1)\n",
    " \n",
    "            model_ls = Lasso(alpha=alpha)\n",
    "            model_ls.fit(X_train, y_train)\n",
    "\n",
    "            pred_valid = model_ls.predict(X_valid)\n",
    "            rmse = mean_squared_error(y_valid, pred_valid, squared = False)\n",
    "            if rmse < best_rmse_ls :\n",
    "                best_rmse_ls = rmse\n",
    "                best_lag_ls = lag\n",
    "                best_roll_size_ls = roll_size\n",
    "                best_alpha_ls = alpha\n",
    "                best_y_valid_ls = y_valid\n",
    "                best_preds_valid_ls = pred_valid\n",
    "                model_ls1 = model_ls\n",
    "                \n",
    "print('Лучшая метрика RMSE на валид.выборке =', best_rmse_ls, 'при лаге', best_lag_ls,\n",
    "      'с размером скользящего окна', best_roll_size_ls, 'и коэффициентом регуляризации',best_alpha_ls )"
   ]
  },
  {
   "cell_type": "code",
   "execution_count": null,
   "metadata": {},
   "outputs": [],
   "source": [
    "fig, ax = plt.subplots(figsize=(20,8))\n",
    "ax.plot(best_y_valid_ls, label='Исходная выборка')\n",
    "ax.plot(best_y_valid_ls.index,best_preds_valid_ls, label='Предсказания')\n",
    "plt.title('Распределение количества заказов по времени для валидационной выборки и предсказания')\n",
    "plt.xlabel('Дата')\n",
    "plt.ylabel('Кол-во заказов')\n",
    "plt.legend()\n",
    "plt.show()"
   ]
  },
  {
   "cell_type": "markdown",
   "metadata": {},
   "source": [
    "**Выводы по результатам, полученным во время обучения моделей:**\n",
    "\n",
    "* Были обучены 3 модели: линейная регрессия, дерево решений и Lasso \n",
    "* Лучшая метрика RMSE на валид.выборке у модели Lasso  и равна 28.9979964227437,следовательно,проведем ее тестирование на тестовой выборке с подобранными гиперпараметрами."
   ]
  },
  {
   "cell_type": "markdown",
   "metadata": {},
   "source": [
    "## Тестирование"
   ]
  },
  {
   "cell_type": "markdown",
   "metadata": {},
   "source": [
    "**Лучшая метрика RMSE на валид.выборке у модели Lasso  и равна 28.9979964227437,следовательно,проведем ее тестирование на тестовой выборке с подобранными гиперпараметрами**"
   ]
  },
  {
   "cell_type": "code",
   "execution_count": null,
   "metadata": {},
   "outputs": [],
   "source": [
    "lag_test = 157\n",
    "roll_size_test = 1\n",
    "alpha_test = 0.1"
   ]
  },
  {
   "cell_type": "code",
   "execution_count": null,
   "metadata": {},
   "outputs": [],
   "source": [
    "df = make_features(data, lag_test, roll_size_test)\n",
    "train, test = train_test_split(df, shuffle=False, test_size=0.2)\n",
    "valid,test = train_test_split(test, shuffle = False, test_size = 0.5)\n",
    "train = train.dropna()\n",
    "\n",
    "X_train = train.drop('num_orders', axis = 1)\n",
    "y_train = train['num_orders']\n",
    "X_test = test.drop('num_orders', axis = 1)\n",
    "y_test = test['num_orders']\n",
    "\n",
    "encoder_ohe = OneHotEncoder(drop='first',  handle_unknown='ignore', sparse_output=False)\n",
    "encoder_ohe.fit(X_train[cat_features])\n",
    "\n",
    "X_train[encoder_ohe.get_feature_names_out()] = encoder_ohe.transform(X_train[cat_features])\n",
    "X_train = X_train.drop(cat_features, axis=1)\n",
    "\n",
    "X_test[encoder_ohe.get_feature_names_out()] = encoder_ohe.transform(X_test[cat_features])\n",
    "X_test = X_test.drop(cat_features, axis=1)\n",
    "\n",
    "model_lasso_t = Lasso(alpha=alpha)\n",
    "model_lasso_t.fit(X_train, y_train)\n",
    "\n",
    "pred_test = model_lasso_t.predict(X_test)\n",
    "rmse = mean_squared_error(y_test, pred_test, squared = False)\n",
    "\n",
    "print('RMSE лучшей модели на тестовой выборке = ', rmse)"
   ]
  },
  {
   "cell_type": "code",
   "execution_count": null,
   "metadata": {},
   "outputs": [],
   "source": [
    "fig, ax = plt.subplots(figsize=(20,8))\n",
    "ax.plot(y_test.index, y_test, label='Исходная выборка')\n",
    "ax.plot(y_test.index, pred_test, label='Предсказания')\n",
    "plt.title('Распределение количества заказов по времени для тестовой выборки и предсказания')\n",
    "plt.xlabel('Дата')\n",
    "plt.ylabel('Кол-во заказов')\n",
    "plt.legend()\n",
    "plt.show()"
   ]
  },
  {
   "cell_type": "markdown",
   "metadata": {},
   "source": [
    "## Общий вывод"
   ]
  },
  {
   "cell_type": "markdown",
   "metadata": {},
   "source": [
    "* Пропусков нет, тип данных в столбце num_orders менять не надо\n",
    "* Дубликаты искать бессмысленно, так как кол-во заказов из-за сезонности и времени суток может повторяться\n",
    "* Рост количества заказов виден летом, что можно объяснить потоком туристов или, наоборот, тех, кто улетает или возвращается с отдыха\n",
    "* Самый высокий спрос в августе\n",
    "* В среднем больше всего заказов в понедельник\n",
    "* В среднем пиковая нагрузка приходится на промежуток времени с 22:00 до 00:00\n",
    "* В среднем меньше всего заказов между пятью и семью утра.\n",
    "* Распределение сезонной части выглядит статическим в интервале суток.\n",
    "* Лучшая метрика RMSE на валид.выборке у модели Lasso  и равна 28.9979964227437\n",
    "* RMSE лучшей модели на тестовой выборке =  39.16038099987398, что удовлетвуоряет условию ТЗ (RMSE < 48)"
   ]
  }
 ],
 "metadata": {
  "ExecuteTimeLog": [
   {
    "duration": 1497,
    "start_time": "2024-01-13T18:14:57.922Z"
   },
   {
    "duration": 3,
    "start_time": "2024-01-13T18:15:11.265Z"
   },
   {
    "duration": 3,
    "start_time": "2024-01-13T18:15:11.667Z"
   },
   {
    "duration": 132,
    "start_time": "2024-01-13T18:16:02.106Z"
   },
   {
    "duration": 4,
    "start_time": "2024-01-13T18:16:34.131Z"
   },
   {
    "duration": 37,
    "start_time": "2024-01-13T18:16:59.355Z"
   },
   {
    "duration": 8,
    "start_time": "2024-01-13T18:23:10.166Z"
   },
   {
    "duration": 15,
    "start_time": "2024-01-13T18:23:19.973Z"
   },
   {
    "duration": 4,
    "start_time": "2024-01-13T18:25:40.307Z"
   },
   {
    "duration": 4,
    "start_time": "2024-01-13T18:26:08.406Z"
   },
   {
    "duration": 8,
    "start_time": "2024-01-13T18:26:15.614Z"
   },
   {
    "duration": 1449,
    "start_time": "2024-01-13T18:26:16.377Z"
   },
   {
    "duration": 73,
    "start_time": "2024-01-13T18:26:17.828Z"
   },
   {
    "duration": 3,
    "start_time": "2024-01-13T18:26:20.501Z"
   },
   {
    "duration": 23,
    "start_time": "2024-01-13T18:26:23.133Z"
   },
   {
    "duration": 3,
    "start_time": "2024-01-13T18:26:25.361Z"
   },
   {
    "duration": 104,
    "start_time": "2024-01-13T18:27:16.593Z"
   },
   {
    "duration": 4,
    "start_time": "2024-01-13T18:27:26.527Z"
   },
   {
    "duration": 4,
    "start_time": "2024-01-13T18:28:12.834Z"
   },
   {
    "duration": 81,
    "start_time": "2024-01-13T18:29:14.412Z"
   },
   {
    "duration": 4,
    "start_time": "2024-01-13T18:29:19.660Z"
   },
   {
    "duration": 7,
    "start_time": "2024-01-13T18:30:35.164Z"
   },
   {
    "duration": 1314,
    "start_time": "2024-01-13T18:30:36.981Z"
   },
   {
    "duration": 80,
    "start_time": "2024-01-13T18:30:38.731Z"
   },
   {
    "duration": 3,
    "start_time": "2024-01-13T18:30:42.038Z"
   },
   {
    "duration": 24,
    "start_time": "2024-01-13T18:30:45.326Z"
   },
   {
    "duration": 4,
    "start_time": "2024-01-13T18:30:48.215Z"
   },
   {
    "duration": 4,
    "start_time": "2024-01-13T18:31:07.905Z"
   },
   {
    "duration": 113,
    "start_time": "2024-01-13T18:32:25.057Z"
   },
   {
    "duration": 3,
    "start_time": "2024-01-13T18:32:43.621Z"
   },
   {
    "duration": 3,
    "start_time": "2024-01-13T18:32:45.677Z"
   },
   {
    "duration": 12,
    "start_time": "2024-01-13T18:32:46.904Z"
   },
   {
    "duration": 4,
    "start_time": "2024-01-13T18:32:50.770Z"
   },
   {
    "duration": 602,
    "start_time": "2024-01-13T18:34:43.830Z"
   },
   {
    "duration": 738,
    "start_time": "2024-01-13T18:36:57.219Z"
   },
   {
    "duration": 851,
    "start_time": "2024-01-13T18:38:43.955Z"
   },
   {
    "duration": 661,
    "start_time": "2024-01-13T18:39:32.135Z"
   },
   {
    "duration": 571,
    "start_time": "2024-01-13T18:40:33.932Z"
   },
   {
    "duration": 666,
    "start_time": "2024-01-13T18:41:29.699Z"
   },
   {
    "duration": 138,
    "start_time": "2024-01-13T18:42:12.164Z"
   },
   {
    "duration": 258,
    "start_time": "2024-01-13T18:42:36.576Z"
   },
   {
    "duration": 165,
    "start_time": "2024-01-13T18:42:50.143Z"
   },
   {
    "duration": 160,
    "start_time": "2024-01-13T18:43:06.806Z"
   },
   {
    "duration": 7,
    "start_time": "2024-01-13T18:43:14.565Z"
   },
   {
    "duration": 1367,
    "start_time": "2024-01-13T18:43:14.741Z"
   },
   {
    "duration": 47,
    "start_time": "2024-01-13T18:43:16.110Z"
   },
   {
    "duration": 3,
    "start_time": "2024-01-13T18:44:32.223Z"
   },
   {
    "duration": 4,
    "start_time": "2024-01-13T18:44:33.903Z"
   },
   {
    "duration": 13,
    "start_time": "2024-01-13T18:44:34.743Z"
   },
   {
    "duration": 6,
    "start_time": "2024-01-13T18:44:34.994Z"
   },
   {
    "duration": 606,
    "start_time": "2024-01-13T18:44:36.654Z"
   },
   {
    "duration": 125,
    "start_time": "2024-01-13T18:44:52.868Z"
   },
   {
    "duration": 246,
    "start_time": "2024-01-13T18:45:49.300Z"
   },
   {
    "duration": 8,
    "start_time": "2024-01-14T13:03:49.605Z"
   },
   {
    "duration": 1914,
    "start_time": "2024-01-14T13:03:52.208Z"
   },
   {
    "duration": 119,
    "start_time": "2024-01-14T13:03:58.113Z"
   },
   {
    "duration": 3,
    "start_time": "2024-01-14T13:03:58.796Z"
   },
   {
    "duration": 4,
    "start_time": "2024-01-14T13:04:00.945Z"
   },
   {
    "duration": 15,
    "start_time": "2024-01-14T13:04:01.159Z"
   },
   {
    "duration": 5,
    "start_time": "2024-01-14T13:04:03.112Z"
   },
   {
    "duration": 676,
    "start_time": "2024-01-14T13:04:04.797Z"
   },
   {
    "duration": 225,
    "start_time": "2024-01-14T13:06:44.571Z"
   },
   {
    "duration": 4,
    "start_time": "2024-01-14T13:12:32.883Z"
   },
   {
    "duration": 403,
    "start_time": "2024-01-14T13:15:52.672Z"
   },
   {
    "duration": 5,
    "start_time": "2024-01-14T13:16:02.346Z"
   },
   {
    "duration": 290,
    "start_time": "2024-01-14T13:16:04.987Z"
   },
   {
    "duration": 4,
    "start_time": "2024-01-14T13:16:17.381Z"
   },
   {
    "duration": 923,
    "start_time": "2024-01-14T13:16:19.662Z"
   },
   {
    "duration": 4,
    "start_time": "2024-01-14T13:16:27.677Z"
   },
   {
    "duration": 328,
    "start_time": "2024-01-14T13:16:28.129Z"
   },
   {
    "duration": 5,
    "start_time": "2024-01-14T13:16:37.505Z"
   },
   {
    "duration": 322,
    "start_time": "2024-01-14T13:16:37.809Z"
   },
   {
    "duration": 4,
    "start_time": "2024-01-14T13:16:53.193Z"
   },
   {
    "duration": 362,
    "start_time": "2024-01-14T13:16:54.621Z"
   },
   {
    "duration": 258,
    "start_time": "2024-01-14T13:17:18.391Z"
   },
   {
    "duration": 1423,
    "start_time": "2024-01-14T13:21:24.829Z"
   },
   {
    "duration": 6,
    "start_time": "2024-01-14T13:21:28.530Z"
   },
   {
    "duration": 1997,
    "start_time": "2024-01-14T13:21:29.157Z"
   },
   {
    "duration": 219,
    "start_time": "2024-01-14T13:21:50.098Z"
   },
   {
    "duration": 302,
    "start_time": "2024-01-14T13:23:03.754Z"
   },
   {
    "duration": 8,
    "start_time": "2024-01-14T13:23:14.459Z"
   },
   {
    "duration": 1504,
    "start_time": "2024-01-14T13:23:14.910Z"
   },
   {
    "duration": 51,
    "start_time": "2024-01-14T13:23:16.416Z"
   },
   {
    "duration": 3,
    "start_time": "2024-01-14T13:23:16.469Z"
   },
   {
    "duration": 4,
    "start_time": "2024-01-14T13:23:18.102Z"
   },
   {
    "duration": 16,
    "start_time": "2024-01-14T13:23:18.900Z"
   },
   {
    "duration": 6,
    "start_time": "2024-01-14T13:23:19.093Z"
   },
   {
    "duration": 706,
    "start_time": "2024-01-14T13:23:19.957Z"
   },
   {
    "duration": 315,
    "start_time": "2024-01-14T13:23:21.571Z"
   },
   {
    "duration": 269,
    "start_time": "2024-01-14T13:24:16.385Z"
   },
   {
    "duration": 241,
    "start_time": "2024-01-14T13:24:32.848Z"
   },
   {
    "duration": 274,
    "start_time": "2024-01-14T13:24:55.616Z"
   },
   {
    "duration": 284,
    "start_time": "2024-01-14T13:25:27.422Z"
   },
   {
    "duration": 270,
    "start_time": "2024-01-14T13:25:34.181Z"
   },
   {
    "duration": 6,
    "start_time": "2024-01-14T13:26:19.427Z"
   },
   {
    "duration": 4,
    "start_time": "2024-01-14T13:26:28.602Z"
   },
   {
    "duration": 133,
    "start_time": "2024-01-14T13:28:28.017Z"
   },
   {
    "duration": 21,
    "start_time": "2024-01-14T13:29:34.349Z"
   },
   {
    "duration": 8,
    "start_time": "2024-01-14T13:30:13.247Z"
   },
   {
    "duration": 106,
    "start_time": "2024-01-14T13:30:22.134Z"
   },
   {
    "duration": 20,
    "start_time": "2024-01-14T13:34:04.201Z"
   },
   {
    "duration": 27,
    "start_time": "2024-01-14T13:34:40.804Z"
   },
   {
    "duration": 20,
    "start_time": "2024-01-14T13:34:41.063Z"
   },
   {
    "duration": 11,
    "start_time": "2024-01-14T13:35:14.678Z"
   },
   {
    "duration": 27,
    "start_time": "2024-01-14T13:35:21.191Z"
   },
   {
    "duration": 3045,
    "start_time": "2024-01-14T13:35:55.483Z"
   },
   {
    "duration": 3,
    "start_time": "2024-01-14T13:36:26.539Z"
   },
   {
    "duration": 2735,
    "start_time": "2024-01-14T13:36:43.114Z"
   },
   {
    "duration": 1475,
    "start_time": "2024-01-14T13:36:48.266Z"
   },
   {
    "duration": 50,
    "start_time": "2024-01-14T13:36:49.744Z"
   },
   {
    "duration": 4,
    "start_time": "2024-01-14T13:36:49.796Z"
   },
   {
    "duration": 29,
    "start_time": "2024-01-14T13:36:49.802Z"
   },
   {
    "duration": 34,
    "start_time": "2024-01-14T13:36:49.834Z"
   },
   {
    "duration": 6,
    "start_time": "2024-01-14T13:36:49.960Z"
   },
   {
    "duration": 744,
    "start_time": "2024-01-14T13:36:50.134Z"
   },
   {
    "duration": 274,
    "start_time": "2024-01-14T13:36:50.880Z"
   },
   {
    "duration": 364,
    "start_time": "2024-01-14T13:36:51.156Z"
   },
   {
    "duration": 7,
    "start_time": "2024-01-14T13:36:51.523Z"
   },
   {
    "duration": 7,
    "start_time": "2024-01-14T13:36:51.531Z"
   },
   {
    "duration": 7,
    "start_time": "2024-01-14T13:36:52.164Z"
   },
   {
    "duration": 127,
    "start_time": "2024-01-14T13:36:52.331Z"
   },
   {
    "duration": 187,
    "start_time": "2024-01-14T13:39:48.466Z"
   },
   {
    "duration": 23,
    "start_time": "2024-01-14T13:40:04.477Z"
   },
   {
    "duration": 4,
    "start_time": "2024-01-14T13:41:50.474Z"
   },
   {
    "duration": 20,
    "start_time": "2024-01-14T13:42:03.021Z"
   },
   {
    "duration": 4,
    "start_time": "2024-01-14T13:42:26.012Z"
   },
   {
    "duration": 8,
    "start_time": "2024-01-14T13:42:38.915Z"
   },
   {
    "duration": 2751,
    "start_time": "2024-01-14T13:42:40.437Z"
   },
   {
    "duration": 4,
    "start_time": "2024-01-14T13:42:47.674Z"
   },
   {
    "duration": 1324,
    "start_time": "2024-01-14T13:42:48.097Z"
   },
   {
    "duration": 8,
    "start_time": "2024-01-14T13:42:54.391Z"
   },
   {
    "duration": 1368,
    "start_time": "2024-01-14T13:43:00.945Z"
   },
   {
    "duration": 53,
    "start_time": "2024-01-14T13:43:03.306Z"
   },
   {
    "duration": 4,
    "start_time": "2024-01-14T13:43:04.012Z"
   },
   {
    "duration": 3,
    "start_time": "2024-01-14T13:43:05.388Z"
   },
   {
    "duration": 15,
    "start_time": "2024-01-14T13:43:06.021Z"
   },
   {
    "duration": 7,
    "start_time": "2024-01-14T13:43:06.494Z"
   },
   {
    "duration": 716,
    "start_time": "2024-01-14T13:43:07.094Z"
   },
   {
    "duration": 244,
    "start_time": "2024-01-14T13:43:07.822Z"
   },
   {
    "duration": 348,
    "start_time": "2024-01-14T13:43:08.068Z"
   },
   {
    "duration": 7,
    "start_time": "2024-01-14T13:43:21.981Z"
   },
   {
    "duration": 4,
    "start_time": "2024-01-14T13:43:23.045Z"
   },
   {
    "duration": 134,
    "start_time": "2024-01-14T13:43:23.803Z"
   },
   {
    "duration": 8,
    "start_time": "2024-01-14T13:43:40.440Z"
   },
   {
    "duration": 1338,
    "start_time": "2024-01-14T13:43:41.593Z"
   },
   {
    "duration": 53,
    "start_time": "2024-01-14T13:44:05.095Z"
   },
   {
    "duration": 3,
    "start_time": "2024-01-14T13:44:05.282Z"
   },
   {
    "duration": 5,
    "start_time": "2024-01-14T13:44:07.045Z"
   },
   {
    "duration": 16,
    "start_time": "2024-01-14T13:44:07.341Z"
   },
   {
    "duration": 6,
    "start_time": "2024-01-14T13:44:07.606Z"
   },
   {
    "duration": 721,
    "start_time": "2024-01-14T13:44:07.983Z"
   },
   {
    "duration": 253,
    "start_time": "2024-01-14T13:44:08.706Z"
   },
   {
    "duration": 2,
    "start_time": "2024-01-14T13:44:09.231Z"
   },
   {
    "duration": 8,
    "start_time": "2024-01-14T13:44:09.704Z"
   },
   {
    "duration": 4,
    "start_time": "2024-01-14T13:44:10.206Z"
   },
   {
    "duration": 10,
    "start_time": "2024-01-14T13:44:10.763Z"
   },
   {
    "duration": 390,
    "start_time": "2024-01-14T13:44:40.666Z"
   },
   {
    "duration": 239,
    "start_time": "2024-01-14T13:45:21.133Z"
   },
   {
    "duration": 175,
    "start_time": "2024-01-14T13:45:24.299Z"
   },
   {
    "duration": 229,
    "start_time": "2024-01-14T13:45:26.435Z"
   },
   {
    "duration": 253,
    "start_time": "2024-01-14T13:46:39.514Z"
   },
   {
    "duration": 159,
    "start_time": "2024-01-14T13:46:40.793Z"
   },
   {
    "duration": 317,
    "start_time": "2024-01-14T13:46:41.565Z"
   },
   {
    "duration": 276,
    "start_time": "2024-01-14T13:48:16.317Z"
   },
   {
    "duration": 343,
    "start_time": "2024-01-14T13:49:23.494Z"
   },
   {
    "duration": 356,
    "start_time": "2024-01-14T13:49:38.857Z"
   },
   {
    "duration": 303,
    "start_time": "2024-01-14T13:49:59.131Z"
   },
   {
    "duration": 333,
    "start_time": "2024-01-14T13:50:57.738Z"
   },
   {
    "duration": 352,
    "start_time": "2024-01-14T13:51:54.713Z"
   },
   {
    "duration": 320,
    "start_time": "2024-01-14T13:52:17.874Z"
   },
   {
    "duration": 257,
    "start_time": "2024-01-14T13:54:25.963Z"
   },
   {
    "duration": 261,
    "start_time": "2024-01-14T13:54:49.525Z"
   },
   {
    "duration": 6,
    "start_time": "2024-01-14T13:58:48.203Z"
   },
   {
    "duration": 238,
    "start_time": "2024-01-14T13:59:08.359Z"
   },
   {
    "duration": 250,
    "start_time": "2024-01-14T13:59:38.129Z"
   },
   {
    "duration": 273,
    "start_time": "2024-01-14T14:00:21.696Z"
   },
   {
    "duration": 248,
    "start_time": "2024-01-14T14:00:26.451Z"
   },
   {
    "duration": 6,
    "start_time": "2024-01-14T14:02:21.298Z"
   },
   {
    "duration": 257,
    "start_time": "2024-01-14T14:02:51.347Z"
   },
   {
    "duration": 367,
    "start_time": "2024-01-14T14:04:02.330Z"
   },
   {
    "duration": 272,
    "start_time": "2024-01-14T14:04:32.229Z"
   },
   {
    "duration": 268,
    "start_time": "2024-01-14T14:04:55.377Z"
   },
   {
    "duration": 5,
    "start_time": "2024-01-14T14:12:28.947Z"
   },
   {
    "duration": 5,
    "start_time": "2024-01-14T14:13:07.837Z"
   },
   {
    "duration": 32,
    "start_time": "2024-01-14T14:13:54.066Z"
   },
   {
    "duration": 152,
    "start_time": "2024-01-14T14:14:23.975Z"
   },
   {
    "duration": 29,
    "start_time": "2024-01-14T14:14:38.787Z"
   },
   {
    "duration": 62,
    "start_time": "2024-01-14T14:15:02.351Z"
   },
   {
    "duration": 134,
    "start_time": "2024-01-14T14:16:14.851Z"
   },
   {
    "duration": 27,
    "start_time": "2024-01-14T14:16:45.151Z"
   },
   {
    "duration": 15,
    "start_time": "2024-01-14T14:16:46.968Z"
   },
   {
    "duration": 368,
    "start_time": "2024-01-14T14:23:47.700Z"
   },
   {
    "duration": 312,
    "start_time": "2024-01-14T14:24:12.027Z"
   },
   {
    "duration": 4,
    "start_time": "2024-01-14T14:29:15.486Z"
   },
   {
    "duration": 471,
    "start_time": "2024-01-14T14:29:15.851Z"
   },
   {
    "duration": 452,
    "start_time": "2024-01-14T14:30:30.391Z"
   },
   {
    "duration": 263,
    "start_time": "2024-01-14T14:31:43.489Z"
   },
   {
    "duration": 78,
    "start_time": "2024-01-14T14:33:12.673Z"
   },
   {
    "duration": 289,
    "start_time": "2024-01-14T14:33:37.945Z"
   },
   {
    "duration": 157,
    "start_time": "2024-01-14T14:35:53.694Z"
   },
   {
    "duration": 7,
    "start_time": "2024-01-15T16:09:06.166Z"
   },
   {
    "duration": 1613,
    "start_time": "2024-01-15T16:09:06.357Z"
   },
   {
    "duration": 151,
    "start_time": "2024-01-15T16:09:07.972Z"
   },
   {
    "duration": 3,
    "start_time": "2024-01-15T16:09:08.124Z"
   },
   {
    "duration": 3,
    "start_time": "2024-01-15T16:09:16.005Z"
   },
   {
    "duration": 15,
    "start_time": "2024-01-15T16:09:16.612Z"
   },
   {
    "duration": 5,
    "start_time": "2024-01-15T16:09:17.170Z"
   },
   {
    "duration": 623,
    "start_time": "2024-01-15T16:09:17.419Z"
   },
   {
    "duration": 273,
    "start_time": "2024-01-15T16:09:18.043Z"
   },
   {
    "duration": 6,
    "start_time": "2024-01-15T16:09:18.317Z"
   },
   {
    "duration": 18,
    "start_time": "2024-01-15T16:09:18.325Z"
   },
   {
    "duration": 195,
    "start_time": "2024-01-15T16:09:18.345Z"
   },
   {
    "duration": 145,
    "start_time": "2024-01-15T16:09:18.541Z"
   },
   {
    "duration": 204,
    "start_time": "2024-01-15T16:09:18.688Z"
   },
   {
    "duration": 311,
    "start_time": "2024-01-15T16:09:18.893Z"
   },
   {
    "duration": 272,
    "start_time": "2024-01-15T16:09:19.206Z"
   },
   {
    "duration": 300,
    "start_time": "2024-01-15T16:09:19.480Z"
   },
   {
    "duration": 219,
    "start_time": "2024-01-15T16:09:19.782Z"
   },
   {
    "duration": 238,
    "start_time": "2024-01-15T16:09:20.002Z"
   },
   {
    "duration": 232,
    "start_time": "2024-01-15T16:09:20.242Z"
   },
   {
    "duration": 297,
    "start_time": "2024-01-15T16:09:20.477Z"
   },
   {
    "duration": 229,
    "start_time": "2024-01-15T16:09:20.775Z"
   },
   {
    "duration": 300,
    "start_time": "2024-01-15T16:09:21.006Z"
   },
   {
    "duration": 60,
    "start_time": "2024-01-15T16:09:21.307Z"
   },
   {
    "duration": 122,
    "start_time": "2024-01-15T16:09:21.369Z"
   },
   {
    "duration": 0,
    "start_time": "2024-01-15T16:09:21.493Z"
   },
   {
    "duration": 0,
    "start_time": "2024-01-15T16:09:21.494Z"
   },
   {
    "duration": 1174,
    "start_time": "2024-01-15T16:09:48.752Z"
   },
   {
    "duration": 10,
    "start_time": "2024-01-15T16:09:57.283Z"
   },
   {
    "duration": 21,
    "start_time": "2024-01-15T16:10:05.498Z"
   },
   {
    "duration": 9,
    "start_time": "2024-01-15T16:10:06.200Z"
   },
   {
    "duration": 3,
    "start_time": "2024-01-15T16:14:52.327Z"
   },
   {
    "duration": 14,
    "start_time": "2024-01-15T16:16:58.126Z"
   },
   {
    "duration": 6098,
    "start_time": "2024-01-15T16:17:32.351Z"
   },
   {
    "duration": 18,
    "start_time": "2024-01-15T16:19:13.385Z"
   },
   {
    "duration": 16,
    "start_time": "2024-01-15T16:25:16.529Z"
   },
   {
    "duration": 7,
    "start_time": "2024-01-15T16:26:39.314Z"
   },
   {
    "duration": 2283,
    "start_time": "2024-01-15T16:26:40.389Z"
   },
   {
    "duration": 1143,
    "start_time": "2024-01-15T16:26:44.564Z"
   },
   {
    "duration": 49,
    "start_time": "2024-01-15T16:26:47.900Z"
   },
   {
    "duration": 3,
    "start_time": "2024-01-15T16:26:48.715Z"
   },
   {
    "duration": 4,
    "start_time": "2024-01-15T16:26:50.731Z"
   },
   {
    "duration": 14,
    "start_time": "2024-01-15T16:26:50.908Z"
   },
   {
    "duration": 6,
    "start_time": "2024-01-15T16:26:51.090Z"
   },
   {
    "duration": 601,
    "start_time": "2024-01-15T16:26:51.279Z"
   },
   {
    "duration": 249,
    "start_time": "2024-01-15T16:26:51.882Z"
   },
   {
    "duration": 6,
    "start_time": "2024-01-15T16:26:52.132Z"
   },
   {
    "duration": 20,
    "start_time": "2024-01-15T16:26:52.140Z"
   },
   {
    "duration": 258,
    "start_time": "2024-01-15T16:26:52.162Z"
   },
   {
    "duration": 147,
    "start_time": "2024-01-15T16:26:52.422Z"
   },
   {
    "duration": 206,
    "start_time": "2024-01-15T16:26:52.571Z"
   },
   {
    "duration": 317,
    "start_time": "2024-01-15T16:26:52.779Z"
   },
   {
    "duration": 279,
    "start_time": "2024-01-15T16:26:53.098Z"
   },
   {
    "duration": 296,
    "start_time": "2024-01-15T16:26:53.379Z"
   },
   {
    "duration": 216,
    "start_time": "2024-01-15T16:26:53.677Z"
   },
   {
    "duration": 221,
    "start_time": "2024-01-15T16:26:53.895Z"
   },
   {
    "duration": 217,
    "start_time": "2024-01-15T16:26:54.118Z"
   },
   {
    "duration": 280,
    "start_time": "2024-01-15T16:26:54.337Z"
   },
   {
    "duration": 216,
    "start_time": "2024-01-15T16:26:54.618Z"
   },
   {
    "duration": 227,
    "start_time": "2024-01-15T16:26:54.836Z"
   },
   {
    "duration": 60,
    "start_time": "2024-01-15T16:26:55.064Z"
   },
   {
    "duration": 36,
    "start_time": "2024-01-15T16:26:55.125Z"
   },
   {
    "duration": 9,
    "start_time": "2024-01-15T16:26:55.162Z"
   },
   {
    "duration": 3,
    "start_time": "2024-01-15T16:26:56.900Z"
   },
   {
    "duration": 64,
    "start_time": "2024-01-15T16:26:57.795Z"
   },
   {
    "duration": 13,
    "start_time": "2024-01-15T16:27:01.266Z"
   },
   {
    "duration": 491072,
    "start_time": "2024-01-15T16:37:39.393Z"
   },
   {
    "duration": 0,
    "start_time": "2024-01-15T16:45:50.467Z"
   },
   {
    "duration": 7,
    "start_time": "2024-01-15T16:51:36.711Z"
   },
   {
    "duration": 2235,
    "start_time": "2024-01-15T16:51:36.910Z"
   },
   {
    "duration": 1155,
    "start_time": "2024-01-15T16:51:39.147Z"
   },
   {
    "duration": 46,
    "start_time": "2024-01-15T16:51:40.304Z"
   },
   {
    "duration": 3,
    "start_time": "2024-01-15T16:51:40.352Z"
   },
   {
    "duration": 4,
    "start_time": "2024-01-15T16:51:40.356Z"
   },
   {
    "duration": 15,
    "start_time": "2024-01-15T16:51:40.361Z"
   },
   {
    "duration": 5,
    "start_time": "2024-01-15T16:51:40.377Z"
   },
   {
    "duration": 608,
    "start_time": "2024-01-15T16:51:40.383Z"
   },
   {
    "duration": 223,
    "start_time": "2024-01-15T16:51:40.992Z"
   },
   {
    "duration": 6,
    "start_time": "2024-01-15T16:51:41.217Z"
   },
   {
    "duration": 6,
    "start_time": "2024-01-15T16:51:41.225Z"
   },
   {
    "duration": 274,
    "start_time": "2024-01-15T16:51:41.232Z"
   },
   {
    "duration": 126,
    "start_time": "2024-01-15T16:51:45.645Z"
   },
   {
    "duration": 194,
    "start_time": "2024-01-15T16:51:47.302Z"
   },
   {
    "duration": 283,
    "start_time": "2024-01-15T16:51:50.489Z"
   },
   {
    "duration": 276,
    "start_time": "2024-01-15T16:51:50.831Z"
   },
   {
    "duration": 288,
    "start_time": "2024-01-15T16:51:51.559Z"
   },
   {
    "duration": 252,
    "start_time": "2024-01-15T16:51:51.849Z"
   },
   {
    "duration": 228,
    "start_time": "2024-01-15T16:51:52.103Z"
   },
   {
    "duration": 220,
    "start_time": "2024-01-15T16:51:52.779Z"
   },
   {
    "duration": 296,
    "start_time": "2024-01-15T16:51:53.001Z"
   },
   {
    "duration": 236,
    "start_time": "2024-01-15T16:51:53.298Z"
   },
   {
    "duration": 215,
    "start_time": "2024-01-15T16:51:54.169Z"
   },
   {
    "duration": 57,
    "start_time": "2024-01-15T16:52:00.401Z"
   },
   {
    "duration": 20,
    "start_time": "2024-01-15T16:52:01.256Z"
   },
   {
    "duration": 9,
    "start_time": "2024-01-15T16:52:02.481Z"
   },
   {
    "duration": 2,
    "start_time": "2024-01-15T16:52:07.899Z"
   },
   {
    "duration": 115,
    "start_time": "2024-01-15T16:52:10.045Z"
   },
   {
    "duration": 65,
    "start_time": "2024-01-15T16:52:11.990Z"
   },
   {
    "duration": 108,
    "start_time": "2024-01-15T16:54:40.104Z"
   },
   {
    "duration": 12,
    "start_time": "2024-01-15T16:55:51.370Z"
   },
   {
    "duration": 2586579,
    "start_time": "2024-01-15T16:55:57.084Z"
   },
   {
    "duration": 8,
    "start_time": "2024-01-15T17:39:30.104Z"
   },
   {
    "duration": 2347,
    "start_time": "2024-01-15T17:39:30.260Z"
   },
   {
    "duration": 1101,
    "start_time": "2024-01-15T17:39:32.609Z"
   },
   {
    "duration": 46,
    "start_time": "2024-01-15T17:39:33.711Z"
   },
   {
    "duration": 2,
    "start_time": "2024-01-15T17:39:33.759Z"
   },
   {
    "duration": 3,
    "start_time": "2024-01-15T17:39:39.207Z"
   },
   {
    "duration": 13,
    "start_time": "2024-01-15T17:39:41.913Z"
   },
   {
    "duration": 5,
    "start_time": "2024-01-15T17:39:42.865Z"
   },
   {
    "duration": 597,
    "start_time": "2024-01-15T17:39:43.365Z"
   },
   {
    "duration": 220,
    "start_time": "2024-01-15T17:39:43.964Z"
   },
   {
    "duration": 6,
    "start_time": "2024-01-15T17:39:45.683Z"
   },
   {
    "duration": 7,
    "start_time": "2024-01-15T17:39:48.519Z"
   },
   {
    "duration": 255,
    "start_time": "2024-01-15T17:39:49.633Z"
   },
   {
    "duration": 131,
    "start_time": "2024-01-15T17:39:57.931Z"
   },
   {
    "duration": 198,
    "start_time": "2024-01-15T17:40:57.375Z"
   },
   {
    "duration": 101,
    "start_time": "2024-01-15T17:42:05.645Z"
   },
   {
    "duration": 202,
    "start_time": "2024-01-15T17:42:31.560Z"
   },
   {
    "duration": 209,
    "start_time": "2024-01-15T17:42:36.249Z"
   },
   {
    "duration": 197,
    "start_time": "2024-01-15T17:42:51.460Z"
   },
   {
    "duration": 421,
    "start_time": "2024-01-15T17:44:28.323Z"
   },
   {
    "duration": 314,
    "start_time": "2024-01-15T17:44:31.303Z"
   },
   {
    "duration": 321,
    "start_time": "2024-01-15T17:44:31.619Z"
   },
   {
    "duration": 234,
    "start_time": "2024-01-15T17:44:32.241Z"
   },
   {
    "duration": 260,
    "start_time": "2024-01-15T17:44:33.046Z"
   },
   {
    "duration": 13,
    "start_time": "2024-01-15T17:48:18.017Z"
   },
   {
    "duration": 227,
    "start_time": "2024-01-15T17:48:27.279Z"
   },
   {
    "duration": 204,
    "start_time": "2024-01-15T17:48:27.682Z"
   },
   {
    "duration": 224,
    "start_time": "2024-01-15T17:48:27.888Z"
   },
   {
    "duration": 227,
    "start_time": "2024-01-15T17:48:28.692Z"
   },
   {
    "duration": 59,
    "start_time": "2024-01-15T17:48:30.407Z"
   },
   {
    "duration": 20,
    "start_time": "2024-01-15T17:48:31.403Z"
   },
   {
    "duration": 8,
    "start_time": "2024-01-15T17:48:32.251Z"
   },
   {
    "duration": 3,
    "start_time": "2024-01-15T17:48:33.287Z"
   },
   {
    "duration": 78,
    "start_time": "2024-01-15T17:48:33.682Z"
   },
   {
    "duration": 15,
    "start_time": "2024-01-15T17:48:34.696Z"
   },
   {
    "duration": 188,
    "start_time": "2024-01-15T17:48:35.282Z"
   },
   {
    "duration": 78306,
    "start_time": "2024-01-15T17:49:14.353Z"
   },
   {
    "duration": 12,
    "start_time": "2024-01-15T18:14:11.563Z"
   },
   {
    "duration": 363,
    "start_time": "2024-01-15T18:14:27.378Z"
   },
   {
    "duration": 327,
    "start_time": "2024-01-15T18:14:40.687Z"
   },
   {
    "duration": 227,
    "start_time": "2024-01-15T18:14:57.727Z"
   },
   {
    "duration": 247,
    "start_time": "2024-01-15T18:15:02.656Z"
   },
   {
    "duration": 261,
    "start_time": "2024-01-15T18:15:06.973Z"
   },
   {
    "duration": 176,
    "start_time": "2024-01-15T18:15:11.292Z"
   },
   {
    "duration": 195,
    "start_time": "2024-01-15T18:15:16.286Z"
   },
   {
    "duration": 203,
    "start_time": "2024-01-15T18:15:20.298Z"
   },
   {
    "duration": 186,
    "start_time": "2024-01-15T18:15:26.279Z"
   },
   {
    "duration": 205,
    "start_time": "2024-01-15T18:15:30.279Z"
   },
   {
    "duration": 202,
    "start_time": "2024-01-15T18:15:34.460Z"
   },
   {
    "duration": 30,
    "start_time": "2024-01-15T18:24:53.173Z"
   },
   {
    "duration": 57697,
    "start_time": "2024-01-15T18:24:57.378Z"
   },
   {
    "duration": 84,
    "start_time": "2024-01-15T18:28:29.440Z"
   },
   {
    "duration": 116,
    "start_time": "2024-01-15T18:28:46.818Z"
   },
   {
    "duration": 92,
    "start_time": "2024-01-15T18:29:11.125Z"
   },
   {
    "duration": 93,
    "start_time": "2024-01-15T18:29:52.163Z"
   },
   {
    "duration": 127,
    "start_time": "2024-01-15T18:32:01.404Z"
   },
   {
    "duration": 92,
    "start_time": "2024-01-15T18:32:11.158Z"
   },
   {
    "duration": 97,
    "start_time": "2024-01-15T18:35:47.164Z"
   },
   {
    "duration": 62497,
    "start_time": "2024-01-15T18:36:01.960Z"
   },
   {
    "duration": 62291,
    "start_time": "2024-01-15T18:39:25.764Z"
   },
   {
    "duration": 3,
    "start_time": "2024-01-15T18:42:50.832Z"
   },
   {
    "duration": 5526,
    "start_time": "2024-01-15T18:45:09.554Z"
   },
   {
    "duration": 0,
    "start_time": "2024-01-15T18:46:06.560Z"
   },
   {
    "duration": 5757,
    "start_time": "2024-01-15T18:51:19.808Z"
   },
   {
    "duration": 261,
    "start_time": "2024-01-15T18:51:26.465Z"
   },
   {
    "duration": 1034966,
    "start_time": "2024-01-15T18:52:25.298Z"
   },
   {
    "duration": 106109,
    "start_time": "2024-01-15T19:09:40.355Z"
   },
   {
    "duration": 739643,
    "start_time": "2024-01-15T19:11:32.922Z"
   },
   {
    "duration": 246,
    "start_time": "2024-01-15T19:24:24.100Z"
   },
   {
    "duration": 17,
    "start_time": "2024-01-15T19:33:31.362Z"
   },
   {
    "duration": 3,
    "start_time": "2024-01-15T19:33:43.927Z"
   },
   {
    "duration": 477,
    "start_time": "2024-01-15T19:33:44.409Z"
   },
   {
    "duration": 96,
    "start_time": "2024-01-15T19:46:05.290Z"
   },
   {
    "duration": 3,
    "start_time": "2024-01-15T19:47:28.523Z"
   },
   {
    "duration": 628,
    "start_time": "2024-01-15T19:47:30.633Z"
   },
   {
    "duration": 256,
    "start_time": "2024-01-15T19:50:30.771Z"
   },
   {
    "duration": 263,
    "start_time": "2024-01-15T19:50:38.868Z"
   },
   {
    "duration": 257,
    "start_time": "2024-01-15T19:50:45.741Z"
   },
   {
    "duration": 98,
    "start_time": "2024-01-15T19:51:35.325Z"
   },
   {
    "duration": 11,
    "start_time": "2024-01-15T19:51:44.363Z"
   },
   {
    "duration": 270,
    "start_time": "2024-01-15T19:52:00.342Z"
   },
   {
    "duration": 310,
    "start_time": "2024-01-15T19:52:41.349Z"
   },
   {
    "duration": 339,
    "start_time": "2024-01-15T19:52:55.374Z"
   },
   {
    "duration": 306,
    "start_time": "2024-01-15T19:53:09.629Z"
   },
   {
    "duration": 289,
    "start_time": "2024-01-15T19:53:19.371Z"
   },
   {
    "duration": 264,
    "start_time": "2024-01-15T19:53:26.432Z"
   },
   {
    "duration": 7,
    "start_time": "2024-01-15T20:19:08.601Z"
   },
   {
    "duration": 6027,
    "start_time": "2024-01-15T20:19:08.609Z"
   },
   {
    "duration": 1413,
    "start_time": "2024-01-15T20:19:14.637Z"
   },
   {
    "duration": 142,
    "start_time": "2024-01-15T20:19:16.051Z"
   },
   {
    "duration": 3,
    "start_time": "2024-01-15T20:19:16.195Z"
   },
   {
    "duration": 7,
    "start_time": "2024-01-15T20:19:16.199Z"
   },
   {
    "duration": 15,
    "start_time": "2024-01-15T20:19:16.208Z"
   },
   {
    "duration": 5,
    "start_time": "2024-01-15T20:19:16.225Z"
   },
   {
    "duration": 733,
    "start_time": "2024-01-15T20:19:16.231Z"
   },
   {
    "duration": 350,
    "start_time": "2024-01-15T20:19:16.966Z"
   },
   {
    "duration": 6,
    "start_time": "2024-01-15T20:19:17.318Z"
   },
   {
    "duration": 14,
    "start_time": "2024-01-15T20:19:17.325Z"
   },
   {
    "duration": 269,
    "start_time": "2024-01-15T20:19:17.340Z"
   },
   {
    "duration": 291,
    "start_time": "2024-01-15T20:19:17.612Z"
   },
   {
    "duration": 278,
    "start_time": "2024-01-15T20:19:17.904Z"
   },
   {
    "duration": 247,
    "start_time": "2024-01-15T20:19:18.184Z"
   },
   {
    "duration": 257,
    "start_time": "2024-01-15T20:19:18.432Z"
   },
   {
    "duration": 282,
    "start_time": "2024-01-15T20:19:18.690Z"
   },
   {
    "duration": 264,
    "start_time": "2024-01-15T20:19:18.974Z"
   },
   {
    "duration": 199,
    "start_time": "2024-01-15T20:19:19.240Z"
   },
   {
    "duration": 188,
    "start_time": "2024-01-15T20:19:19.440Z"
   },
   {
    "duration": 186,
    "start_time": "2024-01-15T20:19:19.630Z"
   },
   {
    "duration": 198,
    "start_time": "2024-01-15T20:19:19.817Z"
   },
   {
    "duration": 213,
    "start_time": "2024-01-15T20:19:20.017Z"
   },
   {
    "duration": 58,
    "start_time": "2024-01-15T20:19:20.232Z"
   },
   {
    "duration": 20,
    "start_time": "2024-01-15T20:19:20.291Z"
   },
   {
    "duration": 8,
    "start_time": "2024-01-15T20:19:20.312Z"
   },
   {
    "duration": 5,
    "start_time": "2024-01-15T20:19:20.321Z"
   },
   {
    "duration": 141,
    "start_time": "2024-01-15T20:19:20.328Z"
   },
   {
    "duration": 103,
    "start_time": "2024-01-15T20:19:20.471Z"
   },
   {
    "duration": 76997,
    "start_time": "2024-01-15T20:19:20.576Z"
   },
   {
    "duration": 517,
    "start_time": "2024-01-15T20:20:37.578Z"
   },
   {
    "duration": 62207,
    "start_time": "2024-01-15T20:20:38.097Z"
   },
   {
    "duration": 251,
    "start_time": "2024-01-15T20:21:40.305Z"
   },
   {
    "duration": 74,
    "start_time": "2024-01-16T08:45:33.705Z"
   }
  ],
  "kernelspec": {
   "display_name": "Python 3 (ipykernel)",
   "language": "python",
   "name": "python3"
  },
  "language_info": {
   "codemirror_mode": {
    "name": "ipython",
    "version": 3
   },
   "file_extension": ".py",
   "mimetype": "text/x-python",
   "name": "python",
   "nbconvert_exporter": "python",
   "pygments_lexer": "ipython3",
   "version": "3.10.0"
  },
  "toc": {
   "base_numbering": 1,
   "nav_menu": {},
   "number_sections": true,
   "sideBar": true,
   "skip_h1_title": true,
   "title_cell": "Содержание",
   "title_sidebar": "Contents",
   "toc_cell": true,
   "toc_position": {},
   "toc_section_display": true,
   "toc_window_display": true
  }
 },
 "nbformat": 4,
 "nbformat_minor": 2
}
