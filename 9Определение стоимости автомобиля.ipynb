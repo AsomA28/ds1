{
 "cells": [
  {
   "cell_type": "markdown",
   "metadata": {
    "id": "uSkS3C6dUSEL"
   },
   "source": [
    "# Определение стоимости автомобилей"
   ]
  },
  {
   "cell_type": "markdown",
   "metadata": {
    "id": "ejBF17qmUSEL"
   },
   "source": [
    "Сервис по продаже автомобилей с пробегом «Не бит, не крашен» разрабатывает приложение для привлечения новых клиентов. В нём можно быстро узнать рыночную стоимость своего автомобиля. В вашем распоряжении исторические данные: технические характеристики, комплектации и цены автомобилей. Вам нужно построить модель для определения стоимости.\n",
    "\n",
    "Заказчику важны:\n",
    "\n",
    "- качество предсказания;\n",
    "- скорость предсказания;\n",
    "- время обучения."
   ]
  },
  {
   "cell_type": "markdown",
   "metadata": {
    "id": "qa8PAmM1USEM"
   },
   "source": [
    "## План работы\n",
    "\n",
    "1.\tЗагрузим и подготовим данные.\n",
    "2.\tОбучим разные модели. Для каждой попробуйем различные гиперпараметры.\n",
    "3.\tПроанализируем скорость работы и качество моделей."
   ]
  },
  {
   "cell_type": "markdown",
   "metadata": {
    "id": "YNC_4UsvUSEM"
   },
   "source": [
    "## Описание данных\n",
    "\n",
    "Признаки:\n",
    "-\t`DateCrawled` — дата скачивания анкеты из базы\n",
    "-\t`VehicleType` — тип автомобильного кузова\n",
    "-\t`RegistrationYear` — год регистрации автомобиля\n",
    "-\t`Gearbox` — тип коробки передач\n",
    "-\t`Power` — мощность (л. с.)\n",
    "-\t`Model` — модель автомобиля\n",
    "-\t`Kilometer` — пробег (км)\n",
    "-\t`RegistrationMonth` — месяц регистрации автомобиля\n",
    "-\t`FuelType` — тип топлива\n",
    "-\t`Brand` — марка автомобиля\n",
    "-\t`Repaired` — была машина в ремонте или нет\n",
    "-\t`DateCreated` — дата создания анкеты\n",
    "-\t`NumberOfPictures` — количество фотографий автомобиля\n",
    "-\t`PostalCode` — почтовый индекс владельца анкеты (пользователя)\n",
    "-\t`LastSeen` — дата последней активности пользователя\n",
    "\n",
    "Целевой признак:\n",
    "-    `Price` — цена (евро)\n",
    "\n",
    "Данные находятся в файле: `/datasets/autos.csv`"
   ]
  },
  {
   "cell_type": "markdown",
   "metadata": {
    "id": "GRYiczkAUSEM"
   },
   "source": [
    "## Подготовка данных"
   ]
  },
  {
   "cell_type": "code",
   "execution_count": null,
   "metadata": {
    "colab": {
     "base_uri": "https://localhost:8080/"
    },
    "id": "yS0LFnomUZdt",
    "outputId": "7f023b39-04d3-4659-8676-e2631ba981d9"
   },
   "outputs": [],
   "source": [
    "!pip install catboost"
   ]
  },
  {
   "cell_type": "code",
   "execution_count": null,
   "metadata": {
    "colab": {
     "base_uri": "https://localhost:8080/"
    },
    "id": "-gc5JgdLUSEM",
    "outputId": "689cd183-9143-4eca-bcf2-f9a6c433af75"
   },
   "outputs": [],
   "source": [
    "!pip install scikit-learn==1.2.2"
   ]
  },
  {
   "cell_type": "code",
   "execution_count": null,
   "metadata": {
    "id": "D83XfWXXUSEN"
   },
   "outputs": [],
   "source": [
    "import warnings\n",
    "warnings.filterwarnings('ignore')"
   ]
  },
  {
   "cell_type": "code",
   "execution_count": null,
   "metadata": {
    "colab": {
     "base_uri": "https://localhost:8080/"
    },
    "id": "ArdIU3XJUSEO",
    "outputId": "3f251718-8d28-402c-df24-e0e67a8853f3"
   },
   "outputs": [],
   "source": [
    "!pip install phik -q"
   ]
  },
  {
   "cell_type": "code",
   "execution_count": null,
   "metadata": {
    "id": "Xzg86Dh-USEO"
   },
   "outputs": [],
   "source": [
    "import pandas as pd\n",
    "import time\n",
    "import numpy as np\n",
    "import matplotlib.pyplot as plt\n",
    "import seaborn as sns\n",
    "from sklearn.model_selection import train_test_split, cross_val_score, GridSearchCV, KFold\n",
    "from sklearn.preprocessing import OneHotEncoder, OrdinalEncoder, StandardScaler, LabelEncoder\n",
    "from sklearn.linear_model import LinearRegression, ElasticNet, Lasso, Ridge\n",
    "from sklearn.pipeline import Pipeline\n",
    "from catboost import CatBoostRegressor, Pool\n",
    "from catboost import CatBoostClassifier\n",
    "from lightgbm import LGBMRegressor\n",
    "import lightgbm\n",
    "from sklearn.metrics import mean_squared_error\n",
    "from sklearn.tree import DecisionTreeRegressor\n",
    "from sklearn.ensemble import RandomForestRegressor\n",
    "from sklearn.pipeline import make_pipeline\n",
    "from sklearn.compose import make_column_transformer\n",
    "import phik\n",
    "from phik.report import plot_correlation_matrix\n",
    "from sklearn.dummy import DummyRegressor\n",
    "from collections import defaultdict"
   ]
  },
  {
   "cell_type": "code",
   "execution_count": null,
   "metadata": {
    "colab": {
     "base_uri": "https://localhost:8080/",
     "height": 206
    },
    "id": "BHgu0gCpUSEO",
    "outputId": "22aa60c0-6461-401d-df80-ec14f56bda34",
    "scrolled": true
   },
   "outputs": [],
   "source": [
    "data = pd.read_csv('https://code.s3.yandex.net/datasets/autos.csv', delimiter = ',')\n",
    "pd.set_option('display.max_rows', None)#параметр для выводы всего датафрейма\n",
    "data.head()"
   ]
  },
  {
   "cell_type": "code",
   "execution_count": null,
   "metadata": {
    "id": "ELXgGOcOUSEO"
   },
   "outputs": [],
   "source": [
    "def inf(data):\n",
    "    print(f'Размер датасета - {data.shape}')\n",
    "    print()\n",
    "    print('Информация о данных:')\n",
    "    print(data.info())\n",
    "    print()\n",
    "    print(f'Количество пропусков в датасете: {data.isna().sum().sum()}')\n",
    "    print(f'Указание на пропуски в датасете: {data.isna().sum()}')\n",
    "    print(f'Дубликаты в датасете: {data.duplicated().sum()}')"
   ]
  },
  {
   "cell_type": "code",
   "execution_count": null,
   "metadata": {
    "colab": {
     "base_uri": "https://localhost:8080/"
    },
    "id": "kOv4cEo1USEO",
    "outputId": "27713700-6288-466a-d197-e0671772f0bc"
   },
   "outputs": [],
   "source": [
    "inf(data)"
   ]
  },
  {
   "cell_type": "code",
   "execution_count": null,
   "metadata": {
    "colab": {
     "base_uri": "https://localhost:8080/"
    },
    "id": "0_wBA91WUSEP",
    "outputId": "7a9a5fe5-6c6a-43c2-8c39-882d064510df"
   },
   "outputs": [],
   "source": [
    "for i in data.select_dtypes(exclude='number').columns.tolist():\n",
    "    print(f'{i}:')\n",
    "    print(data[i].unique())\n",
    "    print()"
   ]
  },
  {
   "cell_type": "code",
   "execution_count": null,
   "metadata": {
    "colab": {
     "base_uri": "https://localhost:8080/",
     "height": 300
    },
    "id": "nv6KoRCLUSEP",
    "outputId": "999dfd3d-a679-42e7-da89-dcf28937bf66"
   },
   "outputs": [],
   "source": [
    "data.describe()"
   ]
  },
  {
   "cell_type": "markdown",
   "metadata": {
    "id": "tYVgl8JMUSEP"
   },
   "source": [
    "# Выводы\n",
    "\n",
    "- В целевом признаке \"Price\" и в \"Power\" минимальное значение - 0;\n",
    "\n",
    "- В столбце \"RegistrationYear\" указан странный год регистрации автомобиля, а именно 1000;\n",
    "\n",
    "- Выявлены 4 дубликата, от которых нужно избавиться;\n",
    "\n",
    "- В 5-ти стобцах наблюдаются пропуски;\n",
    "\n",
    "- В столбце \"RegistrationMonth\" отсутсвует месяц регистрации;\n",
    "\n",
    "- Названия столбцов удобней и правильней будет привести к нижнему регистру;\n",
    "\n",
    "- Есть признаки, которые никак не влияют на цену - DateCrawled, RegistrationMonth, DateCreated, NumberOfPictures, PostalCode и LastSeen. От них надо избавиться.\n"
   ]
  },
  {
   "cell_type": "markdown",
   "metadata": {
    "id": "0uMBoK1TUSEP"
   },
   "source": [
    "## Предобработка данных"
   ]
  },
  {
   "cell_type": "markdown",
   "metadata": {
    "id": "jHNxaEAsUSEP"
   },
   "source": [
    "**Приведем названия колонок к нижнему регистру**"
   ]
  },
  {
   "cell_type": "code",
   "execution_count": null,
   "metadata": {
    "colab": {
     "base_uri": "https://localhost:8080/"
    },
    "id": "4m0DyT9tUSEP",
    "outputId": "18f8257e-5df4-406a-bac9-8d94ebf5331c"
   },
   "outputs": [],
   "source": [
    "data.columns = data.columns.str.lower()\n",
    "data.columns"
   ]
  },
  {
   "cell_type": "markdown",
   "metadata": {
    "id": "kxgd3sGQUSEQ"
   },
   "source": [
    "**Как сказано выше, не все признаки влияют на цену(целевой признак), поэтому создадим новый датасет без их учета**"
   ]
  },
  {
   "cell_type": "code",
   "execution_count": null,
   "metadata": {
    "id": "7x2Y8nc2USEQ"
   },
   "outputs": [],
   "source": [
    "auto = data[['vehicletype',\n",
    "            'registrationyear',\n",
    "            'gearbox',\n",
    "            'power',\n",
    "            'model',\n",
    "            'kilometer',\n",
    "            'fueltype',\n",
    "            'brand',\n",
    "            'repaired',\n",
    "            'price']]"
   ]
  },
  {
   "cell_type": "code",
   "execution_count": null,
   "metadata": {
    "id": "FADRFKTDUSEQ"
   },
   "outputs": [],
   "source": [
    "def s(auto):\n",
    "    print(f'Размер датасета - {auto.shape}')\n",
    "    print()\n",
    "    print('Информация о данных:')\n",
    "    print(auto.info())\n",
    "    print()\n",
    "    print(f'Количество пропусков в датасете: {auto.isna().sum().sum()}')\n",
    "    print(f'Указание на пропуски в датасете: {auto.isna().sum()}')\n",
    "    print(f'Дубликаты в датасете: {auto.duplicated().sum()}')"
   ]
  },
  {
   "cell_type": "code",
   "execution_count": null,
   "metadata": {
    "colab": {
     "base_uri": "https://localhost:8080/"
    },
    "id": "f0-5Vad7USEQ",
    "outputId": "3c14d950-82e5-4eb1-c696-ca8f27d58739"
   },
   "outputs": [],
   "source": [
    "s(auto)"
   ]
  },
  {
   "cell_type": "markdown",
   "metadata": {
    "id": "JhgTqLGAUSEQ"
   },
   "source": [
    "**Проведем визуализацию количественных признаков**"
   ]
  },
  {
   "cell_type": "code",
   "execution_count": null,
   "metadata": {},
   "outputs": [],
   "source": [
    "plt.figure(figsize=(10, 8))\n",
    "\n",
    "plt.subplot(1, 2, 1)\n",
    "plt.hist(auto['price'], histtype='bar', bins=50, color='lightsteelblue', edgecolor='black')\n",
    "plt.xlabel('Цена, евро')\n",
    "plt.ylabel('Количество автомобилей')\n",
    "plt.title('Распределение рыночной стоимости автомобиля в евро')\n",
    "\n",
    "plt.subplot(1, 2, 2)\n",
    "plt.boxplot(auto['price'])\n",
    "\n",
    "plt.title('\"Ящик с усами\" ')\n",
    "\n",
    "plt.show()"
   ]
  },
  {
   "cell_type": "code",
   "execution_count": null,
   "metadata": {
    "colab": {
     "base_uri": "https://localhost:8080/",
     "height": 452
    },
    "id": "E4Hm4INyUSER",
    "outputId": "0c8065bd-792d-4fc7-d84d-d1b8446a26fe"
   },
   "outputs": [],
   "source": [
    "plt.figure(figsize=(10, 8))\n",
    "\n",
    "plt.subplot(1,2,1)\n",
    "plt.hist(auto['registrationyear'],histtype='bar',bins=40,range = (1970,2022),color = 'hotpink',edgecolor = \"black\")\n",
    "plt.xlabel('Год выпуска')\n",
    "plt.ylabel('Количество автомобилей')\n",
    "plt.title('Распределение возраста автомобиля в годах')\n",
    "\n",
    "plt.subplot(1,2,2)\n",
    "plt.boxplot(auto['registrationyear'])\n",
    "\n",
    "plt.title('\"Ящик с усами\" ')\n",
    "\n",
    "plt.show()"
   ]
  },
  {
   "cell_type": "code",
   "execution_count": null,
   "metadata": {
    "colab": {
     "base_uri": "https://localhost:8080/",
     "height": 452
    },
    "id": "i32pVImgUSER",
    "outputId": "e4d06205-1ec9-46b4-881e-7588fc267c29"
   },
   "outputs": [],
   "source": [
    "plt.figure(figsize=(10, 8))\n",
    "\n",
    "plt.subplot(1,2,1)\n",
    "plt.hist(auto['power'],histtype='bar',range = (0,400),bins=40,color = 'mediumorchid',edgecolor = \"black\")\n",
    "plt.xlabel('Мощность,л.с')\n",
    "plt.ylabel('Количество автомобилей')\n",
    "plt.title('Распределение автомобилей по мощностям')\n",
    "\n",
    "plt.subplot(1,2,2)\n",
    "plt.boxplot(auto['power'])\n",
    "plt.title('\"Ящик с усами\" ')\n",
    "\n",
    "plt.show()"
   ]
  },
  {
   "cell_type": "code",
   "execution_count": null,
   "metadata": {
    "colab": {
     "base_uri": "https://localhost:8080/",
     "height": 452
    },
    "id": "NTSdOIuMUSER",
    "outputId": "f560c9c3-bfbf-44c7-bd29-411c4d5ee069"
   },
   "outputs": [],
   "source": [
    "plt.figure(figsize=(10, 8))\n",
    "\n",
    "plt.subplot(1,2,1)\n",
    "plt.hist(auto['kilometer'],histtype='bar',bins=40,color = 'powderblue',edgecolor = \"black\")\n",
    "plt.xlabel('Пробег,км')\n",
    "plt.ylabel('Количество автомобилей')\n",
    "plt.title('Распределение автомобилей по пробегу')\n",
    "\n",
    "plt.subplot(1,2,2)\n",
    "plt.boxplot(auto['kilometer'])\n",
    "plt.title('\"Ящик с усами\" ')\n",
    "\n",
    "plt.show()"
   ]
  },
  {
   "cell_type": "code",
   "execution_count": null,
   "metadata": {
    "colab": {
     "base_uri": "https://localhost:8080/"
    },
    "id": "1YGBC3uJUSEb",
    "outputId": "55661cee-96b2-428b-d99e-ad96fb772f36"
   },
   "outputs": [],
   "source": [
    "auto['price'].describe()"
   ]
  },
  {
   "cell_type": "code",
   "execution_count": null,
   "metadata": {
    "colab": {
     "base_uri": "https://localhost:8080/"
    },
    "id": "vY-gp03UUSEb",
    "outputId": "d2a2e3f3-078f-4a7b-e0a1-7612c3d9183a"
   },
   "outputs": [],
   "source": [
    "auto['price'].value_counts()"
   ]
  },
  {
   "cell_type": "code",
   "execution_count": null,
   "metadata": {
    "id": "3bRPTQqxUSEb"
   },
   "outputs": [],
   "source": [
    "auto = auto.query('price > 0')"
   ]
  },
  {
   "cell_type": "code",
   "execution_count": null,
   "metadata": {
    "colab": {
     "base_uri": "https://localhost:8080/",
     "height": 742
    },
    "id": "WUI3WH_NUSEb",
    "outputId": "21532615-e291-4808-8750-f420d66d137e"
   },
   "outputs": [],
   "source": [
    "auto.price.hist(bins=200, figsize=(20,5))\n",
    "plt.figure(figsize=(10,3))\n",
    "sns.boxplot(data=auto.price, orient='h')\n",
    "plt.title('Ящик с усами для целевого признака')\n",
    "plt.show()"
   ]
  },
  {
   "cell_type": "code",
   "execution_count": null,
   "metadata": {
    "colab": {
     "base_uri": "https://localhost:8080/"
    },
    "id": "XuIGSXivUSEb",
    "outputId": "5acb2ea7-609e-432e-f69c-951910655119"
   },
   "outputs": [],
   "source": [
    "auto['price'].quantile([0.05, 0.95])"
   ]
  },
  {
   "cell_type": "code",
   "execution_count": null,
   "metadata": {
    "colab": {
     "base_uri": "https://localhost:8080/"
    },
    "id": "yGbiAIKVUSEc",
    "outputId": "45dc2723-76b8-489c-8f40-2170013eb9bb"
   },
   "outputs": [],
   "source": [
    "auto = auto.query('350 <= price <= 14800')\n",
    "auto['price'].describe()"
   ]
  },
  {
   "cell_type": "code",
   "execution_count": null,
   "metadata": {
    "colab": {
     "base_uri": "https://localhost:8080/"
    },
    "id": "FJT7ugrfUSEc",
    "outputId": "77bfbd66-8275-4b3f-b4c2-51d6910d26ba"
   },
   "outputs": [],
   "source": [
    "auto['registrationyear'].value_counts()"
   ]
  },
  {
   "cell_type": "code",
   "execution_count": null,
   "metadata": {
    "colab": {
     "base_uri": "https://localhost:8080/"
    },
    "id": "G4L1pX2TUSEc",
    "outputId": "621fe7a2-64d6-46d4-e4e7-95790bdb51f3"
   },
   "outputs": [],
   "source": [
    "auto['registrationyear'].describe()"
   ]
  },
  {
   "cell_type": "code",
   "execution_count": null,
   "metadata": {
    "colab": {
     "base_uri": "https://localhost:8080/"
    },
    "id": "3rVY43ijUSEc",
    "outputId": "b11d74c4-5bb4-4a74-8787-9215f3541815"
   },
   "outputs": [],
   "source": [
    "auto['registrationyear'].quantile([0.05, 0.95])"
   ]
  },
  {
   "cell_type": "code",
   "execution_count": null,
   "metadata": {
    "colab": {
     "base_uri": "https://localhost:8080/"
    },
    "id": "sU1tJQyVUSEc",
    "outputId": "669a7d59-9ec4-414c-c907-a849b34f57a3"
   },
   "outputs": [],
   "source": [
    "auto = auto.query('1993 <= registrationyear <= 2016')\n",
    "auto['registrationyear'].describe()"
   ]
  },
  {
   "cell_type": "code",
   "execution_count": null,
   "metadata": {
    "colab": {
     "base_uri": "https://localhost:8080/"
    },
    "id": "0OE1-0AYUSEc",
    "outputId": "946cfe85-5f7f-441d-a2b9-ec7fb862d65c"
   },
   "outputs": [],
   "source": [
    "auto['power'].describe()"
   ]
  },
  {
   "cell_type": "code",
   "execution_count": null,
   "metadata": {
    "colab": {
     "base_uri": "https://localhost:8080/"
    },
    "id": "1On69cRgUSEc",
    "outputId": "63e80067-d9da-49f5-d558-3e6762e6148f"
   },
   "outputs": [],
   "source": [
    "auto['power'].quantile([0.05, 0.95])"
   ]
  },
  {
   "cell_type": "markdown",
   "metadata": {
    "id": "jU4YLPf0USEd"
   },
   "source": [
    "**По имеющейся информации в интернете об автомобильных двигателях, исключим автомобили с мощностью менее 20 лошадиных сил**"
   ]
  },
  {
   "cell_type": "code",
   "execution_count": null,
   "metadata": {
    "colab": {
     "base_uri": "https://localhost:8080/"
    },
    "id": "84IsFg6KUSEd",
    "outputId": "529a1060-97ff-420f-9aa7-719ae6d759c5"
   },
   "outputs": [],
   "source": [
    "auto = auto.query('20 <= power <= 209')\n",
    "auto['power'].describe()"
   ]
  },
  {
   "cell_type": "code",
   "execution_count": null,
   "metadata": {
    "colab": {
     "base_uri": "https://localhost:8080/"
    },
    "id": "Laq9jt_jUSEd",
    "outputId": "3e7914ef-9e14-42e0-8c9f-e4589d527222"
   },
   "outputs": [],
   "source": [
    "auto['gearbox'].describe()"
   ]
  },
  {
   "cell_type": "markdown",
   "metadata": {
    "id": "qDA051IpUSEd"
   },
   "source": [
    "**Заменим пропуки на 'manual'**"
   ]
  },
  {
   "cell_type": "code",
   "execution_count": null,
   "metadata": {
    "id": "O3SQAAeQUSEd"
   },
   "outputs": [],
   "source": [
    "auto.fillna({'gearbox':'manual'},inplace=True)"
   ]
  },
  {
   "cell_type": "code",
   "execution_count": null,
   "metadata": {
    "colab": {
     "base_uri": "https://localhost:8080/"
    },
    "id": "P2eN12Z6USEd",
    "outputId": "54aefbed-cf3e-4ae2-9391-2abe77cb7967"
   },
   "outputs": [],
   "source": [
    "auto['gearbox'].isna().sum()"
   ]
  },
  {
   "cell_type": "code",
   "execution_count": null,
   "metadata": {
    "colab": {
     "base_uri": "https://localhost:8080/"
    },
    "id": "okPey8MbUSEd",
    "outputId": "8853a88d-b8c5-44c3-a818-8f3bbd5e89aa"
   },
   "outputs": [],
   "source": [
    "auto['repaired'].describe()"
   ]
  },
  {
   "cell_type": "markdown",
   "metadata": {
    "id": "QHh8LH11USEd"
   },
   "source": [
    "**Заменин пропуски на 'no'**"
   ]
  },
  {
   "cell_type": "code",
   "execution_count": null,
   "metadata": {
    "id": "hG3FtIJIUSEd"
   },
   "outputs": [],
   "source": [
    "auto.fillna({'repaired':'no'},inplace=True)"
   ]
  },
  {
   "cell_type": "markdown",
   "metadata": {
    "id": "xgi4ewW1USEe"
   },
   "source": [
    "**Заменин пропуски на 'unknown'**"
   ]
  },
  {
   "cell_type": "code",
   "execution_count": null,
   "metadata": {
    "colab": {
     "base_uri": "https://localhost:8080/"
    },
    "id": "4yZb9hLWUSEe",
    "outputId": "e91d7fe4-f579-490a-fdec-786e89abef09"
   },
   "outputs": [],
   "source": [
    "auto['fueltype'].describe()"
   ]
  },
  {
   "cell_type": "markdown",
   "metadata": {
    "id": "pBwQKxbHUSEe"
   },
   "source": [
    "**Заменим пропуски на 'other'**"
   ]
  },
  {
   "cell_type": "code",
   "execution_count": null,
   "metadata": {
    "id": "ySmdwiKbUSEe"
   },
   "outputs": [],
   "source": [
    "auto.fillna({'fueltype':'other'},inplace=True)"
   ]
  },
  {
   "cell_type": "code",
   "execution_count": null,
   "metadata": {
    "colab": {
     "base_uri": "https://localhost:8080/"
    },
    "id": "2-32QvRDUSEe",
    "outputId": "82d5c9b3-2e43-4b44-fad9-b7ad0d79861c"
   },
   "outputs": [],
   "source": [
    "print(*auto['vehicletype'].unique(), sep='\\n')"
   ]
  },
  {
   "cell_type": "code",
   "execution_count": null,
   "metadata": {
    "colab": {
     "base_uri": "https://localhost:8080/",
     "height": 1000
    },
    "id": "s8rmkrmDUSEe",
    "outputId": "0eebb237-8cd6-4348-b4cc-218d1be6f8ad"
   },
   "outputs": [],
   "source": [
    "auto.query('vehicletype != vehicletype')"
   ]
  },
  {
   "cell_type": "markdown",
   "metadata": {
    "id": "HSERUbwRUSEe"
   },
   "source": [
    "**Обноружили пропуски в данных типа кузова автомобилей. Провели их заполнение по самому распространенному значению каждого бренда**"
   ]
  },
  {
   "cell_type": "code",
   "execution_count": null,
   "metadata": {
    "colab": {
     "base_uri": "https://localhost:8080/"
    },
    "id": "_1AoYZSNUSEe",
    "outputId": "05ee6ff1-9f06-40b5-f9b6-7cffe61bd51f"
   },
   "outputs": [],
   "source": [
    "s = auto.query('brand == brand')\n",
    "sp = s['brand'].unique()\n",
    "for element in sp:\n",
    "    df = auto.loc[auto['brand'] == element]\n",
    "    print(element,' - ',df['vehicletype'].value_counts().idxmax())\n",
    "    auto.loc[(auto['brand'] == element) & (auto['vehicletype'] != auto['vehicletype']), 'vehicletype'] = df['vehicletype'].value_counts().idxmax()"
   ]
  },
  {
   "cell_type": "code",
   "execution_count": null,
   "metadata": {
    "colab": {
     "base_uri": "https://localhost:8080/"
    },
    "id": "fkeP26njUSEf",
    "outputId": "42ed8a7a-2cae-4496-eeb3-497ddf2d24e5"
   },
   "outputs": [],
   "source": [
    "auto['vehicletype'].isnull().sum()"
   ]
  },
  {
   "cell_type": "code",
   "execution_count": null,
   "metadata": {
    "colab": {
     "base_uri": "https://localhost:8080/",
     "height": 1000
    },
    "id": "SaTn0QDmUSEf",
    "outputId": "512e884e-bd95-4ab6-80b8-e80d075d52ca"
   },
   "outputs": [],
   "source": [
    "display(auto.loc[auto['brand'] == 'sonstige_autos'])"
   ]
  },
  {
   "cell_type": "code",
   "execution_count": null,
   "metadata": {
    "colab": {
     "base_uri": "https://localhost:8080/"
    },
    "id": "hc5NKdtmUSEf",
    "outputId": "1607236b-a44f-4782-b86e-99b7c5df7e2a"
   },
   "outputs": [],
   "source": [
    "df = auto.loc[auto['brand'] == 'sonstige_autos']\n",
    "print(*df['model'].unique(), sep='\\n')"
   ]
  },
  {
   "cell_type": "markdown",
   "metadata": {
    "id": "Dr9RzmYGUSEf"
   },
   "source": [
    "**В данных бренда под обозначением другой авто отсутствует информация о модели автомобиля.\n",
    "Заполним**"
   ]
  },
  {
   "cell_type": "code",
   "execution_count": null,
   "metadata": {
    "id": "3cEixFKLUSEf"
   },
   "outputs": [],
   "source": [
    "auto.loc[auto['brand'] == 'sonstige_autos', 'model'] = 'not'"
   ]
  },
  {
   "cell_type": "code",
   "execution_count": null,
   "metadata": {
    "colab": {
     "base_uri": "https://localhost:8080/"
    },
    "id": "2AP9HW2TUSEg",
    "outputId": "743751e0-70c2-416d-e1e3-c9a9fadb8203"
   },
   "outputs": [],
   "source": [
    "auto['brand'].value_counts()"
   ]
  },
  {
   "cell_type": "code",
   "execution_count": null,
   "metadata": {
    "colab": {
     "base_uri": "https://localhost:8080/"
    },
    "id": "d6KV3sjBUSEg",
    "outputId": "fc42b72a-d09b-475f-c94e-a6f74beeb748"
   },
   "outputs": [],
   "source": [
    "som = auto.query('brand == brand')\n",
    "tom = som['brand'].unique()\n",
    "for element in tom:\n",
    "    df = auto.loc[auto['brand'] == element]\n",
    "    df.dropna(subset=['model'], inplace=True)\n",
    "    print(element,' - ',df['model'].value_counts().idxmax())\n",
    "    auto.loc[((auto['brand'] == element) & (auto['model'] != auto['model'])), 'model'] = df['model'].value_counts().idxmax()"
   ]
  },
  {
   "cell_type": "code",
   "execution_count": null,
   "metadata": {
    "colab": {
     "base_uri": "https://localhost:8080/"
    },
    "id": "DTqlxDBDUSEg",
    "outputId": "696dc57a-80f6-4f47-b28a-4d85ffe5589b"
   },
   "outputs": [],
   "source": [
    "auto['model'].isnull().sum()"
   ]
  },
  {
   "cell_type": "code",
   "execution_count": null,
   "metadata": {
    "colab": {
     "base_uri": "https://localhost:8080/"
    },
    "id": "QrTCTIzxUSEg",
    "outputId": "09994c19-0fd5-4faa-d324-b456b7363007"
   },
   "outputs": [],
   "source": [
    "auto.info()"
   ]
  },
  {
   "cell_type": "code",
   "execution_count": null,
   "metadata": {
    "colab": {
     "base_uri": "https://localhost:8080/"
    },
    "id": "0qEuka6RUSEg",
    "outputId": "82649814-665c-4954-f0ca-8d253036594a"
   },
   "outputs": [],
   "source": [
    "auto.isnull().sum()"
   ]
  },
  {
   "cell_type": "markdown",
   "metadata": {
    "id": "K0yDjL1kUSEg"
   },
   "source": [
    "**Все пропуски обработаны, можно спокойно переходить к обучению моделей!**"
   ]
  },
  {
   "cell_type": "code",
   "execution_count": null,
   "metadata": {
    "colab": {
     "base_uri": "https://localhost:8080/",
     "height": 960
    },
    "id": "u5uoEOndUSEg",
    "outputId": "3639418d-cd46-47cd-b872-03c4d00dc4d7"
   },
   "outputs": [],
   "source": [
    "file = auto\n",
    "all_features = list(file.columns)\n",
    "correlation = file[all_features].phik_matrix(interval_cols = [ 'power', 'price'])\n",
    "plt.figure(figsize=(12,10))\n",
    "colormap = sns.color_palette(\"Set2_r\")\n",
    "plt.rc('font', size= 12)\n",
    "chart = sns.heatmap(correlation, annot=True, cmap=colormap, linewidths=1, linecolor='black')\n",
    "plt.title(r'Корреляция между признаками $\\phi_K$', fontsize=15, fontweight=\"bold\", color='pink')\n",
    "chart.set_xticklabels(chart.get_xticklabels(), rotation=45, horizontalalignment='right')\n",
    "chart.set_yticklabels(chart.get_xticklabels(), rotation=0, horizontalalignment='right')\n",
    "plt.show()"
   ]
  },
  {
   "cell_type": "markdown",
   "metadata": {
    "id": "bjN7uN7-USEh"
   },
   "source": [
    "**Корреляционный анализ показывает слабую связь между признаком, указыающим была машина в ремонте или нет и почти всеми остальными признаками из датасета,  а высокую между моделью автомобиля типом автомобильного кузова, еще между моделью автомобиля и мощностью.**"
   ]
  },
  {
   "cell_type": "markdown",
   "metadata": {
    "id": "wcsEKd6mUSEh"
   },
   "source": [
    "**Вывод по предобработке данных:**\n",
    "\n",
    "- Избавилась от признаков,не влияющих на целевой, дубликатов, выбрасов;\n",
    "- Привела столбцы к нижнему регистру;\n",
    "- Заполнила пропуски в gearbox,repaired,model, vehicletype, fueltype;\n",
    "- Корреляционный анализ показывает слабую связь между целевым признаком и пробегом(kilometer),  а высокую корреляцию с возрастом автомобиля (registrationyear)"
   ]
  },
  {
   "cell_type": "markdown",
   "metadata": {
    "id": "YVeEedosUSEh"
   },
   "source": [
    "## Обучение моделей"
   ]
  },
  {
   "cell_type": "code",
   "execution_count": null,
   "metadata": {},
   "outputs": [],
   "source": [
    "data_ohe = pd.get_dummies(auto, drop_first=True)\n",
    "target = data_ohe['price']\n",
    "features = data_ohe.drop('price', axis=1)"
   ]
  },
  {
   "cell_type": "code",
   "execution_count": null,
   "metadata": {},
   "outputs": [],
   "source": [
    "data_train, data_valid = train_test_split(data_ohe, test_size=0.2, random_state=12345)\n",
    "data_valid, data_test = train_test_split(data_valid , test_size=0.2, random_state=12345)\n",
    "\n",
    "features_train = data_train.drop(columns=['price'])\n",
    "target_train = data_train['price']\n",
    "\n",
    "features_valid = data_valid.drop(columns=['price'])\n",
    "target_valid = data_valid['price']\n",
    "\n",
    "features_test = data_test.drop(columns=['price'])\n",
    "target_test = data_test['price']"
   ]
  },
  {
   "cell_type": "markdown",
   "metadata": {
    "id": "ZG5fHzq6USEi"
   },
   "source": [
    "## Линейная регрессия"
   ]
  },
  {
   "cell_type": "code",
   "execution_count": null,
   "metadata": {},
   "outputs": [],
   "source": [
    "def startik(model, features_train, target_train, features_valid, target_valid):\n",
    "    \n",
    "    start = time.time()    \n",
    "    model.fit(features_train, target_train)\n",
    "    training_time = time.time() - start\n",
    "    \n",
    "    start = time.time()  \n",
    "    target_pred = model.predict(features_valid)\n",
    "    predict_time = time.time() - start\n",
    "\n",
    "    return training_time, predict_time\n"
   ]
  },
  {
   "cell_type": "code",
   "execution_count": null,
   "metadata": {},
   "outputs": [],
   "source": [
    "model = LinearRegression()\n",
    "start_time = time.time()\n",
    "model.fit(features_train, target_train)\n",
    "training_time_lr, predict_time_lr = startik(model, features_train, target_train, features_valid, target_valid)\n",
    "predict_lr = pd.DataFrame(model.predict(features_valid))\n",
    "score_lr = mean_squared_error(target_valid, predict_lr) ** 0.5\n",
    "print(\"Время обучения:\", training_time_lr)\n",
    "print(\"Время предсказания:\", predict_time_lr)\n",
    "print(\"RMSE:\", score_lr)"
   ]
  },
  {
   "cell_type": "markdown",
   "metadata": {
    "id": "OAlPYvC9USEl"
   },
   "source": [
    "## LightGBM"
   ]
  },
  {
   "cell_type": "code",
   "execution_count": null,
   "metadata": {},
   "outputs": [],
   "source": [
    "d = defaultdict(list)\n",
    "lgbm_model = LGBMRegressor(num_leaves=31, learning_rate=0.05, n_estimators=20, random_state=12345)\n",
    "start_time = time.time()\n",
    "lgbm_model.fit(features_train, target_train)\n",
    "training_time_lgbm, predict_time_lgbm = startik(lgbm_model, features_train, target_train, features_valid, target_valid)\n",
    "predict_lgbm = pd.DataFrame(lgbm_model.predict(features_valid))\n",
    "score_lgbm = mean_squared_error(target_valid, predict_lgbm) ** 0.5\n",
    "print(\"Время обучения:\", training_time_lgbm)\n",
    "print(\"Время предсказания:\", predict_time_lgbm)\n",
    "print(\"RMSE:\", score_lgbm)"
   ]
  },
  {
   "cell_type": "markdown",
   "metadata": {},
   "source": [
    "**Чтобы оптимизировать несколько гиперпараметров модели, можно использовать вложенный цикл с использованием valid выборки. Внутренний цикл будет перебирать значения одного гиперпараметра, а внешний цикл будет перебирать значения другого гиперпараметра**\n",
    "**Используем для CatBoost**\n"
   ]
  },
  {
   "cell_type": "markdown",
   "metadata": {},
   "source": [
    "## CatBoost"
   ]
  },
  {
   "cell_type": "code",
   "execution_count": null,
   "metadata": {},
   "outputs": [],
   "source": [
    "best_score = 2500\n",
    "for learning_rate in [0.01, 0.05, 0.1]:\n",
    "    for iterations in [50, 100, 200]:\n",
    "        cat_model = CatBoostRegressor(loss_function=\"RMSE\", iterations=iterations, learning_rate=learning_rate, random_state=12345)\n",
    "        start_time = time.time()\n",
    "        cat_model.fit(features_train, target_train, verbose=10)\n",
    "        training_time, predict_time = startik(cat_model, features_train, target_train, features_valid, target_valid)\n",
    "        predict_cat = cat_model.predict(features_valid)\n",
    "        score_cat = mean_squared_error(target_valid, predict_cat) ** 0.5\n",
    "        \n",
    "        if score_cat < best_score:\n",
    "            best_score = score_cat\n",
    "            best_learning = learning_rate\n",
    "            best_iterations = iterations\n",
    "            training_time_cat = training_time\n",
    "            predict_time_cat = predict_time\n",
    "\n",
    "print(\"learning rate:\", best_learning)\n",
    "print(\"iterations:\", best_iterations)\n",
    "print(\"Время обучения:\", training_time_cat)\n",
    "print(\"Время предсказания:\", predict_time_cat)\n",
    "print(\"RMSE:\", best_score)"
   ]
  },
  {
   "cell_type": "markdown",
   "metadata": {
    "id": "NH_xfCxTUSEm"
   },
   "source": [
    "## Анализ моделей"
   ]
  },
  {
   "cell_type": "code",
   "execution_count": null,
   "metadata": {},
   "outputs": [],
   "source": [
    "index = ['LinearRegression', 'CatBoostRegressor', 'LGBMRegressor']\n",
    "\n",
    "data = {'RMSE':[score_lgbm, best_score, score_lgbm],\n",
    "\n",
    "        'Время обучения ':[training_time_lr, training_time_cat, training_time_lgbm],\n",
    "        \n",
    "        'Время предсказания модели':[predict_time_lr,predict_time_cat,predict_time_lgbm]\n",
    "\n",
    "       }\n",
    "som_data = pd.DataFrame(data=data, index=index)\n",
    "display(som_data)"
   ]
  },
  {
   "cell_type": "markdown",
   "metadata": {
    "id": "hj69n96ZUSEm"
   },
   "source": [
    "**У модели CatBoost лучшие время предсказания модели и RMSE, но по времени обучения остает от других, что не сказать про LinearRegression, у которой оно быстрее всех. У Linear почти одинаковый резульат RMSE с LGBM, но модель предсказывает дольше всех.\n",
    "Исходя из условий задачи, заказчику важны:**\n",
    "- 1. качество предсказания;\n",
    "- 2. скорость предсказания;\n",
    "- 3. время обучения.\n",
    "\n",
    "**Следовательно,порядок критериев также учитывает их приоритет, значит отдадим предпочтение CatBoostRegressor.**"
   ]
  },
  {
   "cell_type": "markdown",
   "metadata": {
    "id": "_1BbfOAmUSEm"
   },
   "source": [
    "**Проверим CatBoostRegressor на тестовой выборке**"
   ]
  },
  {
   "cell_type": "code",
   "execution_count": null,
   "metadata": {},
   "outputs": [],
   "source": [
    "features_test = data_ohe.drop('price', axis=1)\n",
    "target_test = data_ohe['price']"
   ]
  },
  {
   "cell_type": "code",
   "execution_count": null,
   "metadata": {},
   "outputs": [],
   "source": [
    "cat_model = CatBoostRegressor(loss_function=\"RMSE\",learning_rate=0.1, iterations=200, random_state=12345)\n",
    "start_time = time.time()\n",
    "cat_model.fit(features_train, target_train, verbose=10)\n",
    "training_time_cat_t, predict_time_cat_t = startik(cat_model, features_train, target_train, features_test, target_test)\n",
    "predict_cat_t = cat_model.predict(features_test)\n",
    "score_cat_t = mean_squared_error(target_test, predict_cat_t) ** 0.5\n",
    "print(\"Время обучения:\", training_time_cat_t)\n",
    "print(\"Время предсказания:\", predict_time_cat_t)\n",
    "print(\"RMSE:\", score_cat_t)"
   ]
  },
  {
   "cell_type": "code",
   "execution_count": null,
   "metadata": {},
   "outputs": [],
   "source": [
    "index = ['LinearRegression', 'CatBoostRegressor', 'LGBMRegressor','Лучшая модель на тестовой выборке']\n",
    "\n",
    "data = {'RMSE':[score_lgbm, best_score, score_lgbm, score_cat_t],\n",
    "\n",
    "        'Время обучения ':[training_time_lr, training_time_cat, training_time_lgbm,training_time_cat_t],\n",
    "        \n",
    "        'Время предсказания модели':[predict_time_lr,predict_time_cat,predict_time_lgbm,predict_time_cat_t]\n",
    "\n",
    "       }\n",
    "som_data = pd.DataFrame(data=data, index=index)\n",
    "display(som_data)"
   ]
  },
  {
   "cell_type": "markdown",
   "metadata": {},
   "source": [
    "## Создадим модель  генерирования константных предсказаний."
   ]
  },
  {
   "cell_type": "code",
   "execution_count": null,
   "metadata": {},
   "outputs": [],
   "source": [
    "dummy = DummyRegressor(strategy='mean')\n",
    "start_time = time.time()\n",
    "dummy.fit(features_train, target_train)\n",
    "training_time_d = time.time() - start_time\n",
    "start_time = time.time()\n",
    "predict_d = dummy.predict(features_test)\n",
    "predict_time_d = time.time() - start_time\n",
    "score_d = mean_squared_error(target_test, predict_d) ** 0.5\n",
    "print(\"Время обучения:\", training_time_d)\n",
    "print(\"Время предсказания:\", predict_time_d)\n",
    "print(\"RMSE:\", score_d)"
   ]
  },
  {
   "cell_type": "code",
   "execution_count": null,
   "metadata": {},
   "outputs": [],
   "source": [
    "index = ['Лучшая модель на тестовой выборке','Mодель генерирования константных предсказаний']\n",
    "\n",
    "data = {'RMSE':[score_cat_t,score_d],\n",
    "\n",
    "        'Время обучения ':[training_time_cat_t,training_time_d],\n",
    "        \n",
    "        'Время предсказания':[predict_time_cat,predict_time_d]\n",
    "\n",
    "       }\n",
    "som_data = pd.DataFrame(data=data, index=index)\n",
    "display(som_data)"
   ]
  },
  {
   "cell_type": "markdown",
   "metadata": {},
   "source": [
    "**Заметим, что результат тестирования нашей модели на тествой выборке лучше, чем результат константной модели, так как RMSE=3452, а должен быть по ТЗ меньше 2500!**"
   ]
  },
  {
   "cell_type": "markdown",
   "metadata": {
    "id": "ZQki0O0GUSEn"
   },
   "source": [
    "## Итоговый вывод"
   ]
  },
  {
   "cell_type": "markdown",
   "metadata": {
    "id": "OBSCkrNGUSEn"
   },
   "source": [
    "**В данном проекты были проведены следующие действия:**\n",
    "\n",
    "  - Избавились от признаков,не влияющих на целевой, дубликатов, выбрасов;\n",
    "  - Приведены столбцы к нижнему регистру;\n",
    "  - Заполнены пропуски в gearbox,repaired,model, vehicletype, fueltype;\n",
    "  - Корреляционный анализ показал слабую связь между целевым признаком и пробегом(kilometer),  а высокую корреляцию с возрастом автомобиля (registrationyear);\n",
    "  - У модели CatBoost лучшие время предсказания модели и RMSE, но по времени обучения остает от других, что не сказать про LinearRegression, у которой оно быстрее всех. У Linear почти одинаковый резульат RMSE с LGBM, но модель предсказывает дольше всех.;\n",
    "  - Исходя из условий задачи, заказчику важны: качество предсказания,скорость предсказания,время обучения,cледовательно,порядок критериев также учитывает их приоритет, значит лучшая модель CatBoostRegressor;\n",
    "  - Значение метрики RMSE везде меньше 2500;\n",
    "  - Проверили CatBoostRegressor на тестовой выборке;\n",
    "  - На тренировочной выборке RMSE CatBoost = 1274.074160,  а на тестовой = 1284.759719, а результат константной модели показал = 3452.677196 \t."
   ]
  }
 ],
 "metadata": {
  "ExecuteTimeLog": [
   {
    "duration": 44,
    "start_time": "2023-12-26T18:01:20.890Z"
   },
   {
    "duration": 1532,
    "start_time": "2023-12-26T18:01:39.213Z"
   },
   {
    "duration": 1060,
    "start_time": "2023-12-26T18:01:40.747Z"
   },
   {
    "duration": 4,
    "start_time": "2023-12-26T18:01:51.620Z"
   },
   {
    "duration": 809,
    "start_time": "2023-12-26T18:01:51.998Z"
   },
   {
    "duration": 9,
    "start_time": "2023-12-27T16:03:22.183Z"
   },
   {
    "duration": 1572,
    "start_time": "2023-12-27T16:03:25.907Z"
   },
   {
    "duration": 1099,
    "start_time": "2023-12-27T16:03:27.481Z"
   },
   {
    "duration": 4,
    "start_time": "2023-12-27T16:03:30.871Z"
   },
   {
    "duration": 100,
    "start_time": "2023-12-27T16:04:12.097Z"
   },
   {
    "duration": 3,
    "start_time": "2023-12-27T16:04:15.159Z"
   },
   {
    "duration": 833,
    "start_time": "2023-12-27T16:04:16.543Z"
   },
   {
    "duration": 4,
    "start_time": "2023-12-27T16:07:17.847Z"
   },
   {
    "duration": 922,
    "start_time": "2023-12-27T16:07:20.352Z"
   },
   {
    "duration": 48,
    "start_time": "2023-12-27T16:11:04.324Z"
   },
   {
    "duration": 1405,
    "start_time": "2023-12-27T16:11:05.939Z"
   },
   {
    "duration": 833,
    "start_time": "2023-12-27T16:11:19.477Z"
   },
   {
    "duration": 3,
    "start_time": "2023-12-27T16:11:22.109Z"
   },
   {
    "duration": 881,
    "start_time": "2023-12-27T16:11:33.358Z"
   },
   {
    "duration": 3,
    "start_time": "2023-12-27T16:12:11.932Z"
   },
   {
    "duration": 797,
    "start_time": "2023-12-27T16:12:12.310Z"
   },
   {
    "duration": 83,
    "start_time": "2023-12-27T16:12:21.843Z"
   },
   {
    "duration": 299,
    "start_time": "2023-12-27T16:22:16.883Z"
   },
   {
    "duration": 5,
    "start_time": "2023-12-27T16:34:36.915Z"
   },
   {
    "duration": 104,
    "start_time": "2023-12-27T16:46:42.143Z"
   },
   {
    "duration": 107,
    "start_time": "2023-12-27T16:48:03.630Z"
   },
   {
    "duration": 23,
    "start_time": "2023-12-27T16:48:46.208Z"
   },
   {
    "duration": 3,
    "start_time": "2023-12-27T16:49:22.343Z"
   },
   {
    "duration": 463,
    "start_time": "2023-12-27T16:49:46.483Z"
   },
   {
    "duration": 1438,
    "start_time": "2023-12-27T16:59:08.551Z"
   },
   {
    "duration": 947,
    "start_time": "2023-12-27T16:59:13.548Z"
   },
   {
    "duration": 792,
    "start_time": "2023-12-27T16:59:33.297Z"
   },
   {
    "duration": 1193,
    "start_time": "2023-12-27T16:59:52.086Z"
   },
   {
    "duration": 1112,
    "start_time": "2023-12-27T17:01:21.513Z"
   },
   {
    "duration": 1155,
    "start_time": "2023-12-27T17:01:37.984Z"
   },
   {
    "duration": 15,
    "start_time": "2023-12-27T17:04:07.865Z"
   },
   {
    "duration": 27,
    "start_time": "2023-12-27T17:05:20.283Z"
   },
   {
    "duration": 16,
    "start_time": "2023-12-27T17:05:27.449Z"
   },
   {
    "duration": 33,
    "start_time": "2023-12-27T17:05:53.890Z"
   },
   {
    "duration": 15,
    "start_time": "2023-12-27T17:05:54.244Z"
   },
   {
    "duration": 22,
    "start_time": "2023-12-27T17:06:17.456Z"
   },
   {
    "duration": 16,
    "start_time": "2023-12-27T17:06:17.810Z"
   },
   {
    "duration": 23,
    "start_time": "2023-12-27T17:08:25.038Z"
   },
   {
    "duration": 16,
    "start_time": "2023-12-27T17:08:26.519Z"
   },
   {
    "duration": 27,
    "start_time": "2023-12-27T17:09:06.832Z"
   },
   {
    "duration": 17,
    "start_time": "2023-12-27T17:09:07.317Z"
   },
   {
    "duration": 11,
    "start_time": "2023-12-27T17:12:00.991Z"
   },
   {
    "duration": 98,
    "start_time": "2023-12-27T17:12:46.701Z"
   },
   {
    "duration": 57,
    "start_time": "2023-12-27T17:15:14.930Z"
   },
   {
    "duration": 56,
    "start_time": "2023-12-27T17:15:33.204Z"
   },
   {
    "duration": 27,
    "start_time": "2023-12-27T17:15:49.957Z"
   },
   {
    "duration": 13,
    "start_time": "2023-12-27T17:16:33.968Z"
   },
   {
    "duration": 27,
    "start_time": "2023-12-27T17:18:41.942Z"
   },
   {
    "duration": 29,
    "start_time": "2023-12-27T17:18:53.502Z"
   },
   {
    "duration": 12,
    "start_time": "2023-12-27T17:20:50.286Z"
   },
   {
    "duration": 273,
    "start_time": "2023-12-27T17:21:49.500Z"
   },
   {
    "duration": 47,
    "start_time": "2023-12-27T17:22:01.274Z"
   },
   {
    "duration": 37,
    "start_time": "2023-12-27T17:22:10.404Z"
   },
   {
    "duration": 1301,
    "start_time": "2023-12-27T17:22:10.518Z"
   },
   {
    "duration": 854,
    "start_time": "2023-12-27T17:22:11.821Z"
   },
   {
    "duration": 3,
    "start_time": "2023-12-27T17:22:12.677Z"
   },
   {
    "duration": 868,
    "start_time": "2023-12-27T17:22:12.682Z"
   },
   {
    "duration": 338,
    "start_time": "2023-12-27T17:22:13.551Z"
   },
   {
    "duration": 96,
    "start_time": "2023-12-27T17:22:13.890Z"
   },
   {
    "duration": 4,
    "start_time": "2023-12-27T17:22:13.988Z"
   },
   {
    "duration": 19,
    "start_time": "2023-12-27T17:22:13.993Z"
   },
   {
    "duration": 3,
    "start_time": "2023-12-27T17:22:14.014Z"
   },
   {
    "duration": 453,
    "start_time": "2023-12-27T17:22:14.495Z"
   },
   {
    "duration": 1073,
    "start_time": "2023-12-27T17:22:14.949Z"
   },
   {
    "duration": 15,
    "start_time": "2023-12-27T17:22:16.024Z"
   },
   {
    "duration": 32,
    "start_time": "2023-12-27T17:22:16.588Z"
   },
   {
    "duration": 12,
    "start_time": "2023-12-27T17:22:20.948Z"
   },
   {
    "duration": 31,
    "start_time": "2023-12-27T17:22:22.041Z"
   },
   {
    "duration": 242,
    "start_time": "2023-12-27T17:22:22.629Z"
   },
   {
    "duration": 14,
    "start_time": "2023-12-27T17:22:41.207Z"
   },
   {
    "duration": 31,
    "start_time": "2023-12-27T17:23:44.516Z"
   },
   {
    "duration": 27,
    "start_time": "2023-12-27T17:25:40.589Z"
   },
   {
    "duration": 27,
    "start_time": "2023-12-27T17:25:43.540Z"
   },
   {
    "duration": 27,
    "start_time": "2023-12-27T17:25:48.250Z"
   },
   {
    "duration": 12,
    "start_time": "2023-12-27T17:26:21.249Z"
   },
   {
    "duration": 26,
    "start_time": "2023-12-27T17:34:33.328Z"
   },
   {
    "duration": 382,
    "start_time": "2023-12-27T17:37:04.136Z"
   },
   {
    "duration": 79,
    "start_time": "2023-12-27T17:37:16.917Z"
   },
   {
    "duration": 1319,
    "start_time": "2023-12-27T17:37:22.625Z"
   },
   {
    "duration": 37,
    "start_time": "2023-12-27T17:37:23.946Z"
   },
   {
    "duration": 64,
    "start_time": "2023-12-27T17:37:30.287Z"
   },
   {
    "duration": 4,
    "start_time": "2023-12-27T17:37:31.907Z"
   },
   {
    "duration": 902,
    "start_time": "2023-12-27T17:37:32.852Z"
   },
   {
    "duration": 3,
    "start_time": "2023-12-27T17:37:37.414Z"
   },
   {
    "duration": 875,
    "start_time": "2023-12-27T17:37:37.829Z"
   },
   {
    "duration": 364,
    "start_time": "2023-12-27T17:37:38.707Z"
   },
   {
    "duration": 95,
    "start_time": "2023-12-27T17:37:39.184Z"
   },
   {
    "duration": 4,
    "start_time": "2023-12-27T17:37:41.947Z"
   },
   {
    "duration": 17,
    "start_time": "2023-12-27T17:37:45.489Z"
   },
   {
    "duration": 3,
    "start_time": "2023-12-27T17:37:47.449Z"
   },
   {
    "duration": 461,
    "start_time": "2023-12-27T17:37:50.880Z"
   },
   {
    "duration": 187,
    "start_time": "2023-12-27T17:43:33.922Z"
   },
   {
    "duration": 173,
    "start_time": "2023-12-27T17:43:49.305Z"
   },
   {
    "duration": 516,
    "start_time": "2023-12-27T17:45:55.168Z"
   },
   {
    "duration": 1010,
    "start_time": "2023-12-27T17:46:29.173Z"
   },
   {
    "duration": 1007,
    "start_time": "2023-12-27T17:46:52.818Z"
   },
   {
    "duration": 1187,
    "start_time": "2023-12-27T17:47:06.529Z"
   },
   {
    "duration": 1044,
    "start_time": "2023-12-27T17:47:34.196Z"
   },
   {
    "duration": 954,
    "start_time": "2023-12-27T17:49:12.241Z"
   },
   {
    "duration": 1130,
    "start_time": "2023-12-27T17:49:28.665Z"
   },
   {
    "duration": 1012,
    "start_time": "2023-12-27T17:49:39.037Z"
   },
   {
    "duration": 15,
    "start_time": "2023-12-27T17:49:51.242Z"
   },
   {
    "duration": 35,
    "start_time": "2023-12-27T17:49:51.708Z"
   },
   {
    "duration": 11,
    "start_time": "2023-12-27T17:49:52.368Z"
   },
   {
    "duration": 30,
    "start_time": "2023-12-27T17:49:54.370Z"
   },
   {
    "duration": 11,
    "start_time": "2023-12-27T17:49:57.436Z"
   },
   {
    "duration": 28,
    "start_time": "2023-12-27T17:50:27.856Z"
   },
   {
    "duration": 13,
    "start_time": "2023-12-27T17:50:31.281Z"
   },
   {
    "duration": 254,
    "start_time": "2023-12-27T17:50:53.681Z"
   },
   {
    "duration": 25,
    "start_time": "2023-12-27T17:51:43.520Z"
   },
   {
    "duration": 258,
    "start_time": "2023-12-27T17:52:39.770Z"
   },
   {
    "duration": 53,
    "start_time": "2023-12-27T17:56:23.506Z"
   },
   {
    "duration": 1327,
    "start_time": "2023-12-27T17:56:25.816Z"
   },
   {
    "duration": 866,
    "start_time": "2023-12-27T17:56:27.145Z"
   },
   {
    "duration": 3,
    "start_time": "2023-12-27T17:56:28.012Z"
   },
   {
    "duration": 851,
    "start_time": "2023-12-27T17:56:28.017Z"
   },
   {
    "duration": 335,
    "start_time": "2023-12-27T17:56:28.870Z"
   },
   {
    "duration": 95,
    "start_time": "2023-12-27T17:56:29.207Z"
   },
   {
    "duration": 4,
    "start_time": "2023-12-27T17:56:29.304Z"
   },
   {
    "duration": 23,
    "start_time": "2023-12-27T17:56:29.309Z"
   },
   {
    "duration": 4,
    "start_time": "2023-12-27T17:57:59.714Z"
   },
   {
    "duration": 472,
    "start_time": "2023-12-27T17:58:01.005Z"
   },
   {
    "duration": 963,
    "start_time": "2023-12-27T17:58:01.614Z"
   },
   {
    "duration": 16,
    "start_time": "2023-12-27T17:58:02.802Z"
   },
   {
    "duration": 25,
    "start_time": "2023-12-27T17:58:03.678Z"
   },
   {
    "duration": 12,
    "start_time": "2023-12-27T17:58:04.330Z"
   },
   {
    "duration": 30,
    "start_time": "2023-12-27T17:58:04.831Z"
   },
   {
    "duration": 12,
    "start_time": "2023-12-27T17:58:05.360Z"
   },
   {
    "duration": 29,
    "start_time": "2023-12-27T17:58:06.019Z"
   },
   {
    "duration": 12,
    "start_time": "2023-12-27T17:58:07.502Z"
   },
   {
    "duration": 291,
    "start_time": "2023-12-27T17:58:08.203Z"
   },
   {
    "duration": 26,
    "start_time": "2023-12-27T17:58:19.904Z"
   },
   {
    "duration": 52,
    "start_time": "2023-12-27T17:59:35.774Z"
   },
   {
    "duration": 1525,
    "start_time": "2023-12-27T17:59:37.201Z"
   },
   {
    "duration": 863,
    "start_time": "2023-12-27T17:59:38.727Z"
   },
   {
    "duration": 3,
    "start_time": "2023-12-27T17:59:39.591Z"
   },
   {
    "duration": 865,
    "start_time": "2023-12-27T18:03:33.806Z"
   },
   {
    "duration": 301,
    "start_time": "2023-12-27T18:03:36.598Z"
   },
   {
    "duration": 81,
    "start_time": "2023-12-27T18:03:38.372Z"
   },
   {
    "duration": 4,
    "start_time": "2023-12-27T18:03:41.354Z"
   },
   {
    "duration": 17,
    "start_time": "2023-12-27T18:03:42.259Z"
   },
   {
    "duration": 3,
    "start_time": "2023-12-27T18:03:44.074Z"
   },
   {
    "duration": 446,
    "start_time": "2023-12-27T18:03:46.441Z"
   },
   {
    "duration": 955,
    "start_time": "2023-12-27T18:03:49.054Z"
   },
   {
    "duration": 5,
    "start_time": "2023-12-27T18:03:53.876Z"
   },
   {
    "duration": 110,
    "start_time": "2023-12-27T18:04:15.151Z"
   },
   {
    "duration": 5,
    "start_time": "2023-12-27T18:04:43.916Z"
   },
   {
    "duration": 8,
    "start_time": "2023-12-27T18:04:44.247Z"
   },
   {
    "duration": 4,
    "start_time": "2023-12-27T18:05:28.482Z"
   },
   {
    "duration": 321,
    "start_time": "2023-12-27T18:05:28.873Z"
   },
   {
    "duration": 4,
    "start_time": "2023-12-27T18:05:41.506Z"
   },
   {
    "duration": 6230,
    "start_time": "2023-12-27T18:05:41.923Z"
   },
   {
    "duration": 18,
    "start_time": "2023-12-27T18:07:27.244Z"
   },
   {
    "duration": 25,
    "start_time": "2023-12-27T18:07:27.394Z"
   },
   {
    "duration": 15,
    "start_time": "2023-12-27T18:07:27.561Z"
   },
   {
    "duration": 42,
    "start_time": "2023-12-27T18:07:27.716Z"
   },
   {
    "duration": 12,
    "start_time": "2023-12-27T18:07:27.918Z"
   },
   {
    "duration": 28,
    "start_time": "2023-12-27T18:07:28.094Z"
   },
   {
    "duration": 14,
    "start_time": "2023-12-27T18:07:28.509Z"
   },
   {
    "duration": 26,
    "start_time": "2023-12-27T18:07:28.696Z"
   },
   {
    "duration": 11,
    "start_time": "2023-12-27T18:09:04.134Z"
   },
   {
    "duration": 31,
    "start_time": "2023-12-27T18:09:26.670Z"
   },
   {
    "duration": 13,
    "start_time": "2023-12-27T18:10:20.292Z"
   },
   {
    "duration": 12,
    "start_time": "2023-12-27T18:11:24.932Z"
   },
   {
    "duration": 32,
    "start_time": "2023-12-27T18:12:36.724Z"
   },
   {
    "duration": 13,
    "start_time": "2023-12-27T18:13:21.844Z"
   },
   {
    "duration": 12,
    "start_time": "2023-12-27T18:13:46.053Z"
   },
   {
    "duration": 32,
    "start_time": "2023-12-27T18:14:45.153Z"
   },
   {
    "duration": 12,
    "start_time": "2023-12-27T18:15:32.700Z"
   },
   {
    "duration": 33,
    "start_time": "2023-12-27T18:20:05.285Z"
   },
   {
    "duration": 12,
    "start_time": "2023-12-27T18:20:57.556Z"
   },
   {
    "duration": 61,
    "start_time": "2023-12-27T18:26:26.736Z"
   },
   {
    "duration": 35,
    "start_time": "2023-12-27T18:28:05.288Z"
   },
   {
    "duration": 12,
    "start_time": "2023-12-27T18:28:45.283Z"
   },
   {
    "duration": 56,
    "start_time": "2023-12-27T18:28:49.827Z"
   },
   {
    "duration": 51,
    "start_time": "2024-01-06T12:57:16.440Z"
   },
   {
    "duration": 38,
    "start_time": "2024-01-06T12:57:24.610Z"
   },
   {
    "duration": 1735,
    "start_time": "2024-01-06T12:57:26.113Z"
   },
   {
    "duration": 1185,
    "start_time": "2024-01-06T12:57:37.772Z"
   },
   {
    "duration": 4,
    "start_time": "2024-01-06T12:57:38.959Z"
   },
   {
    "duration": 975,
    "start_time": "2024-01-06T12:57:38.964Z"
   },
   {
    "duration": 364,
    "start_time": "2024-01-06T12:57:39.941Z"
   },
   {
    "duration": 105,
    "start_time": "2024-01-06T12:57:40.307Z"
   },
   {
    "duration": 5,
    "start_time": "2024-01-06T12:57:40.422Z"
   },
   {
    "duration": 17,
    "start_time": "2024-01-06T12:57:40.428Z"
   },
   {
    "duration": 4,
    "start_time": "2024-01-06T12:57:40.447Z"
   },
   {
    "duration": 532,
    "start_time": "2024-01-06T12:57:40.453Z"
   },
   {
    "duration": 1115,
    "start_time": "2024-01-06T12:57:40.987Z"
   },
   {
    "duration": 28,
    "start_time": "2024-01-06T12:57:42.104Z"
   },
   {
    "duration": 26,
    "start_time": "2024-01-06T12:57:42.133Z"
   },
   {
    "duration": 12,
    "start_time": "2024-01-06T12:57:42.161Z"
   },
   {
    "duration": 51,
    "start_time": "2024-01-06T12:57:42.175Z"
   },
   {
    "duration": 13,
    "start_time": "2024-01-06T12:57:42.228Z"
   },
   {
    "duration": 29,
    "start_time": "2024-01-06T12:57:42.242Z"
   },
   {
    "duration": 14,
    "start_time": "2024-01-06T12:57:42.273Z"
   },
   {
    "duration": 55,
    "start_time": "2024-01-06T12:57:42.289Z"
   },
   {
    "duration": 37,
    "start_time": "2024-01-06T12:57:42.378Z"
   },
   {
    "duration": 14,
    "start_time": "2024-01-06T12:57:42.548Z"
   },
   {
    "duration": 14,
    "start_time": "2024-01-06T12:57:42.700Z"
   },
   {
    "duration": 34,
    "start_time": "2024-01-06T12:57:42.877Z"
   },
   {
    "duration": 14,
    "start_time": "2024-01-06T12:57:43.053Z"
   },
   {
    "duration": 37,
    "start_time": "2024-01-06T12:57:43.249Z"
   },
   {
    "duration": 14,
    "start_time": "2024-01-06T12:57:43.420Z"
   },
   {
    "duration": 37,
    "start_time": "2024-01-06T12:57:43.608Z"
   },
   {
    "duration": 13,
    "start_time": "2024-01-06T12:57:43.775Z"
   },
   {
    "duration": 39,
    "start_time": "2024-01-06T12:57:43.932Z"
   },
   {
    "duration": 13,
    "start_time": "2024-01-06T12:57:44.142Z"
   },
   {
    "duration": 70,
    "start_time": "2024-01-06T12:57:44.914Z"
   },
   {
    "duration": 500,
    "start_time": "2024-01-06T13:00:05.129Z"
   },
   {
    "duration": 7,
    "start_time": "2024-01-06T13:04:26.642Z"
   },
   {
    "duration": 54,
    "start_time": "2024-01-06T13:04:36.209Z"
   },
   {
    "duration": 33,
    "start_time": "2024-01-06T13:04:43.043Z"
   },
   {
    "duration": 1536,
    "start_time": "2024-01-06T13:04:43.214Z"
   },
   {
    "duration": 950,
    "start_time": "2024-01-06T13:04:44.752Z"
   },
   {
    "duration": 4,
    "start_time": "2024-01-06T13:04:45.703Z"
   },
   {
    "duration": 986,
    "start_time": "2024-01-06T13:04:45.709Z"
   },
   {
    "duration": 391,
    "start_time": "2024-01-06T13:04:46.697Z"
   },
   {
    "duration": 113,
    "start_time": "2024-01-06T13:04:47.090Z"
   },
   {
    "duration": 5,
    "start_time": "2024-01-06T13:04:47.205Z"
   },
   {
    "duration": 25,
    "start_time": "2024-01-06T13:04:47.212Z"
   },
   {
    "duration": 4,
    "start_time": "2024-01-06T13:04:47.238Z"
   },
   {
    "duration": 542,
    "start_time": "2024-01-06T13:04:47.244Z"
   },
   {
    "duration": 1140,
    "start_time": "2024-01-06T13:04:47.787Z"
   },
   {
    "duration": 18,
    "start_time": "2024-01-06T13:04:48.928Z"
   },
   {
    "duration": 26,
    "start_time": "2024-01-06T13:04:48.948Z"
   },
   {
    "duration": 14,
    "start_time": "2024-01-06T13:04:48.976Z"
   },
   {
    "duration": 56,
    "start_time": "2024-01-06T13:04:48.991Z"
   },
   {
    "duration": 7,
    "start_time": "2024-01-06T13:04:49.049Z"
   },
   {
    "duration": 14,
    "start_time": "2024-01-06T13:04:49.058Z"
   },
   {
    "duration": 54,
    "start_time": "2024-01-06T13:04:49.074Z"
   },
   {
    "duration": 14,
    "start_time": "2024-01-06T13:04:49.129Z"
   },
   {
    "duration": 29,
    "start_time": "2024-01-06T13:04:49.145Z"
   },
   {
    "duration": 60,
    "start_time": "2024-01-06T13:04:49.176Z"
   },
   {
    "duration": 14,
    "start_time": "2024-01-06T13:04:49.237Z"
   },
   {
    "duration": 14,
    "start_time": "2024-01-06T13:04:49.254Z"
   },
   {
    "duration": 57,
    "start_time": "2024-01-06T13:04:49.270Z"
   },
   {
    "duration": 15,
    "start_time": "2024-01-06T13:04:49.329Z"
   },
   {
    "duration": 62,
    "start_time": "2024-01-06T13:04:49.475Z"
   },
   {
    "duration": 14,
    "start_time": "2024-01-06T13:04:49.683Z"
   },
   {
    "duration": 36,
    "start_time": "2024-01-06T13:04:49.790Z"
   },
   {
    "duration": 15,
    "start_time": "2024-01-06T13:04:49.972Z"
   },
   {
    "duration": 36,
    "start_time": "2024-01-06T13:04:50.155Z"
   },
   {
    "duration": 14,
    "start_time": "2024-01-06T13:04:50.335Z"
   },
   {
    "duration": 76,
    "start_time": "2024-01-06T13:04:50.607Z"
   },
   {
    "duration": 130,
    "start_time": "2024-01-06T13:09:33.440Z"
   },
   {
    "duration": 21,
    "start_time": "2024-01-06T13:10:06.844Z"
   },
   {
    "duration": 438,
    "start_time": "2024-01-06T13:10:18.367Z"
   },
   {
    "duration": 410,
    "start_time": "2024-01-06T13:11:20.790Z"
   },
   {
    "duration": 418,
    "start_time": "2024-01-06T13:12:57.760Z"
   },
   {
    "duration": 418,
    "start_time": "2024-01-06T13:13:12.175Z"
   },
   {
    "duration": 9,
    "start_time": "2024-01-06T13:17:10.830Z"
   },
   {
    "duration": 19,
    "start_time": "2024-01-06T13:17:15.055Z"
   },
   {
    "duration": 13,
    "start_time": "2024-01-06T13:18:15.378Z"
   },
   {
    "duration": 64,
    "start_time": "2024-01-06T13:18:42.297Z"
   },
   {
    "duration": 15,
    "start_time": "2024-01-06T13:19:35.268Z"
   },
   {
    "duration": 104,
    "start_time": "2024-01-06T13:26:30.893Z"
   },
   {
    "duration": 53,
    "start_time": "2024-01-06T13:27:05.591Z"
   },
   {
    "duration": 1511,
    "start_time": "2024-01-06T13:27:08.145Z"
   },
   {
    "duration": 952,
    "start_time": "2024-01-06T13:27:09.658Z"
   },
   {
    "duration": 4,
    "start_time": "2024-01-06T13:27:10.612Z"
   },
   {
    "duration": 984,
    "start_time": "2024-01-06T13:27:10.623Z"
   },
   {
    "duration": 364,
    "start_time": "2024-01-06T13:27:11.609Z"
   },
   {
    "duration": 110,
    "start_time": "2024-01-06T13:27:11.975Z"
   },
   {
    "duration": 4,
    "start_time": "2024-01-06T13:27:12.087Z"
   },
   {
    "duration": 29,
    "start_time": "2024-01-06T13:27:12.093Z"
   },
   {
    "duration": 4,
    "start_time": "2024-01-06T13:27:12.125Z"
   },
   {
    "duration": 520,
    "start_time": "2024-01-06T13:27:12.131Z"
   },
   {
    "duration": 1110,
    "start_time": "2024-01-06T13:27:12.653Z"
   },
   {
    "duration": 18,
    "start_time": "2024-01-06T13:27:13.764Z"
   },
   {
    "duration": 50,
    "start_time": "2024-01-06T13:27:13.784Z"
   },
   {
    "duration": 13,
    "start_time": "2024-01-06T13:27:13.836Z"
   },
   {
    "duration": 33,
    "start_time": "2024-01-06T13:27:13.850Z"
   },
   {
    "duration": 8,
    "start_time": "2024-01-06T13:27:13.885Z"
   },
   {
    "duration": 40,
    "start_time": "2024-01-06T13:27:13.894Z"
   },
   {
    "duration": 29,
    "start_time": "2024-01-06T13:27:13.937Z"
   },
   {
    "duration": 14,
    "start_time": "2024-01-06T13:27:13.968Z"
   },
   {
    "duration": 54,
    "start_time": "2024-01-06T13:27:13.984Z"
   },
   {
    "duration": 37,
    "start_time": "2024-01-06T13:27:14.039Z"
   },
   {
    "duration": 13,
    "start_time": "2024-01-06T13:27:14.078Z"
   },
   {
    "duration": 32,
    "start_time": "2024-01-06T13:27:14.093Z"
   },
   {
    "duration": 35,
    "start_time": "2024-01-06T13:27:14.126Z"
   },
   {
    "duration": 13,
    "start_time": "2024-01-06T13:27:14.163Z"
   },
   {
    "duration": 60,
    "start_time": "2024-01-06T13:27:14.178Z"
   },
   {
    "duration": 12,
    "start_time": "2024-01-06T13:27:14.239Z"
   },
   {
    "duration": 35,
    "start_time": "2024-01-06T13:27:14.254Z"
   },
   {
    "duration": 32,
    "start_time": "2024-01-06T13:27:14.290Z"
   },
   {
    "duration": 37,
    "start_time": "2024-01-06T13:27:14.359Z"
   },
   {
    "duration": 14,
    "start_time": "2024-01-06T13:27:14.548Z"
   },
   {
    "duration": 66,
    "start_time": "2024-01-06T13:27:14.730Z"
   },
   {
    "duration": 410,
    "start_time": "2024-01-06T13:27:14.929Z"
   },
   {
    "duration": 153,
    "start_time": "2024-01-06T13:27:17.106Z"
   },
   {
    "duration": 17,
    "start_time": "2024-01-06T13:27:27.209Z"
   },
   {
    "duration": 158,
    "start_time": "2024-01-06T13:27:29.400Z"
   },
   {
    "duration": 463,
    "start_time": "2024-01-06T13:28:26.738Z"
   },
   {
    "duration": 997,
    "start_time": "2024-01-06T13:28:34.253Z"
   },
   {
    "duration": 48,
    "start_time": "2024-01-06T13:29:17.931Z"
   },
   {
    "duration": 11,
    "start_time": "2024-01-06T13:35:41.178Z"
   },
   {
    "duration": 34,
    "start_time": "2024-01-06T13:36:21.890Z"
   },
   {
    "duration": 54,
    "start_time": "2024-01-06T13:36:31.229Z"
   },
   {
    "duration": 1590,
    "start_time": "2024-01-06T13:36:33.208Z"
   },
   {
    "duration": 1026,
    "start_time": "2024-01-06T13:36:34.800Z"
   },
   {
    "duration": 4,
    "start_time": "2024-01-06T13:36:35.827Z"
   },
   {
    "duration": 974,
    "start_time": "2024-01-06T13:36:35.833Z"
   },
   {
    "duration": 372,
    "start_time": "2024-01-06T13:36:36.809Z"
   },
   {
    "duration": 109,
    "start_time": "2024-01-06T13:36:37.182Z"
   },
   {
    "duration": 4,
    "start_time": "2024-01-06T13:36:37.293Z"
   },
   {
    "duration": 36,
    "start_time": "2024-01-06T13:36:37.299Z"
   },
   {
    "duration": 9,
    "start_time": "2024-01-06T13:36:37.337Z"
   },
   {
    "duration": 539,
    "start_time": "2024-01-06T13:36:37.349Z"
   },
   {
    "duration": 1081,
    "start_time": "2024-01-06T13:36:37.889Z"
   },
   {
    "duration": 17,
    "start_time": "2024-01-06T13:36:38.972Z"
   },
   {
    "duration": 40,
    "start_time": "2024-01-06T13:36:38.990Z"
   },
   {
    "duration": 13,
    "start_time": "2024-01-06T13:36:39.031Z"
   },
   {
    "duration": 33,
    "start_time": "2024-01-06T13:36:39.046Z"
   },
   {
    "duration": 7,
    "start_time": "2024-01-06T13:36:39.081Z"
   },
   {
    "duration": 40,
    "start_time": "2024-01-06T13:36:39.090Z"
   },
   {
    "duration": 30,
    "start_time": "2024-01-06T13:36:39.132Z"
   },
   {
    "duration": 14,
    "start_time": "2024-01-06T13:36:39.164Z"
   },
   {
    "duration": 54,
    "start_time": "2024-01-06T13:36:39.180Z"
   },
   {
    "duration": 35,
    "start_time": "2024-01-06T13:36:39.236Z"
   },
   {
    "duration": 31,
    "start_time": "2024-01-06T13:36:39.273Z"
   },
   {
    "duration": 24,
    "start_time": "2024-01-06T13:36:39.305Z"
   },
   {
    "duration": 52,
    "start_time": "2024-01-06T13:36:39.331Z"
   },
   {
    "duration": 20,
    "start_time": "2024-01-06T13:36:39.386Z"
   },
   {
    "duration": 56,
    "start_time": "2024-01-06T13:36:39.408Z"
   },
   {
    "duration": 15,
    "start_time": "2024-01-06T13:36:39.466Z"
   },
   {
    "duration": 42,
    "start_time": "2024-01-06T13:36:39.482Z"
   },
   {
    "duration": 15,
    "start_time": "2024-01-06T13:36:39.525Z"
   },
   {
    "duration": 60,
    "start_time": "2024-01-06T13:36:39.541Z"
   },
   {
    "duration": 29,
    "start_time": "2024-01-06T13:36:39.602Z"
   },
   {
    "duration": 70,
    "start_time": "2024-01-06T13:36:39.633Z"
   },
   {
    "duration": 404,
    "start_time": "2024-01-06T13:36:39.704Z"
   },
   {
    "duration": 22,
    "start_time": "2024-01-06T13:36:40.109Z"
   },
   {
    "duration": 1070,
    "start_time": "2024-01-06T13:36:40.133Z"
   },
   {
    "duration": 53,
    "start_time": "2024-01-06T13:36:41.205Z"
   },
   {
    "duration": 32,
    "start_time": "2024-01-06T13:36:41.260Z"
   },
   {
    "duration": 57,
    "start_time": "2024-01-06T13:38:27.172Z"
   },
   {
    "duration": 4,
    "start_time": "2024-01-06T13:39:05.868Z"
   },
   {
    "duration": 52,
    "start_time": "2024-01-06T13:39:46.402Z"
   },
   {
    "duration": 1589,
    "start_time": "2024-01-06T13:39:47.751Z"
   },
   {
    "duration": 1020,
    "start_time": "2024-01-06T13:39:49.342Z"
   },
   {
    "duration": 4,
    "start_time": "2024-01-06T13:39:50.364Z"
   },
   {
    "duration": 1070,
    "start_time": "2024-01-06T13:39:50.369Z"
   },
   {
    "duration": 369,
    "start_time": "2024-01-06T13:39:51.442Z"
   },
   {
    "duration": 118,
    "start_time": "2024-01-06T13:39:51.812Z"
   },
   {
    "duration": 5,
    "start_time": "2024-01-06T13:39:51.932Z"
   },
   {
    "duration": 52,
    "start_time": "2024-01-06T13:39:51.939Z"
   },
   {
    "duration": 10,
    "start_time": "2024-01-06T13:39:51.993Z"
   },
   {
    "duration": 552,
    "start_time": "2024-01-06T13:39:52.005Z"
   },
   {
    "duration": 1100,
    "start_time": "2024-01-06T13:39:52.560Z"
   },
   {
    "duration": 19,
    "start_time": "2024-01-06T13:39:53.661Z"
   },
   {
    "duration": 52,
    "start_time": "2024-01-06T13:39:53.682Z"
   },
   {
    "duration": 15,
    "start_time": "2024-01-06T13:39:53.736Z"
   },
   {
    "duration": 35,
    "start_time": "2024-01-06T13:39:53.753Z"
   },
   {
    "duration": 33,
    "start_time": "2024-01-06T13:39:53.790Z"
   },
   {
    "duration": 13,
    "start_time": "2024-01-06T13:39:53.825Z"
   },
   {
    "duration": 28,
    "start_time": "2024-01-06T13:39:53.841Z"
   },
   {
    "duration": 13,
    "start_time": "2024-01-06T13:39:53.871Z"
   },
   {
    "duration": 59,
    "start_time": "2024-01-06T13:39:53.886Z"
   },
   {
    "duration": 35,
    "start_time": "2024-01-06T13:39:53.946Z"
   },
   {
    "duration": 14,
    "start_time": "2024-01-06T13:39:53.983Z"
   },
   {
    "duration": 30,
    "start_time": "2024-01-06T13:39:53.998Z"
   },
   {
    "duration": 58,
    "start_time": "2024-01-06T13:39:54.030Z"
   },
   {
    "duration": 17,
    "start_time": "2024-01-06T13:39:54.091Z"
   },
   {
    "duration": 36,
    "start_time": "2024-01-06T13:39:54.133Z"
   },
   {
    "duration": 13,
    "start_time": "2024-01-06T13:39:54.340Z"
   },
   {
    "duration": 38,
    "start_time": "2024-01-06T13:39:54.761Z"
   },
   {
    "duration": 25,
    "start_time": "2024-01-06T13:39:54.801Z"
   },
   {
    "duration": 37,
    "start_time": "2024-01-06T13:39:55.084Z"
   },
   {
    "duration": 13,
    "start_time": "2024-01-06T13:39:55.142Z"
   },
   {
    "duration": 73,
    "start_time": "2024-01-06T13:39:55.716Z"
   },
   {
    "duration": 424,
    "start_time": "2024-01-06T13:39:55.901Z"
   },
   {
    "duration": 17,
    "start_time": "2024-01-06T13:39:57.718Z"
   },
   {
    "duration": 1021,
    "start_time": "2024-01-06T13:39:59.931Z"
   },
   {
    "duration": 47,
    "start_time": "2024-01-06T13:40:00.954Z"
   },
   {
    "duration": 125,
    "start_time": "2024-01-06T13:40:01.999Z"
   },
   {
    "duration": 5,
    "start_time": "2024-01-06T13:40:06.100Z"
   },
   {
    "duration": 6,
    "start_time": "2024-01-06T13:40:35.040Z"
   },
   {
    "duration": 5,
    "start_time": "2024-01-06T13:40:41.468Z"
   },
   {
    "duration": 807,
    "start_time": "2024-01-06T14:18:32.000Z"
   },
   {
    "duration": 10,
    "start_time": "2024-01-06T14:20:42.993Z"
   },
   {
    "duration": 165078,
    "start_time": "2024-01-06T14:21:12.476Z"
   },
   {
    "duration": 2,
    "start_time": "2024-01-06T14:23:57.557Z"
   },
   {
    "duration": 165065,
    "start_time": "2024-01-06T14:23:58.804Z"
   },
   {
    "duration": 12,
    "start_time": "2024-01-06T14:26:43.871Z"
   },
   {
    "duration": 1976,
    "start_time": "2024-01-06T14:27:11.442Z"
   },
   {
    "duration": 167492,
    "start_time": "2024-01-06T14:30:00.370Z"
   },
   {
    "duration": 163627,
    "start_time": "2024-01-06T14:40:51.979Z"
   },
   {
    "duration": 18172,
    "start_time": "2024-01-06T14:44:23.020Z"
   },
   {
    "duration": 17812,
    "start_time": "2024-01-06T14:47:00.825Z"
   },
   {
    "duration": 17796,
    "start_time": "2024-01-06T14:48:38.328Z"
   },
   {
    "duration": 17812,
    "start_time": "2024-01-06T14:49:18.389Z"
   },
   {
    "duration": 17809,
    "start_time": "2024-01-06T14:49:47.777Z"
   },
   {
    "duration": 17856,
    "start_time": "2024-01-06T14:50:59.706Z"
   },
   {
    "duration": 54,
    "start_time": "2024-01-06T14:52:01.878Z"
   },
   {
    "duration": 48,
    "start_time": "2024-01-06T14:52:09.395Z"
   },
   {
    "duration": 47,
    "start_time": "2024-01-06T14:52:16.592Z"
   },
   {
    "duration": 16,
    "start_time": "2024-01-06T15:05:08.668Z"
   },
   {
    "duration": 12,
    "start_time": "2024-01-06T15:05:18.285Z"
   },
   {
    "duration": 13,
    "start_time": "2024-01-06T15:05:49.859Z"
   },
   {
    "duration": 13,
    "start_time": "2024-01-06T15:06:12.598Z"
   },
   {
    "duration": 301478,
    "start_time": "2024-01-06T15:06:28.349Z"
   },
   {
    "duration": 58,
    "start_time": "2024-01-06T15:33:50.820Z"
   },
   {
    "duration": 1531,
    "start_time": "2024-01-06T15:33:52.657Z"
   },
   {
    "duration": 1065,
    "start_time": "2024-01-06T15:34:00.844Z"
   },
   {
    "duration": 4,
    "start_time": "2024-01-06T15:34:01.911Z"
   },
   {
    "duration": 1044,
    "start_time": "2024-01-06T15:34:01.923Z"
   },
   {
    "duration": 367,
    "start_time": "2024-01-06T15:34:02.969Z"
   },
   {
    "duration": 108,
    "start_time": "2024-01-06T15:34:03.338Z"
   },
   {
    "duration": 5,
    "start_time": "2024-01-06T15:34:03.448Z"
   },
   {
    "duration": 115,
    "start_time": "2024-01-06T15:34:03.454Z"
   },
   {
    "duration": 63,
    "start_time": "2024-01-06T15:34:03.571Z"
   },
   {
    "duration": 566,
    "start_time": "2024-01-06T15:34:04.973Z"
   },
   {
    "duration": 1113,
    "start_time": "2024-01-06T15:34:05.541Z"
   },
   {
    "duration": 17,
    "start_time": "2024-01-06T15:34:06.656Z"
   },
   {
    "duration": 61,
    "start_time": "2024-01-06T15:34:06.675Z"
   },
   {
    "duration": 13,
    "start_time": "2024-01-06T15:34:06.999Z"
   },
   {
    "duration": 35,
    "start_time": "2024-01-06T15:34:07.433Z"
   },
   {
    "duration": 10,
    "start_time": "2024-01-06T15:34:07.535Z"
   },
   {
    "duration": 14,
    "start_time": "2024-01-06T15:34:07.704Z"
   },
   {
    "duration": 35,
    "start_time": "2024-01-06T15:34:07.900Z"
   },
   {
    "duration": 14,
    "start_time": "2024-01-06T15:34:08.095Z"
   },
   {
    "duration": 28,
    "start_time": "2024-01-06T15:34:08.288Z"
   },
   {
    "duration": 36,
    "start_time": "2024-01-06T15:34:08.475Z"
   },
   {
    "duration": 14,
    "start_time": "2024-01-06T15:34:08.651Z"
   },
   {
    "duration": 15,
    "start_time": "2024-01-06T15:34:08.889Z"
   },
   {
    "duration": 35,
    "start_time": "2024-01-06T15:34:09.066Z"
   },
   {
    "duration": 16,
    "start_time": "2024-01-06T15:34:09.534Z"
   },
   {
    "duration": 36,
    "start_time": "2024-01-06T15:34:09.735Z"
   },
   {
    "duration": 22,
    "start_time": "2024-01-06T15:34:09.919Z"
   },
   {
    "duration": 36,
    "start_time": "2024-01-06T15:34:10.142Z"
   },
   {
    "duration": 14,
    "start_time": "2024-01-06T15:34:10.368Z"
   },
   {
    "duration": 40,
    "start_time": "2024-01-06T15:34:10.742Z"
   },
   {
    "duration": 14,
    "start_time": "2024-01-06T15:34:11.361Z"
   },
   {
    "duration": 66,
    "start_time": "2024-01-06T15:34:11.733Z"
   },
   {
    "duration": 469,
    "start_time": "2024-01-06T15:34:14.971Z"
   },
   {
    "duration": 29,
    "start_time": "2024-01-06T15:34:16.202Z"
   },
   {
    "duration": 1065,
    "start_time": "2024-01-06T15:34:16.545Z"
   },
   {
    "duration": 128,
    "start_time": "2024-01-06T15:34:24.314Z"
   },
   {
    "duration": 56,
    "start_time": "2024-01-06T15:34:46.185Z"
   },
   {
    "duration": 53,
    "start_time": "2024-01-06T15:34:47.701Z"
   },
   {
    "duration": 4,
    "start_time": "2024-01-06T15:34:52.817Z"
   },
   {
    "duration": 2,
    "start_time": "2024-01-06T15:35:06.616Z"
   },
   {
    "duration": 172294,
    "start_time": "2024-01-06T15:35:07.358Z"
   },
   {
    "duration": 18587,
    "start_time": "2024-01-06T15:38:13.256Z"
   },
   {
    "duration": 53,
    "start_time": "2024-01-06T15:38:42.486Z"
   },
   {
    "duration": 508760,
    "start_time": "2024-01-06T15:40:52.889Z"
   },
   {
    "duration": 0,
    "start_time": "2024-01-06T15:49:21.651Z"
   },
   {
    "duration": 4,
    "start_time": "2024-01-06T15:49:28.033Z"
   },
   {
    "duration": 0,
    "start_time": "2024-01-06T15:56:40.948Z"
   },
   {
    "duration": 46,
    "start_time": "2024-01-07T17:29:50.651Z"
   },
   {
    "duration": 1693,
    "start_time": "2024-01-07T17:29:52.409Z"
   },
   {
    "duration": 1096,
    "start_time": "2024-01-07T17:29:54.104Z"
   },
   {
    "duration": 3,
    "start_time": "2024-01-07T17:29:55.202Z"
   },
   {
    "duration": 853,
    "start_time": "2024-01-07T17:29:55.207Z"
   },
   {
    "duration": 345,
    "start_time": "2024-01-07T17:29:56.062Z"
   },
   {
    "duration": 96,
    "start_time": "2024-01-07T17:29:56.409Z"
   },
   {
    "duration": 4,
    "start_time": "2024-01-07T17:29:56.506Z"
   },
   {
    "duration": 31,
    "start_time": "2024-01-07T17:29:56.511Z"
   },
   {
    "duration": 3,
    "start_time": "2024-01-07T17:29:56.544Z"
   },
   {
    "duration": 462,
    "start_time": "2024-01-07T17:29:56.549Z"
   },
   {
    "duration": 1008,
    "start_time": "2024-01-07T17:29:57.012Z"
   },
   {
    "duration": 24,
    "start_time": "2024-01-07T17:29:58.021Z"
   },
   {
    "duration": 24,
    "start_time": "2024-01-07T17:29:58.047Z"
   },
   {
    "duration": 12,
    "start_time": "2024-01-07T17:29:58.073Z"
   },
   {
    "duration": 32,
    "start_time": "2024-01-07T17:29:58.086Z"
   },
   {
    "duration": 27,
    "start_time": "2024-01-07T17:29:58.119Z"
   },
   {
    "duration": 13,
    "start_time": "2024-01-07T17:29:58.148Z"
   },
   {
    "duration": 43,
    "start_time": "2024-01-07T17:29:58.162Z"
   },
   {
    "duration": 12,
    "start_time": "2024-01-07T17:29:58.207Z"
   },
   {
    "duration": 44,
    "start_time": "2024-01-07T17:29:58.221Z"
   },
   {
    "duration": 35,
    "start_time": "2024-01-07T17:29:58.266Z"
   },
   {
    "duration": 14,
    "start_time": "2024-01-07T17:29:58.302Z"
   },
   {
    "duration": 15,
    "start_time": "2024-01-07T17:29:58.341Z"
   },
   {
    "duration": 46,
    "start_time": "2024-01-07T17:29:58.358Z"
   },
   {
    "duration": 15,
    "start_time": "2024-01-07T17:29:58.406Z"
   },
   {
    "duration": 53,
    "start_time": "2024-01-07T17:29:58.422Z"
   },
   {
    "duration": 13,
    "start_time": "2024-01-07T17:29:58.477Z"
   },
   {
    "duration": 51,
    "start_time": "2024-01-07T17:29:58.492Z"
   },
   {
    "duration": 13,
    "start_time": "2024-01-07T17:29:58.546Z"
   },
   {
    "duration": 47,
    "start_time": "2024-01-07T17:29:58.561Z"
   },
   {
    "duration": 13,
    "start_time": "2024-01-07T17:29:58.610Z"
   },
   {
    "duration": 81,
    "start_time": "2024-01-07T17:29:58.625Z"
   },
   {
    "duration": 443,
    "start_time": "2024-01-07T17:29:58.708Z"
   },
   {
    "duration": 15,
    "start_time": "2024-01-07T17:29:59.153Z"
   },
   {
    "duration": 936,
    "start_time": "2024-01-07T17:29:59.902Z"
   },
   {
    "duration": 46,
    "start_time": "2024-01-07T17:30:00.839Z"
   },
   {
    "duration": 77,
    "start_time": "2024-01-07T17:30:01.166Z"
   },
   {
    "duration": 4,
    "start_time": "2024-01-07T17:30:01.554Z"
   },
   {
    "duration": 2,
    "start_time": "2024-01-07T17:30:02.638Z"
   },
   {
    "duration": 152492,
    "start_time": "2024-01-07T17:30:03.079Z"
   },
   {
    "duration": 15949,
    "start_time": "2024-01-07T17:32:35.573Z"
   },
   {
    "duration": 45,
    "start_time": "2024-01-07T17:32:51.523Z"
   },
   {
    "duration": 5839,
    "start_time": "2024-01-07T17:33:04.960Z"
   },
   {
    "duration": 5,
    "start_time": "2024-01-07T17:33:12.994Z"
   },
   {
    "duration": 237848,
    "start_time": "2024-01-07T17:34:17.507Z"
   },
   {
    "duration": 9245,
    "start_time": "2024-01-07T17:44:36.399Z"
   },
   {
    "duration": 9188,
    "start_time": "2024-01-07T17:46:38.662Z"
   },
   {
    "duration": 439,
    "start_time": "2024-01-07T17:46:55.304Z"
   },
   {
    "duration": 343,
    "start_time": "2024-01-07T17:47:03.807Z"
   },
   {
    "duration": 8807,
    "start_time": "2024-01-07T17:47:25.748Z"
   },
   {
    "duration": 413,
    "start_time": "2024-01-07T17:48:16.730Z"
   },
   {
    "duration": 10,
    "start_time": "2024-01-07T17:48:48.032Z"
   },
   {
    "duration": 4,
    "start_time": "2024-01-07T17:48:54.086Z"
   },
   {
    "duration": 11,
    "start_time": "2024-01-07T18:04:26.609Z"
   },
   {
    "duration": 10,
    "start_time": "2024-01-07T18:04:27.985Z"
   },
   {
    "duration": 1637,
    "start_time": "2024-01-07T18:05:11.724Z"
   },
   {
    "duration": 44,
    "start_time": "2024-01-07T18:05:40.417Z"
   },
   {
    "duration": 1410,
    "start_time": "2024-01-07T18:05:41.795Z"
   },
   {
    "duration": 889,
    "start_time": "2024-01-07T18:05:43.434Z"
   },
   {
    "duration": 4,
    "start_time": "2024-01-07T18:05:45.016Z"
   },
   {
    "duration": 843,
    "start_time": "2024-01-07T18:05:46.382Z"
   },
   {
    "duration": 322,
    "start_time": "2024-01-07T18:05:47.227Z"
   },
   {
    "duration": 97,
    "start_time": "2024-01-07T18:05:47.551Z"
   },
   {
    "duration": 5,
    "start_time": "2024-01-07T18:05:49.240Z"
   },
   {
    "duration": 16,
    "start_time": "2024-01-07T18:05:50.035Z"
   },
   {
    "duration": 4,
    "start_time": "2024-01-07T18:05:50.859Z"
   },
   {
    "duration": 469,
    "start_time": "2024-01-07T18:05:51.166Z"
   },
   {
    "duration": 1007,
    "start_time": "2024-01-07T18:05:52.701Z"
   },
   {
    "duration": 16,
    "start_time": "2024-01-07T18:05:53.709Z"
   },
   {
    "duration": 26,
    "start_time": "2024-01-07T18:06:27.335Z"
   },
   {
    "duration": 25,
    "start_time": "2024-01-07T18:06:41.019Z"
   },
   {
    "duration": 581,
    "start_time": "2024-01-07T18:06:42.887Z"
   },
   {
    "duration": 13,
    "start_time": "2024-01-07T18:06:49.156Z"
   },
   {
    "duration": 38,
    "start_time": "2024-01-07T18:07:16.401Z"
   },
   {
    "duration": 9,
    "start_time": "2024-01-07T18:08:00.069Z"
   },
   {
    "duration": 14,
    "start_time": "2024-01-07T18:08:01.306Z"
   },
   {
    "duration": 107,
    "start_time": "2024-01-07T18:09:28.791Z"
   },
   {
    "duration": 10,
    "start_time": "2024-01-07T18:09:32.682Z"
   },
   {
    "duration": 34,
    "start_time": "2024-01-07T18:09:53.781Z"
   },
   {
    "duration": 14,
    "start_time": "2024-01-07T18:10:14.697Z"
   },
   {
    "duration": 9,
    "start_time": "2024-01-07T18:10:35.706Z"
   },
   {
    "duration": 30,
    "start_time": "2024-01-07T18:12:17.550Z"
   },
   {
    "duration": 30,
    "start_time": "2024-01-07T18:13:02.442Z"
   },
   {
    "duration": 38,
    "start_time": "2024-01-07T18:13:18.866Z"
   },
   {
    "duration": 14,
    "start_time": "2024-01-07T18:13:21.308Z"
   },
   {
    "duration": 14,
    "start_time": "2024-01-07T18:14:19.964Z"
   },
   {
    "duration": 42,
    "start_time": "2024-01-07T18:14:34.343Z"
   },
   {
    "duration": 15,
    "start_time": "2024-01-07T18:15:11.533Z"
   },
   {
    "duration": 41,
    "start_time": "2024-01-07T18:15:12.432Z"
   },
   {
    "duration": 15,
    "start_time": "2024-01-07T18:15:48.704Z"
   },
   {
    "duration": 38,
    "start_time": "2024-01-07T18:15:49.708Z"
   },
   {
    "duration": 14,
    "start_time": "2024-01-07T18:16:19.456Z"
   },
   {
    "duration": 39,
    "start_time": "2024-01-07T18:16:20.239Z"
   },
   {
    "duration": 14,
    "start_time": "2024-01-07T18:16:23.195Z"
   },
   {
    "duration": 97,
    "start_time": "2024-01-07T18:16:32.381Z"
   },
   {
    "duration": 14,
    "start_time": "2024-01-07T18:16:37.683Z"
   },
   {
    "duration": 68,
    "start_time": "2024-01-07T18:16:39.435Z"
   },
   {
    "duration": 410,
    "start_time": "2024-01-07T18:16:41.867Z"
   },
   {
    "duration": 385,
    "start_time": "2024-01-07T18:20:22.023Z"
   },
   {
    "duration": 17,
    "start_time": "2024-01-07T18:25:16.107Z"
   },
   {
    "duration": 1105,
    "start_time": "2024-01-07T18:25:16.548Z"
   },
   {
    "duration": 914,
    "start_time": "2024-01-07T18:26:27.464Z"
   },
   {
    "duration": 46,
    "start_time": "2024-01-07T18:26:33.331Z"
   },
   {
    "duration": 69,
    "start_time": "2024-01-07T18:26:36.079Z"
   },
   {
    "duration": 5,
    "start_time": "2024-01-07T18:26:41.603Z"
   },
   {
    "duration": 2,
    "start_time": "2024-01-07T18:27:14.771Z"
   },
   {
    "duration": 71,
    "start_time": "2024-01-07T18:32:16.347Z"
   },
   {
    "duration": 175038,
    "start_time": "2024-01-07T18:32:53.084Z"
   },
   {
    "duration": 18944,
    "start_time": "2024-01-07T18:36:06.219Z"
   },
   {
    "duration": 51,
    "start_time": "2024-01-07T18:36:34.446Z"
   },
   {
    "duration": 5,
    "start_time": "2024-01-07T18:36:38.908Z"
   },
   {
    "duration": 267119,
    "start_time": "2024-01-07T18:37:07.236Z"
   },
   {
    "duration": 9160,
    "start_time": "2024-01-07T18:42:17.202Z"
   },
   {
    "duration": 340,
    "start_time": "2024-01-07T18:42:32.115Z"
   },
   {
    "duration": 4,
    "start_time": "2024-01-07T18:42:38.103Z"
   },
   {
    "duration": 8,
    "start_time": "2024-01-07T18:47:50.835Z"
   },
   {
    "duration": 9,
    "start_time": "2024-01-07T18:48:28.421Z"
   },
   {
    "duration": 53,
    "start_time": "2024-01-07T19:07:01.649Z"
   },
   {
    "duration": 12,
    "start_time": "2024-01-07T19:10:11.871Z"
   },
   {
    "duration": 75,
    "start_time": "2024-01-07T19:12:48.664Z"
   },
   {
    "duration": 5,
    "start_time": "2024-01-07T19:12:56.615Z"
   },
   {
    "duration": 11,
    "start_time": "2024-01-07T19:15:38.205Z"
   },
   {
    "duration": 19347,
    "start_time": "2024-01-07T19:20:08.482Z"
   },
   {
    "duration": 7313,
    "start_time": "2024-01-07T19:23:18.012Z"
   },
   {
    "duration": 7325,
    "start_time": "2024-01-07T19:26:39.526Z"
   },
   {
    "duration": 53,
    "start_time": "2024-01-07T19:27:14.354Z"
   },
   {
    "duration": 11,
    "start_time": "2024-01-07T19:27:29.412Z"
   },
   {
    "duration": 10,
    "start_time": "2024-01-07T19:28:08.909Z"
   },
   {
    "duration": 11,
    "start_time": "2024-01-07T19:28:28.410Z"
   },
   {
    "duration": 4,
    "start_time": "2024-01-07T19:28:39.300Z"
   },
   {
    "duration": 20,
    "start_time": "2024-01-07T19:28:45.023Z"
   },
   {
    "duration": 7504,
    "start_time": "2024-01-07T19:29:00.215Z"
   },
   {
    "duration": 50,
    "start_time": "2024-01-07T19:29:09.235Z"
   },
   {
    "duration": 5,
    "start_time": "2024-01-07T19:29:09.962Z"
   },
   {
    "duration": 9,
    "start_time": "2024-01-07T19:30:46.304Z"
   },
   {
    "duration": 10,
    "start_time": "2024-01-07T19:31:25.751Z"
   },
   {
    "duration": 3108,
    "start_time": "2024-01-08T19:03:57.173Z"
   },
   {
    "duration": 1669,
    "start_time": "2024-01-08T19:04:02.992Z"
   },
   {
    "duration": 1138,
    "start_time": "2024-01-08T19:04:17.804Z"
   },
   {
    "duration": 4,
    "start_time": "2024-01-08T19:04:19.454Z"
   },
   {
    "duration": 843,
    "start_time": "2024-01-08T19:04:19.972Z"
   },
   {
    "duration": 319,
    "start_time": "2024-01-08T19:04:28.617Z"
   },
   {
    "duration": 90,
    "start_time": "2024-01-08T19:04:30.599Z"
   },
   {
    "duration": 4,
    "start_time": "2024-01-08T19:04:32.303Z"
   },
   {
    "duration": 15,
    "start_time": "2024-01-08T19:04:32.658Z"
   },
   {
    "duration": 4,
    "start_time": "2024-01-08T19:04:33.224Z"
   },
   {
    "duration": 464,
    "start_time": "2024-01-08T19:04:33.929Z"
   },
   {
    "duration": 952,
    "start_time": "2024-01-08T19:04:34.424Z"
   },
   {
    "duration": 16,
    "start_time": "2024-01-08T19:04:35.378Z"
   },
   {
    "duration": 41,
    "start_time": "2024-01-08T19:04:35.396Z"
   },
   {
    "duration": 37,
    "start_time": "2024-01-08T19:04:35.439Z"
   },
   {
    "duration": 562,
    "start_time": "2024-01-08T19:04:35.736Z"
   },
   {
    "duration": 11,
    "start_time": "2024-01-08T19:04:40.716Z"
   },
   {
    "duration": 40,
    "start_time": "2024-01-08T19:04:40.861Z"
   },
   {
    "duration": 7,
    "start_time": "2024-01-08T19:04:41.190Z"
   },
   {
    "duration": 13,
    "start_time": "2024-01-08T19:04:41.356Z"
   },
   {
    "duration": 10,
    "start_time": "2024-01-08T19:04:41.524Z"
   },
   {
    "duration": 32,
    "start_time": "2024-01-08T19:04:41.880Z"
   },
   {
    "duration": 14,
    "start_time": "2024-01-08T19:04:42.216Z"
   },
   {
    "duration": 10,
    "start_time": "2024-01-08T19:04:42.393Z"
   },
   {
    "duration": 30,
    "start_time": "2024-01-08T19:04:42.879Z"
   },
   {
    "duration": 44,
    "start_time": "2024-01-08T19:04:43.429Z"
   },
   {
    "duration": 14,
    "start_time": "2024-01-08T19:04:43.898Z"
   },
   {
    "duration": 23,
    "start_time": "2024-01-08T19:04:44.218Z"
   },
   {
    "duration": 37,
    "start_time": "2024-01-08T19:04:44.399Z"
   },
   {
    "duration": 15,
    "start_time": "2024-01-08T19:04:45.106Z"
   },
   {
    "duration": 38,
    "start_time": "2024-01-08T19:04:45.330Z"
   },
   {
    "duration": 14,
    "start_time": "2024-01-08T19:04:45.900Z"
   },
   {
    "duration": 37,
    "start_time": "2024-01-08T19:04:46.134Z"
   },
   {
    "duration": 14,
    "start_time": "2024-01-08T19:04:46.870Z"
   },
   {
    "duration": 37,
    "start_time": "2024-01-08T19:04:47.049Z"
   },
   {
    "duration": 14,
    "start_time": "2024-01-08T19:04:47.410Z"
   },
   {
    "duration": 73,
    "start_time": "2024-01-08T19:04:52.643Z"
   },
   {
    "duration": 5085,
    "start_time": "2024-01-08T19:19:28.294Z"
   },
   {
    "duration": 3,
    "start_time": "2024-01-08T19:30:26.896Z"
   },
   {
    "duration": 119,
    "start_time": "2024-01-08T19:30:40.356Z"
   },
   {
    "duration": 53,
    "start_time": "2024-01-08T19:30:46.998Z"
   },
   {
    "duration": 11,
    "start_time": "2024-01-08T19:31:16.023Z"
   },
   {
    "duration": 7,
    "start_time": "2024-01-08T19:31:53.802Z"
   },
   {
    "duration": 11,
    "start_time": "2024-01-08T19:32:02.046Z"
   },
   {
    "duration": 23,
    "start_time": "2024-01-08T19:34:36.296Z"
   },
   {
    "duration": 3,
    "start_time": "2024-01-08T19:35:37.917Z"
   },
   {
    "duration": 18,
    "start_time": "2024-01-08T19:35:38.443Z"
   },
   {
    "duration": 232,
    "start_time": "2024-01-08T19:39:15.539Z"
   },
   {
    "duration": 2393,
    "start_time": "2024-01-08T19:39:42.736Z"
   },
   {
    "duration": 1372,
    "start_time": "2024-01-08T19:39:47.955Z"
   },
   {
    "duration": 837,
    "start_time": "2024-01-08T19:39:49.641Z"
   },
   {
    "duration": 5,
    "start_time": "2024-01-08T19:39:52.782Z"
   },
   {
    "duration": 880,
    "start_time": "2024-01-08T19:39:52.924Z"
   },
   {
    "duration": 318,
    "start_time": "2024-01-08T19:39:53.806Z"
   },
   {
    "duration": 99,
    "start_time": "2024-01-08T19:39:54.125Z"
   },
   {
    "duration": 4,
    "start_time": "2024-01-08T19:39:54.390Z"
   },
   {
    "duration": 19,
    "start_time": "2024-01-08T19:39:54.758Z"
   },
   {
    "duration": 4,
    "start_time": "2024-01-08T19:39:55.286Z"
   },
   {
    "duration": 501,
    "start_time": "2024-01-08T19:39:55.457Z"
   },
   {
    "duration": 1026,
    "start_time": "2024-01-08T19:39:56.007Z"
   },
   {
    "duration": 18,
    "start_time": "2024-01-08T19:39:57.034Z"
   },
   {
    "duration": 37,
    "start_time": "2024-01-08T19:39:57.053Z"
   },
   {
    "duration": 57,
    "start_time": "2024-01-08T19:39:57.092Z"
   },
   {
    "duration": 570,
    "start_time": "2024-01-08T19:39:57.150Z"
   },
   {
    "duration": 11,
    "start_time": "2024-01-08T19:39:57.722Z"
   },
   {
    "duration": 50,
    "start_time": "2024-01-08T19:39:57.734Z"
   },
   {
    "duration": 13,
    "start_time": "2024-01-08T19:39:57.806Z"
   },
   {
    "duration": 14,
    "start_time": "2024-01-08T19:39:58.251Z"
   },
   {
    "duration": 10,
    "start_time": "2024-01-08T19:39:58.425Z"
   },
   {
    "duration": 34,
    "start_time": "2024-01-08T19:39:58.579Z"
   },
   {
    "duration": 18,
    "start_time": "2024-01-08T19:39:58.892Z"
   },
   {
    "duration": 13,
    "start_time": "2024-01-08T19:39:59.060Z"
   },
   {
    "duration": 43,
    "start_time": "2024-01-08T19:39:59.415Z"
   },
   {
    "duration": 59,
    "start_time": "2024-01-08T19:39:59.748Z"
   },
   {
    "duration": 26,
    "start_time": "2024-01-08T19:40:00.147Z"
   },
   {
    "duration": 15,
    "start_time": "2024-01-08T19:40:00.335Z"
   },
   {
    "duration": 45,
    "start_time": "2024-01-08T19:40:00.535Z"
   },
   {
    "duration": 24,
    "start_time": "2024-01-08T19:40:01.016Z"
   },
   {
    "duration": 49,
    "start_time": "2024-01-08T19:40:01.263Z"
   },
   {
    "duration": 18,
    "start_time": "2024-01-08T19:40:01.619Z"
   },
   {
    "duration": 38,
    "start_time": "2024-01-08T19:40:01.811Z"
   },
   {
    "duration": 14,
    "start_time": "2024-01-08T19:40:02.179Z"
   },
   {
    "duration": 39,
    "start_time": "2024-01-08T19:40:02.544Z"
   },
   {
    "duration": 23,
    "start_time": "2024-01-08T19:40:02.873Z"
   },
   {
    "duration": 82,
    "start_time": "2024-01-08T19:40:03.045Z"
   },
   {
    "duration": 17,
    "start_time": "2024-01-08T19:40:03.406Z"
   },
   {
    "duration": 125,
    "start_time": "2024-01-08T19:40:04.257Z"
   },
   {
    "duration": 13,
    "start_time": "2024-01-08T19:41:24.410Z"
   },
   {
    "duration": 8541,
    "start_time": "2024-01-08T19:41:32.354Z"
   },
   {
    "duration": 3,
    "start_time": "2024-01-08T19:41:45.509Z"
   },
   {
    "duration": 86,
    "start_time": "2024-01-08T19:41:49.385Z"
   },
   {
    "duration": 358,
    "start_time": "2024-01-08T19:41:55.674Z"
   },
   {
    "duration": 11,
    "start_time": "2024-01-08T19:42:59.512Z"
   },
   {
    "duration": 6239,
    "start_time": "2024-01-08T19:44:14.661Z"
   },
   {
    "duration": 5,
    "start_time": "2024-01-08T19:44:25.976Z"
   },
   {
    "duration": 17,
    "start_time": "2024-01-08T19:44:32.625Z"
   },
   {
    "duration": 1214,
    "start_time": "2024-01-08T19:51:02.554Z"
   },
   {
    "duration": 4834,
    "start_time": "2024-01-08T19:51:38.758Z"
   },
   {
    "duration": 4,
    "start_time": "2024-01-08T19:51:51.275Z"
   },
   {
    "duration": 19,
    "start_time": "2024-01-08T19:52:00.715Z"
   },
   {
    "duration": 23,
    "start_time": "2024-01-08T19:52:56.391Z"
   },
   {
    "duration": 22,
    "start_time": "2024-01-08T19:54:34.119Z"
   },
   {
    "duration": 12,
    "start_time": "2024-01-08T19:58:22.571Z"
   },
   {
    "duration": 3,
    "start_time": "2024-01-08T20:00:15.074Z"
   },
   {
    "duration": 100,
    "start_time": "2024-01-08T20:00:17.715Z"
   },
   {
    "duration": 11,
    "start_time": "2024-01-08T20:00:18.517Z"
   },
   {
    "duration": 21,
    "start_time": "2024-01-08T20:00:25.038Z"
   },
   {
    "duration": 1126,
    "start_time": "2024-01-08T20:00:35.785Z"
   },
   {
    "duration": 19,
    "start_time": "2024-01-08T20:01:16.149Z"
   },
   {
    "duration": 109,
    "start_time": "2024-01-08T20:02:55.628Z"
   },
   {
    "duration": 101,
    "start_time": "2024-01-08T20:03:02.250Z"
   },
   {
    "duration": 2725,
    "start_time": "2024-01-08T20:03:36.649Z"
   },
   {
    "duration": 2441,
    "start_time": "2024-01-08T20:03:39.376Z"
   },
   {
    "duration": 1353,
    "start_time": "2024-01-08T20:03:41.820Z"
   },
   {
    "duration": 925,
    "start_time": "2024-01-08T20:03:43.175Z"
   },
   {
    "duration": 3,
    "start_time": "2024-01-08T20:03:44.102Z"
   },
   {
    "duration": 1032,
    "start_time": "2024-01-08T20:03:44.107Z"
   },
   {
    "duration": 354,
    "start_time": "2024-01-08T20:03:45.141Z"
   },
   {
    "duration": 103,
    "start_time": "2024-01-08T20:03:45.497Z"
   },
   {
    "duration": 14,
    "start_time": "2024-01-08T20:03:45.603Z"
   },
   {
    "duration": 22,
    "start_time": "2024-01-08T20:03:45.618Z"
   },
   {
    "duration": 6,
    "start_time": "2024-01-08T20:03:45.643Z"
   },
   {
    "duration": 588,
    "start_time": "2024-01-08T20:03:45.651Z"
   },
   {
    "duration": 1126,
    "start_time": "2024-01-08T20:03:46.241Z"
   },
   {
    "duration": 16,
    "start_time": "2024-01-08T20:03:47.368Z"
   },
   {
    "duration": 58,
    "start_time": "2024-01-08T20:03:47.386Z"
   },
   {
    "duration": 24,
    "start_time": "2024-01-08T20:03:47.446Z"
   },
   {
    "duration": 618,
    "start_time": "2024-01-08T20:03:47.472Z"
   },
   {
    "duration": 28,
    "start_time": "2024-01-08T20:03:48.092Z"
   },
   {
    "duration": 44,
    "start_time": "2024-01-08T20:03:48.124Z"
   },
   {
    "duration": 8,
    "start_time": "2024-01-08T20:03:48.170Z"
   },
   {
    "duration": 37,
    "start_time": "2024-01-08T20:03:48.180Z"
   },
   {
    "duration": 15,
    "start_time": "2024-01-08T20:03:48.219Z"
   },
   {
    "duration": 34,
    "start_time": "2024-01-08T20:03:48.236Z"
   },
   {
    "duration": 14,
    "start_time": "2024-01-08T20:03:48.272Z"
   },
   {
    "duration": 36,
    "start_time": "2024-01-08T20:03:48.287Z"
   },
   {
    "duration": 37,
    "start_time": "2024-01-08T20:03:48.326Z"
   },
   {
    "duration": 56,
    "start_time": "2024-01-08T20:03:48.364Z"
   },
   {
    "duration": 25,
    "start_time": "2024-01-08T20:03:48.424Z"
   },
   {
    "duration": 19,
    "start_time": "2024-01-08T20:03:48.451Z"
   },
   {
    "duration": 44,
    "start_time": "2024-01-08T20:03:48.587Z"
   },
   {
    "duration": 14,
    "start_time": "2024-01-08T20:03:48.985Z"
   },
   {
    "duration": 40,
    "start_time": "2024-01-08T20:03:49.172Z"
   },
   {
    "duration": 14,
    "start_time": "2024-01-08T20:03:49.537Z"
   },
   {
    "duration": 40,
    "start_time": "2024-01-08T20:03:49.728Z"
   },
   {
    "duration": 14,
    "start_time": "2024-01-08T20:03:50.060Z"
   },
   {
    "duration": 48,
    "start_time": "2024-01-08T20:03:50.244Z"
   },
   {
    "duration": 14,
    "start_time": "2024-01-08T20:03:50.586Z"
   },
   {
    "duration": 93,
    "start_time": "2024-01-08T20:03:50.778Z"
   },
   {
    "duration": 18,
    "start_time": "2024-01-08T20:03:53.111Z"
   },
   {
    "duration": 9363,
    "start_time": "2024-01-08T20:03:53.576Z"
   },
   {
    "duration": 107,
    "start_time": "2024-01-08T20:04:07.203Z"
   },
   {
    "duration": 92,
    "start_time": "2024-01-08T20:05:06.514Z"
   },
   {
    "duration": 1439,
    "start_time": "2024-01-08T20:09:11.838Z"
   },
   {
    "duration": 2409,
    "start_time": "2024-01-08T20:09:26.409Z"
   },
   {
    "duration": 2399,
    "start_time": "2024-01-08T20:09:28.820Z"
   },
   {
    "duration": 1359,
    "start_time": "2024-01-08T20:09:36.446Z"
   },
   {
    "duration": 880,
    "start_time": "2024-01-08T20:09:37.807Z"
   },
   {
    "duration": 4,
    "start_time": "2024-01-08T20:09:38.689Z"
   },
   {
    "duration": 928,
    "start_time": "2024-01-08T20:09:38.694Z"
   },
   {
    "duration": 325,
    "start_time": "2024-01-08T20:09:39.624Z"
   },
   {
    "duration": 102,
    "start_time": "2024-01-08T20:09:39.951Z"
   },
   {
    "duration": 6,
    "start_time": "2024-01-08T20:09:40.055Z"
   },
   {
    "duration": 16,
    "start_time": "2024-01-08T20:09:40.292Z"
   },
   {
    "duration": 3,
    "start_time": "2024-01-08T20:09:41.646Z"
   },
   {
    "duration": 450,
    "start_time": "2024-01-08T20:09:41.822Z"
   },
   {
    "duration": 981,
    "start_time": "2024-01-08T20:09:42.317Z"
   },
   {
    "duration": 16,
    "start_time": "2024-01-08T20:09:44.355Z"
   },
   {
    "duration": 29,
    "start_time": "2024-01-08T20:09:44.679Z"
   },
   {
    "duration": 35,
    "start_time": "2024-01-08T20:09:45.033Z"
   },
   {
    "duration": 588,
    "start_time": "2024-01-08T20:09:47.621Z"
   },
   {
    "duration": 11,
    "start_time": "2024-01-08T20:09:48.214Z"
   },
   {
    "duration": 39,
    "start_time": "2024-01-08T20:09:49.834Z"
   },
   {
    "duration": 8,
    "start_time": "2024-01-08T20:09:51.181Z"
   },
   {
    "duration": 15,
    "start_time": "2024-01-08T20:09:54.077Z"
   },
   {
    "duration": 13,
    "start_time": "2024-01-08T20:09:54.269Z"
   },
   {
    "duration": 40,
    "start_time": "2024-01-08T20:09:54.414Z"
   },
   {
    "duration": 14,
    "start_time": "2024-01-08T20:09:55.635Z"
   },
   {
    "duration": 10,
    "start_time": "2024-01-08T20:09:56.345Z"
   },
   {
    "duration": 30,
    "start_time": "2024-01-08T20:09:57.463Z"
   },
   {
    "duration": 40,
    "start_time": "2024-01-08T20:10:01.209Z"
   },
   {
    "duration": 26,
    "start_time": "2024-01-08T20:10:01.588Z"
   },
   {
    "duration": 14,
    "start_time": "2024-01-08T20:10:06.106Z"
   },
   {
    "duration": 45,
    "start_time": "2024-01-08T20:10:06.299Z"
   },
   {
    "duration": 14,
    "start_time": "2024-01-08T20:10:08.753Z"
   },
   {
    "duration": 39,
    "start_time": "2024-01-08T20:10:09.140Z"
   },
   {
    "duration": 14,
    "start_time": "2024-01-08T20:10:10.150Z"
   },
   {
    "duration": 38,
    "start_time": "2024-01-08T20:10:10.546Z"
   },
   {
    "duration": 14,
    "start_time": "2024-01-08T20:10:11.684Z"
   },
   {
    "duration": 16,
    "start_time": "2024-01-08T20:10:18.470Z"
   },
   {
    "duration": 113,
    "start_time": "2024-01-08T20:10:45.445Z"
   },
   {
    "duration": 1367,
    "start_time": "2024-01-08T20:10:49.904Z"
   },
   {
    "duration": 1346,
    "start_time": "2024-01-08T20:13:28.081Z"
   },
   {
    "duration": 2041,
    "start_time": "2024-01-08T20:13:43.019Z"
   },
   {
    "duration": 11,
    "start_time": "2024-01-08T20:14:07.735Z"
   },
   {
    "duration": 26,
    "start_time": "2024-01-08T20:14:10.700Z"
   },
   {
    "duration": 9,
    "start_time": "2024-01-08T20:15:13.166Z"
   },
   {
    "duration": 142,
    "start_time": "2024-01-08T20:15:18.966Z"
   },
   {
    "duration": 19,
    "start_time": "2024-01-08T20:15:44.313Z"
   },
   {
    "duration": 1131,
    "start_time": "2024-01-08T20:17:07.037Z"
   },
   {
    "duration": 18,
    "start_time": "2024-01-08T20:17:16.078Z"
   },
   {
    "duration": 30,
    "start_time": "2024-01-08T20:17:38.601Z"
   },
   {
    "duration": 52,
    "start_time": "2024-01-08T20:19:28.938Z"
   },
   {
    "duration": 60,
    "start_time": "2024-01-08T20:19:42.959Z"
   },
   {
    "duration": 1981,
    "start_time": "2024-01-08T20:20:02.318Z"
   },
   {
    "duration": 2375,
    "start_time": "2024-01-08T20:20:47.392Z"
   },
   {
    "duration": 2326,
    "start_time": "2024-01-08T20:20:49.769Z"
   },
   {
    "duration": 1264,
    "start_time": "2024-01-08T20:20:52.096Z"
   },
   {
    "duration": 844,
    "start_time": "2024-01-08T20:20:53.362Z"
   },
   {
    "duration": 7,
    "start_time": "2024-01-08T20:20:54.208Z"
   },
   {
    "duration": 888,
    "start_time": "2024-01-08T20:20:54.216Z"
   },
   {
    "duration": 328,
    "start_time": "2024-01-08T20:20:55.106Z"
   },
   {
    "duration": 99,
    "start_time": "2024-01-08T20:20:55.436Z"
   },
   {
    "duration": 4,
    "start_time": "2024-01-08T20:20:55.537Z"
   },
   {
    "duration": 17,
    "start_time": "2024-01-08T20:20:55.543Z"
   },
   {
    "duration": 3,
    "start_time": "2024-01-08T20:20:55.562Z"
   },
   {
    "duration": 514,
    "start_time": "2024-01-08T20:20:55.566Z"
   },
   {
    "duration": 973,
    "start_time": "2024-01-08T20:20:56.082Z"
   },
   {
    "duration": 16,
    "start_time": "2024-01-08T20:20:57.057Z"
   },
   {
    "duration": 41,
    "start_time": "2024-01-08T20:20:57.075Z"
   },
   {
    "duration": 35,
    "start_time": "2024-01-08T20:20:57.117Z"
   },
   {
    "duration": 524,
    "start_time": "2024-01-08T20:20:59.045Z"
   },
   {
    "duration": 12,
    "start_time": "2024-01-08T20:21:00.864Z"
   },
   {
    "duration": 42,
    "start_time": "2024-01-08T20:21:01.247Z"
   },
   {
    "duration": 19,
    "start_time": "2024-01-08T20:21:11.647Z"
   },
   {
    "duration": 4239,
    "start_time": "2024-01-08T20:21:12.392Z"
   },
   {
    "duration": 2637,
    "start_time": "2024-01-08T20:21:16.633Z"
   },
   {
    "duration": 2400,
    "start_time": "2024-01-08T20:21:41.256Z"
   },
   {
    "duration": 17,
    "start_time": "2024-01-08T20:21:47.618Z"
   },
   {
    "duration": 372,
    "start_time": "2024-01-08T20:21:49.037Z"
   },
   {
    "duration": 21,
    "start_time": "2024-01-08T20:21:51.646Z"
   },
   {
    "duration": 22,
    "start_time": "2024-01-08T20:21:55.408Z"
   },
   {
    "duration": 35,
    "start_time": "2024-01-08T20:21:56.579Z"
   },
   {
    "duration": 2658,
    "start_time": "2024-01-08T20:22:12.264Z"
   },
   {
    "duration": 3,
    "start_time": "2024-01-08T20:22:43.048Z"
   },
   {
    "duration": 2503,
    "start_time": "2024-01-08T20:22:49.292Z"
   },
   {
    "duration": 17,
    "start_time": "2024-01-08T20:23:40.353Z"
   },
   {
    "duration": 22,
    "start_time": "2024-01-08T20:24:59.504Z"
   },
   {
    "duration": 36,
    "start_time": "2024-01-08T20:25:00.148Z"
   },
   {
    "duration": 2520,
    "start_time": "2024-01-08T20:25:00.980Z"
   },
   {
    "duration": 22,
    "start_time": "2024-01-08T20:25:03.501Z"
   },
   {
    "duration": 18,
    "start_time": "2024-01-08T20:25:06.747Z"
   },
   {
    "duration": 19,
    "start_time": "2024-01-08T20:25:10.346Z"
   },
   {
    "duration": 112,
    "start_time": "2024-01-08T20:25:38.631Z"
   },
   {
    "duration": 20,
    "start_time": "2024-01-08T20:25:42.782Z"
   },
   {
    "duration": 7879,
    "start_time": "2024-01-09T08:29:28.384Z"
   },
   {
    "duration": 2,
    "start_time": "2024-01-09T08:29:36.265Z"
   },
   {
    "duration": 3237,
    "start_time": "2024-01-09T08:29:36.269Z"
   },
   {
    "duration": 1618,
    "start_time": "2024-01-09T08:29:41.694Z"
   },
   {
    "duration": 2954,
    "start_time": "2024-01-09T08:29:43.580Z"
   },
   {
    "duration": 5,
    "start_time": "2024-01-09T08:29:46.536Z"
   },
   {
    "duration": 979,
    "start_time": "2024-01-09T08:29:46.542Z"
   },
   {
    "duration": 337,
    "start_time": "2024-01-09T08:29:47.523Z"
   },
   {
    "duration": 103,
    "start_time": "2024-01-09T08:29:47.862Z"
   },
   {
    "duration": 5,
    "start_time": "2024-01-09T08:29:51.728Z"
   },
   {
    "duration": 16,
    "start_time": "2024-01-09T08:29:54.627Z"
   },
   {
    "duration": 3,
    "start_time": "2024-01-09T08:29:57.968Z"
   },
   {
    "duration": 497,
    "start_time": "2024-01-09T08:29:58.146Z"
   },
   {
    "duration": 9,
    "start_time": "2024-01-09T08:32:08.661Z"
   },
   {
    "duration": 17,
    "start_time": "2024-01-09T08:32:11.094Z"
   },
   {
    "duration": 13,
    "start_time": "2024-01-09T08:32:12.876Z"
   },
   {
    "duration": 50,
    "start_time": "2024-01-09T08:32:15.427Z"
   },
   {
    "duration": 16,
    "start_time": "2024-01-09T08:33:05.140Z"
   },
   {
    "duration": 29,
    "start_time": "2024-01-09T08:33:07.666Z"
   },
   {
    "duration": 24,
    "start_time": "2024-01-09T08:33:08.518Z"
   },
   {
    "duration": 588,
    "start_time": "2024-01-09T08:33:12.715Z"
   },
   {
    "duration": 13,
    "start_time": "2024-01-09T08:33:15.858Z"
   },
   {
    "duration": 45,
    "start_time": "2024-01-09T08:33:17.836Z"
   },
   {
    "duration": 7,
    "start_time": "2024-01-09T08:33:23.255Z"
   },
   {
    "duration": 14,
    "start_time": "2024-01-09T08:33:24.240Z"
   },
   {
    "duration": 11,
    "start_time": "2024-01-09T08:33:27.502Z"
   },
   {
    "duration": 35,
    "start_time": "2024-01-09T08:33:28.711Z"
   },
   {
    "duration": 16,
    "start_time": "2024-01-09T08:33:49.938Z"
   },
   {
    "duration": 12,
    "start_time": "2024-01-09T08:33:52.252Z"
   },
   {
    "duration": 33,
    "start_time": "2024-01-09T08:33:54.125Z"
   },
   {
    "duration": 42,
    "start_time": "2024-01-09T08:33:56.626Z"
   },
   {
    "duration": 15,
    "start_time": "2024-01-09T08:33:58.902Z"
   },
   {
    "duration": 15,
    "start_time": "2024-01-09T08:33:59.312Z"
   },
   {
    "duration": 43,
    "start_time": "2024-01-09T08:34:00.255Z"
   },
   {
    "duration": 40,
    "start_time": "2024-01-09T08:34:42.664Z"
   },
   {
    "duration": 16,
    "start_time": "2024-01-09T08:34:44.390Z"
   },
   {
    "duration": 43,
    "start_time": "2024-01-09T08:34:45.676Z"
   },
   {
    "duration": 59,
    "start_time": "2024-01-09T08:36:03.977Z"
   },
   {
    "duration": 15,
    "start_time": "2024-01-09T08:36:05.145Z"
   },
   {
    "duration": 18,
    "start_time": "2024-01-09T08:36:06.571Z"
   },
   {
    "duration": 1496,
    "start_time": "2024-01-09T08:36:08.844Z"
   },
   {
    "duration": 2258,
    "start_time": "2024-01-09T08:36:13.942Z"
   },
   {
    "duration": 16,
    "start_time": "2024-01-09T08:36:16.446Z"
   },
   {
    "duration": 136,
    "start_time": "2024-01-09T08:36:20.620Z"
   },
   {
    "duration": 19,
    "start_time": "2024-01-09T08:36:36.269Z"
   },
   {
    "duration": 19,
    "start_time": "2024-01-09T08:36:42.273Z"
   },
   {
    "duration": 30,
    "start_time": "2024-01-09T08:36:45.683Z"
   },
   {
    "duration": 190,
    "start_time": "2024-01-09T08:37:50.856Z"
   },
   {
    "duration": 2207,
    "start_time": "2024-01-09T08:40:22.239Z"
   },
   {
    "duration": 2219,
    "start_time": "2024-01-09T08:41:25.831Z"
   },
   {
    "duration": 2282,
    "start_time": "2024-01-09T08:41:42.240Z"
   },
   {
    "duration": 28,
    "start_time": "2024-01-09T08:41:53.601Z"
   },
   {
    "duration": 85,
    "start_time": "2024-01-09T08:42:25.056Z"
   },
   {
    "duration": 69,
    "start_time": "2024-01-09T08:42:42.063Z"
   },
   {
    "duration": 5641,
    "start_time": "2024-01-09T08:43:24.145Z"
   },
   {
    "duration": 79,
    "start_time": "2024-01-09T08:43:52.739Z"
   },
   {
    "duration": 13,
    "start_time": "2024-01-09T08:48:59.764Z"
   },
   {
    "duration": 10,
    "start_time": "2024-01-09T08:49:03.349Z"
   },
   {
    "duration": 3,
    "start_time": "2024-01-09T08:49:08.977Z"
   },
   {
    "duration": 66,
    "start_time": "2024-01-09T08:49:11.986Z"
   },
   {
    "duration": 23,
    "start_time": "2024-01-09T08:49:13.195Z"
   },
   {
    "duration": 61027,
    "start_time": "2024-01-09T08:49:50.995Z"
   },
   {
    "duration": 14546,
    "start_time": "2024-01-09T08:51:16.069Z"
   },
   {
    "duration": 19271,
    "start_time": "2024-01-09T08:52:38.649Z"
   },
   {
    "duration": 15,
    "start_time": "2024-01-09T08:54:12.751Z"
   },
   {
    "duration": 14576,
    "start_time": "2024-01-09T08:54:27.725Z"
   },
   {
    "duration": 19317,
    "start_time": "2024-01-09T08:55:30.492Z"
   },
   {
    "duration": 18764,
    "start_time": "2024-01-09T08:56:44.549Z"
   },
   {
    "duration": 272,
    "start_time": "2024-01-09T08:57:36.232Z"
   },
   {
    "duration": 5,
    "start_time": "2024-01-09T08:58:18.782Z"
   },
   {
    "duration": 820,
    "start_time": "2024-01-09T09:01:13.408Z"
   },
   {
    "duration": 45874,
    "start_time": "2024-01-09T09:02:21.081Z"
   },
   {
    "duration": 3,
    "start_time": "2024-01-09T09:03:47.802Z"
   },
   {
    "duration": 195782,
    "start_time": "2024-01-09T09:04:13.876Z"
   },
   {
    "duration": 21044,
    "start_time": "2024-01-09T09:08:58.085Z"
   },
   {
    "duration": 153,
    "start_time": "2024-01-09T09:11:55.195Z"
   },
   {
    "duration": 5,
    "start_time": "2024-01-09T09:12:30.603Z"
   },
   {
    "duration": 261497,
    "start_time": "2024-01-09T09:14:09.606Z"
   },
   {
    "duration": 9657,
    "start_time": "2024-01-09T09:19:00.748Z"
   },
   {
    "duration": 1419,
    "start_time": "2024-01-09T09:19:17.781Z"
   },
   {
    "duration": 5,
    "start_time": "2024-01-09T09:19:30.753Z"
   },
   {
    "duration": 90,
    "start_time": "2024-01-09T09:23:04.846Z"
   },
   {
    "duration": 96,
    "start_time": "2024-01-09T09:23:09.360Z"
   },
   {
    "duration": 1206,
    "start_time": "2024-01-09T09:24:21.063Z"
   },
   {
    "duration": 61,
    "start_time": "2024-01-09T09:24:32.632Z"
   },
   {
    "duration": 98,
    "start_time": "2024-01-09T09:24:42.530Z"
   },
   {
    "duration": 16,
    "start_time": "2024-01-09T09:24:49.808Z"
   },
   {
    "duration": 108,
    "start_time": "2024-01-09T09:27:51.333Z"
   },
   {
    "duration": 6,
    "start_time": "2024-01-09T09:28:53.695Z"
   },
   {
    "duration": 22,
    "start_time": "2024-01-09T09:31:47.272Z"
   },
   {
    "duration": 21723,
    "start_time": "2024-01-09T09:34:01.226Z"
   },
   {
    "duration": 21146,
    "start_time": "2024-01-09T09:34:57.561Z"
   },
   {
    "duration": 21,
    "start_time": "2024-01-09T09:36:57.671Z"
   },
   {
    "duration": 14453,
    "start_time": "2024-01-09T09:37:02.375Z"
   },
   {
    "duration": 105,
    "start_time": "2024-01-09T09:37:20.933Z"
   },
   {
    "duration": 4,
    "start_time": "2024-01-09T09:37:22.748Z"
   },
   {
    "duration": 10,
    "start_time": "2024-01-09T09:37:52.845Z"
   },
   {
    "duration": 15,
    "start_time": "2024-01-09T09:38:08.655Z"
   },
   {
    "duration": 11,
    "start_time": "2024-01-09T09:38:22.480Z"
   },
   {
    "duration": 15,
    "start_time": "2024-01-09T09:39:29.428Z"
   },
   {
    "duration": 266,
    "start_time": "2024-01-09T09:43:41.112Z"
   },
   {
    "duration": 263,
    "start_time": "2024-01-09T09:44:36.725Z"
   },
   {
    "duration": 2629,
    "start_time": "2024-01-09T09:44:54.145Z"
   },
   {
    "duration": 3,
    "start_time": "2024-01-09T09:45:23.753Z"
   },
   {
    "duration": 2633,
    "start_time": "2024-01-09T09:45:24.919Z"
   },
   {
    "duration": 1501,
    "start_time": "2024-01-09T09:45:29.609Z"
   },
   {
    "duration": 1029,
    "start_time": "2024-01-09T09:45:31.112Z"
   },
   {
    "duration": 3,
    "start_time": "2024-01-09T09:45:32.207Z"
   },
   {
    "duration": 947,
    "start_time": "2024-01-09T09:45:32.319Z"
   },
   {
    "duration": 358,
    "start_time": "2024-01-09T09:45:33.268Z"
   },
   {
    "duration": 99,
    "start_time": "2024-01-09T09:45:34.169Z"
   },
   {
    "duration": 4,
    "start_time": "2024-01-09T09:45:43.306Z"
   },
   {
    "duration": 16,
    "start_time": "2024-01-09T09:45:44.171Z"
   },
   {
    "duration": 3,
    "start_time": "2024-01-09T09:45:46.205Z"
   },
   {
    "duration": 501,
    "start_time": "2024-01-09T09:45:48.132Z"
   },
   {
    "duration": 294,
    "start_time": "2024-01-09T09:45:59.749Z"
   },
   {
    "duration": 268,
    "start_time": "2024-01-09T09:47:17.658Z"
   },
   {
    "duration": 363,
    "start_time": "2024-01-09T09:48:43.916Z"
   },
   {
    "duration": 262,
    "start_time": "2024-01-09T09:49:21.645Z"
   },
   {
    "duration": 227,
    "start_time": "2024-01-09T09:49:33.242Z"
   },
   {
    "duration": 298,
    "start_time": "2024-01-09T09:49:38.337Z"
   },
   {
    "duration": 277,
    "start_time": "2024-01-09T09:49:51.555Z"
   },
   {
    "duration": 360,
    "start_time": "2024-01-09T09:50:16.202Z"
   },
   {
    "duration": 358,
    "start_time": "2024-01-09T09:50:25.430Z"
   },
   {
    "duration": 254,
    "start_time": "2024-01-09T09:52:27.425Z"
   },
   {
    "duration": 262,
    "start_time": "2024-01-09T09:52:33.539Z"
   },
   {
    "duration": 91,
    "start_time": "2024-01-09T09:53:06.843Z"
   },
   {
    "duration": 81,
    "start_time": "2024-01-09T09:53:10.180Z"
   },
   {
    "duration": 257,
    "start_time": "2024-01-09T09:53:18.103Z"
   },
   {
    "duration": 91,
    "start_time": "2024-01-09T09:54:06.984Z"
   },
   {
    "duration": 249,
    "start_time": "2024-01-09T09:54:11.830Z"
   },
   {
    "duration": 261,
    "start_time": "2024-01-09T09:54:53.814Z"
   },
   {
    "duration": 331,
    "start_time": "2024-01-09T09:55:36.530Z"
   },
   {
    "duration": 247,
    "start_time": "2024-01-09T09:55:50.403Z"
   },
   {
    "duration": 230,
    "start_time": "2024-01-09T09:56:02.536Z"
   },
   {
    "duration": 257,
    "start_time": "2024-01-09T09:56:13.383Z"
   },
   {
    "duration": 313,
    "start_time": "2024-01-09T09:57:20.425Z"
   },
   {
    "duration": 397,
    "start_time": "2024-01-09T09:57:33.730Z"
   },
   {
    "duration": 251,
    "start_time": "2024-01-09T09:58:13.296Z"
   },
   {
    "duration": 281,
    "start_time": "2024-01-09T09:58:44.824Z"
   },
   {
    "duration": 258,
    "start_time": "2024-01-09T09:59:08.572Z"
   },
   {
    "duration": 308,
    "start_time": "2024-01-09T09:59:26.821Z"
   },
   {
    "duration": 309,
    "start_time": "2024-01-09T09:59:47.189Z"
   },
   {
    "duration": 271,
    "start_time": "2024-01-09T10:02:43.939Z"
   },
   {
    "duration": 312,
    "start_time": "2024-01-09T10:02:49.995Z"
   },
   {
    "duration": 4,
    "start_time": "2024-01-09T10:03:20.231Z"
   },
   {
    "duration": 18,
    "start_time": "2024-01-09T10:03:28.934Z"
   },
   {
    "duration": 30,
    "start_time": "2024-01-09T10:03:29.135Z"
   },
   {
    "duration": 29,
    "start_time": "2024-01-09T10:03:29.418Z"
   },
   {
    "duration": 615,
    "start_time": "2024-01-09T10:03:29.976Z"
   },
   {
    "duration": 15,
    "start_time": "2024-01-09T10:03:30.600Z"
   },
   {
    "duration": 99,
    "start_time": "2024-01-09T10:03:30.616Z"
   },
   {
    "duration": 78,
    "start_time": "2024-01-09T10:03:30.717Z"
   },
   {
    "duration": 87,
    "start_time": "2024-01-09T10:03:30.857Z"
   },
   {
    "duration": 13,
    "start_time": "2024-01-09T10:03:31.005Z"
   },
   {
    "duration": 38,
    "start_time": "2024-01-09T10:03:31.511Z"
   },
   {
    "duration": 16,
    "start_time": "2024-01-09T10:03:32.162Z"
   },
   {
    "duration": 210,
    "start_time": "2024-01-09T10:03:32.334Z"
   },
   {
    "duration": 969,
    "start_time": "2024-01-09T10:03:32.713Z"
   },
   {
    "duration": 642,
    "start_time": "2024-01-09T10:03:33.684Z"
   },
   {
    "duration": 66,
    "start_time": "2024-01-09T10:03:34.328Z"
   },
   {
    "duration": 29,
    "start_time": "2024-01-09T10:03:34.396Z"
   },
   {
    "duration": 50,
    "start_time": "2024-01-09T10:03:34.427Z"
   },
   {
    "duration": 16,
    "start_time": "2024-01-09T10:03:34.618Z"
   },
   {
    "duration": 41,
    "start_time": "2024-01-09T10:03:35.807Z"
   },
   {
    "duration": 26,
    "start_time": "2024-01-09T10:03:36.144Z"
   },
   {
    "duration": 18,
    "start_time": "2024-01-09T10:03:36.543Z"
   },
   {
    "duration": 1495,
    "start_time": "2024-01-09T10:03:36.749Z"
   },
   {
    "duration": 2249,
    "start_time": "2024-01-09T10:03:38.246Z"
   },
   {
    "duration": 26,
    "start_time": "2024-01-09T10:03:40.501Z"
   },
   {
    "duration": 171,
    "start_time": "2024-01-09T10:03:40.529Z"
   },
   {
    "duration": 19,
    "start_time": "2024-01-09T10:03:56.846Z"
   },
   {
    "duration": 21,
    "start_time": "2024-01-09T10:03:58.214Z"
   },
   {
    "duration": 30,
    "start_time": "2024-01-09T10:04:00.227Z"
   },
   {
    "duration": 2233,
    "start_time": "2024-01-09T10:04:02.517Z"
   },
   {
    "duration": 16,
    "start_time": "2024-01-09T10:04:04.752Z"
   },
   {
    "duration": 75,
    "start_time": "2024-01-09T10:04:06.629Z"
   },
   {
    "duration": 73,
    "start_time": "2024-01-09T10:04:07.396Z"
   },
   {
    "duration": 5782,
    "start_time": "2024-01-09T10:04:14.347Z"
   },
   {
    "duration": 96,
    "start_time": "2024-01-09T10:05:14.628Z"
   },
   {
    "duration": 90,
    "start_time": "2024-01-09T10:07:29.091Z"
   },
   {
    "duration": 3,
    "start_time": "2024-01-09T10:08:27.571Z"
   },
   {
    "duration": 67,
    "start_time": "2024-01-09T10:08:30.219Z"
   },
   {
    "duration": 59935,
    "start_time": "2024-01-09T10:08:31.778Z"
   },
   {
    "duration": 14740,
    "start_time": "2024-01-09T10:09:39.877Z"
   },
   {
    "duration": 296,
    "start_time": "2024-01-09T10:09:56.605Z"
   },
   {
    "duration": 4,
    "start_time": "2024-01-09T10:09:58.287Z"
   },
   {
    "duration": 802,
    "start_time": "2024-01-09T10:10:03.472Z"
   },
   {
    "duration": 4,
    "start_time": "2024-01-09T10:10:05.664Z"
   },
   {
    "duration": 195042,
    "start_time": "2024-01-09T10:10:10.621Z"
   },
   {
    "duration": 21344,
    "start_time": "2024-01-09T10:16:07.339Z"
   },
   {
    "duration": 156,
    "start_time": "2024-01-09T10:16:32.817Z"
   },
   {
    "duration": 5,
    "start_time": "2024-01-09T10:16:34.479Z"
   },
   {
    "duration": 251526,
    "start_time": "2024-01-09T10:16:37.282Z"
   },
   {
    "duration": 10198,
    "start_time": "2024-01-09T10:20:48.810Z"
   },
   {
    "duration": 1418,
    "start_time": "2024-01-09T10:21:14.901Z"
   },
   {
    "duration": 6,
    "start_time": "2024-01-09T10:21:18.299Z"
   },
   {
    "duration": 15,
    "start_time": "2024-01-09T10:21:20.539Z"
   },
   {
    "duration": 14655,
    "start_time": "2024-01-09T10:21:25.446Z"
   },
   {
    "duration": 108,
    "start_time": "2024-01-09T10:21:43.844Z"
   },
   {
    "duration": 5,
    "start_time": "2024-01-09T10:21:47.324Z"
   },
   {
    "duration": 14,
    "start_time": "2024-01-09T10:21:50.220Z"
   },
   {
    "duration": 2786,
    "start_time": "2024-01-12T07:04:55.409Z"
   },
   {
    "duration": 5910,
    "start_time": "2024-01-12T07:04:58.198Z"
   },
   {
    "duration": 3,
    "start_time": "2024-01-12T07:05:04.110Z"
   },
   {
    "duration": 2822,
    "start_time": "2024-01-12T07:05:04.115Z"
   },
   {
    "duration": 5811,
    "start_time": "2024-01-12T07:05:06.939Z"
   },
   {
    "duration": 2041,
    "start_time": "2024-01-12T07:05:12.752Z"
   },
   {
    "duration": 5,
    "start_time": "2024-01-12T07:05:14.794Z"
   },
   {
    "duration": 988,
    "start_time": "2024-01-12T07:05:14.801Z"
   },
   {
    "duration": 352,
    "start_time": "2024-01-12T07:05:15.792Z"
   },
   {
    "duration": 108,
    "start_time": "2024-01-12T07:05:16.147Z"
   },
   {
    "duration": 5,
    "start_time": "2024-01-12T07:05:16.257Z"
   },
   {
    "duration": 20,
    "start_time": "2024-01-12T07:05:16.264Z"
   },
   {
    "duration": 5,
    "start_time": "2024-01-12T07:05:16.285Z"
   },
   {
    "duration": 541,
    "start_time": "2024-01-12T07:05:16.291Z"
   },
   {
    "duration": 572,
    "start_time": "2024-01-12T07:05:16.834Z"
   },
   {
    "duration": 442,
    "start_time": "2024-01-12T07:05:17.408Z"
   },
   {
    "duration": 510,
    "start_time": "2024-01-12T07:05:17.853Z"
   },
   {
    "duration": 512,
    "start_time": "2024-01-12T07:05:18.365Z"
   },
   {
    "duration": 3028,
    "start_time": "2024-01-12T07:54:10.084Z"
   },
   {
    "duration": 2656,
    "start_time": "2024-01-12T07:54:33.698Z"
   },
   {
    "duration": 6631,
    "start_time": "2024-01-12T07:54:37.293Z"
   },
   {
    "duration": 3,
    "start_time": "2024-01-12T07:54:46.693Z"
   },
   {
    "duration": 3408,
    "start_time": "2024-01-12T07:54:47.865Z"
   },
   {
    "duration": 1568,
    "start_time": "2024-01-12T07:54:52.839Z"
   },
   {
    "duration": 1883,
    "start_time": "2024-01-12T07:54:57.429Z"
   },
   {
    "duration": 4,
    "start_time": "2024-01-12T07:55:00.411Z"
   },
   {
    "duration": 980,
    "start_time": "2024-01-12T07:55:00.632Z"
   },
   {
    "duration": 386,
    "start_time": "2024-01-12T07:55:01.614Z"
   },
   {
    "duration": 99,
    "start_time": "2024-01-12T07:55:02.002Z"
   },
   {
    "duration": 4,
    "start_time": "2024-01-12T07:55:03.413Z"
   },
   {
    "duration": 17,
    "start_time": "2024-01-12T07:55:04.252Z"
   },
   {
    "duration": 4,
    "start_time": "2024-01-12T07:55:07.467Z"
   },
   {
    "duration": 556,
    "start_time": "2024-01-12T07:55:07.740Z"
   },
   {
    "duration": 372,
    "start_time": "2024-01-12T07:55:11.777Z"
   },
   {
    "duration": 383,
    "start_time": "2024-01-12T07:55:12.150Z"
   },
   {
    "duration": 344,
    "start_time": "2024-01-12T07:55:12.535Z"
   },
   {
    "duration": 409,
    "start_time": "2024-01-12T07:55:15.068Z"
   },
   {
    "duration": 18,
    "start_time": "2024-01-12T07:55:19.430Z"
   },
   {
    "duration": 38,
    "start_time": "2024-01-12T07:55:19.579Z"
   },
   {
    "duration": 44,
    "start_time": "2024-01-12T07:55:19.750Z"
   },
   {
    "duration": 664,
    "start_time": "2024-01-12T07:55:22.132Z"
   },
   {
    "duration": 11,
    "start_time": "2024-01-12T07:55:22.798Z"
   },
   {
    "duration": 42,
    "start_time": "2024-01-12T07:55:22.811Z"
   },
   {
    "duration": 8,
    "start_time": "2024-01-12T07:55:23.662Z"
   },
   {
    "duration": 16,
    "start_time": "2024-01-12T07:55:23.824Z"
   },
   {
    "duration": 11,
    "start_time": "2024-01-12T07:55:23.993Z"
   },
   {
    "duration": 35,
    "start_time": "2024-01-12T07:55:24.196Z"
   },
   {
    "duration": 15,
    "start_time": "2024-01-12T07:55:24.953Z"
   },
   {
    "duration": 11,
    "start_time": "2024-01-12T07:55:25.122Z"
   },
   {
    "duration": 31,
    "start_time": "2024-01-12T07:55:25.925Z"
   },
   {
    "duration": 56,
    "start_time": "2024-01-12T07:55:26.257Z"
   },
   {
    "duration": 16,
    "start_time": "2024-01-12T07:55:26.941Z"
   },
   {
    "duration": 15,
    "start_time": "2024-01-12T07:55:27.121Z"
   },
   {
    "duration": 49,
    "start_time": "2024-01-12T07:55:27.354Z"
   },
   {
    "duration": 15,
    "start_time": "2024-01-12T07:55:28.059Z"
   },
   {
    "duration": 59,
    "start_time": "2024-01-12T07:55:29.859Z"
   },
   {
    "duration": 16,
    "start_time": "2024-01-12T07:55:30.903Z"
   },
   {
    "duration": 18,
    "start_time": "2024-01-12T07:55:31.637Z"
   },
   {
    "duration": 1534,
    "start_time": "2024-01-12T07:55:31.946Z"
   },
   {
    "duration": 2314,
    "start_time": "2024-01-12T07:55:33.482Z"
   },
   {
    "duration": 15,
    "start_time": "2024-01-12T07:55:35.798Z"
   },
   {
    "duration": 200,
    "start_time": "2024-01-12T07:55:35.816Z"
   },
   {
    "duration": 19,
    "start_time": "2024-01-12T07:55:36.018Z"
   },
   {
    "duration": 27,
    "start_time": "2024-01-12T07:55:36.038Z"
   },
   {
    "duration": 49,
    "start_time": "2024-01-12T07:55:36.067Z"
   },
   {
    "duration": 2350,
    "start_time": "2024-01-12T07:55:38.043Z"
   },
   {
    "duration": 15,
    "start_time": "2024-01-12T07:55:40.398Z"
   },
   {
    "duration": 105,
    "start_time": "2024-01-12T07:55:50.487Z"
   },
   {
    "duration": 78,
    "start_time": "2024-01-12T07:55:51.233Z"
   },
   {
    "duration": 5436,
    "start_time": "2024-01-12T07:56:02.878Z"
   },
   {
    "duration": 580,
    "start_time": "2024-01-12T07:56:26.232Z"
   },
   {
    "duration": 316,
    "start_time": "2024-01-12T07:56:30.757Z"
   },
   {
    "duration": 4,
    "start_time": "2024-01-12T07:56:37.966Z"
   },
   {
    "duration": 37815,
    "start_time": "2024-01-12T07:56:40.968Z"
   },
   {
    "duration": 22631,
    "start_time": "2024-01-12T08:00:59.866Z"
   },
   {
    "duration": 4615,
    "start_time": "2024-01-12T08:17:25.712Z"
   },
   {
    "duration": 4749,
    "start_time": "2024-01-12T08:17:43.760Z"
   },
   {
    "duration": 2532,
    "start_time": "2024-01-12T08:29:10.149Z"
   },
   {
    "duration": 2594,
    "start_time": "2024-01-12T08:29:12.684Z"
   },
   {
    "duration": 3,
    "start_time": "2024-01-12T08:29:15.280Z"
   },
   {
    "duration": 2550,
    "start_time": "2024-01-12T08:29:15.286Z"
   },
   {
    "duration": 1340,
    "start_time": "2024-01-12T08:29:17.839Z"
   },
   {
    "duration": 1491,
    "start_time": "2024-01-12T08:29:19.181Z"
   },
   {
    "duration": 9,
    "start_time": "2024-01-12T08:29:20.673Z"
   },
   {
    "duration": 987,
    "start_time": "2024-01-12T08:29:20.684Z"
   },
   {
    "duration": 334,
    "start_time": "2024-01-12T08:29:25.432Z"
   },
   {
    "duration": 96,
    "start_time": "2024-01-12T08:29:26.364Z"
   },
   {
    "duration": 5,
    "start_time": "2024-01-12T08:29:27.842Z"
   },
   {
    "duration": 20,
    "start_time": "2024-01-12T08:29:28.197Z"
   },
   {
    "duration": 4,
    "start_time": "2024-01-12T08:29:28.778Z"
   },
   {
    "duration": 504,
    "start_time": "2024-01-12T08:29:28.980Z"
   },
   {
    "duration": 381,
    "start_time": "2024-01-12T08:29:29.590Z"
   },
   {
    "duration": 371,
    "start_time": "2024-01-12T08:29:29.973Z"
   },
   {
    "duration": 324,
    "start_time": "2024-01-12T08:29:30.346Z"
   },
   {
    "duration": 392,
    "start_time": "2024-01-12T08:29:30.671Z"
   },
   {
    "duration": 19,
    "start_time": "2024-01-12T08:29:31.505Z"
   },
   {
    "duration": 32,
    "start_time": "2024-01-12T08:29:31.718Z"
   },
   {
    "duration": 43,
    "start_time": "2024-01-12T08:29:31.927Z"
   },
   {
    "duration": 590,
    "start_time": "2024-01-12T08:29:32.379Z"
   },
   {
    "duration": 15,
    "start_time": "2024-01-12T08:29:32.971Z"
   },
   {
    "duration": 48,
    "start_time": "2024-01-12T08:29:32.988Z"
   },
   {
    "duration": 9,
    "start_time": "2024-01-12T08:29:33.146Z"
   },
   {
    "duration": 15,
    "start_time": "2024-01-12T08:29:33.409Z"
   },
   {
    "duration": 11,
    "start_time": "2024-01-12T08:29:33.664Z"
   },
   {
    "duration": 44,
    "start_time": "2024-01-12T08:29:33.861Z"
   },
   {
    "duration": 16,
    "start_time": "2024-01-12T08:29:34.324Z"
   },
   {
    "duration": 11,
    "start_time": "2024-01-12T08:29:34.858Z"
   },
   {
    "duration": 32,
    "start_time": "2024-01-12T08:29:35.401Z"
   },
   {
    "duration": 42,
    "start_time": "2024-01-12T08:29:36.130Z"
   },
   {
    "duration": 17,
    "start_time": "2024-01-12T08:29:36.451Z"
   },
   {
    "duration": 15,
    "start_time": "2024-01-12T08:29:36.614Z"
   },
   {
    "duration": 44,
    "start_time": "2024-01-12T08:29:36.802Z"
   },
   {
    "duration": 15,
    "start_time": "2024-01-12T08:29:37.198Z"
   },
   {
    "duration": 43,
    "start_time": "2024-01-12T08:29:37.569Z"
   },
   {
    "duration": 16,
    "start_time": "2024-01-12T08:29:37.937Z"
   },
   {
    "duration": 18,
    "start_time": "2024-01-12T08:29:38.129Z"
   },
   {
    "duration": 1448,
    "start_time": "2024-01-12T08:29:38.312Z"
   },
   {
    "duration": 2199,
    "start_time": "2024-01-12T08:29:39.763Z"
   },
   {
    "duration": 20,
    "start_time": "2024-01-12T08:29:41.964Z"
   },
   {
    "duration": 150,
    "start_time": "2024-01-12T08:29:41.986Z"
   },
   {
    "duration": 23,
    "start_time": "2024-01-12T08:29:42.138Z"
   },
   {
    "duration": 36,
    "start_time": "2024-01-12T08:29:42.163Z"
   },
   {
    "duration": 30,
    "start_time": "2024-01-12T08:29:43.412Z"
   },
   {
    "duration": 2267,
    "start_time": "2024-01-12T08:29:45.706Z"
   },
   {
    "duration": 18,
    "start_time": "2024-01-12T08:29:47.975Z"
   },
   {
    "duration": 90,
    "start_time": "2024-01-12T08:29:47.995Z"
   },
   {
    "duration": 82,
    "start_time": "2024-01-12T08:29:48.087Z"
   },
   {
    "duration": 4811,
    "start_time": "2024-01-12T08:29:48.588Z"
   },
   {
    "duration": 573,
    "start_time": "2024-01-12T08:29:56.969Z"
   },
   {
    "duration": 332,
    "start_time": "2024-01-12T08:29:57.629Z"
   },
   {
    "duration": 4,
    "start_time": "2024-01-12T08:30:00.851Z"
   },
   {
    "duration": 48403,
    "start_time": "2024-01-12T08:30:01.286Z"
   },
   {
    "duration": 26610,
    "start_time": "2024-01-12T08:30:49.691Z"
   },
   {
    "duration": 2,
    "start_time": "2024-01-12T08:31:16.303Z"
   },
   {
    "duration": 109373,
    "start_time": "2024-01-12T08:31:37.624Z"
   },
   {
    "duration": 10,
    "start_time": "2024-01-12T08:33:30.801Z"
   },
   {
    "duration": 91,
    "start_time": "2024-01-12T08:33:38.672Z"
   },
   {
    "duration": 26506,
    "start_time": "2024-01-12T08:33:39.133Z"
   },
   {
    "duration": 10,
    "start_time": "2024-01-12T08:34:05.641Z"
   },
   {
    "duration": 22558,
    "start_time": "2024-01-12T08:34:13.542Z"
   },
   {
    "duration": 9,
    "start_time": "2024-01-12T08:34:38.468Z"
   },
   {
    "duration": 2600,
    "start_time": "2024-01-12T08:58:50.420Z"
   },
   {
    "duration": 2671,
    "start_time": "2024-01-12T08:58:58.876Z"
   },
   {
    "duration": 3,
    "start_time": "2024-01-12T08:59:01.550Z"
   },
   {
    "duration": 2790,
    "start_time": "2024-01-12T08:59:07.432Z"
   },
   {
    "duration": 1351,
    "start_time": "2024-01-12T08:59:10.225Z"
   },
   {
    "duration": 1433,
    "start_time": "2024-01-12T08:59:11.578Z"
   },
   {
    "duration": 5,
    "start_time": "2024-01-12T08:59:13.013Z"
   },
   {
    "duration": 1038,
    "start_time": "2024-01-12T08:59:13.020Z"
   },
   {
    "duration": 367,
    "start_time": "2024-01-12T08:59:14.060Z"
   },
   {
    "duration": 111,
    "start_time": "2024-01-12T08:59:14.429Z"
   },
   {
    "duration": 5,
    "start_time": "2024-01-12T08:59:14.542Z"
   },
   {
    "duration": 33,
    "start_time": "2024-01-12T08:59:14.549Z"
   },
   {
    "duration": 5,
    "start_time": "2024-01-12T08:59:14.585Z"
   },
   {
    "duration": 511,
    "start_time": "2024-01-12T08:59:14.675Z"
   },
   {
    "duration": 341,
    "start_time": "2024-01-12T08:59:15.497Z"
   },
   {
    "duration": 381,
    "start_time": "2024-01-12T08:59:15.841Z"
   },
   {
    "duration": 329,
    "start_time": "2024-01-12T08:59:16.224Z"
   },
   {
    "duration": 359,
    "start_time": "2024-01-12T08:59:16.555Z"
   },
   {
    "duration": 23,
    "start_time": "2024-01-12T08:59:17.133Z"
   },
   {
    "duration": 36,
    "start_time": "2024-01-12T08:59:17.288Z"
   },
   {
    "duration": 36,
    "start_time": "2024-01-12T08:59:17.466Z"
   },
   {
    "duration": 585,
    "start_time": "2024-01-12T08:59:17.734Z"
   },
   {
    "duration": 13,
    "start_time": "2024-01-12T08:59:18.321Z"
   },
   {
    "duration": 96,
    "start_time": "2024-01-12T08:59:18.336Z"
   },
   {
    "duration": 12,
    "start_time": "2024-01-12T08:59:18.434Z"
   },
   {
    "duration": 16,
    "start_time": "2024-01-12T08:59:18.517Z"
   },
   {
    "duration": 15,
    "start_time": "2024-01-12T08:59:18.656Z"
   },
   {
    "duration": 50,
    "start_time": "2024-01-12T08:59:18.821Z"
   },
   {
    "duration": 16,
    "start_time": "2024-01-12T08:59:19.128Z"
   },
   {
    "duration": 14,
    "start_time": "2024-01-12T08:59:19.318Z"
   },
   {
    "duration": 33,
    "start_time": "2024-01-12T08:59:19.643Z"
   },
   {
    "duration": 40,
    "start_time": "2024-01-12T08:59:20.038Z"
   },
   {
    "duration": 15,
    "start_time": "2024-01-12T08:59:20.444Z"
   },
   {
    "duration": 16,
    "start_time": "2024-01-12T08:59:20.629Z"
   },
   {
    "duration": 61,
    "start_time": "2024-01-12T08:59:20.831Z"
   },
   {
    "duration": 25,
    "start_time": "2024-01-12T08:59:21.283Z"
   },
   {
    "duration": 42,
    "start_time": "2024-01-12T08:59:21.762Z"
   },
   {
    "duration": 25,
    "start_time": "2024-01-12T08:59:22.165Z"
   },
   {
    "duration": 29,
    "start_time": "2024-01-12T08:59:22.448Z"
   },
   {
    "duration": 1510,
    "start_time": "2024-01-12T08:59:28.234Z"
   },
   {
    "duration": 2269,
    "start_time": "2024-01-12T08:59:29.747Z"
   },
   {
    "duration": 20,
    "start_time": "2024-01-12T08:59:32.019Z"
   },
   {
    "duration": 164,
    "start_time": "2024-01-12T08:59:32.040Z"
   },
   {
    "duration": 26,
    "start_time": "2024-01-12T08:59:32.206Z"
   },
   {
    "duration": 33,
    "start_time": "2024-01-12T08:59:32.234Z"
   },
   {
    "duration": 50,
    "start_time": "2024-01-12T08:59:32.283Z"
   },
   {
    "duration": 2578,
    "start_time": "2024-01-12T08:59:32.335Z"
   },
   {
    "duration": 16,
    "start_time": "2024-01-12T08:59:34.914Z"
   },
   {
    "duration": 88,
    "start_time": "2024-01-12T08:59:34.932Z"
   },
   {
    "duration": 85,
    "start_time": "2024-01-12T08:59:35.022Z"
   },
   {
    "duration": 5204,
    "start_time": "2024-01-12T09:01:19.898Z"
   },
   {
    "duration": 689,
    "start_time": "2024-01-12T09:01:29.588Z"
   },
   {
    "duration": 345,
    "start_time": "2024-01-12T09:01:37.929Z"
   },
   {
    "duration": 4,
    "start_time": "2024-01-12T09:01:58.194Z"
   },
   {
    "duration": 69188,
    "start_time": "2024-01-12T09:05:28.996Z"
   },
   {
    "duration": 6929,
    "start_time": "2024-01-12T09:11:57.500Z"
   },
   {
    "duration": 3,
    "start_time": "2024-01-12T09:12:26.046Z"
   },
   {
    "duration": 189859,
    "start_time": "2024-01-12T09:12:28.238Z"
   },
   {
    "duration": 7,
    "start_time": "2024-01-12T09:21:42.689Z"
   },
   {
    "duration": 15,
    "start_time": "2024-01-12T09:27:04.498Z"
   },
   {
    "duration": 88,
    "start_time": "2024-01-12T09:27:20.382Z"
   },
   {
    "duration": 38227,
    "start_time": "2024-01-12T09:27:20.964Z"
   },
   {
    "duration": 6851,
    "start_time": "2024-01-12T09:30:30.686Z"
   },
   {
    "duration": 11,
    "start_time": "2024-01-12T09:32:55.925Z"
   },
   {
    "duration": 9,
    "start_time": "2024-01-12T09:41:03.614Z"
   },
   {
    "duration": 10,
    "start_time": "2024-01-12T09:42:10.165Z"
   },
   {
    "duration": 50962,
    "start_time": "2024-01-12T09:55:51.199Z"
   },
   {
    "duration": 49294,
    "start_time": "2024-01-12T10:01:11.818Z"
   },
   {
    "duration": 103318,
    "start_time": "2024-01-12T10:15:08.007Z"
   },
   {
    "duration": 2,
    "start_time": "2024-01-12T10:35:40.508Z"
   },
   {
    "duration": 98510,
    "start_time": "2024-01-12T10:38:03.414Z"
   },
   {
    "duration": 141,
    "start_time": "2024-01-12T10:43:16.425Z"
   },
   {
    "duration": 9,
    "start_time": "2024-01-12T10:43:42.668Z"
   },
   {
    "duration": 9,
    "start_time": "2024-01-12T10:45:40.039Z"
   },
   {
    "duration": 15,
    "start_time": "2024-01-12T10:45:55.484Z"
   },
   {
    "duration": 89359,
    "start_time": "2024-01-12T11:17:03.873Z"
   },
   {
    "duration": 2553,
    "start_time": "2024-01-12T11:19:32.481Z"
   },
   {
    "duration": 2541,
    "start_time": "2024-01-12T11:19:35.036Z"
   },
   {
    "duration": 3,
    "start_time": "2024-01-12T11:19:37.579Z"
   },
   {
    "duration": 2677,
    "start_time": "2024-01-12T11:19:37.584Z"
   },
   {
    "duration": 1437,
    "start_time": "2024-01-12T11:19:40.263Z"
   },
   {
    "duration": 1512,
    "start_time": "2024-01-12T11:19:41.702Z"
   },
   {
    "duration": 3,
    "start_time": "2024-01-12T11:19:43.216Z"
   },
   {
    "duration": 983,
    "start_time": "2024-01-12T11:19:43.221Z"
   },
   {
    "duration": 355,
    "start_time": "2024-01-12T11:19:44.206Z"
   },
   {
    "duration": 105,
    "start_time": "2024-01-12T11:19:44.563Z"
   },
   {
    "duration": 5,
    "start_time": "2024-01-12T11:19:45.392Z"
   },
   {
    "duration": 18,
    "start_time": "2024-01-12T11:19:45.750Z"
   },
   {
    "duration": 3,
    "start_time": "2024-01-12T11:19:46.250Z"
   },
   {
    "duration": 507,
    "start_time": "2024-01-12T11:19:46.413Z"
   },
   {
    "duration": 349,
    "start_time": "2024-01-12T11:19:46.937Z"
   },
   {
    "duration": 385,
    "start_time": "2024-01-12T11:19:47.289Z"
   },
   {
    "duration": 342,
    "start_time": "2024-01-12T11:19:47.676Z"
   },
   {
    "duration": 369,
    "start_time": "2024-01-12T11:19:48.020Z"
   },
   {
    "duration": 24,
    "start_time": "2024-01-12T11:19:48.699Z"
   },
   {
    "duration": 35,
    "start_time": "2024-01-12T11:19:48.868Z"
   },
   {
    "duration": 27,
    "start_time": "2024-01-12T11:19:49.138Z"
   },
   {
    "duration": 608,
    "start_time": "2024-01-12T11:19:49.434Z"
   },
   {
    "duration": 12,
    "start_time": "2024-01-12T11:19:50.044Z"
   },
   {
    "duration": 60,
    "start_time": "2024-01-12T11:19:50.058Z"
   },
   {
    "duration": 9,
    "start_time": "2024-01-12T11:19:50.144Z"
   },
   {
    "duration": 14,
    "start_time": "2024-01-12T11:19:50.297Z"
   },
   {
    "duration": 11,
    "start_time": "2024-01-12T11:19:50.472Z"
   },
   {
    "duration": 34,
    "start_time": "2024-01-12T11:19:50.629Z"
   },
   {
    "duration": 15,
    "start_time": "2024-01-12T11:19:50.949Z"
   },
   {
    "duration": 11,
    "start_time": "2024-01-12T11:19:51.148Z"
   },
   {
    "duration": 34,
    "start_time": "2024-01-12T11:19:51.495Z"
   },
   {
    "duration": 41,
    "start_time": "2024-01-12T11:19:51.815Z"
   },
   {
    "duration": 14,
    "start_time": "2024-01-12T11:19:52.155Z"
   },
   {
    "duration": 20,
    "start_time": "2024-01-12T11:19:52.331Z"
   },
   {
    "duration": 66,
    "start_time": "2024-01-12T11:19:52.505Z"
   },
   {
    "duration": 17,
    "start_time": "2024-01-12T11:19:52.905Z"
   },
   {
    "duration": 47,
    "start_time": "2024-01-12T11:19:53.311Z"
   },
   {
    "duration": 16,
    "start_time": "2024-01-12T11:19:53.717Z"
   },
   {
    "duration": 18,
    "start_time": "2024-01-12T11:19:54.588Z"
   },
   {
    "duration": 1521,
    "start_time": "2024-01-12T11:19:54.819Z"
   },
   {
    "duration": 2193,
    "start_time": "2024-01-12T11:19:56.344Z"
   },
   {
    "duration": 15,
    "start_time": "2024-01-12T11:19:58.539Z"
   },
   {
    "duration": 146,
    "start_time": "2024-01-12T11:19:58.556Z"
   },
   {
    "duration": 18,
    "start_time": "2024-01-12T11:19:58.703Z"
   },
   {
    "duration": 19,
    "start_time": "2024-01-12T11:19:58.723Z"
   },
   {
    "duration": 56,
    "start_time": "2024-01-12T11:19:58.744Z"
   },
   {
    "duration": 2236,
    "start_time": "2024-01-12T11:19:58.802Z"
   },
   {
    "duration": 15,
    "start_time": "2024-01-12T11:20:01.039Z"
   },
   {
    "duration": 89,
    "start_time": "2024-01-12T11:20:01.056Z"
   },
   {
    "duration": 90,
    "start_time": "2024-01-12T11:20:01.147Z"
   },
   {
    "duration": 4925,
    "start_time": "2024-01-12T11:20:09.704Z"
   },
   {
    "duration": 562,
    "start_time": "2024-01-12T11:20:17.879Z"
   },
   {
    "duration": 318,
    "start_time": "2024-01-12T11:20:18.444Z"
   },
   {
    "duration": 4,
    "start_time": "2024-01-12T11:20:23.356Z"
   },
   {
    "duration": 62739,
    "start_time": "2024-01-12T11:20:24.757Z"
   },
   {
    "duration": 97811,
    "start_time": "2024-01-12T11:21:27.583Z"
   },
   {
    "duration": 6702,
    "start_time": "2024-01-12T11:23:20.013Z"
   },
   {
    "duration": 90002,
    "start_time": "2024-01-12T11:30:23.142Z"
   },
   {
    "duration": 9,
    "start_time": "2024-01-12T11:33:44.348Z"
   },
   {
    "duration": 86,
    "start_time": "2024-01-12T11:33:52.099Z"
   },
   {
    "duration": 6725,
    "start_time": "2024-01-12T11:33:53.124Z"
   },
   {
    "duration": 10,
    "start_time": "2024-01-12T11:34:25.982Z"
   },
   {
    "duration": 11,
    "start_time": "2024-01-12T11:34:45.108Z"
   },
   {
    "duration": 12,
    "start_time": "2024-01-12T11:34:50.050Z"
   },
   {
    "duration": 14263,
    "start_time": "2024-01-12T11:41:09.578Z"
   },
   {
    "duration": 10,
    "start_time": "2024-01-12T11:41:45.404Z"
   },
   {
    "duration": 11,
    "start_time": "2024-01-12T11:42:46.396Z"
   },
   {
    "duration": 11,
    "start_time": "2024-01-12T11:42:50.690Z"
   }
  ],
  "colab": {
   "provenance": []
  },
  "kernelspec": {
   "display_name": "Python 3 (ipykernel)",
   "language": "python",
   "name": "python3"
  },
  "language_info": {
   "codemirror_mode": {
    "name": "ipython",
    "version": 3
   },
   "file_extension": ".py",
   "mimetype": "text/x-python",
   "name": "python",
   "nbconvert_exporter": "python",
   "pygments_lexer": "ipython3",
   "version": "3.10.0"
  },
  "toc": {
   "base_numbering": 1,
   "nav_menu": {},
   "number_sections": true,
   "sideBar": true,
   "skip_h1_title": true,
   "title_cell": "Table of Contents",
   "title_sidebar": "Contents",
   "toc_cell": false,
   "toc_position": {},
   "toc_section_display": true,
   "toc_window_display": false
  }
 },
 "nbformat": 4,
 "nbformat_minor": 1
}
