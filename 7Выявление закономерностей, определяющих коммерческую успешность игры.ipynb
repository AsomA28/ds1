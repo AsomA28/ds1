{
 "cells": [
  {
   "cell_type": "markdown",
   "metadata": {},
   "source": [
    "# Исследование интернет-магазина \"Стримчик\"\n",
    "\n",
    "Вы работаете в интернет-магазине «Стримчик», который продаёт по всему миру компьютерные игры. Из открытых источников доступны исторические данные о продажах игр, оценки пользователей и экспертов, жанры и платформы (например, Xbox или PlayStation). Вам нужно выявить определяющие успешность игры закономерности. Это позволит сделать ставку на потенциально популярный продукт и спланировать рекламные кампании.\n",
    "Перед вами данные до 2016 года. Представим, что сейчас декабрь 2016 г., и вы планируете кампанию на 2017-й. Нужно отработать принцип работы с данными. Неважно, прогнозируете ли вы продажи на 2017 год по данным 2016-го или же 2027-й — по данным 2026 года.\n",
    "В наборе данных попадается аббревиатура ESRB (Entertainment Software Rating Board) — это ассоциация, определяющая возрастной рейтинг компьютерных игр. ESRB оценивает игровой контент и присваивает ему подходящую возрастную категорию, например, «Для взрослых», «Для детей младшего возраста» или «Для подростков».\n",
    "\n",
    "### Цель исследования:\n",
    "\n",
    "+ Проанализировать и визуализировать общую информацию;\n",
    "\n",
    "+ Отработать принцип работы с данными;\n",
    "\n",
    "+ Сделать ставку на потенциально популярный продукт и спланировать рекламные кампании;\n",
    "\n",
    "+ Проверить гипотезы.\n",
    "\n",
    "### Ход исследования\n",
    "\n",
    "* Изучим общую информацию;\n",
    "* Приведём столбцы к нижнему регистру; \n",
    "* Преобразуем данные в нужные типы, обработаем пропуски;\n",
    "* Посчитаем суммарные продажи во всех регионах и запишем их в отдельный столбец;\n",
    "* Посмотрим, сколько игр выпускалось в разные годы;\n",
    "* Посмотрим, как менялись продажи по платформам;\n",
    "* Используем пайплайн ;\n",
    "* Определим для пользователя каждого региона самые популярные платформы,жанры и влияет ли рейтинг ESRB на продажи;\n",
    "* Проверим гипотезы."
   ]
  },
  {
   "cell_type": "code",
   "execution_count": null,
   "metadata": {},
   "outputs": [],
   "source": []
  },
  {
   "cell_type": "markdown",
   "metadata": {},
   "source": [
    "## Изучение общей информации"
   ]
  },
  {
   "cell_type": "markdown",
   "metadata": {},
   "source": [
    "***Импортируем нужные библиотеки***"
   ]
  },
  {
   "cell_type": "code",
   "execution_count": 1,
   "metadata": {},
   "outputs": [],
   "source": [
    "import pandas as pd\n",
    "import matplotlib.pyplot as plt\n",
    "import seaborn as sns\n",
    "import plotly.express as px\n",
    "import numpy as np\n",
    "from scipy import stats as st"
   ]
  },
  {
   "cell_type": "markdown",
   "metadata": {},
   "source": [
    "***Откроем файл с данными и изучим общую информацию***"
   ]
  },
  {
   "cell_type": "code",
   "execution_count": 2,
   "metadata": {},
   "outputs": [],
   "source": [
    "data_games = pd.read_csv('/datasets/games.csv')"
   ]
  },
  {
   "cell_type": "code",
   "execution_count": 3,
   "metadata": {},
   "outputs": [
    {
     "data": {
      "text/html": [
       "<div>\n",
       "<style scoped>\n",
       "    .dataframe tbody tr th:only-of-type {\n",
       "        vertical-align: middle;\n",
       "    }\n",
       "\n",
       "    .dataframe tbody tr th {\n",
       "        vertical-align: top;\n",
       "    }\n",
       "\n",
       "    .dataframe thead th {\n",
       "        text-align: right;\n",
       "    }\n",
       "</style>\n",
       "<table border=\"1\" class=\"dataframe\">\n",
       "  <thead>\n",
       "    <tr style=\"text-align: right;\">\n",
       "      <th></th>\n",
       "      <th>Name</th>\n",
       "      <th>Platform</th>\n",
       "      <th>Year_of_Release</th>\n",
       "      <th>Genre</th>\n",
       "      <th>NA_sales</th>\n",
       "      <th>EU_sales</th>\n",
       "      <th>JP_sales</th>\n",
       "      <th>Other_sales</th>\n",
       "      <th>Critic_Score</th>\n",
       "      <th>User_Score</th>\n",
       "      <th>Rating</th>\n",
       "    </tr>\n",
       "  </thead>\n",
       "  <tbody>\n",
       "    <tr>\n",
       "      <th>0</th>\n",
       "      <td>Wii Sports</td>\n",
       "      <td>Wii</td>\n",
       "      <td>2006.0</td>\n",
       "      <td>Sports</td>\n",
       "      <td>41.36</td>\n",
       "      <td>28.96</td>\n",
       "      <td>3.77</td>\n",
       "      <td>8.45</td>\n",
       "      <td>76.0</td>\n",
       "      <td>8</td>\n",
       "      <td>E</td>\n",
       "    </tr>\n",
       "    <tr>\n",
       "      <th>1</th>\n",
       "      <td>Super Mario Bros.</td>\n",
       "      <td>NES</td>\n",
       "      <td>1985.0</td>\n",
       "      <td>Platform</td>\n",
       "      <td>29.08</td>\n",
       "      <td>3.58</td>\n",
       "      <td>6.81</td>\n",
       "      <td>0.77</td>\n",
       "      <td>NaN</td>\n",
       "      <td>NaN</td>\n",
       "      <td>NaN</td>\n",
       "    </tr>\n",
       "    <tr>\n",
       "      <th>2</th>\n",
       "      <td>Mario Kart Wii</td>\n",
       "      <td>Wii</td>\n",
       "      <td>2008.0</td>\n",
       "      <td>Racing</td>\n",
       "      <td>15.68</td>\n",
       "      <td>12.76</td>\n",
       "      <td>3.79</td>\n",
       "      <td>3.29</td>\n",
       "      <td>82.0</td>\n",
       "      <td>8.3</td>\n",
       "      <td>E</td>\n",
       "    </tr>\n",
       "    <tr>\n",
       "      <th>3</th>\n",
       "      <td>Wii Sports Resort</td>\n",
       "      <td>Wii</td>\n",
       "      <td>2009.0</td>\n",
       "      <td>Sports</td>\n",
       "      <td>15.61</td>\n",
       "      <td>10.93</td>\n",
       "      <td>3.28</td>\n",
       "      <td>2.95</td>\n",
       "      <td>80.0</td>\n",
       "      <td>8</td>\n",
       "      <td>E</td>\n",
       "    </tr>\n",
       "    <tr>\n",
       "      <th>4</th>\n",
       "      <td>Pokemon Red/Pokemon Blue</td>\n",
       "      <td>GB</td>\n",
       "      <td>1996.0</td>\n",
       "      <td>Role-Playing</td>\n",
       "      <td>11.27</td>\n",
       "      <td>8.89</td>\n",
       "      <td>10.22</td>\n",
       "      <td>1.00</td>\n",
       "      <td>NaN</td>\n",
       "      <td>NaN</td>\n",
       "      <td>NaN</td>\n",
       "    </tr>\n",
       "    <tr>\n",
       "      <th>5</th>\n",
       "      <td>Tetris</td>\n",
       "      <td>GB</td>\n",
       "      <td>1989.0</td>\n",
       "      <td>Puzzle</td>\n",
       "      <td>23.20</td>\n",
       "      <td>2.26</td>\n",
       "      <td>4.22</td>\n",
       "      <td>0.58</td>\n",
       "      <td>NaN</td>\n",
       "      <td>NaN</td>\n",
       "      <td>NaN</td>\n",
       "    </tr>\n",
       "    <tr>\n",
       "      <th>6</th>\n",
       "      <td>New Super Mario Bros.</td>\n",
       "      <td>DS</td>\n",
       "      <td>2006.0</td>\n",
       "      <td>Platform</td>\n",
       "      <td>11.28</td>\n",
       "      <td>9.14</td>\n",
       "      <td>6.50</td>\n",
       "      <td>2.88</td>\n",
       "      <td>89.0</td>\n",
       "      <td>8.5</td>\n",
       "      <td>E</td>\n",
       "    </tr>\n",
       "    <tr>\n",
       "      <th>7</th>\n",
       "      <td>Wii Play</td>\n",
       "      <td>Wii</td>\n",
       "      <td>2006.0</td>\n",
       "      <td>Misc</td>\n",
       "      <td>13.96</td>\n",
       "      <td>9.18</td>\n",
       "      <td>2.93</td>\n",
       "      <td>2.84</td>\n",
       "      <td>58.0</td>\n",
       "      <td>6.6</td>\n",
       "      <td>E</td>\n",
       "    </tr>\n",
       "    <tr>\n",
       "      <th>8</th>\n",
       "      <td>New Super Mario Bros. Wii</td>\n",
       "      <td>Wii</td>\n",
       "      <td>2009.0</td>\n",
       "      <td>Platform</td>\n",
       "      <td>14.44</td>\n",
       "      <td>6.94</td>\n",
       "      <td>4.70</td>\n",
       "      <td>2.24</td>\n",
       "      <td>87.0</td>\n",
       "      <td>8.4</td>\n",
       "      <td>E</td>\n",
       "    </tr>\n",
       "    <tr>\n",
       "      <th>9</th>\n",
       "      <td>Duck Hunt</td>\n",
       "      <td>NES</td>\n",
       "      <td>1984.0</td>\n",
       "      <td>Shooter</td>\n",
       "      <td>26.93</td>\n",
       "      <td>0.63</td>\n",
       "      <td>0.28</td>\n",
       "      <td>0.47</td>\n",
       "      <td>NaN</td>\n",
       "      <td>NaN</td>\n",
       "      <td>NaN</td>\n",
       "    </tr>\n",
       "  </tbody>\n",
       "</table>\n",
       "</div>"
      ],
      "text/plain": [
       "                        Name Platform  Year_of_Release         Genre  \\\n",
       "0                 Wii Sports      Wii           2006.0        Sports   \n",
       "1          Super Mario Bros.      NES           1985.0      Platform   \n",
       "2             Mario Kart Wii      Wii           2008.0        Racing   \n",
       "3          Wii Sports Resort      Wii           2009.0        Sports   \n",
       "4   Pokemon Red/Pokemon Blue       GB           1996.0  Role-Playing   \n",
       "5                     Tetris       GB           1989.0        Puzzle   \n",
       "6      New Super Mario Bros.       DS           2006.0      Platform   \n",
       "7                   Wii Play      Wii           2006.0          Misc   \n",
       "8  New Super Mario Bros. Wii      Wii           2009.0      Platform   \n",
       "9                  Duck Hunt      NES           1984.0       Shooter   \n",
       "\n",
       "   NA_sales  EU_sales  JP_sales  Other_sales  Critic_Score User_Score Rating  \n",
       "0     41.36     28.96      3.77         8.45          76.0          8      E  \n",
       "1     29.08      3.58      6.81         0.77           NaN        NaN    NaN  \n",
       "2     15.68     12.76      3.79         3.29          82.0        8.3      E  \n",
       "3     15.61     10.93      3.28         2.95          80.0          8      E  \n",
       "4     11.27      8.89     10.22         1.00           NaN        NaN    NaN  \n",
       "5     23.20      2.26      4.22         0.58           NaN        NaN    NaN  \n",
       "6     11.28      9.14      6.50         2.88          89.0        8.5      E  \n",
       "7     13.96      9.18      2.93         2.84          58.0        6.6      E  \n",
       "8     14.44      6.94      4.70         2.24          87.0        8.4      E  \n",
       "9     26.93      0.63      0.28         0.47           NaN        NaN    NaN  "
      ]
     },
     "execution_count": 3,
     "metadata": {},
     "output_type": "execute_result"
    }
   ],
   "source": [
    "pd.set_option('display.max_rows', None)#параметр для выводы всего датафрейма\n",
    "data_games.head(10)"
   ]
  },
  {
   "cell_type": "code",
   "execution_count": 4,
   "metadata": {},
   "outputs": [
    {
     "name": "stdout",
     "output_type": "stream",
     "text": [
      "<class 'pandas.core.frame.DataFrame'>\n",
      "RangeIndex: 16715 entries, 0 to 16714\n",
      "Data columns (total 11 columns):\n",
      " #   Column           Non-Null Count  Dtype  \n",
      "---  ------           --------------  -----  \n",
      " 0   Name             16713 non-null  object \n",
      " 1   Platform         16715 non-null  object \n",
      " 2   Year_of_Release  16446 non-null  float64\n",
      " 3   Genre            16713 non-null  object \n",
      " 4   NA_sales         16715 non-null  float64\n",
      " 5   EU_sales         16715 non-null  float64\n",
      " 6   JP_sales         16715 non-null  float64\n",
      " 7   Other_sales      16715 non-null  float64\n",
      " 8   Critic_Score     8137 non-null   float64\n",
      " 9   User_Score       10014 non-null  object \n",
      " 10  Rating           9949 non-null   object \n",
      "dtypes: float64(6), object(5)\n",
      "memory usage: 1.4+ MB\n"
     ]
    }
   ],
   "source": [
    "data_games.info()"
   ]
  },
  {
   "cell_type": "code",
   "execution_count": 5,
   "metadata": {},
   "outputs": [
    {
     "data": {
      "text/plain": [
       "Name                  2\n",
       "Platform              0\n",
       "Year_of_Release     269\n",
       "Genre                 2\n",
       "NA_sales              0\n",
       "EU_sales              0\n",
       "JP_sales              0\n",
       "Other_sales           0\n",
       "Critic_Score       8578\n",
       "User_Score         6701\n",
       "Rating             6766\n",
       "dtype: int64"
      ]
     },
     "execution_count": 5,
     "metadata": {},
     "output_type": "execute_result"
    }
   ],
   "source": [
    "data_games.isna().sum() # посмотрим количество пропущенных значений в каждом столбце"
   ]
  },
  {
   "cell_type": "code",
   "execution_count": 6,
   "metadata": {},
   "outputs": [
    {
     "data": {
      "text/html": [
       "<div>\n",
       "<style scoped>\n",
       "    .dataframe tbody tr th:only-of-type {\n",
       "        vertical-align: middle;\n",
       "    }\n",
       "\n",
       "    .dataframe tbody tr th {\n",
       "        vertical-align: top;\n",
       "    }\n",
       "\n",
       "    .dataframe thead th {\n",
       "        text-align: right;\n",
       "    }\n",
       "</style>\n",
       "<table border=\"1\" class=\"dataframe\">\n",
       "  <thead>\n",
       "    <tr style=\"text-align: right;\">\n",
       "      <th></th>\n",
       "      <th>Name</th>\n",
       "      <th>Platform</th>\n",
       "      <th>Year_of_Release</th>\n",
       "      <th>Genre</th>\n",
       "      <th>NA_sales</th>\n",
       "      <th>EU_sales</th>\n",
       "      <th>JP_sales</th>\n",
       "      <th>Other_sales</th>\n",
       "      <th>Critic_Score</th>\n",
       "      <th>User_Score</th>\n",
       "      <th>Rating</th>\n",
       "    </tr>\n",
       "  </thead>\n",
       "  <tbody>\n",
       "    <tr>\n",
       "      <th>659</th>\n",
       "      <td>NaN</td>\n",
       "      <td>GEN</td>\n",
       "      <td>1993.0</td>\n",
       "      <td>NaN</td>\n",
       "      <td>1.78</td>\n",
       "      <td>0.53</td>\n",
       "      <td>0.00</td>\n",
       "      <td>0.08</td>\n",
       "      <td>NaN</td>\n",
       "      <td>NaN</td>\n",
       "      <td>NaN</td>\n",
       "    </tr>\n",
       "    <tr>\n",
       "      <th>14244</th>\n",
       "      <td>NaN</td>\n",
       "      <td>GEN</td>\n",
       "      <td>1993.0</td>\n",
       "      <td>NaN</td>\n",
       "      <td>0.00</td>\n",
       "      <td>0.00</td>\n",
       "      <td>0.03</td>\n",
       "      <td>0.00</td>\n",
       "      <td>NaN</td>\n",
       "      <td>NaN</td>\n",
       "      <td>NaN</td>\n",
       "    </tr>\n",
       "  </tbody>\n",
       "</table>\n",
       "</div>"
      ],
      "text/plain": [
       "      Name Platform  Year_of_Release Genre  NA_sales  EU_sales  JP_sales  \\\n",
       "659    NaN      GEN           1993.0   NaN      1.78      0.53      0.00   \n",
       "14244  NaN      GEN           1993.0   NaN      0.00      0.00      0.03   \n",
       "\n",
       "       Other_sales  Critic_Score User_Score Rating  \n",
       "659           0.08           NaN        NaN    NaN  \n",
       "14244         0.00           NaN        NaN    NaN  "
      ]
     },
     "execution_count": 6,
     "metadata": {},
     "output_type": "execute_result"
    }
   ],
   "source": [
    "data_games[data_games['Name'].isna()] #количество пропущенных значений в столбце \"Name\""
   ]
  },
  {
   "cell_type": "code",
   "execution_count": 7,
   "metadata": {
    "scrolled": true
   },
   "outputs": [
    {
     "data": {
      "text/html": [
       "<div>\n",
       "<style scoped>\n",
       "    .dataframe tbody tr th:only-of-type {\n",
       "        vertical-align: middle;\n",
       "    }\n",
       "\n",
       "    .dataframe tbody tr th {\n",
       "        vertical-align: top;\n",
       "    }\n",
       "\n",
       "    .dataframe thead th {\n",
       "        text-align: right;\n",
       "    }\n",
       "</style>\n",
       "<table border=\"1\" class=\"dataframe\">\n",
       "  <thead>\n",
       "    <tr style=\"text-align: right;\">\n",
       "      <th></th>\n",
       "      <th>Name</th>\n",
       "      <th>Platform</th>\n",
       "      <th>Year_of_Release</th>\n",
       "      <th>Genre</th>\n",
       "      <th>NA_sales</th>\n",
       "      <th>EU_sales</th>\n",
       "      <th>JP_sales</th>\n",
       "      <th>Other_sales</th>\n",
       "      <th>Critic_Score</th>\n",
       "      <th>User_Score</th>\n",
       "      <th>Rating</th>\n",
       "    </tr>\n",
       "  </thead>\n",
       "  <tbody>\n",
       "    <tr>\n",
       "      <th>183</th>\n",
       "      <td>Madden NFL 2004</td>\n",
       "      <td>PS2</td>\n",
       "      <td>NaN</td>\n",
       "      <td>Sports</td>\n",
       "      <td>4.26</td>\n",
       "      <td>0.26</td>\n",
       "      <td>0.01</td>\n",
       "      <td>0.71</td>\n",
       "      <td>94.0</td>\n",
       "      <td>8.5</td>\n",
       "      <td>E</td>\n",
       "    </tr>\n",
       "    <tr>\n",
       "      <th>377</th>\n",
       "      <td>FIFA Soccer 2004</td>\n",
       "      <td>PS2</td>\n",
       "      <td>NaN</td>\n",
       "      <td>Sports</td>\n",
       "      <td>0.59</td>\n",
       "      <td>2.36</td>\n",
       "      <td>0.04</td>\n",
       "      <td>0.51</td>\n",
       "      <td>84.0</td>\n",
       "      <td>6.4</td>\n",
       "      <td>E</td>\n",
       "    </tr>\n",
       "    <tr>\n",
       "      <th>456</th>\n",
       "      <td>LEGO Batman: The Videogame</td>\n",
       "      <td>Wii</td>\n",
       "      <td>NaN</td>\n",
       "      <td>Action</td>\n",
       "      <td>1.80</td>\n",
       "      <td>0.97</td>\n",
       "      <td>0.00</td>\n",
       "      <td>0.29</td>\n",
       "      <td>74.0</td>\n",
       "      <td>7.9</td>\n",
       "      <td>E10+</td>\n",
       "    </tr>\n",
       "    <tr>\n",
       "      <th>475</th>\n",
       "      <td>wwe Smackdown vs. Raw 2006</td>\n",
       "      <td>PS2</td>\n",
       "      <td>NaN</td>\n",
       "      <td>Fighting</td>\n",
       "      <td>1.57</td>\n",
       "      <td>1.02</td>\n",
       "      <td>0.00</td>\n",
       "      <td>0.41</td>\n",
       "      <td>NaN</td>\n",
       "      <td>NaN</td>\n",
       "      <td>NaN</td>\n",
       "    </tr>\n",
       "    <tr>\n",
       "      <th>609</th>\n",
       "      <td>Space Invaders</td>\n",
       "      <td>2600</td>\n",
       "      <td>NaN</td>\n",
       "      <td>Shooter</td>\n",
       "      <td>2.36</td>\n",
       "      <td>0.14</td>\n",
       "      <td>0.00</td>\n",
       "      <td>0.03</td>\n",
       "      <td>NaN</td>\n",
       "      <td>NaN</td>\n",
       "      <td>NaN</td>\n",
       "    </tr>\n",
       "  </tbody>\n",
       "</table>\n",
       "</div>"
      ],
      "text/plain": [
       "                           Name Platform  Year_of_Release     Genre  NA_sales  \\\n",
       "183             Madden NFL 2004      PS2              NaN    Sports      4.26   \n",
       "377            FIFA Soccer 2004      PS2              NaN    Sports      0.59   \n",
       "456  LEGO Batman: The Videogame      Wii              NaN    Action      1.80   \n",
       "475  wwe Smackdown vs. Raw 2006      PS2              NaN  Fighting      1.57   \n",
       "609              Space Invaders     2600              NaN   Shooter      2.36   \n",
       "\n",
       "     EU_sales  JP_sales  Other_sales  Critic_Score User_Score Rating  \n",
       "183      0.26      0.01         0.71          94.0        8.5      E  \n",
       "377      2.36      0.04         0.51          84.0        6.4      E  \n",
       "456      0.97      0.00         0.29          74.0        7.9   E10+  \n",
       "475      1.02      0.00         0.41           NaN        NaN    NaN  \n",
       "609      0.14      0.00         0.03           NaN        NaN    NaN  "
      ]
     },
     "execution_count": 7,
     "metadata": {},
     "output_type": "execute_result"
    }
   ],
   "source": [
    "data_games[data_games['Year_of_Release'].isna()].head() #количество пропущенных значений в столбце \"Year_of_Release\""
   ]
  },
  {
   "cell_type": "code",
   "execution_count": 8,
   "metadata": {},
   "outputs": [
    {
     "data": {
      "text/html": [
       "<div>\n",
       "<style scoped>\n",
       "    .dataframe tbody tr th:only-of-type {\n",
       "        vertical-align: middle;\n",
       "    }\n",
       "\n",
       "    .dataframe tbody tr th {\n",
       "        vertical-align: top;\n",
       "    }\n",
       "\n",
       "    .dataframe thead th {\n",
       "        text-align: right;\n",
       "    }\n",
       "</style>\n",
       "<table border=\"1\" class=\"dataframe\">\n",
       "  <thead>\n",
       "    <tr style=\"text-align: right;\">\n",
       "      <th></th>\n",
       "      <th>Name</th>\n",
       "      <th>Platform</th>\n",
       "      <th>Year_of_Release</th>\n",
       "      <th>Genre</th>\n",
       "      <th>NA_sales</th>\n",
       "      <th>EU_sales</th>\n",
       "      <th>JP_sales</th>\n",
       "      <th>Other_sales</th>\n",
       "      <th>Critic_Score</th>\n",
       "      <th>User_Score</th>\n",
       "      <th>Rating</th>\n",
       "    </tr>\n",
       "  </thead>\n",
       "  <tbody>\n",
       "    <tr>\n",
       "      <th>659</th>\n",
       "      <td>NaN</td>\n",
       "      <td>GEN</td>\n",
       "      <td>1993.0</td>\n",
       "      <td>NaN</td>\n",
       "      <td>1.78</td>\n",
       "      <td>0.53</td>\n",
       "      <td>0.00</td>\n",
       "      <td>0.08</td>\n",
       "      <td>NaN</td>\n",
       "      <td>NaN</td>\n",
       "      <td>NaN</td>\n",
       "    </tr>\n",
       "    <tr>\n",
       "      <th>14244</th>\n",
       "      <td>NaN</td>\n",
       "      <td>GEN</td>\n",
       "      <td>1993.0</td>\n",
       "      <td>NaN</td>\n",
       "      <td>0.00</td>\n",
       "      <td>0.00</td>\n",
       "      <td>0.03</td>\n",
       "      <td>0.00</td>\n",
       "      <td>NaN</td>\n",
       "      <td>NaN</td>\n",
       "      <td>NaN</td>\n",
       "    </tr>\n",
       "  </tbody>\n",
       "</table>\n",
       "</div>"
      ],
      "text/plain": [
       "      Name Platform  Year_of_Release Genre  NA_sales  EU_sales  JP_sales  \\\n",
       "659    NaN      GEN           1993.0   NaN      1.78      0.53      0.00   \n",
       "14244  NaN      GEN           1993.0   NaN      0.00      0.00      0.03   \n",
       "\n",
       "       Other_sales  Critic_Score User_Score Rating  \n",
       "659           0.08           NaN        NaN    NaN  \n",
       "14244         0.00           NaN        NaN    NaN  "
      ]
     },
     "execution_count": 8,
     "metadata": {},
     "output_type": "execute_result"
    }
   ],
   "source": [
    "data_games[data_games['Genre'].isna()] #количество пропущенных значений в столбце \"Genre\""
   ]
  },
  {
   "cell_type": "code",
   "execution_count": 9,
   "metadata": {},
   "outputs": [
    {
     "data": {
      "text/html": [
       "<div>\n",
       "<style scoped>\n",
       "    .dataframe tbody tr th:only-of-type {\n",
       "        vertical-align: middle;\n",
       "    }\n",
       "\n",
       "    .dataframe tbody tr th {\n",
       "        vertical-align: top;\n",
       "    }\n",
       "\n",
       "    .dataframe thead th {\n",
       "        text-align: right;\n",
       "    }\n",
       "</style>\n",
       "<table border=\"1\" class=\"dataframe\">\n",
       "  <thead>\n",
       "    <tr style=\"text-align: right;\">\n",
       "      <th></th>\n",
       "      <th>Name</th>\n",
       "      <th>Platform</th>\n",
       "      <th>Year_of_Release</th>\n",
       "      <th>Genre</th>\n",
       "      <th>NA_sales</th>\n",
       "      <th>EU_sales</th>\n",
       "      <th>JP_sales</th>\n",
       "      <th>Other_sales</th>\n",
       "      <th>Critic_Score</th>\n",
       "      <th>User_Score</th>\n",
       "      <th>Rating</th>\n",
       "    </tr>\n",
       "  </thead>\n",
       "  <tbody>\n",
       "    <tr>\n",
       "      <th>1</th>\n",
       "      <td>Super Mario Bros.</td>\n",
       "      <td>NES</td>\n",
       "      <td>1985.0</td>\n",
       "      <td>Platform</td>\n",
       "      <td>29.08</td>\n",
       "      <td>3.58</td>\n",
       "      <td>6.81</td>\n",
       "      <td>0.77</td>\n",
       "      <td>NaN</td>\n",
       "      <td>NaN</td>\n",
       "      <td>NaN</td>\n",
       "    </tr>\n",
       "    <tr>\n",
       "      <th>4</th>\n",
       "      <td>Pokemon Red/Pokemon Blue</td>\n",
       "      <td>GB</td>\n",
       "      <td>1996.0</td>\n",
       "      <td>Role-Playing</td>\n",
       "      <td>11.27</td>\n",
       "      <td>8.89</td>\n",
       "      <td>10.22</td>\n",
       "      <td>1.00</td>\n",
       "      <td>NaN</td>\n",
       "      <td>NaN</td>\n",
       "      <td>NaN</td>\n",
       "    </tr>\n",
       "    <tr>\n",
       "      <th>5</th>\n",
       "      <td>Tetris</td>\n",
       "      <td>GB</td>\n",
       "      <td>1989.0</td>\n",
       "      <td>Puzzle</td>\n",
       "      <td>23.20</td>\n",
       "      <td>2.26</td>\n",
       "      <td>4.22</td>\n",
       "      <td>0.58</td>\n",
       "      <td>NaN</td>\n",
       "      <td>NaN</td>\n",
       "      <td>NaN</td>\n",
       "    </tr>\n",
       "    <tr>\n",
       "      <th>9</th>\n",
       "      <td>Duck Hunt</td>\n",
       "      <td>NES</td>\n",
       "      <td>1984.0</td>\n",
       "      <td>Shooter</td>\n",
       "      <td>26.93</td>\n",
       "      <td>0.63</td>\n",
       "      <td>0.28</td>\n",
       "      <td>0.47</td>\n",
       "      <td>NaN</td>\n",
       "      <td>NaN</td>\n",
       "      <td>NaN</td>\n",
       "    </tr>\n",
       "    <tr>\n",
       "      <th>10</th>\n",
       "      <td>Nintendogs</td>\n",
       "      <td>DS</td>\n",
       "      <td>2005.0</td>\n",
       "      <td>Simulation</td>\n",
       "      <td>9.05</td>\n",
       "      <td>10.95</td>\n",
       "      <td>1.93</td>\n",
       "      <td>2.74</td>\n",
       "      <td>NaN</td>\n",
       "      <td>NaN</td>\n",
       "      <td>NaN</td>\n",
       "    </tr>\n",
       "  </tbody>\n",
       "</table>\n",
       "</div>"
      ],
      "text/plain": [
       "                        Name Platform  Year_of_Release         Genre  \\\n",
       "1          Super Mario Bros.      NES           1985.0      Platform   \n",
       "4   Pokemon Red/Pokemon Blue       GB           1996.0  Role-Playing   \n",
       "5                     Tetris       GB           1989.0        Puzzle   \n",
       "9                  Duck Hunt      NES           1984.0       Shooter   \n",
       "10                Nintendogs       DS           2005.0    Simulation   \n",
       "\n",
       "    NA_sales  EU_sales  JP_sales  Other_sales  Critic_Score User_Score Rating  \n",
       "1      29.08      3.58      6.81         0.77           NaN        NaN    NaN  \n",
       "4      11.27      8.89     10.22         1.00           NaN        NaN    NaN  \n",
       "5      23.20      2.26      4.22         0.58           NaN        NaN    NaN  \n",
       "9      26.93      0.63      0.28         0.47           NaN        NaN    NaN  \n",
       "10      9.05     10.95      1.93         2.74           NaN        NaN    NaN  "
      ]
     },
     "execution_count": 9,
     "metadata": {},
     "output_type": "execute_result"
    }
   ],
   "source": [
    "data_games[data_games['Critic_Score'].isna()].head() #количество пропущенных значений в столбце \"Critic_Score\""
   ]
  },
  {
   "cell_type": "code",
   "execution_count": 10,
   "metadata": {},
   "outputs": [
    {
     "data": {
      "text/html": [
       "<div>\n",
       "<style scoped>\n",
       "    .dataframe tbody tr th:only-of-type {\n",
       "        vertical-align: middle;\n",
       "    }\n",
       "\n",
       "    .dataframe tbody tr th {\n",
       "        vertical-align: top;\n",
       "    }\n",
       "\n",
       "    .dataframe thead th {\n",
       "        text-align: right;\n",
       "    }\n",
       "</style>\n",
       "<table border=\"1\" class=\"dataframe\">\n",
       "  <thead>\n",
       "    <tr style=\"text-align: right;\">\n",
       "      <th></th>\n",
       "      <th>Name</th>\n",
       "      <th>Platform</th>\n",
       "      <th>Year_of_Release</th>\n",
       "      <th>Genre</th>\n",
       "      <th>NA_sales</th>\n",
       "      <th>EU_sales</th>\n",
       "      <th>JP_sales</th>\n",
       "      <th>Other_sales</th>\n",
       "      <th>Critic_Score</th>\n",
       "      <th>User_Score</th>\n",
       "      <th>Rating</th>\n",
       "    </tr>\n",
       "  </thead>\n",
       "  <tbody>\n",
       "    <tr>\n",
       "      <th>1</th>\n",
       "      <td>Super Mario Bros.</td>\n",
       "      <td>NES</td>\n",
       "      <td>1985.0</td>\n",
       "      <td>Platform</td>\n",
       "      <td>29.08</td>\n",
       "      <td>3.58</td>\n",
       "      <td>6.81</td>\n",
       "      <td>0.77</td>\n",
       "      <td>NaN</td>\n",
       "      <td>NaN</td>\n",
       "      <td>NaN</td>\n",
       "    </tr>\n",
       "    <tr>\n",
       "      <th>4</th>\n",
       "      <td>Pokemon Red/Pokemon Blue</td>\n",
       "      <td>GB</td>\n",
       "      <td>1996.0</td>\n",
       "      <td>Role-Playing</td>\n",
       "      <td>11.27</td>\n",
       "      <td>8.89</td>\n",
       "      <td>10.22</td>\n",
       "      <td>1.00</td>\n",
       "      <td>NaN</td>\n",
       "      <td>NaN</td>\n",
       "      <td>NaN</td>\n",
       "    </tr>\n",
       "    <tr>\n",
       "      <th>5</th>\n",
       "      <td>Tetris</td>\n",
       "      <td>GB</td>\n",
       "      <td>1989.0</td>\n",
       "      <td>Puzzle</td>\n",
       "      <td>23.20</td>\n",
       "      <td>2.26</td>\n",
       "      <td>4.22</td>\n",
       "      <td>0.58</td>\n",
       "      <td>NaN</td>\n",
       "      <td>NaN</td>\n",
       "      <td>NaN</td>\n",
       "    </tr>\n",
       "    <tr>\n",
       "      <th>9</th>\n",
       "      <td>Duck Hunt</td>\n",
       "      <td>NES</td>\n",
       "      <td>1984.0</td>\n",
       "      <td>Shooter</td>\n",
       "      <td>26.93</td>\n",
       "      <td>0.63</td>\n",
       "      <td>0.28</td>\n",
       "      <td>0.47</td>\n",
       "      <td>NaN</td>\n",
       "      <td>NaN</td>\n",
       "      <td>NaN</td>\n",
       "    </tr>\n",
       "    <tr>\n",
       "      <th>10</th>\n",
       "      <td>Nintendogs</td>\n",
       "      <td>DS</td>\n",
       "      <td>2005.0</td>\n",
       "      <td>Simulation</td>\n",
       "      <td>9.05</td>\n",
       "      <td>10.95</td>\n",
       "      <td>1.93</td>\n",
       "      <td>2.74</td>\n",
       "      <td>NaN</td>\n",
       "      <td>NaN</td>\n",
       "      <td>NaN</td>\n",
       "    </tr>\n",
       "  </tbody>\n",
       "</table>\n",
       "</div>"
      ],
      "text/plain": [
       "                        Name Platform  Year_of_Release         Genre  \\\n",
       "1          Super Mario Bros.      NES           1985.0      Platform   \n",
       "4   Pokemon Red/Pokemon Blue       GB           1996.0  Role-Playing   \n",
       "5                     Tetris       GB           1989.0        Puzzle   \n",
       "9                  Duck Hunt      NES           1984.0       Shooter   \n",
       "10                Nintendogs       DS           2005.0    Simulation   \n",
       "\n",
       "    NA_sales  EU_sales  JP_sales  Other_sales  Critic_Score User_Score Rating  \n",
       "1      29.08      3.58      6.81         0.77           NaN        NaN    NaN  \n",
       "4      11.27      8.89     10.22         1.00           NaN        NaN    NaN  \n",
       "5      23.20      2.26      4.22         0.58           NaN        NaN    NaN  \n",
       "9      26.93      0.63      0.28         0.47           NaN        NaN    NaN  \n",
       "10      9.05     10.95      1.93         2.74           NaN        NaN    NaN  "
      ]
     },
     "execution_count": 10,
     "metadata": {},
     "output_type": "execute_result"
    }
   ],
   "source": [
    "data_games[data_games['User_Score'].isna()].head() #количество пропущенных значений в столбце \"User_Score\""
   ]
  },
  {
   "cell_type": "code",
   "execution_count": 11,
   "metadata": {
    "scrolled": true
   },
   "outputs": [
    {
     "data": {
      "text/html": [
       "<div>\n",
       "<style scoped>\n",
       "    .dataframe tbody tr th:only-of-type {\n",
       "        vertical-align: middle;\n",
       "    }\n",
       "\n",
       "    .dataframe tbody tr th {\n",
       "        vertical-align: top;\n",
       "    }\n",
       "\n",
       "    .dataframe thead th {\n",
       "        text-align: right;\n",
       "    }\n",
       "</style>\n",
       "<table border=\"1\" class=\"dataframe\">\n",
       "  <thead>\n",
       "    <tr style=\"text-align: right;\">\n",
       "      <th></th>\n",
       "      <th>Name</th>\n",
       "      <th>Platform</th>\n",
       "      <th>Year_of_Release</th>\n",
       "      <th>Genre</th>\n",
       "      <th>NA_sales</th>\n",
       "      <th>EU_sales</th>\n",
       "      <th>JP_sales</th>\n",
       "      <th>Other_sales</th>\n",
       "      <th>Critic_Score</th>\n",
       "      <th>User_Score</th>\n",
       "      <th>Rating</th>\n",
       "    </tr>\n",
       "  </thead>\n",
       "  <tbody>\n",
       "    <tr>\n",
       "      <th>1</th>\n",
       "      <td>Super Mario Bros.</td>\n",
       "      <td>NES</td>\n",
       "      <td>1985.0</td>\n",
       "      <td>Platform</td>\n",
       "      <td>29.08</td>\n",
       "      <td>3.58</td>\n",
       "      <td>6.81</td>\n",
       "      <td>0.77</td>\n",
       "      <td>NaN</td>\n",
       "      <td>NaN</td>\n",
       "      <td>NaN</td>\n",
       "    </tr>\n",
       "    <tr>\n",
       "      <th>4</th>\n",
       "      <td>Pokemon Red/Pokemon Blue</td>\n",
       "      <td>GB</td>\n",
       "      <td>1996.0</td>\n",
       "      <td>Role-Playing</td>\n",
       "      <td>11.27</td>\n",
       "      <td>8.89</td>\n",
       "      <td>10.22</td>\n",
       "      <td>1.00</td>\n",
       "      <td>NaN</td>\n",
       "      <td>NaN</td>\n",
       "      <td>NaN</td>\n",
       "    </tr>\n",
       "    <tr>\n",
       "      <th>5</th>\n",
       "      <td>Tetris</td>\n",
       "      <td>GB</td>\n",
       "      <td>1989.0</td>\n",
       "      <td>Puzzle</td>\n",
       "      <td>23.20</td>\n",
       "      <td>2.26</td>\n",
       "      <td>4.22</td>\n",
       "      <td>0.58</td>\n",
       "      <td>NaN</td>\n",
       "      <td>NaN</td>\n",
       "      <td>NaN</td>\n",
       "    </tr>\n",
       "    <tr>\n",
       "      <th>9</th>\n",
       "      <td>Duck Hunt</td>\n",
       "      <td>NES</td>\n",
       "      <td>1984.0</td>\n",
       "      <td>Shooter</td>\n",
       "      <td>26.93</td>\n",
       "      <td>0.63</td>\n",
       "      <td>0.28</td>\n",
       "      <td>0.47</td>\n",
       "      <td>NaN</td>\n",
       "      <td>NaN</td>\n",
       "      <td>NaN</td>\n",
       "    </tr>\n",
       "    <tr>\n",
       "      <th>10</th>\n",
       "      <td>Nintendogs</td>\n",
       "      <td>DS</td>\n",
       "      <td>2005.0</td>\n",
       "      <td>Simulation</td>\n",
       "      <td>9.05</td>\n",
       "      <td>10.95</td>\n",
       "      <td>1.93</td>\n",
       "      <td>2.74</td>\n",
       "      <td>NaN</td>\n",
       "      <td>NaN</td>\n",
       "      <td>NaN</td>\n",
       "    </tr>\n",
       "  </tbody>\n",
       "</table>\n",
       "</div>"
      ],
      "text/plain": [
       "                        Name Platform  Year_of_Release         Genre  \\\n",
       "1          Super Mario Bros.      NES           1985.0      Platform   \n",
       "4   Pokemon Red/Pokemon Blue       GB           1996.0  Role-Playing   \n",
       "5                     Tetris       GB           1989.0        Puzzle   \n",
       "9                  Duck Hunt      NES           1984.0       Shooter   \n",
       "10                Nintendogs       DS           2005.0    Simulation   \n",
       "\n",
       "    NA_sales  EU_sales  JP_sales  Other_sales  Critic_Score User_Score Rating  \n",
       "1      29.08      3.58      6.81         0.77           NaN        NaN    NaN  \n",
       "4      11.27      8.89     10.22         1.00           NaN        NaN    NaN  \n",
       "5      23.20      2.26      4.22         0.58           NaN        NaN    NaN  \n",
       "9      26.93      0.63      0.28         0.47           NaN        NaN    NaN  \n",
       "10      9.05     10.95      1.93         2.74           NaN        NaN    NaN  "
      ]
     },
     "execution_count": 11,
     "metadata": {},
     "output_type": "execute_result"
    }
   ],
   "source": [
    "data_games[data_games['Rating'].isna()].head() #количество пропущенных значений в столбце \"Rating\""
   ]
  },
  {
   "cell_type": "markdown",
   "metadata": {},
   "source": [
    "***Вывод по первому шагу:***\n",
    "\n",
    "*Используются 3 категориальных типа переменных(Name, Platform, Genre, Rating) и 7 количественных(Year_of_Release, NA_sales, EU_sales, JP_sales, Other_sales, Critic_Score, User_Score);*\n",
    "\n",
    "*Не во всех столбцах корректные типы данных, есть пропуски.*"
   ]
  },
  {
   "cell_type": "markdown",
   "metadata": {},
   "source": [
    "## Подготовка данных"
   ]
  },
  {
   "cell_type": "markdown",
   "metadata": {},
   "source": [
    "***Заменим названия столбцов,приведя их к нижнему регистру***"
   ]
  },
  {
   "cell_type": "code",
   "execution_count": 12,
   "metadata": {},
   "outputs": [
    {
     "data": {
      "text/plain": [
       "Index(['name', 'platform', 'year_of_release', 'genre', 'na_sales', 'eu_sales',\n",
       "       'jp_sales', 'other_sales', 'critic_score', 'user_score', 'rating'],\n",
       "      dtype='object')"
      ]
     },
     "execution_count": 12,
     "metadata": {},
     "output_type": "execute_result"
    }
   ],
   "source": [
    "data_games.columns = data_games.columns.str.lower()\n",
    "data_games.columns"
   ]
  },
  {
   "cell_type": "code",
   "execution_count": 13,
   "metadata": {},
   "outputs": [
    {
     "data": {
      "text/html": [
       "<div>\n",
       "<style scoped>\n",
       "    .dataframe tbody tr th:only-of-type {\n",
       "        vertical-align: middle;\n",
       "    }\n",
       "\n",
       "    .dataframe tbody tr th {\n",
       "        vertical-align: top;\n",
       "    }\n",
       "\n",
       "    .dataframe thead th {\n",
       "        text-align: right;\n",
       "    }\n",
       "</style>\n",
       "<table border=\"1\" class=\"dataframe\">\n",
       "  <thead>\n",
       "    <tr style=\"text-align: right;\">\n",
       "      <th></th>\n",
       "      <th>name</th>\n",
       "      <th>platform</th>\n",
       "      <th>year_of_release</th>\n",
       "      <th>genre</th>\n",
       "      <th>na_sales</th>\n",
       "      <th>eu_sales</th>\n",
       "      <th>jp_sales</th>\n",
       "      <th>other_sales</th>\n",
       "      <th>critic_score</th>\n",
       "      <th>user_score</th>\n",
       "      <th>rating</th>\n",
       "    </tr>\n",
       "  </thead>\n",
       "  <tbody>\n",
       "    <tr>\n",
       "      <th>0</th>\n",
       "      <td>Wii Sports</td>\n",
       "      <td>Wii</td>\n",
       "      <td>2006.0</td>\n",
       "      <td>Sports</td>\n",
       "      <td>41.36</td>\n",
       "      <td>28.96</td>\n",
       "      <td>3.77</td>\n",
       "      <td>8.45</td>\n",
       "      <td>76.0</td>\n",
       "      <td>8</td>\n",
       "      <td>E</td>\n",
       "    </tr>\n",
       "  </tbody>\n",
       "</table>\n",
       "</div>"
      ],
      "text/plain": [
       "         name platform  year_of_release   genre  na_sales  eu_sales  jp_sales  \\\n",
       "0  Wii Sports      Wii           2006.0  Sports     41.36     28.96      3.77   \n",
       "\n",
       "   other_sales  critic_score user_score rating  \n",
       "0         8.45          76.0          8      E  "
      ]
     },
     "execution_count": 13,
     "metadata": {},
     "output_type": "execute_result"
    }
   ],
   "source": [
    "data_games.head(1)"
   ]
  },
  {
   "cell_type": "markdown",
   "metadata": {},
   "source": [
    "***Преобразуем данные в нужные типы***"
   ]
  },
  {
   "cell_type": "markdown",
   "metadata": {},
   "source": [
    "***Преобразуем 'year_of_release' в тип int, так как год - это целое число***"
   ]
  },
  {
   "cell_type": "code",
   "execution_count": 14,
   "metadata": {},
   "outputs": [],
   "source": [
    "data_games['year_of_release'] = data_games['year_of_release'].astype('Int64')"
   ]
  },
  {
   "cell_type": "markdown",
   "metadata": {},
   "source": [
    "***Значение tbd(To Be Determined - \"Будет определено\") означает, что оценки нет, поэтому заменим на NaN***"
   ]
  },
  {
   "cell_type": "code",
   "execution_count": 15,
   "metadata": {},
   "outputs": [],
   "source": [
    "data_games['user_score'] = data_games['user_score'].replace('tbd', np.nan, regex=True)"
   ]
  },
  {
   "cell_type": "markdown",
   "metadata": {},
   "source": [
    "***Преобраузем 'user_score' в тип float, так как оценка пользователя - это вещественное число***"
   ]
  },
  {
   "cell_type": "code",
   "execution_count": 16,
   "metadata": {},
   "outputs": [],
   "source": [
    "data_games['user_score'] = data_games['user_score'].astype('float')"
   ]
  },
  {
   "cell_type": "code",
   "execution_count": 17,
   "metadata": {},
   "outputs": [
    {
     "name": "stdout",
     "output_type": "stream",
     "text": [
      "<class 'pandas.core.frame.DataFrame'>\n",
      "RangeIndex: 16715 entries, 0 to 16714\n",
      "Data columns (total 11 columns):\n",
      " #   Column           Non-Null Count  Dtype  \n",
      "---  ------           --------------  -----  \n",
      " 0   name             16713 non-null  object \n",
      " 1   platform         16715 non-null  object \n",
      " 2   year_of_release  16446 non-null  Int64  \n",
      " 3   genre            16713 non-null  object \n",
      " 4   na_sales         16715 non-null  float64\n",
      " 5   eu_sales         16715 non-null  float64\n",
      " 6   jp_sales         16715 non-null  float64\n",
      " 7   other_sales      16715 non-null  float64\n",
      " 8   critic_score     8137 non-null   float64\n",
      " 9   user_score       7590 non-null   float64\n",
      " 10  rating           9949 non-null   object \n",
      "dtypes: Int64(1), float64(6), object(4)\n",
      "memory usage: 1.4+ MB\n"
     ]
    }
   ],
   "source": [
    "data_games.info()"
   ]
  },
  {
   "cell_type": "markdown",
   "metadata": {},
   "source": [
    "***Найдем пропуски и удалим их***"
   ]
  },
  {
   "cell_type": "code",
   "execution_count": 18,
   "metadata": {},
   "outputs": [
    {
     "data": {
      "text/plain": [
       "24742"
      ]
     },
     "execution_count": 18,
     "metadata": {},
     "output_type": "execute_result"
    }
   ],
   "source": [
    "data_games.isnull().sum().sum () #пропуски во всём датафрейме"
   ]
  },
  {
   "cell_type": "code",
   "execution_count": 19,
   "metadata": {},
   "outputs": [
    {
     "data": {
      "text/plain": [
       "0.01609332934489979"
      ]
     },
     "execution_count": 19,
     "metadata": {},
     "output_type": "execute_result"
    }
   ],
   "source": [
    "data_games['year_of_release'].isna().sum()/ len(data_games['year_of_release'])#доля пропусков"
   ]
  },
  {
   "cell_type": "code",
   "execution_count": 20,
   "metadata": {},
   "outputs": [
    {
     "data": {
      "text/plain": [
       "269"
      ]
     },
     "execution_count": 20,
     "metadata": {},
     "output_type": "execute_result"
    }
   ],
   "source": [
    "data_games['year_of_release'].isna().sum() #общее количество пропущенных значений в столбце 'year_of_release'"
   ]
  },
  {
   "cell_type": "markdown",
   "metadata": {},
   "source": [
    "*Причиной пропущенных значений в \"year of release\"мог стать человеческий фактор, возоможно,забыли перенести данные. Но так же вполне вероятна и техническая ошибка*"
   ]
  },
  {
   "cell_type": "code",
   "execution_count": 21,
   "metadata": {},
   "outputs": [],
   "source": [
    "data_games = data_games.dropna(subset=['year_of_release']).reset_index(drop = True)"
   ]
  },
  {
   "cell_type": "code",
   "execution_count": 22,
   "metadata": {},
   "outputs": [
    {
     "data": {
      "text/plain": [
       "0"
      ]
     },
     "execution_count": 22,
     "metadata": {},
     "output_type": "execute_result"
    }
   ],
   "source": [
    "data_games['year_of_release'].isna().sum()"
   ]
  },
  {
   "cell_type": "code",
   "execution_count": 23,
   "metadata": {},
   "outputs": [
    {
     "data": {
      "text/plain": [
       "2"
      ]
     },
     "execution_count": 23,
     "metadata": {},
     "output_type": "execute_result"
    }
   ],
   "source": [
    "data_games['name'].isna().sum()\n",
    "#общее количество пропущенных значений в столбце 'name'"
   ]
  },
  {
   "cell_type": "code",
   "execution_count": 24,
   "metadata": {},
   "outputs": [
    {
     "data": {
      "text/plain": [
       "0.00012161011796181443"
      ]
     },
     "execution_count": 24,
     "metadata": {},
     "output_type": "execute_result"
    }
   ],
   "source": [
    "data_games['name'].isna().sum()/ len(data_games['name'])#доля пропусков"
   ]
  },
  {
   "cell_type": "code",
   "execution_count": 25,
   "metadata": {},
   "outputs": [
    {
     "data": {
      "text/html": [
       "<div>\n",
       "<style scoped>\n",
       "    .dataframe tbody tr th:only-of-type {\n",
       "        vertical-align: middle;\n",
       "    }\n",
       "\n",
       "    .dataframe tbody tr th {\n",
       "        vertical-align: top;\n",
       "    }\n",
       "\n",
       "    .dataframe thead th {\n",
       "        text-align: right;\n",
       "    }\n",
       "</style>\n",
       "<table border=\"1\" class=\"dataframe\">\n",
       "  <thead>\n",
       "    <tr style=\"text-align: right;\">\n",
       "      <th></th>\n",
       "      <th>name</th>\n",
       "      <th>platform</th>\n",
       "      <th>year_of_release</th>\n",
       "      <th>genre</th>\n",
       "      <th>na_sales</th>\n",
       "      <th>eu_sales</th>\n",
       "      <th>jp_sales</th>\n",
       "      <th>other_sales</th>\n",
       "      <th>critic_score</th>\n",
       "      <th>user_score</th>\n",
       "      <th>rating</th>\n",
       "    </tr>\n",
       "  </thead>\n",
       "  <tbody>\n",
       "    <tr>\n",
       "      <th>652</th>\n",
       "      <td>NaN</td>\n",
       "      <td>GEN</td>\n",
       "      <td>1993</td>\n",
       "      <td>NaN</td>\n",
       "      <td>1.78</td>\n",
       "      <td>0.53</td>\n",
       "      <td>0.00</td>\n",
       "      <td>0.08</td>\n",
       "      <td>NaN</td>\n",
       "      <td>NaN</td>\n",
       "      <td>NaN</td>\n",
       "    </tr>\n",
       "    <tr>\n",
       "      <th>14022</th>\n",
       "      <td>NaN</td>\n",
       "      <td>GEN</td>\n",
       "      <td>1993</td>\n",
       "      <td>NaN</td>\n",
       "      <td>0.00</td>\n",
       "      <td>0.00</td>\n",
       "      <td>0.03</td>\n",
       "      <td>0.00</td>\n",
       "      <td>NaN</td>\n",
       "      <td>NaN</td>\n",
       "      <td>NaN</td>\n",
       "    </tr>\n",
       "  </tbody>\n",
       "</table>\n",
       "</div>"
      ],
      "text/plain": [
       "      name platform  year_of_release genre  na_sales  eu_sales  jp_sales  \\\n",
       "652    NaN      GEN             1993   NaN      1.78      0.53      0.00   \n",
       "14022  NaN      GEN             1993   NaN      0.00      0.00      0.03   \n",
       "\n",
       "       other_sales  critic_score  user_score rating  \n",
       "652           0.08           NaN         NaN    NaN  \n",
       "14022         0.00           NaN         NaN    NaN  "
      ]
     },
     "execution_count": 25,
     "metadata": {},
     "output_type": "execute_result"
    }
   ],
   "source": [
    "data_games.query('name!= name')"
   ]
  },
  {
   "cell_type": "markdown",
   "metadata": {},
   "source": [
    "*Исходя из значений в таблице, 2 строки с пропущенными именами имеют значительное количество пропусков и в других стобцах, поэтому целесообразно избавиться от них. Возможно, данные отсутсвуют, потому что игра была настолько непопулярной, что ей и названия не придумали. Просто чья-то разработка во имя интереса так сказать))))*  "
   ]
  },
  {
   "cell_type": "code",
   "execution_count": 26,
   "metadata": {},
   "outputs": [],
   "source": [
    "data_games = data_games.dropna(subset=['name']).reset_index(drop = True)"
   ]
  },
  {
   "cell_type": "code",
   "execution_count": 27,
   "metadata": {},
   "outputs": [
    {
     "data": {
      "text/plain": [
       "0"
      ]
     },
     "execution_count": 27,
     "metadata": {},
     "output_type": "execute_result"
    }
   ],
   "source": [
    "data_games['name'].isna().sum()"
   ]
  },
  {
   "cell_type": "markdown",
   "metadata": {},
   "source": [
    "***Найдем дубликаты по столбцам name, platform, year_of_release и удалим их***"
   ]
  },
  {
   "cell_type": "code",
   "execution_count": 28,
   "metadata": {},
   "outputs": [
    {
     "data": {
      "text/html": [
       "<div>\n",
       "<style scoped>\n",
       "    .dataframe tbody tr th:only-of-type {\n",
       "        vertical-align: middle;\n",
       "    }\n",
       "\n",
       "    .dataframe tbody tr th {\n",
       "        vertical-align: top;\n",
       "    }\n",
       "\n",
       "    .dataframe thead th {\n",
       "        text-align: right;\n",
       "    }\n",
       "</style>\n",
       "<table border=\"1\" class=\"dataframe\">\n",
       "  <thead>\n",
       "    <tr style=\"text-align: right;\">\n",
       "      <th></th>\n",
       "      <th>name</th>\n",
       "      <th>platform</th>\n",
       "      <th>year_of_release</th>\n",
       "      <th>genre</th>\n",
       "      <th>na_sales</th>\n",
       "      <th>eu_sales</th>\n",
       "      <th>jp_sales</th>\n",
       "      <th>other_sales</th>\n",
       "      <th>critic_score</th>\n",
       "      <th>user_score</th>\n",
       "      <th>rating</th>\n",
       "    </tr>\n",
       "  </thead>\n",
       "  <tbody>\n",
       "    <tr>\n",
       "      <th>600</th>\n",
       "      <td>Madden NFL 13</td>\n",
       "      <td>PS3</td>\n",
       "      <td>2012</td>\n",
       "      <td>Sports</td>\n",
       "      <td>2.11</td>\n",
       "      <td>0.22</td>\n",
       "      <td>0.0</td>\n",
       "      <td>0.23</td>\n",
       "      <td>83.0</td>\n",
       "      <td>5.5</td>\n",
       "      <td>E</td>\n",
       "    </tr>\n",
       "    <tr>\n",
       "      <th>15969</th>\n",
       "      <td>Madden NFL 13</td>\n",
       "      <td>PS3</td>\n",
       "      <td>2012</td>\n",
       "      <td>Sports</td>\n",
       "      <td>0.00</td>\n",
       "      <td>0.01</td>\n",
       "      <td>0.0</td>\n",
       "      <td>0.00</td>\n",
       "      <td>83.0</td>\n",
       "      <td>5.5</td>\n",
       "      <td>E</td>\n",
       "    </tr>\n",
       "  </tbody>\n",
       "</table>\n",
       "</div>"
      ],
      "text/plain": [
       "                name platform  year_of_release   genre  na_sales  eu_sales  \\\n",
       "600    Madden NFL 13      PS3             2012  Sports      2.11      0.22   \n",
       "15969  Madden NFL 13      PS3             2012  Sports      0.00      0.01   \n",
       "\n",
       "       jp_sales  other_sales  critic_score  user_score rating  \n",
       "600         0.0         0.23          83.0         5.5      E  \n",
       "15969       0.0         0.00          83.0         5.5      E  "
      ]
     },
     "metadata": {},
     "output_type": "display_data"
    }
   ],
   "source": [
    "display(data_games.loc[data_games.duplicated(subset=['name', 'platform', 'year_of_release'], keep=False)]) "
   ]
  },
  {
   "cell_type": "code",
   "execution_count": 29,
   "metadata": {},
   "outputs": [],
   "source": [
    "data_games = data_games.drop_duplicates(subset=['name', 'platform', 'year_of_release'], keep='first')"
   ]
  },
  {
   "cell_type": "code",
   "execution_count": 30,
   "metadata": {},
   "outputs": [
    {
     "data": {
      "text/plain": [
       "0"
      ]
     },
     "execution_count": 30,
     "metadata": {},
     "output_type": "execute_result"
    }
   ],
   "source": [
    "data_games.duplicated().sum()"
   ]
  },
  {
   "cell_type": "code",
   "execution_count": 31,
   "metadata": {},
   "outputs": [],
   "source": [
    "data_games['rating'] = data_games['rating'].fillna('unknown')"
   ]
  },
  {
   "cell_type": "code",
   "execution_count": 32,
   "metadata": {},
   "outputs": [],
   "source": [
    "data_games = data_games.loc[data_games['name'].notnull()] #удаляем строки с незаполненным значением в \"name\""
   ]
  },
  {
   "cell_type": "markdown",
   "metadata": {},
   "source": [
    "***Посчитаем суммарные продажи во всех регионах и запишем  их в отдельный столбец***"
   ]
  },
  {
   "cell_type": "code",
   "execution_count": 33,
   "metadata": {},
   "outputs": [],
   "source": [
    "data_games['sum_sales'] = data_games['na_sales'] + data_games['eu_sales'] + data_games['jp_sales'] + data_games['other_sales']"
   ]
  },
  {
   "cell_type": "code",
   "execution_count": 34,
   "metadata": {},
   "outputs": [
    {
     "data": {
      "text/html": [
       "<div>\n",
       "<style scoped>\n",
       "    .dataframe tbody tr th:only-of-type {\n",
       "        vertical-align: middle;\n",
       "    }\n",
       "\n",
       "    .dataframe tbody tr th {\n",
       "        vertical-align: top;\n",
       "    }\n",
       "\n",
       "    .dataframe thead th {\n",
       "        text-align: right;\n",
       "    }\n",
       "</style>\n",
       "<table border=\"1\" class=\"dataframe\">\n",
       "  <thead>\n",
       "    <tr style=\"text-align: right;\">\n",
       "      <th></th>\n",
       "      <th>name</th>\n",
       "      <th>platform</th>\n",
       "      <th>year_of_release</th>\n",
       "      <th>genre</th>\n",
       "      <th>na_sales</th>\n",
       "      <th>eu_sales</th>\n",
       "      <th>jp_sales</th>\n",
       "      <th>other_sales</th>\n",
       "      <th>critic_score</th>\n",
       "      <th>user_score</th>\n",
       "      <th>rating</th>\n",
       "      <th>sum_sales</th>\n",
       "    </tr>\n",
       "  </thead>\n",
       "  <tbody>\n",
       "    <tr>\n",
       "      <th>0</th>\n",
       "      <td>Wii Sports</td>\n",
       "      <td>Wii</td>\n",
       "      <td>2006</td>\n",
       "      <td>Sports</td>\n",
       "      <td>41.36</td>\n",
       "      <td>28.96</td>\n",
       "      <td>3.77</td>\n",
       "      <td>8.45</td>\n",
       "      <td>76.0</td>\n",
       "      <td>8.0</td>\n",
       "      <td>E</td>\n",
       "      <td>82.54</td>\n",
       "    </tr>\n",
       "  </tbody>\n",
       "</table>\n",
       "</div>"
      ],
      "text/plain": [
       "         name platform  year_of_release   genre  na_sales  eu_sales  jp_sales  \\\n",
       "0  Wii Sports      Wii             2006  Sports     41.36     28.96      3.77   \n",
       "\n",
       "   other_sales  critic_score  user_score rating  sum_sales  \n",
       "0         8.45          76.0         8.0      E      82.54  "
      ]
     },
     "execution_count": 34,
     "metadata": {},
     "output_type": "execute_result"
    }
   ],
   "source": [
    "data_games.head(1)#своего рода проверка"
   ]
  },
  {
   "cell_type": "markdown",
   "metadata": {},
   "source": [
    "***Вывод по второму шагу:***\n",
    "\n",
    "*1.Название столбцов было приведено к нижнему регистру;*\n",
    "\n",
    "*2.Восстановлены пропуски в строках;*\n",
    "\n",
    "*3.Добавлен столбец суммарных продаж.*"
   ]
  },
  {
   "cell_type": "markdown",
   "metadata": {},
   "source": [
    "## Проведём исследовательский анализ данных"
   ]
  },
  {
   "cell_type": "markdown",
   "metadata": {},
   "source": [
    "***Посмотрим, сколько игр выпускалось в разные годы***"
   ]
  },
  {
   "cell_type": "code",
   "execution_count": 35,
   "metadata": {},
   "outputs": [
    {
     "data": {
      "text/plain": [
       "2008    1427\n",
       "2009    1426\n",
       "2010    1255\n",
       "2007    1197\n",
       "2011    1136\n",
       "2006    1006\n",
       "2005     939\n",
       "2002     829\n",
       "2003     775\n",
       "2004     762\n",
       "2012     652\n",
       "2015     606\n",
       "2014     581\n",
       "2013     544\n",
       "2016     502\n",
       "2001     482\n",
       "1998     379\n",
       "2000     350\n",
       "1999     338\n",
       "1997     289\n",
       "1996     263\n",
       "1995     219\n",
       "1994     121\n",
       "1993      60\n",
       "1981      46\n",
       "1992      43\n",
       "1991      41\n",
       "1982      36\n",
       "1986      21\n",
       "1983      17\n",
       "1989      17\n",
       "1990      16\n",
       "1987      16\n",
       "1988      15\n",
       "1985      14\n",
       "1984      14\n",
       "1980       9\n",
       "Name: year_of_release, dtype: Int64"
      ]
     },
     "execution_count": 35,
     "metadata": {},
     "output_type": "execute_result"
    }
   ],
   "source": [
    "data_games['year_of_release'].value_counts()"
   ]
  },
  {
   "cell_type": "code",
   "execution_count": 36,
   "metadata": {},
   "outputs": [
    {
     "data": {
      "text/plain": [
       "Text(0, 0.5, 'Количество')"
      ]
     },
     "execution_count": 36,
     "metadata": {},
     "output_type": "execute_result"
    },
    {
     "data": {
      "image/png": "[encoded data removed]",
      "text/plain": [
       "<Figure size 576x432 with 1 Axes>"
      ]
     },
     "metadata": {
      "needs_background": "light"
     },
     "output_type": "display_data"
    }
   ],
   "source": [
    "data_games['year_of_release'].value_counts().sort_index().plot(kind = 'bar', figsize = (8,6),\n",
    "                                 grid = True,color = 'olive').set_title('Годовая статистика выпуска игр')\n",
    "plt.xlabel(\"Год\")\n",
    "plt.ylabel(\"Количество\")"
   ]
  },
  {
   "cell_type": "markdown",
   "metadata": {},
   "source": [
    "*Больше всего игр выпускалось в период с 2006 по 2010, а пиком стал 2008 год. Могу предположить, что такой рост связан с Мировым экономическим кризисом, люди теряли работу и погружались в виртуальный мир. Еще одним вариантом спроса на игры в те времена можно считать развитие цифровых технологий.*"
   ]
  },
  {
   "cell_type": "markdown",
   "metadata": {},
   "source": [
    "***Посмотрим, как менялись продажи по платформам***"
   ]
  },
  {
   "cell_type": "code",
   "execution_count": 37,
   "metadata": {},
   "outputs": [
    {
     "data": {
      "text/html": [
       "<div>\n",
       "<style scoped>\n",
       "    .dataframe tbody tr th:only-of-type {\n",
       "        vertical-align: middle;\n",
       "    }\n",
       "\n",
       "    .dataframe tbody tr th {\n",
       "        vertical-align: top;\n",
       "    }\n",
       "\n",
       "    .dataframe thead th {\n",
       "        text-align: right;\n",
       "    }\n",
       "</style>\n",
       "<table border=\"1\" class=\"dataframe\">\n",
       "  <thead>\n",
       "    <tr style=\"text-align: right;\">\n",
       "      <th></th>\n",
       "      <th>sum_sales</th>\n",
       "    </tr>\n",
       "    <tr>\n",
       "      <th>platform</th>\n",
       "      <th></th>\n",
       "    </tr>\n",
       "  </thead>\n",
       "  <tbody>\n",
       "    <tr>\n",
       "      <th>PCFX</th>\n",
       "      <td>0.03</td>\n",
       "    </tr>\n",
       "    <tr>\n",
       "      <th>GG</th>\n",
       "      <td>0.04</td>\n",
       "    </tr>\n",
       "    <tr>\n",
       "      <th>3DO</th>\n",
       "      <td>0.10</td>\n",
       "    </tr>\n",
       "    <tr>\n",
       "      <th>TG16</th>\n",
       "      <td>0.16</td>\n",
       "    </tr>\n",
       "    <tr>\n",
       "      <th>WS</th>\n",
       "      <td>1.42</td>\n",
       "    </tr>\n",
       "    <tr>\n",
       "      <th>NG</th>\n",
       "      <td>1.44</td>\n",
       "    </tr>\n",
       "    <tr>\n",
       "      <th>SCD</th>\n",
       "      <td>1.86</td>\n",
       "    </tr>\n",
       "    <tr>\n",
       "      <th>DC</th>\n",
       "      <td>15.95</td>\n",
       "    </tr>\n",
       "    <tr>\n",
       "      <th>GEN</th>\n",
       "      <td>28.35</td>\n",
       "    </tr>\n",
       "    <tr>\n",
       "      <th>SAT</th>\n",
       "      <td>33.59</td>\n",
       "    </tr>\n",
       "    <tr>\n",
       "      <th>PSV</th>\n",
       "      <td>53.81</td>\n",
       "    </tr>\n",
       "    <tr>\n",
       "      <th>WiiU</th>\n",
       "      <td>82.19</td>\n",
       "    </tr>\n",
       "    <tr>\n",
       "      <th>2600</th>\n",
       "      <td>86.48</td>\n",
       "    </tr>\n",
       "    <tr>\n",
       "      <th>XOne</th>\n",
       "      <td>159.32</td>\n",
       "    </tr>\n",
       "    <tr>\n",
       "      <th>GC</th>\n",
       "      <td>196.73</td>\n",
       "    </tr>\n",
       "    <tr>\n",
       "      <th>SNES</th>\n",
       "      <td>200.04</td>\n",
       "    </tr>\n",
       "    <tr>\n",
       "      <th>N64</th>\n",
       "      <td>218.01</td>\n",
       "    </tr>\n",
       "    <tr>\n",
       "      <th>NES</th>\n",
       "      <td>251.05</td>\n",
       "    </tr>\n",
       "    <tr>\n",
       "      <th>XB</th>\n",
       "      <td>251.57</td>\n",
       "    </tr>\n",
       "    <tr>\n",
       "      <th>GB</th>\n",
       "      <td>254.43</td>\n",
       "    </tr>\n",
       "    <tr>\n",
       "      <th>PC</th>\n",
       "      <td>255.76</td>\n",
       "    </tr>\n",
       "    <tr>\n",
       "      <th>3DS</th>\n",
       "      <td>257.81</td>\n",
       "    </tr>\n",
       "    <tr>\n",
       "      <th>PSP</th>\n",
       "      <td>289.53</td>\n",
       "    </tr>\n",
       "    <tr>\n",
       "      <th>GBA</th>\n",
       "      <td>312.88</td>\n",
       "    </tr>\n",
       "    <tr>\n",
       "      <th>PS4</th>\n",
       "      <td>314.14</td>\n",
       "    </tr>\n",
       "    <tr>\n",
       "      <th>PS</th>\n",
       "      <td>727.58</td>\n",
       "    </tr>\n",
       "    <tr>\n",
       "      <th>DS</th>\n",
       "      <td>802.78</td>\n",
       "    </tr>\n",
       "    <tr>\n",
       "      <th>Wii</th>\n",
       "      <td>891.18</td>\n",
       "    </tr>\n",
       "    <tr>\n",
       "      <th>PS3</th>\n",
       "      <td>931.33</td>\n",
       "    </tr>\n",
       "    <tr>\n",
       "      <th>X360</th>\n",
       "      <td>961.24</td>\n",
       "    </tr>\n",
       "    <tr>\n",
       "      <th>PS2</th>\n",
       "      <td>1233.56</td>\n",
       "    </tr>\n",
       "  </tbody>\n",
       "</table>\n",
       "</div>"
      ],
      "text/plain": [
       "          sum_sales\n",
       "platform           \n",
       "PCFX           0.03\n",
       "GG             0.04\n",
       "3DO            0.10\n",
       "TG16           0.16\n",
       "WS             1.42\n",
       "NG             1.44\n",
       "SCD            1.86\n",
       "DC            15.95\n",
       "GEN           28.35\n",
       "SAT           33.59\n",
       "PSV           53.81\n",
       "WiiU          82.19\n",
       "2600          86.48\n",
       "XOne         159.32\n",
       "GC           196.73\n",
       "SNES         200.04\n",
       "N64          218.01\n",
       "NES          251.05\n",
       "XB           251.57\n",
       "GB           254.43\n",
       "PC           255.76\n",
       "3DS          257.81\n",
       "PSP          289.53\n",
       "GBA          312.88\n",
       "PS4          314.14\n",
       "PS           727.58\n",
       "DS           802.78\n",
       "Wii          891.18\n",
       "PS3          931.33\n",
       "X360         961.24\n",
       "PS2         1233.56"
      ]
     },
     "execution_count": 37,
     "metadata": {},
     "output_type": "execute_result"
    }
   ],
   "source": [
    "platform_sales = pd.pivot_table(data_games, index=['platform'], values='sum_sales', aggfunc='sum').sort_values('sum_sales')\n",
    "platform_sales"
   ]
  },
  {
   "cell_type": "code",
   "execution_count": 38,
   "metadata": {},
   "outputs": [
    {
     "data": {
      "text/plain": [
       "Text(0, 0.5, 'Количество продаж')"
      ]
     },
     "execution_count": 38,
     "metadata": {},
     "output_type": "execute_result"
    },
    {
     "data": {
      "image/png": "[encoded data removed]",
      "text/plain": [
       "<Figure size 576x432 with 1 Axes>"
      ]
     },
     "metadata": {
      "needs_background": "light"
     },
     "output_type": "display_data"
    }
   ],
   "source": [
    "platform_sales = pd.pivot_table(data_games, index=['platform'], values='sum_sales', aggfunc='sum').sort_values('sum_sales').plot(kind = 'bar', figsize = (8,6),\n",
    "                    grid = True,color = 'teal').set_title('Распределение суммарных продаж в зависимости от платформы')\n",
    "plt.xlabel(\"Платформа\")\n",
    "plt.ylabel(\"Количество продаж\")"
   ]
  },
  {
   "cell_type": "markdown",
   "metadata": {},
   "source": [
    "*Наибольшее количество игр выпустили платформы PS2,X360,PS3,Wii,DS.*"
   ]
  },
  {
   "cell_type": "markdown",
   "metadata": {},
   "source": [
    "***Выберим платформы с наибольшими суммарными продажами и построим распределение по годам***"
   ]
  },
  {
   "cell_type": "code",
   "execution_count": 39,
   "metadata": {},
   "outputs": [
    {
     "data": {
      "text/html": [
       "<div>\n",
       "<style scoped>\n",
       "    .dataframe tbody tr th:only-of-type {\n",
       "        vertical-align: middle;\n",
       "    }\n",
       "\n",
       "    .dataframe tbody tr th {\n",
       "        vertical-align: top;\n",
       "    }\n",
       "\n",
       "    .dataframe thead th {\n",
       "        text-align: right;\n",
       "    }\n",
       "</style>\n",
       "<table border=\"1\" class=\"dataframe\">\n",
       "  <thead>\n",
       "    <tr style=\"text-align: right;\">\n",
       "      <th></th>\n",
       "      <th>platform</th>\n",
       "      <th>sum_sales</th>\n",
       "    </tr>\n",
       "  </thead>\n",
       "  <tbody>\n",
       "    <tr>\n",
       "      <th>0</th>\n",
       "      <td>PS2</td>\n",
       "      <td>1233.56</td>\n",
       "    </tr>\n",
       "    <tr>\n",
       "      <th>1</th>\n",
       "      <td>X360</td>\n",
       "      <td>961.24</td>\n",
       "    </tr>\n",
       "    <tr>\n",
       "      <th>2</th>\n",
       "      <td>PS3</td>\n",
       "      <td>931.33</td>\n",
       "    </tr>\n",
       "    <tr>\n",
       "      <th>3</th>\n",
       "      <td>Wii</td>\n",
       "      <td>891.18</td>\n",
       "    </tr>\n",
       "    <tr>\n",
       "      <th>4</th>\n",
       "      <td>DS</td>\n",
       "      <td>802.78</td>\n",
       "    </tr>\n",
       "    <tr>\n",
       "      <th>5</th>\n",
       "      <td>PS</td>\n",
       "      <td>727.58</td>\n",
       "    </tr>\n",
       "  </tbody>\n",
       "</table>\n",
       "</div>"
      ],
      "text/plain": [
       "  platform  sum_sales\n",
       "0      PS2    1233.56\n",
       "1     X360     961.24\n",
       "2      PS3     931.33\n",
       "3      Wii     891.18\n",
       "4       DS     802.78\n",
       "5       PS     727.58"
      ]
     },
     "execution_count": 39,
     "metadata": {},
     "output_type": "execute_result"
    }
   ],
   "source": [
    "platforms_top_6 = data_games.pivot_table(index='platform', values='sum_sales', aggfunc='sum').sort_values(by='sum_sales',\n",
    "                                                    ascending=False).head(6)\n",
    "platforms_top_6 = platforms_top_6.reset_index().rename_axis(None, axis=1)\n",
    "platforms_top_6"
   ]
  },
  {
   "cell_type": "code",
   "execution_count": 40,
   "metadata": {},
   "outputs": [
    {
     "data": {
      "image/png": "[encoded data removed]",
      "text/plain": [
       "<Figure size 432x288 with 1 Axes>"
      ]
     },
     "metadata": {
      "needs_background": "light"
     },
     "output_type": "display_data"
    }
   ],
   "source": [
    "index = ['PS2','X360','PS3','Wii','DS','PS']\n",
    "values = [1233.56,961.24,931.33,891.18,802.78,727.58]\n",
    "plt.bar(index,values,color = 'salmon')                              \n",
    "plt.xlabel(\"Платформа\")\n",
    "plt.ylabel(\"Количество продаж\")\n",
    "plt.title('Распределение суммарных продаж среди топовых платформ')\n",
    "plt.show()"
   ]
  },
  {
   "cell_type": "code",
   "execution_count": 57,
   "metadata": {},
   "outputs": [
    {
     "data": {
      "text/plain": [
       "['PS2', 'X360', 'PS3', 'Wii', 'DS', 'PS']"
      ]
     },
     "execution_count": 57,
     "metadata": {},
     "output_type": "execute_result"
    }
   ],
   "source": [
    "tmp = data_games \\\n",
    "                .pivot_table(index='platform', values='sum_sales', aggfunc= 'sum') \\\n",
    "                .sort_values('sum_sales', ascending=False)\n",
    "\n",
    "tmp = tmp.index[:6].tolist()\n",
    "\n",
    "tmp"
   ]
  },
  {
   "cell_type": "code",
   "execution_count": 58,
   "metadata": {},
   "outputs": [
    {
     "data": {
      "text/plain": [
       "<AxesSubplot:xlabel='platform', ylabel='sum_sales'>"
      ]
     },
     "execution_count": 58,
     "metadata": {},
     "output_type": "execute_result"
    },
    {
     "data": {
      "image/png": "[encoded data removed]",
      "text/plain": [
       "<Figure size 432x288 with 1 Axes>"
      ]
     },
     "metadata": {
      "needs_background": "light"
     },
     "output_type": "display_data"
    }
   ],
   "source": [
    "sns.barplot(data=data_games[data_games['platform'].isin(tmp)], x='platform', y='sum_sales')"
   ]
  },
  {
   "cell_type": "markdown",
   "metadata": {},
   "source": [
    "*Больше всего продаж у PS2*"
   ]
  },
  {
   "cell_type": "code",
   "execution_count": 151,
   "metadata": {},
   "outputs": [
    {
     "data": {
      "image/png": "[encoded data removed]",
      "text/plain": [
       "<Figure size 2160x1440 with 1 Axes>"
      ]
     },
     "metadata": {
      "needs_background": "light"
     },
     "output_type": "display_data"
    }
   ],
   "source": [
    "(data_games.pivot_table(index=['platform', 'year_of_release'], values='sum_sales',\n",
    "aggfunc='sum').query('platform in [\"PS2\", \"X360\", \"PS3\",\"Wii\", \"DS\", \"PS\"]')\n",
    ".plot(y='sum_sales',kind='bar',figsize=(30,20),grid=True, color = 'palevioletred'))\n",
    "plt.xlabel(\"Год,платформа\")\n",
    "plt.ylabel(\"Количество\")\n",
    "plt.title('Изменение продаж по платформам с самыми большими суммарными объёмами продаж')\n",
    "plt.show()"
   ]
  },
  {
   "cell_type": "markdown",
   "metadata": {},
   "source": [
    "*Платформы актуальны в среднем 8 лет*"
   ]
  },
  {
   "cell_type": "markdown",
   "metadata": {},
   "source": [
    "***Выбор и анализ актуального периода для прогноза***"
   ]
  },
  {
   "cell_type": "markdown",
   "metadata": {},
   "source": [
    "***Актуальным будем считать период с  2013 по 2016 год***"
   ]
  },
  {
   "cell_type": "code",
   "execution_count": 152,
   "metadata": {},
   "outputs": [
    {
     "name": "stdout",
     "output_type": "stream",
     "text": [
      "<class 'pandas.core.frame.DataFrame'>\n",
      "Int64Index: 2233 entries, 16 to 16443\n",
      "Data columns (total 12 columns):\n",
      " #   Column           Non-Null Count  Dtype  \n",
      "---  ------           --------------  -----  \n",
      " 0   name             2233 non-null   object \n",
      " 1   platform         2233 non-null   object \n",
      " 2   year_of_release  2233 non-null   Int64  \n",
      " 3   genre            2233 non-null   object \n",
      " 4   na_sales         2233 non-null   float64\n",
      " 5   eu_sales         2233 non-null   float64\n",
      " 6   jp_sales         2233 non-null   float64\n",
      " 7   other_sales      2233 non-null   float64\n",
      " 8   critic_score     991 non-null    float64\n",
      " 9   user_score       1192 non-null   float64\n",
      " 10  rating           2233 non-null   object \n",
      " 11  sum_sales        2233 non-null   float64\n",
      "dtypes: Int64(1), float64(7), object(4)\n",
      "memory usage: 229.0+ KB\n"
     ]
    }
   ],
   "source": [
    "actual_data = data_games.query('year_of_release > 2012')\n",
    "actual_data.info()"
   ]
  },
  {
   "cell_type": "code",
   "execution_count": 153,
   "metadata": {},
   "outputs": [
    {
     "data": {
      "text/html": [
       "<div>\n",
       "<style scoped>\n",
       "    .dataframe tbody tr th:only-of-type {\n",
       "        vertical-align: middle;\n",
       "    }\n",
       "\n",
       "    .dataframe tbody tr th {\n",
       "        vertical-align: top;\n",
       "    }\n",
       "\n",
       "    .dataframe thead th {\n",
       "        text-align: right;\n",
       "    }\n",
       "</style>\n",
       "<table border=\"1\" class=\"dataframe\">\n",
       "  <thead>\n",
       "    <tr style=\"text-align: right;\">\n",
       "      <th></th>\n",
       "      <th>name</th>\n",
       "      <th>platform</th>\n",
       "      <th>year_of_release</th>\n",
       "      <th>genre</th>\n",
       "      <th>na_sales</th>\n",
       "      <th>eu_sales</th>\n",
       "      <th>jp_sales</th>\n",
       "      <th>other_sales</th>\n",
       "      <th>critic_score</th>\n",
       "      <th>user_score</th>\n",
       "      <th>rating</th>\n",
       "      <th>sum_sales</th>\n",
       "    </tr>\n",
       "  </thead>\n",
       "  <tbody>\n",
       "    <tr>\n",
       "      <th>16</th>\n",
       "      <td>Grand Theft Auto V</td>\n",
       "      <td>PS3</td>\n",
       "      <td>2013</td>\n",
       "      <td>Action</td>\n",
       "      <td>7.02</td>\n",
       "      <td>9.09</td>\n",
       "      <td>0.98</td>\n",
       "      <td>3.96</td>\n",
       "      <td>97.0</td>\n",
       "      <td>8.2</td>\n",
       "      <td>M</td>\n",
       "      <td>21.05</td>\n",
       "    </tr>\n",
       "    <tr>\n",
       "      <th>23</th>\n",
       "      <td>Grand Theft Auto V</td>\n",
       "      <td>X360</td>\n",
       "      <td>2013</td>\n",
       "      <td>Action</td>\n",
       "      <td>9.66</td>\n",
       "      <td>5.14</td>\n",
       "      <td>0.06</td>\n",
       "      <td>1.41</td>\n",
       "      <td>97.0</td>\n",
       "      <td>8.1</td>\n",
       "      <td>M</td>\n",
       "      <td>16.27</td>\n",
       "    </tr>\n",
       "    <tr>\n",
       "      <th>31</th>\n",
       "      <td>Call of Duty: Black Ops 3</td>\n",
       "      <td>PS4</td>\n",
       "      <td>2015</td>\n",
       "      <td>Shooter</td>\n",
       "      <td>6.03</td>\n",
       "      <td>5.86</td>\n",
       "      <td>0.36</td>\n",
       "      <td>2.38</td>\n",
       "      <td>NaN</td>\n",
       "      <td>NaN</td>\n",
       "      <td>unknown</td>\n",
       "      <td>14.63</td>\n",
       "    </tr>\n",
       "    <tr>\n",
       "      <th>33</th>\n",
       "      <td>Pokemon X/Pokemon Y</td>\n",
       "      <td>3DS</td>\n",
       "      <td>2013</td>\n",
       "      <td>Role-Playing</td>\n",
       "      <td>5.28</td>\n",
       "      <td>4.19</td>\n",
       "      <td>4.35</td>\n",
       "      <td>0.78</td>\n",
       "      <td>NaN</td>\n",
       "      <td>NaN</td>\n",
       "      <td>unknown</td>\n",
       "      <td>14.60</td>\n",
       "    </tr>\n",
       "    <tr>\n",
       "      <th>42</th>\n",
       "      <td>Grand Theft Auto V</td>\n",
       "      <td>PS4</td>\n",
       "      <td>2014</td>\n",
       "      <td>Action</td>\n",
       "      <td>3.96</td>\n",
       "      <td>6.31</td>\n",
       "      <td>0.38</td>\n",
       "      <td>1.97</td>\n",
       "      <td>97.0</td>\n",
       "      <td>8.3</td>\n",
       "      <td>M</td>\n",
       "      <td>12.62</td>\n",
       "    </tr>\n",
       "  </tbody>\n",
       "</table>\n",
       "</div>"
      ],
      "text/plain": [
       "                         name platform  year_of_release         genre  \\\n",
       "16         Grand Theft Auto V      PS3             2013        Action   \n",
       "23         Grand Theft Auto V     X360             2013        Action   \n",
       "31  Call of Duty: Black Ops 3      PS4             2015       Shooter   \n",
       "33        Pokemon X/Pokemon Y      3DS             2013  Role-Playing   \n",
       "42         Grand Theft Auto V      PS4             2014        Action   \n",
       "\n",
       "    na_sales  eu_sales  jp_sales  other_sales  critic_score  user_score  \\\n",
       "16      7.02      9.09      0.98         3.96          97.0         8.2   \n",
       "23      9.66      5.14      0.06         1.41          97.0         8.1   \n",
       "31      6.03      5.86      0.36         2.38           NaN         NaN   \n",
       "33      5.28      4.19      4.35         0.78           NaN         NaN   \n",
       "42      3.96      6.31      0.38         1.97          97.0         8.3   \n",
       "\n",
       "     rating  sum_sales  \n",
       "16        M      21.05  \n",
       "23        M      16.27  \n",
       "31  unknown      14.63  \n",
       "33  unknown      14.60  \n",
       "42        M      12.62  "
      ]
     },
     "execution_count": 153,
     "metadata": {},
     "output_type": "execute_result"
    }
   ],
   "source": [
    "actual_data.head()"
   ]
  },
  {
   "cell_type": "markdown",
   "metadata": {},
   "source": [
    "***Найдем лидера продаж***"
   ]
  },
  {
   "cell_type": "code",
   "execution_count": 154,
   "metadata": {},
   "outputs": [
    {
     "data": {
      "text/html": [
       "<div>\n",
       "<style scoped>\n",
       "    .dataframe tbody tr th:only-of-type {\n",
       "        vertical-align: middle;\n",
       "    }\n",
       "\n",
       "    .dataframe tbody tr th {\n",
       "        vertical-align: top;\n",
       "    }\n",
       "\n",
       "    .dataframe thead th {\n",
       "        text-align: right;\n",
       "    }\n",
       "</style>\n",
       "<table border=\"1\" class=\"dataframe\">\n",
       "  <thead>\n",
       "    <tr style=\"text-align: right;\">\n",
       "      <th></th>\n",
       "      <th>sum_sales</th>\n",
       "    </tr>\n",
       "    <tr>\n",
       "      <th>platform</th>\n",
       "      <th></th>\n",
       "    </tr>\n",
       "  </thead>\n",
       "  <tbody>\n",
       "    <tr>\n",
       "      <th>PS4</th>\n",
       "      <td>314.14</td>\n",
       "    </tr>\n",
       "    <tr>\n",
       "      <th>PS3</th>\n",
       "      <td>181.43</td>\n",
       "    </tr>\n",
       "    <tr>\n",
       "      <th>XOne</th>\n",
       "      <td>159.32</td>\n",
       "    </tr>\n",
       "    <tr>\n",
       "      <th>3DS</th>\n",
       "      <td>143.25</td>\n",
       "    </tr>\n",
       "    <tr>\n",
       "      <th>X360</th>\n",
       "      <td>136.80</td>\n",
       "    </tr>\n",
       "    <tr>\n",
       "      <th>WiiU</th>\n",
       "      <td>64.63</td>\n",
       "    </tr>\n",
       "    <tr>\n",
       "      <th>PC</th>\n",
       "      <td>39.43</td>\n",
       "    </tr>\n",
       "    <tr>\n",
       "      <th>PSV</th>\n",
       "      <td>32.99</td>\n",
       "    </tr>\n",
       "    <tr>\n",
       "      <th>Wii</th>\n",
       "      <td>13.66</td>\n",
       "    </tr>\n",
       "    <tr>\n",
       "      <th>PSP</th>\n",
       "      <td>3.50</td>\n",
       "    </tr>\n",
       "    <tr>\n",
       "      <th>DS</th>\n",
       "      <td>1.54</td>\n",
       "    </tr>\n",
       "  </tbody>\n",
       "</table>\n",
       "</div>"
      ],
      "text/plain": [
       "          sum_sales\n",
       "platform           \n",
       "PS4          314.14\n",
       "PS3          181.43\n",
       "XOne         159.32\n",
       "3DS          143.25\n",
       "X360         136.80\n",
       "WiiU          64.63\n",
       "PC            39.43\n",
       "PSV           32.99\n",
       "Wii           13.66\n",
       "PSP            3.50\n",
       "DS             1.54"
      ]
     },
     "execution_count": 154,
     "metadata": {},
     "output_type": "execute_result"
    }
   ],
   "source": [
    "best_sales_platform = pd.pivot_table(actual_data, index='platform', values='sum_sales', aggfunc = 'sum')\n",
    "best_sales_platform.sort_values('sum_sales', ascending=False)"
   ]
  },
  {
   "cell_type": "markdown",
   "metadata": {},
   "source": [
    "***Построим график «ящик с усами» по глобальным продажам игр в разбивке по платформам***"
   ]
  },
  {
   "cell_type": "code",
   "execution_count": 167,
   "metadata": {},
   "outputs": [
    {
     "data": {
      "image/png": "[encoded data removed]",
      "text/plain": [
       "<Figure size 1440x720 with 1 Axes>"
      ]
     },
     "metadata": {
      "needs_background": "light"
     },
     "output_type": "display_data"
    }
   ],
   "source": [
    "plt.figure(figsize=(20, 10))\n",
    "\n",
    "sns.boxplot(data=actual_data, x='platform', y='sum_sales')\n",
    "\n",
    "plt.ylim(0, 2.5)\n",
    "\n",
    "plt.title('\"Ящики с усами\" по глобальным продажам игр')\n",
    "plt.xlabel('Продажи')\n",
    "plt.ylabel('Платформы')\n",
    "\n",
    "plt.show()"
   ]
  },
  {
   "cell_type": "markdown",
   "metadata": {},
   "source": [
    "Медианные значения у всех разнятся.Больше всех продаж X360, меньше всего у PSP."
   ]
  },
  {
   "cell_type": "markdown",
   "metadata": {},
   "source": [
    "***Как влияют на продажи внутри платформы \"X360\"  отзывы пользователей и критиков?***"
   ]
  },
  {
   "cell_type": "code",
   "execution_count": 51,
   "metadata": {},
   "outputs": [
    {
     "data": {
      "text/plain": [
       "-0.011742185147181342"
      ]
     },
     "execution_count": 51,
     "metadata": {},
     "output_type": "execute_result"
    }
   ],
   "source": [
    "actual_data.query('platform == \"X360\"')['sum_sales'].corr(actual_data.query('platform == \"X360\"')['user_score'])\n",
    "#посчитаем корреляцию"
   ]
  },
  {
   "cell_type": "markdown",
   "metadata": {},
   "source": [
    "*Объём продаж и оценки пользователей практически не коррелируют.*"
   ]
  },
  {
   "cell_type": "code",
   "execution_count": 52,
   "metadata": {},
   "outputs": [
    {
     "data": {
      "text/plain": [
       "0.3503445460228664"
      ]
     },
     "execution_count": 52,
     "metadata": {},
     "output_type": "execute_result"
    }
   ],
   "source": [
    "actual_data.query('platform == \"X360\"')['sum_sales'].corr(actual_data.query('platform == \"X360\"')['critic_score'])\n",
    "#посчитаем корреляцию"
   ]
  },
  {
   "cell_type": "markdown",
   "metadata": {},
   "source": [
    "*Объём продаж и оценки критиков коррелируют незначительно.*"
   ]
  },
  {
   "cell_type": "code",
   "execution_count": 170,
   "metadata": {},
   "outputs": [
    {
     "data": {
      "image/png": "[encoded data removed]",
      "text/plain": [
       "<Figure size 360x360 with 1 Axes>"
      ]
     },
     "metadata": {
      "needs_background": "light"
     },
     "output_type": "display_data"
    },
    {
     "data": {
      "image/png": "[encoded data removed]",
      "text/plain": [
       "<Figure size 360x360 with 1 Axes>"
      ]
     },
     "metadata": {
      "needs_background": "light"
     },
     "output_type": "display_data"
    }
   ],
   "source": [
    "sns.relplot(x='sum_sales', y='user_score',data=actual_data.query('platform == \"X360\"'),color = 'maroon')\n",
    "plt.title('Зависимость продаж на платформе X360 от оценок пользователей')\n",
    "sns.relplot(x='sum_sales', y='critic_score',data=actual_data.query('platform == \"X360\"'),color = 'maroon')\n",
    "plt.title('Зависимость продаж на платформе X360 от оценок критиков')\n",
    "plt.show()"
   ]
  },
  {
   "cell_type": "markdown",
   "metadata": {},
   "source": [
    "***Как влияют на продажи внутри других топовых платформ отзывы пользователей и критиков?***"
   ]
  },
  {
   "cell_type": "code",
   "execution_count": 176,
   "metadata": {},
   "outputs": [
    {
     "data": {
      "text/plain": [
       "0.0023944027357566925"
      ]
     },
     "execution_count": 176,
     "metadata": {},
     "output_type": "execute_result"
    }
   ],
   "source": [
    "actual_data.query('platform == \"PS3\"')['sum_sales'].corr(actual_data.query('platform == \"PS3\"')['user_score'])\n",
    "#корреляция"
   ]
  },
  {
   "cell_type": "markdown",
   "metadata": {},
   "source": [
    "*Объём продаж и оценки пользователей практически не коррелируют.*"
   ]
  },
  {
   "cell_type": "code",
   "execution_count": 168,
   "metadata": {
    "scrolled": true
   },
   "outputs": [
    {
     "data": {
      "text/plain": [
       "0.3342853393371919"
      ]
     },
     "execution_count": 168,
     "metadata": {},
     "output_type": "execute_result"
    }
   ],
   "source": [
    "actual_data.query('platform == \"PS3\"')['sum_sales'].corr(actual_data.query('platform == \"PS3\"')['critic_score'])\n",
    "#корреляция"
   ]
  },
  {
   "cell_type": "markdown",
   "metadata": {},
   "source": [
    "*Объём продаж и оценки критиков коррелируют незначительно.*"
   ]
  },
  {
   "cell_type": "code",
   "execution_count": 171,
   "metadata": {},
   "outputs": [
    {
     "data": {
      "image/png": "[encoded data removed]",
      "text/plain": [
       "<Figure size 360x360 with 1 Axes>"
      ]
     },
     "metadata": {
      "needs_background": "light"
     },
     "output_type": "display_data"
    },
    {
     "data": {
      "image/png": "[encoded data removed]",
      "text/plain": [
       "<Figure size 360x360 with 1 Axes>"
      ]
     },
     "metadata": {
      "needs_background": "light"
     },
     "output_type": "display_data"
    }
   ],
   "source": [
    "sns.relplot(x='sum_sales', y='user_score',data=actual_data.query('platform == \"PS3\"'),color = 'gold')\n",
    "plt.title('Зависимость продаж на платформе PS3 от оценок пользователей')\n",
    "sns.relplot(x='sum_sales', y='critic_score',data=actual_data.query('platform == \"PS3\"'),color = 'gold')\n",
    "plt.title('Зависимость продаж на платформе PS3 от оценок критиков')\n",
    "plt.show()"
   ]
  },
  {
   "cell_type": "code",
   "execution_count": 177,
   "metadata": {},
   "outputs": [
    {
     "data": {
      "text/plain": [
       "-0.06892505328279412"
      ]
     },
     "execution_count": 177,
     "metadata": {},
     "output_type": "execute_result"
    }
   ],
   "source": [
    "actual_data.query('platform == \"XOne\"')['sum_sales'].corr(actual_data.query('platform == \"XOne\"')['user_score'])\n",
    "#корреляция"
   ]
  },
  {
   "cell_type": "markdown",
   "metadata": {},
   "source": [
    "*Объём продаж и оценки пользователей практически не коррелируют.*"
   ]
  },
  {
   "cell_type": "code",
   "execution_count": 181,
   "metadata": {},
   "outputs": [
    {
     "data": {
      "text/plain": [
       "0.41699832800840175"
      ]
     },
     "execution_count": 181,
     "metadata": {},
     "output_type": "execute_result"
    }
   ],
   "source": [
    "actual_data.query('platform == \"XOne\"')['sum_sales'].corr(actual_data.query('platform == \"XOne\"')['critic_score'])\n",
    "#корреляция"
   ]
  },
  {
   "cell_type": "markdown",
   "metadata": {},
   "source": [
    "*Объём продаж и оценки критиков коррелируют незначительно.*"
   ]
  },
  {
   "cell_type": "code",
   "execution_count": 173,
   "metadata": {},
   "outputs": [
    {
     "data": {
      "image/png": "[encoded data removed]",
      "text/plain": [
       "<Figure size 360x360 with 1 Axes>"
      ]
     },
     "metadata": {
      "needs_background": "light"
     },
     "output_type": "display_data"
    },
    {
     "data": {
      "image/png": "[encoded data removed]",
      "text/plain": [
       "<Figure size 360x360 with 1 Axes>"
      ]
     },
     "metadata": {
      "needs_background": "light"
     },
     "output_type": "display_data"
    }
   ],
   "source": [
    "sns.relplot(x='sum_sales', y='user_score',data=actual_data.query('platform == \"XOne\"'),color = 'olivedrab')\n",
    "plt.title('Зависимость продаж на платформе XOne от оценок пользователей')\n",
    "sns.relplot(x='sum_sales', y='critic_score',data=actual_data.query('platform == \"XOne\"'),color = 'olivedrab')\n",
    "plt.title('Зависимость продаж на платформе Xone от оценок критиков')\n",
    "plt.show()"
   ]
  },
  {
   "cell_type": "code",
   "execution_count": 178,
   "metadata": {},
   "outputs": [
    {
     "data": {
      "text/plain": [
       "0.24150411773563016"
      ]
     },
     "execution_count": 178,
     "metadata": {},
     "output_type": "execute_result"
    }
   ],
   "source": [
    "actual_data.query('platform == \"3DS\"')['sum_sales'].corr(actual_data.query('platform == \"3DS\"')['user_score'])\n",
    "#корреляция"
   ]
  },
  {
   "cell_type": "markdown",
   "metadata": {},
   "source": [
    "*Объём продаж и оценки пользователей незначительно коррелируют.*"
   ]
  },
  {
   "cell_type": "code",
   "execution_count": 174,
   "metadata": {},
   "outputs": [
    {
     "data": {
      "text/plain": [
       "0.35705661422881035"
      ]
     },
     "execution_count": 174,
     "metadata": {},
     "output_type": "execute_result"
    }
   ],
   "source": [
    "actual_data.query('platform == \"3DS\"')['sum_sales'].corr(actual_data.query('platform == \"3DS\"')['critic_score'])\n",
    "#корреляция"
   ]
  },
  {
   "cell_type": "markdown",
   "metadata": {},
   "source": [
    "*Объём продаж и оценки критиков незначительно коррелируют.*"
   ]
  },
  {
   "cell_type": "code",
   "execution_count": 175,
   "metadata": {},
   "outputs": [
    {
     "data": {
      "image/png": "[encoded data removed]",
      "text/plain": [
       "<Figure size 360x360 with 1 Axes>"
      ]
     },
     "metadata": {
      "needs_background": "light"
     },
     "output_type": "display_data"
    },
    {
     "data": {
      "image/png": "[encoded data removed]",
      "text/plain": [
       "<Figure size 360x360 with 1 Axes>"
      ]
     },
     "metadata": {
      "needs_background": "light"
     },
     "output_type": "display_data"
    }
   ],
   "source": [
    "sns.relplot(x='sum_sales', y='user_score',data=actual_data.query('platform == \"3DS\"'),color = 'orange')\n",
    "plt.title('Зависимость продаж на платформе 3DS от оценок пользователей')\n",
    "sns.relplot(x='sum_sales', y='critic_score',data=actual_data.query('platform == \"3DS\"'),color = 'orange')\n",
    "plt.title('Зависимость продаж на платформе 3DS от оценок критиков')\n",
    "plt.show()"
   ]
  },
  {
   "cell_type": "markdown",
   "metadata": {},
   "source": [
    "***Посмотрим на общее распределение игр по жанрам***"
   ]
  },
  {
   "cell_type": "code",
   "execution_count": 182,
   "metadata": {},
   "outputs": [
    {
     "data": {
      "text/plain": [
       "Action          3307\n",
       "Sports          2305\n",
       "Misc            1721\n",
       "Role-Playing    1481\n",
       "Shooter         1296\n",
       "Adventure       1293\n",
       "Racing          1226\n",
       "Platform         878\n",
       "Simulation       857\n",
       "Fighting         837\n",
       "Strategy         673\n",
       "Puzzle           569\n",
       "Name: genre, dtype: int64"
      ]
     },
     "execution_count": 182,
     "metadata": {},
     "output_type": "execute_result"
    }
   ],
   "source": [
    "count_genre = data_games['genre'].value_counts()\n",
    "count_genre"
   ]
  },
  {
   "cell_type": "code",
   "execution_count": 183,
   "metadata": {},
   "outputs": [
    {
     "data": {
      "text/html": [
       "<div>\n",
       "<style scoped>\n",
       "    .dataframe tbody tr th:only-of-type {\n",
       "        vertical-align: middle;\n",
       "    }\n",
       "\n",
       "    .dataframe tbody tr th {\n",
       "        vertical-align: top;\n",
       "    }\n",
       "\n",
       "    .dataframe thead th {\n",
       "        text-align: right;\n",
       "    }\n",
       "</style>\n",
       "<table border=\"1\" class=\"dataframe\">\n",
       "  <thead>\n",
       "    <tr style=\"text-align: right;\">\n",
       "      <th></th>\n",
       "      <th>sum_sales</th>\n",
       "    </tr>\n",
       "    <tr>\n",
       "      <th>genre</th>\n",
       "      <th></th>\n",
       "    </tr>\n",
       "  </thead>\n",
       "  <tbody>\n",
       "    <tr>\n",
       "      <th>Action</th>\n",
       "      <td>321.87</td>\n",
       "    </tr>\n",
       "    <tr>\n",
       "      <th>Shooter</th>\n",
       "      <td>232.98</td>\n",
       "    </tr>\n",
       "    <tr>\n",
       "      <th>Sports</th>\n",
       "      <td>150.65</td>\n",
       "    </tr>\n",
       "    <tr>\n",
       "      <th>Role-Playing</th>\n",
       "      <td>145.89</td>\n",
       "    </tr>\n",
       "    <tr>\n",
       "      <th>Misc</th>\n",
       "      <td>62.82</td>\n",
       "    </tr>\n",
       "    <tr>\n",
       "      <th>Platform</th>\n",
       "      <td>42.63</td>\n",
       "    </tr>\n",
       "    <tr>\n",
       "      <th>Racing</th>\n",
       "      <td>39.89</td>\n",
       "    </tr>\n",
       "    <tr>\n",
       "      <th>Fighting</th>\n",
       "      <td>35.31</td>\n",
       "    </tr>\n",
       "    <tr>\n",
       "      <th>Adventure</th>\n",
       "      <td>23.64</td>\n",
       "    </tr>\n",
       "    <tr>\n",
       "      <th>Simulation</th>\n",
       "      <td>21.76</td>\n",
       "    </tr>\n",
       "    <tr>\n",
       "      <th>Strategy</th>\n",
       "      <td>10.08</td>\n",
       "    </tr>\n",
       "    <tr>\n",
       "      <th>Puzzle</th>\n",
       "      <td>3.17</td>\n",
       "    </tr>\n",
       "  </tbody>\n",
       "</table>\n",
       "</div>"
      ],
      "text/plain": [
       "              sum_sales\n",
       "genre                  \n",
       "Action           321.87\n",
       "Shooter          232.98\n",
       "Sports           150.65\n",
       "Role-Playing     145.89\n",
       "Misc              62.82\n",
       "Platform          42.63\n",
       "Racing            39.89\n",
       "Fighting          35.31\n",
       "Adventure         23.64\n",
       "Simulation        21.76\n",
       "Strategy          10.08\n",
       "Puzzle             3.17"
      ]
     },
     "execution_count": 183,
     "metadata": {},
     "output_type": "execute_result"
    }
   ],
   "source": [
    "(\n",
    "    actual_data\n",
    "    .pivot_table(index='genre', values='sum_sales', aggfunc='sum')\n",
    "    .sort_values('sum_sales', ascending=False)\n",
    ")"
   ]
  },
  {
   "cell_type": "code",
   "execution_count": 184,
   "metadata": {},
   "outputs": [
    {
     "data": {
      "text/html": [
       "<div>\n",
       "<style scoped>\n",
       "    .dataframe tbody tr th:only-of-type {\n",
       "        vertical-align: middle;\n",
       "    }\n",
       "\n",
       "    .dataframe tbody tr th {\n",
       "        vertical-align: top;\n",
       "    }\n",
       "\n",
       "    .dataframe thead th {\n",
       "        text-align: right;\n",
       "    }\n",
       "</style>\n",
       "<table border=\"1\" class=\"dataframe\">\n",
       "  <thead>\n",
       "    <tr style=\"text-align: right;\">\n",
       "      <th></th>\n",
       "      <th>count</th>\n",
       "      <th>mean</th>\n",
       "      <th>std</th>\n",
       "      <th>min</th>\n",
       "      <th>25%</th>\n",
       "      <th>50%</th>\n",
       "      <th>75%</th>\n",
       "      <th>max</th>\n",
       "    </tr>\n",
       "    <tr>\n",
       "      <th>genre</th>\n",
       "      <th></th>\n",
       "      <th></th>\n",
       "      <th></th>\n",
       "      <th></th>\n",
       "      <th></th>\n",
       "      <th></th>\n",
       "      <th></th>\n",
       "      <th></th>\n",
       "    </tr>\n",
       "  </thead>\n",
       "  <tbody>\n",
       "    <tr>\n",
       "      <th>Action</th>\n",
       "      <td>766.0</td>\n",
       "      <td>0.420196</td>\n",
       "      <td>1.253909</td>\n",
       "      <td>0.01</td>\n",
       "      <td>0.03</td>\n",
       "      <td>0.110</td>\n",
       "      <td>0.3375</td>\n",
       "      <td>21.05</td>\n",
       "    </tr>\n",
       "    <tr>\n",
       "      <th>Adventure</th>\n",
       "      <td>245.0</td>\n",
       "      <td>0.096490</td>\n",
       "      <td>0.216445</td>\n",
       "      <td>0.01</td>\n",
       "      <td>0.02</td>\n",
       "      <td>0.030</td>\n",
       "      <td>0.0700</td>\n",
       "      <td>1.66</td>\n",
       "    </tr>\n",
       "    <tr>\n",
       "      <th>Fighting</th>\n",
       "      <td>80.0</td>\n",
       "      <td>0.441375</td>\n",
       "      <td>1.048883</td>\n",
       "      <td>0.01</td>\n",
       "      <td>0.06</td>\n",
       "      <td>0.125</td>\n",
       "      <td>0.3225</td>\n",
       "      <td>7.55</td>\n",
       "    </tr>\n",
       "    <tr>\n",
       "      <th>Misc</th>\n",
       "      <td>155.0</td>\n",
       "      <td>0.405290</td>\n",
       "      <td>1.007985</td>\n",
       "      <td>0.01</td>\n",
       "      <td>0.03</td>\n",
       "      <td>0.100</td>\n",
       "      <td>0.3300</td>\n",
       "      <td>9.18</td>\n",
       "    </tr>\n",
       "    <tr>\n",
       "      <th>Platform</th>\n",
       "      <td>74.0</td>\n",
       "      <td>0.576081</td>\n",
       "      <td>0.806808</td>\n",
       "      <td>0.01</td>\n",
       "      <td>0.09</td>\n",
       "      <td>0.225</td>\n",
       "      <td>0.6275</td>\n",
       "      <td>4.32</td>\n",
       "    </tr>\n",
       "    <tr>\n",
       "      <th>Puzzle</th>\n",
       "      <td>17.0</td>\n",
       "      <td>0.186471</td>\n",
       "      <td>0.325172</td>\n",
       "      <td>0.01</td>\n",
       "      <td>0.02</td>\n",
       "      <td>0.060</td>\n",
       "      <td>0.1100</td>\n",
       "      <td>1.19</td>\n",
       "    </tr>\n",
       "    <tr>\n",
       "      <th>Racing</th>\n",
       "      <td>85.0</td>\n",
       "      <td>0.469294</td>\n",
       "      <td>0.964101</td>\n",
       "      <td>0.01</td>\n",
       "      <td>0.05</td>\n",
       "      <td>0.120</td>\n",
       "      <td>0.3800</td>\n",
       "      <td>7.09</td>\n",
       "    </tr>\n",
       "    <tr>\n",
       "      <th>Role-Playing</th>\n",
       "      <td>292.0</td>\n",
       "      <td>0.499623</td>\n",
       "      <td>1.353164</td>\n",
       "      <td>0.01</td>\n",
       "      <td>0.06</td>\n",
       "      <td>0.125</td>\n",
       "      <td>0.3825</td>\n",
       "      <td>14.60</td>\n",
       "    </tr>\n",
       "    <tr>\n",
       "      <th>Shooter</th>\n",
       "      <td>187.0</td>\n",
       "      <td>1.245882</td>\n",
       "      <td>2.014107</td>\n",
       "      <td>0.01</td>\n",
       "      <td>0.14</td>\n",
       "      <td>0.450</td>\n",
       "      <td>1.4250</td>\n",
       "      <td>14.63</td>\n",
       "    </tr>\n",
       "    <tr>\n",
       "      <th>Simulation</th>\n",
       "      <td>62.0</td>\n",
       "      <td>0.350968</td>\n",
       "      <td>0.849163</td>\n",
       "      <td>0.01</td>\n",
       "      <td>0.03</td>\n",
       "      <td>0.100</td>\n",
       "      <td>0.2950</td>\n",
       "      <td>5.22</td>\n",
       "    </tr>\n",
       "    <tr>\n",
       "      <th>Sports</th>\n",
       "      <td>214.0</td>\n",
       "      <td>0.703972</td>\n",
       "      <td>1.219237</td>\n",
       "      <td>0.01</td>\n",
       "      <td>0.07</td>\n",
       "      <td>0.240</td>\n",
       "      <td>0.7650</td>\n",
       "      <td>8.58</td>\n",
       "    </tr>\n",
       "    <tr>\n",
       "      <th>Strategy</th>\n",
       "      <td>56.0</td>\n",
       "      <td>0.180000</td>\n",
       "      <td>0.279441</td>\n",
       "      <td>0.01</td>\n",
       "      <td>0.04</td>\n",
       "      <td>0.080</td>\n",
       "      <td>0.2325</td>\n",
       "      <td>1.67</td>\n",
       "    </tr>\n",
       "  </tbody>\n",
       "</table>\n",
       "</div>"
      ],
      "text/plain": [
       "              count      mean       std   min   25%    50%     75%    max\n",
       "genre                                                                    \n",
       "Action        766.0  0.420196  1.253909  0.01  0.03  0.110  0.3375  21.05\n",
       "Adventure     245.0  0.096490  0.216445  0.01  0.02  0.030  0.0700   1.66\n",
       "Fighting       80.0  0.441375  1.048883  0.01  0.06  0.125  0.3225   7.55\n",
       "Misc          155.0  0.405290  1.007985  0.01  0.03  0.100  0.3300   9.18\n",
       "Platform       74.0  0.576081  0.806808  0.01  0.09  0.225  0.6275   4.32\n",
       "Puzzle         17.0  0.186471  0.325172  0.01  0.02  0.060  0.1100   1.19\n",
       "Racing         85.0  0.469294  0.964101  0.01  0.05  0.120  0.3800   7.09\n",
       "Role-Playing  292.0  0.499623  1.353164  0.01  0.06  0.125  0.3825  14.60\n",
       "Shooter       187.0  1.245882  2.014107  0.01  0.14  0.450  1.4250  14.63\n",
       "Simulation     62.0  0.350968  0.849163  0.01  0.03  0.100  0.2950   5.22\n",
       "Sports        214.0  0.703972  1.219237  0.01  0.07  0.240  0.7650   8.58\n",
       "Strategy       56.0  0.180000  0.279441  0.01  0.04  0.080  0.2325   1.67"
      ]
     },
     "execution_count": 184,
     "metadata": {},
     "output_type": "execute_result"
    }
   ],
   "source": [
    "actual_data.groupby('genre')['sum_sales'].describe()"
   ]
  },
  {
   "cell_type": "markdown",
   "metadata": {},
   "source": [
    "*У наиболее прибыльных жанров наблюдаем значительную разницу между средними и медианными значениями и большое значение стандартных отклонений, что свидетельствует о неоднородности данных.*\n",
    "\n",
    "*Для жанров, приносящих меньше прибыли характерно более низкое стандартное отклонение, но разница между медианой и средним всё же довольно высокая.*\n",
    "\n",
    "*После рассмотрения медианных и средних значений можно сделать заключение: жанром-лидером со стабильными продажами с большим отрывом от конкурентов является Shooter.*"
   ]
  },
  {
   "cell_type": "code",
   "execution_count": 196,
   "metadata": {},
   "outputs": [
    {
     "data": {
      "text/html": [
       "<div>\n",
       "<style scoped>\n",
       "    .dataframe tbody tr th:only-of-type {\n",
       "        vertical-align: middle;\n",
       "    }\n",
       "\n",
       "    .dataframe tbody tr th {\n",
       "        vertical-align: top;\n",
       "    }\n",
       "\n",
       "    .dataframe thead th {\n",
       "        text-align: right;\n",
       "    }\n",
       "</style>\n",
       "<table border=\"1\" class=\"dataframe\">\n",
       "  <thead>\n",
       "    <tr style=\"text-align: right;\">\n",
       "      <th></th>\n",
       "      <th>sum_sales</th>\n",
       "    </tr>\n",
       "    <tr>\n",
       "      <th>genre</th>\n",
       "      <th></th>\n",
       "    </tr>\n",
       "  </thead>\n",
       "  <tbody>\n",
       "    <tr>\n",
       "      <th>Action</th>\n",
       "      <td>321.87</td>\n",
       "    </tr>\n",
       "    <tr>\n",
       "      <th>Shooter</th>\n",
       "      <td>232.98</td>\n",
       "    </tr>\n",
       "    <tr>\n",
       "      <th>Sports</th>\n",
       "      <td>150.65</td>\n",
       "    </tr>\n",
       "    <tr>\n",
       "      <th>Role-Playing</th>\n",
       "      <td>145.89</td>\n",
       "    </tr>\n",
       "    <tr>\n",
       "      <th>Misc</th>\n",
       "      <td>62.82</td>\n",
       "    </tr>\n",
       "    <tr>\n",
       "      <th>Platform</th>\n",
       "      <td>42.63</td>\n",
       "    </tr>\n",
       "    <tr>\n",
       "      <th>Racing</th>\n",
       "      <td>39.89</td>\n",
       "    </tr>\n",
       "    <tr>\n",
       "      <th>Fighting</th>\n",
       "      <td>35.31</td>\n",
       "    </tr>\n",
       "    <tr>\n",
       "      <th>Adventure</th>\n",
       "      <td>23.64</td>\n",
       "    </tr>\n",
       "    <tr>\n",
       "      <th>Simulation</th>\n",
       "      <td>21.76</td>\n",
       "    </tr>\n",
       "    <tr>\n",
       "      <th>Strategy</th>\n",
       "      <td>10.08</td>\n",
       "    </tr>\n",
       "    <tr>\n",
       "      <th>Puzzle</th>\n",
       "      <td>3.17</td>\n",
       "    </tr>\n",
       "  </tbody>\n",
       "</table>\n",
       "</div>"
      ],
      "text/plain": [
       "              sum_sales\n",
       "genre                  \n",
       "Action           321.87\n",
       "Shooter          232.98\n",
       "Sports           150.65\n",
       "Role-Playing     145.89\n",
       "Misc              62.82\n",
       "Platform          42.63\n",
       "Racing            39.89\n",
       "Fighting          35.31\n",
       "Adventure         23.64\n",
       "Simulation        21.76\n",
       "Strategy          10.08\n",
       "Puzzle             3.17"
      ]
     },
     "execution_count": 196,
     "metadata": {},
     "output_type": "execute_result"
    }
   ],
   "source": [
    "actual_data.pivot_table(index='genre', values='sum_sales', aggfunc='sum').sort_values('sum_sales', ascending=False)\n",
    "#объем продаж по жанрам"
   ]
  },
  {
   "cell_type": "code",
   "execution_count": 186,
   "metadata": {},
   "outputs": [
    {
     "data": {
      "text/plain": [
       "Text(0, 0.5, 'Количество продаж')"
      ]
     },
     "execution_count": 186,
     "metadata": {},
     "output_type": "execute_result"
    },
    {
     "data": {
      "image/png": "[encoded data removed]",
      "text/plain": [
       "<Figure size 576x432 with 1 Axes>"
      ]
     },
     "metadata": {
      "needs_background": "light"
     },
     "output_type": "display_data"
    }
   ],
   "source": [
    "actual_data.pivot_table(index='genre', values='sum_sales', aggfunc='sum').sort_values('sum_sales', ascending=False).plot(kind = 'bar', figsize = (8,6),\n",
    "                    grid = True,color = 'lightgrey', edgecolor = 'k').set_title('Объём продаж по жанрам')\n",
    "plt.xlabel(\"Жанр\")\n",
    "plt.ylabel(\"Количество продаж\")"
   ]
  },
  {
   "cell_type": "markdown",
   "metadata": {},
   "source": [
    "**Вывод по третьему шагу:**\n",
    "\n",
    "*1.Больше всего игр выпускалось в период с 2006 по 2010, а пиком стал 2008 год. Могу предположить, что такой рост связан с Мировым экономическим кризисом, люди теряли работу и погружались в виртуальный мир. Еще одним вариантом спроса на игры в те времена можно считать развитие цифровых технологий;*\n",
    "\n",
    "*2.Самые популярные игровые платформы за весь период : PS2, X360, PS3,Wii,DS,PS;*\n",
    "\n",
    "*3.В среднем платформа актуальна 8 лет. Пик продаж наступает примерно через 5 лет после выхода приставки. Лидеры продаж PS4 и X360;*\n",
    "\n",
    "*4.Объем продаж и оценки пользователей практически не коррелируют, а вот объем продаж и оценки критиков коррелируют незначительно;*\n",
    "\n",
    "*5.После рассмотрения медианных и средних значений можно сделать заключение: жанром-лидером со стабильными продажами с большим отрывом от конкурентов является Shooter, несмотря на то, что графики выводят другое.Самым популярным жанром является \"Shooter\", а самым непопулярным \"Puzzle\".*"
   ]
  },
  {
   "cell_type": "markdown",
   "metadata": {},
   "source": [
    "## Составим портрет пользователя каждого региона"
   ]
  },
  {
   "cell_type": "markdown",
   "metadata": {},
   "source": [
    "***Портрет пользователя из Северной Америки***"
   ]
  },
  {
   "cell_type": "code",
   "execution_count": 187,
   "metadata": {},
   "outputs": [
    {
     "data": {
      "text/html": [
       "<div>\n",
       "<style scoped>\n",
       "    .dataframe tbody tr th:only-of-type {\n",
       "        vertical-align: middle;\n",
       "    }\n",
       "\n",
       "    .dataframe tbody tr th {\n",
       "        vertical-align: top;\n",
       "    }\n",
       "\n",
       "    .dataframe thead th {\n",
       "        text-align: right;\n",
       "    }\n",
       "</style>\n",
       "<table border=\"1\" class=\"dataframe\">\n",
       "  <thead>\n",
       "    <tr style=\"text-align: right;\">\n",
       "      <th></th>\n",
       "      <th>na_sales</th>\n",
       "    </tr>\n",
       "    <tr>\n",
       "      <th>platform</th>\n",
       "      <th></th>\n",
       "    </tr>\n",
       "  </thead>\n",
       "  <tbody>\n",
       "    <tr>\n",
       "      <th>PS4</th>\n",
       "      <td>108.74</td>\n",
       "    </tr>\n",
       "    <tr>\n",
       "      <th>XOne</th>\n",
       "      <td>93.12</td>\n",
       "    </tr>\n",
       "    <tr>\n",
       "      <th>X360</th>\n",
       "      <td>81.66</td>\n",
       "    </tr>\n",
       "    <tr>\n",
       "      <th>PS3</th>\n",
       "      <td>63.50</td>\n",
       "    </tr>\n",
       "    <tr>\n",
       "      <th>3DS</th>\n",
       "      <td>38.20</td>\n",
       "    </tr>\n",
       "  </tbody>\n",
       "</table>\n",
       "</div>"
      ],
      "text/plain": [
       "          na_sales\n",
       "platform          \n",
       "PS4         108.74\n",
       "XOne         93.12\n",
       "X360         81.66\n",
       "PS3          63.50\n",
       "3DS          38.20"
      ]
     },
     "execution_count": 187,
     "metadata": {},
     "output_type": "execute_result"
    }
   ],
   "source": [
    "na_sales_pl = actual_data.pivot_table(index='platform', values='na_sales', aggfunc='sum').sort_values('na_sales',\n",
    "                                                                                                      ascending=False)\n",
    "na_sales_pl.head()\n",
    "#cамые популярные платформы в Северной Америке"
   ]
  },
  {
   "cell_type": "code",
   "execution_count": 188,
   "metadata": {},
   "outputs": [
    {
     "data": {
      "text/html": [
       "<div>\n",
       "<style scoped>\n",
       "    .dataframe tbody tr th:only-of-type {\n",
       "        vertical-align: middle;\n",
       "    }\n",
       "\n",
       "    .dataframe tbody tr th {\n",
       "        vertical-align: top;\n",
       "    }\n",
       "\n",
       "    .dataframe thead th {\n",
       "        text-align: right;\n",
       "    }\n",
       "</style>\n",
       "<table border=\"1\" class=\"dataframe\">\n",
       "  <thead>\n",
       "    <tr style=\"text-align: right;\">\n",
       "      <th></th>\n",
       "      <th>na_sales</th>\n",
       "    </tr>\n",
       "    <tr>\n",
       "      <th>genre</th>\n",
       "      <th></th>\n",
       "    </tr>\n",
       "  </thead>\n",
       "  <tbody>\n",
       "    <tr>\n",
       "      <th>Action</th>\n",
       "      <td>126.05</td>\n",
       "    </tr>\n",
       "    <tr>\n",
       "      <th>Shooter</th>\n",
       "      <td>109.74</td>\n",
       "    </tr>\n",
       "    <tr>\n",
       "      <th>Sports</th>\n",
       "      <td>65.27</td>\n",
       "    </tr>\n",
       "    <tr>\n",
       "      <th>Role-Playing</th>\n",
       "      <td>46.40</td>\n",
       "    </tr>\n",
       "    <tr>\n",
       "      <th>Misc</th>\n",
       "      <td>27.49</td>\n",
       "    </tr>\n",
       "  </tbody>\n",
       "</table>\n",
       "</div>"
      ],
      "text/plain": [
       "              na_sales\n",
       "genre                 \n",
       "Action          126.05\n",
       "Shooter         109.74\n",
       "Sports           65.27\n",
       "Role-Playing     46.40\n",
       "Misc             27.49"
      ]
     },
     "execution_count": 188,
     "metadata": {},
     "output_type": "execute_result"
    }
   ],
   "source": [
    "na_sales_g = actual_data.pivot_table(index='genre', values='na_sales', aggfunc='sum').sort_values('na_sales',\n",
    "                                                                                                      ascending=False)\n",
    "na_sales_g.head()\n",
    "#cамые популярные жанры в Северной Америке"
   ]
  },
  {
   "cell_type": "code",
   "execution_count": 189,
   "metadata": {},
   "outputs": [
    {
     "data": {
      "text/html": [
       "<div>\n",
       "<style scoped>\n",
       "    .dataframe tbody tr th:only-of-type {\n",
       "        vertical-align: middle;\n",
       "    }\n",
       "\n",
       "    .dataframe tbody tr th {\n",
       "        vertical-align: top;\n",
       "    }\n",
       "\n",
       "    .dataframe thead th {\n",
       "        text-align: right;\n",
       "    }\n",
       "</style>\n",
       "<table border=\"1\" class=\"dataframe\">\n",
       "  <thead>\n",
       "    <tr style=\"text-align: right;\">\n",
       "      <th></th>\n",
       "      <th></th>\n",
       "      <th>na_sales</th>\n",
       "    </tr>\n",
       "    <tr>\n",
       "      <th>platform</th>\n",
       "      <th>rating</th>\n",
       "      <th></th>\n",
       "    </tr>\n",
       "  </thead>\n",
       "  <tbody>\n",
       "    <tr>\n",
       "      <th>XOne</th>\n",
       "      <th>M</th>\n",
       "      <td>44.92</td>\n",
       "    </tr>\n",
       "    <tr>\n",
       "      <th>PS4</th>\n",
       "      <th>M</th>\n",
       "      <td>42.81</td>\n",
       "    </tr>\n",
       "    <tr>\n",
       "      <th>X360</th>\n",
       "      <th>M</th>\n",
       "      <td>38.41</td>\n",
       "    </tr>\n",
       "    <tr>\n",
       "      <th>PS3</th>\n",
       "      <th>M</th>\n",
       "      <td>29.75</td>\n",
       "    </tr>\n",
       "    <tr>\n",
       "      <th>PS4</th>\n",
       "      <th>unknown</th>\n",
       "      <td>23.77</td>\n",
       "    </tr>\n",
       "  </tbody>\n",
       "</table>\n",
       "</div>"
      ],
      "text/plain": [
       "                  na_sales\n",
       "platform rating           \n",
       "XOne     M           44.92\n",
       "PS4      M           42.81\n",
       "X360     M           38.41\n",
       "PS3      M           29.75\n",
       "PS4      unknown     23.77"
      ]
     },
     "execution_count": 189,
     "metadata": {},
     "output_type": "execute_result"
    }
   ],
   "source": [
    "esrbna = actual_data.pivot_table(index=['platform', 'rating'], values='na_sales', aggfunc='sum').sort_values('na_sales',\n",
    "               ascending=False)\n",
    "esrbna.head()\n",
    "#влияние рейтинга ESRB на продажи в Северной Америке"
   ]
  },
  {
   "cell_type": "markdown",
   "metadata": {},
   "source": [
    "***Портрет пользователя из Европы***"
   ]
  },
  {
   "cell_type": "code",
   "execution_count": 190,
   "metadata": {},
   "outputs": [
    {
     "data": {
      "text/html": [
       "<div>\n",
       "<style scoped>\n",
       "    .dataframe tbody tr th:only-of-type {\n",
       "        vertical-align: middle;\n",
       "    }\n",
       "\n",
       "    .dataframe tbody tr th {\n",
       "        vertical-align: top;\n",
       "    }\n",
       "\n",
       "    .dataframe thead th {\n",
       "        text-align: right;\n",
       "    }\n",
       "</style>\n",
       "<table border=\"1\" class=\"dataframe\">\n",
       "  <thead>\n",
       "    <tr style=\"text-align: right;\">\n",
       "      <th></th>\n",
       "      <th>eu_sales</th>\n",
       "    </tr>\n",
       "    <tr>\n",
       "      <th>platform</th>\n",
       "      <th></th>\n",
       "    </tr>\n",
       "  </thead>\n",
       "  <tbody>\n",
       "    <tr>\n",
       "      <th>PS4</th>\n",
       "      <td>141.09</td>\n",
       "    </tr>\n",
       "    <tr>\n",
       "      <th>PS3</th>\n",
       "      <td>67.81</td>\n",
       "    </tr>\n",
       "    <tr>\n",
       "      <th>XOne</th>\n",
       "      <td>51.59</td>\n",
       "    </tr>\n",
       "    <tr>\n",
       "      <th>X360</th>\n",
       "      <td>42.52</td>\n",
       "    </tr>\n",
       "    <tr>\n",
       "      <th>3DS</th>\n",
       "      <td>30.96</td>\n",
       "    </tr>\n",
       "  </tbody>\n",
       "</table>\n",
       "</div>"
      ],
      "text/plain": [
       "          eu_sales\n",
       "platform          \n",
       "PS4         141.09\n",
       "PS3          67.81\n",
       "XOne         51.59\n",
       "X360         42.52\n",
       "3DS          30.96"
      ]
     },
     "execution_count": 190,
     "metadata": {},
     "output_type": "execute_result"
    }
   ],
   "source": [
    "eu_sales_pl = actual_data.pivot_table(index='platform', values='eu_sales', aggfunc='sum').sort_values('eu_sales',\n",
    "                                                                                                      ascending=False)\n",
    "eu_sales_pl.head()\n",
    "#cамые популярные платформы в Европе"
   ]
  },
  {
   "cell_type": "code",
   "execution_count": 191,
   "metadata": {},
   "outputs": [
    {
     "data": {
      "text/html": [
       "<div>\n",
       "<style scoped>\n",
       "    .dataframe tbody tr th:only-of-type {\n",
       "        vertical-align: middle;\n",
       "    }\n",
       "\n",
       "    .dataframe tbody tr th {\n",
       "        vertical-align: top;\n",
       "    }\n",
       "\n",
       "    .dataframe thead th {\n",
       "        text-align: right;\n",
       "    }\n",
       "</style>\n",
       "<table border=\"1\" class=\"dataframe\">\n",
       "  <thead>\n",
       "    <tr style=\"text-align: right;\">\n",
       "      <th></th>\n",
       "      <th>eu_sales</th>\n",
       "    </tr>\n",
       "    <tr>\n",
       "      <th>genre</th>\n",
       "      <th></th>\n",
       "    </tr>\n",
       "  </thead>\n",
       "  <tbody>\n",
       "    <tr>\n",
       "      <th>Action</th>\n",
       "      <td>118.13</td>\n",
       "    </tr>\n",
       "    <tr>\n",
       "      <th>Shooter</th>\n",
       "      <td>87.86</td>\n",
       "    </tr>\n",
       "    <tr>\n",
       "      <th>Sports</th>\n",
       "      <td>60.52</td>\n",
       "    </tr>\n",
       "    <tr>\n",
       "      <th>Role-Playing</th>\n",
       "      <td>36.97</td>\n",
       "    </tr>\n",
       "    <tr>\n",
       "      <th>Racing</th>\n",
       "      <td>20.19</td>\n",
       "    </tr>\n",
       "  </tbody>\n",
       "</table>\n",
       "</div>"
      ],
      "text/plain": [
       "              eu_sales\n",
       "genre                 \n",
       "Action          118.13\n",
       "Shooter          87.86\n",
       "Sports           60.52\n",
       "Role-Playing     36.97\n",
       "Racing           20.19"
      ]
     },
     "execution_count": 191,
     "metadata": {},
     "output_type": "execute_result"
    }
   ],
   "source": [
    "eu_sales_g = actual_data.pivot_table(index='genre', values='eu_sales', aggfunc='sum').sort_values('eu_sales',\n",
    "                                                                                                      ascending=False)\n",
    "eu_sales_g.head()\n",
    "#cамые популярные жанры в Европе"
   ]
  },
  {
   "cell_type": "code",
   "execution_count": 192,
   "metadata": {},
   "outputs": [
    {
     "data": {
      "text/html": [
       "<div>\n",
       "<style scoped>\n",
       "    .dataframe tbody tr th:only-of-type {\n",
       "        vertical-align: middle;\n",
       "    }\n",
       "\n",
       "    .dataframe tbody tr th {\n",
       "        vertical-align: top;\n",
       "    }\n",
       "\n",
       "    .dataframe thead th {\n",
       "        text-align: right;\n",
       "    }\n",
       "</style>\n",
       "<table border=\"1\" class=\"dataframe\">\n",
       "  <thead>\n",
       "    <tr style=\"text-align: right;\">\n",
       "      <th></th>\n",
       "      <th></th>\n",
       "      <th>eu_sales</th>\n",
       "    </tr>\n",
       "    <tr>\n",
       "      <th>platform</th>\n",
       "      <th>rating</th>\n",
       "      <th></th>\n",
       "    </tr>\n",
       "  </thead>\n",
       "  <tbody>\n",
       "    <tr>\n",
       "      <th>PS4</th>\n",
       "      <th>M</th>\n",
       "      <td>58.43</td>\n",
       "    </tr>\n",
       "    <tr>\n",
       "      <th>PS3</th>\n",
       "      <th>M</th>\n",
       "      <td>31.75</td>\n",
       "    </tr>\n",
       "    <tr>\n",
       "      <th rowspan=\"2\" valign=\"top\">PS4</th>\n",
       "      <th>unknown</th>\n",
       "      <td>27.99</td>\n",
       "    </tr>\n",
       "    <tr>\n",
       "      <th>E</th>\n",
       "      <td>27.56</td>\n",
       "    </tr>\n",
       "    <tr>\n",
       "      <th>XOne</th>\n",
       "      <th>M</th>\n",
       "      <td>23.74</td>\n",
       "    </tr>\n",
       "  </tbody>\n",
       "</table>\n",
       "</div>"
      ],
      "text/plain": [
       "                  eu_sales\n",
       "platform rating           \n",
       "PS4      M           58.43\n",
       "PS3      M           31.75\n",
       "PS4      unknown     27.99\n",
       "         E           27.56\n",
       "XOne     M           23.74"
      ]
     },
     "execution_count": 192,
     "metadata": {},
     "output_type": "execute_result"
    }
   ],
   "source": [
    "esrbeu = actual_data.pivot_table(index=['platform', 'rating'], values='eu_sales', aggfunc='sum').sort_values('eu_sales',\n",
    "                                                                                                                ascending=False)\n",
    "esrbeu.head()\n",
    "#влияние рейтинга ESRB на продажи в Европе "
   ]
  },
  {
   "cell_type": "markdown",
   "metadata": {},
   "source": [
    "***Портрет пользователя из Японии***"
   ]
  },
  {
   "cell_type": "code",
   "execution_count": 193,
   "metadata": {},
   "outputs": [
    {
     "data": {
      "text/html": [
       "<div>\n",
       "<style scoped>\n",
       "    .dataframe tbody tr th:only-of-type {\n",
       "        vertical-align: middle;\n",
       "    }\n",
       "\n",
       "    .dataframe tbody tr th {\n",
       "        vertical-align: top;\n",
       "    }\n",
       "\n",
       "    .dataframe thead th {\n",
       "        text-align: right;\n",
       "    }\n",
       "</style>\n",
       "<table border=\"1\" class=\"dataframe\">\n",
       "  <thead>\n",
       "    <tr style=\"text-align: right;\">\n",
       "      <th></th>\n",
       "      <th>jp_sales</th>\n",
       "    </tr>\n",
       "    <tr>\n",
       "      <th>platform</th>\n",
       "      <th></th>\n",
       "    </tr>\n",
       "  </thead>\n",
       "  <tbody>\n",
       "    <tr>\n",
       "      <th>3DS</th>\n",
       "      <td>67.81</td>\n",
       "    </tr>\n",
       "    <tr>\n",
       "      <th>PS3</th>\n",
       "      <td>23.35</td>\n",
       "    </tr>\n",
       "    <tr>\n",
       "      <th>PSV</th>\n",
       "      <td>18.59</td>\n",
       "    </tr>\n",
       "    <tr>\n",
       "      <th>PS4</th>\n",
       "      <td>15.96</td>\n",
       "    </tr>\n",
       "    <tr>\n",
       "      <th>WiiU</th>\n",
       "      <td>10.88</td>\n",
       "    </tr>\n",
       "  </tbody>\n",
       "</table>\n",
       "</div>"
      ],
      "text/plain": [
       "          jp_sales\n",
       "platform          \n",
       "3DS          67.81\n",
       "PS3          23.35\n",
       "PSV          18.59\n",
       "PS4          15.96\n",
       "WiiU         10.88"
      ]
     },
     "execution_count": 193,
     "metadata": {},
     "output_type": "execute_result"
    }
   ],
   "source": [
    "jp_sales_pl = actual_data.pivot_table(index='platform', values='jp_sales', aggfunc='sum').sort_values('jp_sales',\n",
    "                                                                                                      ascending=False)\n",
    "jp_sales_pl.head()\n",
    "#cамые популярные платформы в Японии"
   ]
  },
  {
   "cell_type": "code",
   "execution_count": 194,
   "metadata": {},
   "outputs": [
    {
     "data": {
      "text/html": [
       "<div>\n",
       "<style scoped>\n",
       "    .dataframe tbody tr th:only-of-type {\n",
       "        vertical-align: middle;\n",
       "    }\n",
       "\n",
       "    .dataframe tbody tr th {\n",
       "        vertical-align: top;\n",
       "    }\n",
       "\n",
       "    .dataframe thead th {\n",
       "        text-align: right;\n",
       "    }\n",
       "</style>\n",
       "<table border=\"1\" class=\"dataframe\">\n",
       "  <thead>\n",
       "    <tr style=\"text-align: right;\">\n",
       "      <th></th>\n",
       "      <th>jp_sales</th>\n",
       "    </tr>\n",
       "    <tr>\n",
       "      <th>genre</th>\n",
       "      <th></th>\n",
       "    </tr>\n",
       "  </thead>\n",
       "  <tbody>\n",
       "    <tr>\n",
       "      <th>Role-Playing</th>\n",
       "      <td>51.04</td>\n",
       "    </tr>\n",
       "    <tr>\n",
       "      <th>Action</th>\n",
       "      <td>40.49</td>\n",
       "    </tr>\n",
       "    <tr>\n",
       "      <th>Misc</th>\n",
       "      <td>9.20</td>\n",
       "    </tr>\n",
       "    <tr>\n",
       "      <th>Fighting</th>\n",
       "      <td>7.65</td>\n",
       "    </tr>\n",
       "    <tr>\n",
       "      <th>Shooter</th>\n",
       "      <td>6.61</td>\n",
       "    </tr>\n",
       "  </tbody>\n",
       "</table>\n",
       "</div>"
      ],
      "text/plain": [
       "              jp_sales\n",
       "genre                 \n",
       "Role-Playing     51.04\n",
       "Action           40.49\n",
       "Misc              9.20\n",
       "Fighting          7.65\n",
       "Shooter           6.61"
      ]
     },
     "execution_count": 194,
     "metadata": {},
     "output_type": "execute_result"
    }
   ],
   "source": [
    "jp_sales_g = actual_data.pivot_table(index='genre', values='jp_sales', aggfunc='sum').sort_values('jp_sales',\n",
    "                                                                                                      ascending=False)\n",
    "jp_sales_g.head()\n",
    "#cамые популярные жанры в Японии"
   ]
  },
  {
   "cell_type": "code",
   "execution_count": 195,
   "metadata": {},
   "outputs": [
    {
     "data": {
      "text/html": [
       "<div>\n",
       "<style scoped>\n",
       "    .dataframe tbody tr th:only-of-type {\n",
       "        vertical-align: middle;\n",
       "    }\n",
       "\n",
       "    .dataframe tbody tr th {\n",
       "        vertical-align: top;\n",
       "    }\n",
       "\n",
       "    .dataframe thead th {\n",
       "        text-align: right;\n",
       "    }\n",
       "</style>\n",
       "<table border=\"1\" class=\"dataframe\">\n",
       "  <thead>\n",
       "    <tr style=\"text-align: right;\">\n",
       "      <th></th>\n",
       "      <th></th>\n",
       "      <th>jp_sales</th>\n",
       "    </tr>\n",
       "    <tr>\n",
       "      <th>platform</th>\n",
       "      <th>rating</th>\n",
       "      <th></th>\n",
       "    </tr>\n",
       "  </thead>\n",
       "  <tbody>\n",
       "    <tr>\n",
       "      <th>3DS</th>\n",
       "      <th>unknown</th>\n",
       "      <td>52.40</td>\n",
       "    </tr>\n",
       "    <tr>\n",
       "      <th>PSV</th>\n",
       "      <th>unknown</th>\n",
       "      <td>11.75</td>\n",
       "    </tr>\n",
       "    <tr>\n",
       "      <th>PS3</th>\n",
       "      <th>unknown</th>\n",
       "      <td>8.96</td>\n",
       "    </tr>\n",
       "    <tr>\n",
       "      <th>3DS</th>\n",
       "      <th>E</th>\n",
       "      <td>6.94</td>\n",
       "    </tr>\n",
       "    <tr>\n",
       "      <th>PS3</th>\n",
       "      <th>T</th>\n",
       "      <td>6.87</td>\n",
       "    </tr>\n",
       "  </tbody>\n",
       "</table>\n",
       "</div>"
      ],
      "text/plain": [
       "                  jp_sales\n",
       "platform rating           \n",
       "3DS      unknown     52.40\n",
       "PSV      unknown     11.75\n",
       "PS3      unknown      8.96\n",
       "3DS      E            6.94\n",
       "PS3      T            6.87"
      ]
     },
     "execution_count": 195,
     "metadata": {},
     "output_type": "execute_result"
    }
   ],
   "source": [
    "esrbjp = actual_data.pivot_table(index=['platform', 'rating'], values='jp_sales', aggfunc='sum').sort_values('jp_sales',\n",
    "                ascending=False)\n",
    "esrbjp.head()\n",
    "#влияние рейтинга ESRB на продажи в Японии"
   ]
  },
  {
   "cell_type": "markdown",
   "metadata": {},
   "source": []
  },
  {
   "cell_type": "markdown",
   "metadata": {},
   "source": [
    "**Вывод по четвертому шагу:**\n",
    "\n",
    "*Самые популярные игровые платформы в Cеверной Америке это: PS4, XOne, X360, PS3, 3DS;Топ 5 жанров в Cеверной Aмерике : Action, Shooter, Sports,Role-Playing,Misc; Больше всего продаж у игр с рейтингом \"M\";*\n",
    "\n",
    "*Самые популярные игровые платформы в Европе это: PS4, PS3, XOne, X360, 3DS;Топ 5 жанров в Европе : Action, Shooter, Sports,Role-Playing,Racing; Больше всего продаж у игр с рейтингом \"M\";*\n",
    "\n",
    "*Самые популярные игровые платформы в Японии это: 3DS,PS3,PSV,PS4,WiiU;Топ 5 жанров в Европе : Role-Playing, Action, Misc, Fighting, Shooter; Больше всего продаж у игр с рейтингом \"E\".*\n"
   ]
  },
  {
   "cell_type": "markdown",
   "metadata": {},
   "source": [
    "## Проверка гипотез"
   ]
  },
  {
   "cell_type": "markdown",
   "metadata": {},
   "source": [
    "***Средние пользовательские рейтинги платформ Xbox One и PC одинаковые***"
   ]
  },
  {
   "cell_type": "markdown",
   "metadata": {},
   "source": [
    "***Нулевая гипотеза: средние пользовательские рейтинги платформы Xbox One равны средним пользовательским рейтингам платформы PC.***\n",
    "\n",
    "***Альтернативная гипотеза: средние пользовательские рейтинги платформ Xbox One и PC различаются.***"
   ]
  },
  {
   "cell_type": "code",
   "execution_count": 70,
   "metadata": {},
   "outputs": [
    {
     "name": "stdout",
     "output_type": "stream",
     "text": [
      "p-значение: 0.14012658403611647\n",
      "Не получилось отвергнуть нулевую гипотезу\n"
     ]
    }
   ],
   "source": [
    "alpha = 0.05\n",
    "\n",
    "results = st.ttest_ind(\n",
    "    actual_data[actual_data['platform'] == 'PC']['user_score'].dropna(), \n",
    "    actual_data[actual_data['platform'] == 'XOne']['user_score'].dropna()\n",
    ")\n",
    "\n",
    "print('p-значение:', results.pvalue)\n",
    "\n",
    "if results.pvalue < alpha:\n",
    "    print(\"Отвергаем нулевую гипотезу\")\n",
    "else:\n",
    "    print(\"Не получилось отвергнуть нулевую гипотезу\")"
   ]
  },
  {
   "cell_type": "markdown",
   "metadata": {},
   "source": [
    "*Не получилось отвергуть нулевую гипотезу.*\n",
    "*С небольшой вероятностью можно получить различность рейтингов двух платформ*"
   ]
  },
  {
   "cell_type": "markdown",
   "metadata": {},
   "source": [
    "***Средние пользовательские рейтинги жанров Action (англ. «действие», экшен-игры) и Sports (англ. «спортивные соревнования») разные.***"
   ]
  },
  {
   "cell_type": "markdown",
   "metadata": {},
   "source": [
    "***Нулевая гипотеза: средние пользовательские рейтинги жанров Action и Sports равны.***\n",
    "\n",
    "***Альтернативная гипотеза: средние пользовательские рейтинги жанров Action и Sports разные.***"
   ]
  },
  {
   "cell_type": "code",
   "execution_count": 71,
   "metadata": {},
   "outputs": [
    {
     "name": "stdout",
     "output_type": "stream",
     "text": [
      "p-значение: 1.0517832389140023e-27\n",
      "Отвергаем нулевую гипотезу\n"
     ]
    }
   ],
   "source": [
    "alpha = 0.05\n",
    "\n",
    "results = st.ttest_ind(\n",
    "    actual_data[actual_data['genre'] == 'Action']['user_score'].dropna(), \n",
    "    actual_data[actual_data['genre'] == 'Sports']['user_score'].dropna()\n",
    ")\n",
    "\n",
    "print('p-значение:', results.pvalue)\n",
    "\n",
    "if results.pvalue < alpha:\n",
    "    print(\"Отвергаем нулевую гипотезу\")\n",
    "else:\n",
    "    print(\"Не получилось отвергнуть нулевую гипотезу\")"
   ]
  },
  {
   "cell_type": "markdown",
   "metadata": {},
   "source": [
    "*Отвергли нулевую гипотезу.* \n",
    "*Практически нет вероятности получить одинаковые средние рейнтинги по двум жанрам.*"
   ]
  },
  {
   "cell_type": "markdown",
   "metadata": {},
   "source": [
    "## Общий вывод"
   ]
  },
  {
   "cell_type": "markdown",
   "metadata": {},
   "source": [
    "**В данном исследовательском проекте нужно было выявить определяющие успешность игры закономерности и сделать ставку на потенциально популярный продукт. Вот мой прогноз для улучшения кампании на следующий год:***\n",
    "\n",
    "*1.Лидеры продаж PS4 и X360.В среднем платформа актуальна 8 лет, а пик продаж наступает примерно через 5 лет после выхода приставки;*\n",
    "\n",
    "*2. После рассмотрения медианных и средних значений можно сделать заключение: жанром-лидером со стабильными продажами с большим отрывом от конкурентов является Shooter, несмотря на то, что графики выводят другое.Самым популярным жанром является \"Shooter\", а самым непопулярным \"Puzzle\";*\n",
    "\n",
    "*3.Если выходить на международный рынок, то в Америке и Европе самые популярные платформы PS4, а в Японии 3DS;*\n",
    "\n",
    "*4.Объем продаж и оценки пользователей практически не коррелируют, а вот объем продаж и оценки критиков коррелируют незначительно;*\n",
    "\n",
    "*Так же мы проверили две гипотезы, заявленные в самом начале исследования, где получили следующие данные:*\n",
    "\n",
    "*1)Cредние пользовательские рейтинги Xbox One и PC различаются;*\n",
    "\n",
    "*2)Практически нет вероятности получить одинаковые средние рейнтинги по жанрам Action и Sports.*"
   ]
  }
 ],
 "metadata": {
  "ExecuteTimeLog": [
   {
    "duration": 1548,
    "start_time": "2023-09-14T16:28:11.894Z"
   },
   {
    "duration": 125,
    "start_time": "2023-09-14T16:33:26.668Z"
   },
   {
    "duration": 22,
    "start_time": "2023-09-14T16:33:50.653Z"
   },
   {
    "duration": 17,
    "start_time": "2023-09-14T16:44:27.937Z"
   },
   {
    "duration": 15,
    "start_time": "2023-09-14T16:45:37.586Z"
   },
   {
    "duration": 118,
    "start_time": "2023-09-14T16:45:39.903Z"
   },
   {
    "duration": 10,
    "start_time": "2023-09-14T16:45:54.479Z"
   },
   {
    "duration": 18,
    "start_time": "2023-09-14T16:51:04.318Z"
   },
   {
    "duration": 168,
    "start_time": "2023-09-14T16:51:23.406Z"
   },
   {
    "duration": 19,
    "start_time": "2023-09-14T16:51:48.247Z"
   },
   {
    "duration": 3257,
    "start_time": "2023-09-14T16:53:12.294Z"
   },
   {
    "duration": 2820,
    "start_time": "2023-09-14T16:53:15.554Z"
   },
   {
    "duration": 2827,
    "start_time": "2023-09-14T16:53:18.377Z"
   },
   {
    "duration": 19,
    "start_time": "2023-09-14T16:55:32.146Z"
   },
   {
    "duration": 207,
    "start_time": "2023-09-14T17:03:24.580Z"
   },
   {
    "duration": 9,
    "start_time": "2023-09-14T17:05:17.516Z"
   },
   {
    "duration": 362,
    "start_time": "2023-09-14T17:06:16.473Z"
   },
   {
    "duration": 283,
    "start_time": "2023-09-14T17:08:12.080Z"
   },
   {
    "duration": 310,
    "start_time": "2023-09-14T17:08:44.273Z"
   },
   {
    "duration": 345,
    "start_time": "2023-09-14T17:08:56.545Z"
   },
   {
    "duration": 451,
    "start_time": "2023-09-14T17:09:12.472Z"
   },
   {
    "duration": 9,
    "start_time": "2023-09-14T17:09:41.977Z"
   },
   {
    "duration": 180,
    "start_time": "2023-09-14T17:13:25.018Z"
   },
   {
    "duration": 19,
    "start_time": "2023-09-14T17:13:44.599Z"
   },
   {
    "duration": 14,
    "start_time": "2023-09-14T17:13:51.988Z"
   },
   {
    "duration": 17,
    "start_time": "2023-09-14T17:14:06.248Z"
   },
   {
    "duration": 14,
    "start_time": "2023-09-14T17:15:37.949Z"
   },
   {
    "duration": 211,
    "start_time": "2023-09-14T17:17:10.215Z"
   },
   {
    "duration": 7,
    "start_time": "2023-09-14T17:21:04.411Z"
   },
   {
    "duration": 190,
    "start_time": "2023-09-14T17:22:12.611Z"
   },
   {
    "duration": 248,
    "start_time": "2023-09-14T17:22:36.327Z"
   },
   {
    "duration": 208,
    "start_time": "2023-09-14T17:23:37.107Z"
   },
   {
    "duration": 212,
    "start_time": "2023-09-14T17:24:37.418Z"
   },
   {
    "duration": 9,
    "start_time": "2023-09-14T17:28:25.687Z"
   },
   {
    "duration": 362,
    "start_time": "2023-09-14T17:29:12.321Z"
   },
   {
    "duration": 494,
    "start_time": "2023-09-14T17:29:42.287Z"
   },
   {
    "duration": 580,
    "start_time": "2023-09-14T17:32:44.665Z"
   },
   {
    "duration": 54,
    "start_time": "2023-09-14T17:34:33.697Z"
   },
   {
    "duration": 1487,
    "start_time": "2023-09-14T17:34:37.414Z"
   },
   {
    "duration": 59,
    "start_time": "2023-09-14T17:34:38.903Z"
   },
   {
    "duration": 25,
    "start_time": "2023-09-14T17:34:38.964Z"
   },
   {
    "duration": 27,
    "start_time": "2023-09-14T17:34:40.332Z"
   },
   {
    "duration": 10,
    "start_time": "2023-09-14T17:34:40.882Z"
   },
   {
    "duration": 15,
    "start_time": "2023-09-14T17:34:41.407Z"
   },
   {
    "duration": 143,
    "start_time": "2023-09-14T17:34:41.916Z"
   },
   {
    "duration": 22,
    "start_time": "2023-09-14T17:34:42.563Z"
   },
   {
    "duration": 3108,
    "start_time": "2023-09-14T17:34:43.087Z"
   },
   {
    "duration": 2670,
    "start_time": "2023-09-14T17:34:46.197Z"
   },
   {
    "duration": 2657,
    "start_time": "2023-09-14T17:34:48.868Z"
   },
   {
    "duration": 26,
    "start_time": "2023-09-14T17:34:51.529Z"
   },
   {
    "duration": 10,
    "start_time": "2023-09-14T17:34:51.602Z"
   },
   {
    "duration": 429,
    "start_time": "2023-09-14T17:34:51.614Z"
   },
   {
    "duration": 9,
    "start_time": "2023-09-14T17:34:52.046Z"
   },
   {
    "duration": 236,
    "start_time": "2023-09-14T17:34:52.057Z"
   },
   {
    "duration": 8,
    "start_time": "2023-09-14T17:34:52.300Z"
   },
   {
    "duration": 395,
    "start_time": "2023-09-14T17:34:52.311Z"
   },
   {
    "duration": 387,
    "start_time": "2023-09-14T17:35:57.452Z"
   },
   {
    "duration": 460,
    "start_time": "2023-09-14T17:36:25.469Z"
   },
   {
    "duration": 9,
    "start_time": "2023-09-14T17:40:07.205Z"
   },
   {
    "duration": 73,
    "start_time": "2023-09-14T17:42:42.251Z"
   },
   {
    "duration": 37,
    "start_time": "2023-09-14T17:43:18.510Z"
   },
   {
    "duration": 20,
    "start_time": "2023-09-14T17:43:46.727Z"
   },
   {
    "duration": 30,
    "start_time": "2023-09-14T17:45:17.984Z"
   },
   {
    "duration": 4,
    "start_time": "2023-09-14T17:45:37.239Z"
   },
   {
    "duration": 14,
    "start_time": "2023-09-14T17:45:38.803Z"
   },
   {
    "duration": 45,
    "start_time": "2023-09-14T17:45:44.191Z"
   },
   {
    "duration": 19,
    "start_time": "2023-09-14T17:45:52.145Z"
   },
   {
    "duration": 27,
    "start_time": "2023-09-14T17:46:15.457Z"
   },
   {
    "duration": 14,
    "start_time": "2023-09-14T17:46:16.161Z"
   },
   {
    "duration": 10,
    "start_time": "2023-09-14T17:49:46.714Z"
   },
   {
    "duration": 7,
    "start_time": "2023-09-14T17:50:03.650Z"
   },
   {
    "duration": 1550,
    "start_time": "2023-09-15T06:14:15.481Z"
   },
   {
    "duration": 126,
    "start_time": "2023-09-15T06:14:17.034Z"
   },
   {
    "duration": 20,
    "start_time": "2023-09-15T06:14:17.162Z"
   },
   {
    "duration": 14,
    "start_time": "2023-09-15T06:14:17.184Z"
   },
   {
    "duration": 26,
    "start_time": "2023-09-15T06:14:17.801Z"
   },
   {
    "duration": 15,
    "start_time": "2023-09-15T06:14:18.241Z"
   },
   {
    "duration": 141,
    "start_time": "2023-09-15T06:14:18.401Z"
   },
   {
    "duration": 23,
    "start_time": "2023-09-15T06:14:19.303Z"
   },
   {
    "duration": 3277,
    "start_time": "2023-09-15T06:14:20.573Z"
   },
   {
    "duration": 3041,
    "start_time": "2023-09-15T06:14:23.852Z"
   },
   {
    "duration": 2928,
    "start_time": "2023-09-15T06:14:26.901Z"
   },
   {
    "duration": 17,
    "start_time": "2023-09-15T06:14:29.831Z"
   },
   {
    "duration": 16,
    "start_time": "2023-09-15T06:14:29.849Z"
   },
   {
    "duration": 453,
    "start_time": "2023-09-15T06:14:29.905Z"
   },
   {
    "duration": 7,
    "start_time": "2023-09-15T06:14:30.361Z"
   },
   {
    "duration": 349,
    "start_time": "2023-09-15T06:14:30.370Z"
   },
   {
    "duration": 8,
    "start_time": "2023-09-15T06:14:30.726Z"
   },
   {
    "duration": 235,
    "start_time": "2023-09-15T06:14:30.736Z"
   },
   {
    "duration": 47,
    "start_time": "2023-09-15T06:14:30.972Z"
   },
   {
    "duration": 32,
    "start_time": "2023-09-15T06:14:31.021Z"
   },
   {
    "duration": 55,
    "start_time": "2023-09-15T06:14:31.054Z"
   },
   {
    "duration": 24,
    "start_time": "2023-09-15T06:14:31.112Z"
   },
   {
    "duration": 16,
    "start_time": "2023-09-15T06:17:08.597Z"
   },
   {
    "duration": 132,
    "start_time": "2023-09-15T06:19:09.491Z"
   },
   {
    "duration": 18,
    "start_time": "2023-09-15T06:21:08.142Z"
   },
   {
    "duration": 6,
    "start_time": "2023-09-15T06:24:31.233Z"
   },
   {
    "duration": 25,
    "start_time": "2023-09-15T06:24:48.999Z"
   },
   {
    "duration": 19,
    "start_time": "2023-09-15T06:25:24.737Z"
   },
   {
    "duration": 4,
    "start_time": "2023-09-15T06:26:44.981Z"
   },
   {
    "duration": 24,
    "start_time": "2023-09-15T06:26:46.202Z"
   },
   {
    "duration": 4,
    "start_time": "2023-09-15T06:27:02.337Z"
   },
   {
    "duration": 21,
    "start_time": "2023-09-15T06:27:03.097Z"
   },
   {
    "duration": 4,
    "start_time": "2023-09-15T06:27:24.436Z"
   },
   {
    "duration": 19,
    "start_time": "2023-09-15T06:27:26.217Z"
   },
   {
    "duration": 10,
    "start_time": "2023-09-15T06:30:47.132Z"
   },
   {
    "duration": 4,
    "start_time": "2023-09-15T06:30:56.764Z"
   },
   {
    "duration": 378,
    "start_time": "2023-09-15T06:33:56.983Z"
   },
   {
    "duration": 4,
    "start_time": "2023-09-15T06:34:45.084Z"
   },
   {
    "duration": 7,
    "start_time": "2023-09-15T06:38:28.648Z"
   },
   {
    "duration": 4,
    "start_time": "2023-09-15T06:38:43.440Z"
   },
   {
    "duration": 6896,
    "start_time": "2023-09-15T06:39:24.960Z"
   },
   {
    "duration": 11,
    "start_time": "2023-09-15T06:39:51.443Z"
   },
   {
    "duration": 8,
    "start_time": "2023-09-15T06:40:10.164Z"
   },
   {
    "duration": 6935,
    "start_time": "2023-09-15T06:40:21.515Z"
   },
   {
    "duration": 49,
    "start_time": "2023-09-15T06:41:53.525Z"
   },
   {
    "duration": 1290,
    "start_time": "2023-09-15T06:41:59.645Z"
   },
   {
    "duration": 63,
    "start_time": "2023-09-15T06:42:00.937Z"
   },
   {
    "duration": 21,
    "start_time": "2023-09-15T06:42:01.001Z"
   },
   {
    "duration": 30,
    "start_time": "2023-09-15T06:42:01.024Z"
   },
   {
    "duration": 49,
    "start_time": "2023-09-15T06:42:01.114Z"
   },
   {
    "duration": 16,
    "start_time": "2023-09-15T06:42:01.427Z"
   },
   {
    "duration": 128,
    "start_time": "2023-09-15T06:42:01.475Z"
   },
   {
    "duration": 15,
    "start_time": "2023-09-15T06:42:01.727Z"
   },
   {
    "duration": 2928,
    "start_time": "2023-09-15T06:42:01.906Z"
   },
   {
    "duration": 2502,
    "start_time": "2023-09-15T06:42:04.836Z"
   },
   {
    "duration": 2504,
    "start_time": "2023-09-15T06:42:07.340Z"
   },
   {
    "duration": 17,
    "start_time": "2023-09-15T06:42:09.848Z"
   },
   {
    "duration": 35,
    "start_time": "2023-09-15T06:42:09.901Z"
   },
   {
    "duration": 410,
    "start_time": "2023-09-15T06:42:09.938Z"
   },
   {
    "duration": 8,
    "start_time": "2023-09-15T06:42:10.349Z"
   },
   {
    "duration": 388,
    "start_time": "2023-09-15T06:42:10.358Z"
   },
   {
    "duration": 9,
    "start_time": "2023-09-15T06:42:10.748Z"
   },
   {
    "duration": 209,
    "start_time": "2023-09-15T06:42:10.760Z"
   },
   {
    "duration": 42,
    "start_time": "2023-09-15T06:42:10.971Z"
   },
   {
    "duration": 22,
    "start_time": "2023-09-15T06:42:11.015Z"
   },
   {
    "duration": 57,
    "start_time": "2023-09-15T06:42:11.039Z"
   },
   {
    "duration": 13,
    "start_time": "2023-09-15T06:42:11.098Z"
   },
   {
    "duration": 26,
    "start_time": "2023-09-15T06:42:11.112Z"
   },
   {
    "duration": 16,
    "start_time": "2023-09-15T06:42:11.140Z"
   },
   {
    "duration": 21,
    "start_time": "2023-09-15T06:42:11.158Z"
   },
   {
    "duration": 11,
    "start_time": "2023-09-15T06:42:11.181Z"
   },
   {
    "duration": 7,
    "start_time": "2023-09-15T06:42:11.195Z"
   },
   {
    "duration": 400,
    "start_time": "2023-09-15T06:42:11.203Z"
   },
   {
    "duration": 6,
    "start_time": "2023-09-15T06:42:11.605Z"
   },
   {
    "duration": 16,
    "start_time": "2023-09-15T06:42:11.612Z"
   },
   {
    "duration": 6600,
    "start_time": "2023-09-15T06:43:07.559Z"
   },
   {
    "duration": 15,
    "start_time": "2023-09-15T06:43:59.832Z"
   },
   {
    "duration": 7,
    "start_time": "2023-09-15T06:44:49.404Z"
   },
   {
    "duration": 323,
    "start_time": "2023-09-15T06:45:25.291Z"
   },
   {
    "duration": 405,
    "start_time": "2023-09-15T06:46:27.134Z"
   },
   {
    "duration": 343,
    "start_time": "2023-09-15T06:46:48.973Z"
   },
   {
    "duration": 69,
    "start_time": "2023-09-15T06:55:07.516Z"
   },
   {
    "duration": 9,
    "start_time": "2023-09-15T06:55:16.400Z"
   },
   {
    "duration": 13,
    "start_time": "2023-09-15T06:56:39.666Z"
   },
   {
    "duration": 16,
    "start_time": "2023-09-15T06:57:01.773Z"
   },
   {
    "duration": 16,
    "start_time": "2023-09-15T06:57:24.996Z"
   },
   {
    "duration": 10,
    "start_time": "2023-09-15T06:57:54.767Z"
   },
   {
    "duration": 18,
    "start_time": "2023-09-15T07:01:23.547Z"
   },
   {
    "duration": 16,
    "start_time": "2023-09-15T07:02:00.936Z"
   },
   {
    "duration": 16,
    "start_time": "2023-09-15T07:02:14.018Z"
   },
   {
    "duration": 21,
    "start_time": "2023-09-15T07:02:24.087Z"
   },
   {
    "duration": 354,
    "start_time": "2023-09-15T07:04:25.665Z"
   },
   {
    "duration": 336,
    "start_time": "2023-09-15T07:04:58.865Z"
   },
   {
    "duration": 1425,
    "start_time": "2023-09-15T07:07:02.506Z"
   },
   {
    "duration": 15563,
    "start_time": "2023-09-15T07:07:24.524Z"
   },
   {
    "duration": 336,
    "start_time": "2023-09-15T07:07:46.773Z"
   },
   {
    "duration": 377,
    "start_time": "2023-09-15T07:09:14.345Z"
   },
   {
    "duration": 333,
    "start_time": "2023-09-15T07:09:33.120Z"
   },
   {
    "duration": 319,
    "start_time": "2023-09-15T07:10:12.691Z"
   },
   {
    "duration": 318,
    "start_time": "2023-09-15T07:10:47.453Z"
   },
   {
    "duration": 541,
    "start_time": "2023-09-15T07:11:00.233Z"
   },
   {
    "duration": 339,
    "start_time": "2023-09-15T07:11:19.501Z"
   },
   {
    "duration": 322,
    "start_time": "2023-09-15T07:12:23.032Z"
   },
   {
    "duration": 328,
    "start_time": "2023-09-15T07:13:58.294Z"
   },
   {
    "duration": 18,
    "start_time": "2023-09-15T07:15:01.664Z"
   },
   {
    "duration": 1576,
    "start_time": "2023-09-15T10:11:57.405Z"
   },
   {
    "duration": 119,
    "start_time": "2023-09-15T10:11:58.983Z"
   },
   {
    "duration": 27,
    "start_time": "2023-09-15T10:11:59.104Z"
   },
   {
    "duration": 62,
    "start_time": "2023-09-15T10:11:59.138Z"
   },
   {
    "duration": 9,
    "start_time": "2023-09-15T10:11:59.403Z"
   },
   {
    "duration": 22,
    "start_time": "2023-09-15T10:12:00.353Z"
   },
   {
    "duration": 152,
    "start_time": "2023-09-15T10:12:01.222Z"
   },
   {
    "duration": 14,
    "start_time": "2023-09-15T10:12:02.110Z"
   },
   {
    "duration": 3145,
    "start_time": "2023-09-15T10:12:02.891Z"
   },
   {
    "duration": 3026,
    "start_time": "2023-09-15T10:12:06.037Z"
   },
   {
    "duration": 2842,
    "start_time": "2023-09-15T10:12:09.065Z"
   },
   {
    "duration": 37,
    "start_time": "2023-09-15T10:12:11.910Z"
   },
   {
    "duration": 7,
    "start_time": "2023-09-15T10:12:11.954Z"
   },
   {
    "duration": 455,
    "start_time": "2023-09-15T10:12:11.962Z"
   },
   {
    "duration": 26,
    "start_time": "2023-09-15T10:12:12.427Z"
   },
   {
    "duration": 314,
    "start_time": "2023-09-15T10:12:12.455Z"
   },
   {
    "duration": 7,
    "start_time": "2023-09-15T10:12:12.770Z"
   },
   {
    "duration": 219,
    "start_time": "2023-09-15T10:12:12.780Z"
   },
   {
    "duration": 40,
    "start_time": "2023-09-15T10:12:13.001Z"
   },
   {
    "duration": 28,
    "start_time": "2023-09-15T10:12:13.046Z"
   },
   {
    "duration": 34,
    "start_time": "2023-09-15T10:12:13.075Z"
   },
   {
    "duration": 252,
    "start_time": "2023-09-15T10:12:13.111Z"
   },
   {
    "duration": 112,
    "start_time": "2023-09-15T10:12:13.365Z"
   },
   {
    "duration": 29,
    "start_time": "2023-09-15T10:12:13.479Z"
   },
   {
    "duration": 26,
    "start_time": "2023-09-15T10:12:13.510Z"
   },
   {
    "duration": 15,
    "start_time": "2023-09-15T10:12:13.541Z"
   },
   {
    "duration": 5,
    "start_time": "2023-09-15T10:12:13.558Z"
   },
   {
    "duration": 444,
    "start_time": "2023-09-15T10:12:13.565Z"
   },
   {
    "duration": 5,
    "start_time": "2023-09-15T10:12:14.102Z"
   },
   {
    "duration": 6,
    "start_time": "2023-09-15T10:12:20.376Z"
   },
   {
    "duration": 29,
    "start_time": "2023-09-15T10:12:20.625Z"
   },
   {
    "duration": 7,
    "start_time": "2023-09-15T10:12:20.703Z"
   },
   {
    "duration": 350,
    "start_time": "2023-09-15T10:12:28.103Z"
   },
   {
    "duration": 16,
    "start_time": "2023-09-15T10:12:41.290Z"
   },
   {
    "duration": 402,
    "start_time": "2023-09-15T10:12:42.065Z"
   },
   {
    "duration": 35,
    "start_time": "2023-09-15T10:15:02.112Z"
   },
   {
    "duration": 16,
    "start_time": "2023-09-15T10:15:36.030Z"
   },
   {
    "duration": 18,
    "start_time": "2023-09-15T10:16:05.118Z"
   },
   {
    "duration": 17,
    "start_time": "2023-09-15T10:16:27.199Z"
   },
   {
    "duration": 3,
    "start_time": "2023-09-15T10:17:28.172Z"
   },
   {
    "duration": 57,
    "start_time": "2023-09-15T10:17:28.782Z"
   },
   {
    "duration": 16,
    "start_time": "2023-09-15T10:17:29.658Z"
   },
   {
    "duration": 18,
    "start_time": "2023-09-15T10:17:34.876Z"
   },
   {
    "duration": 15,
    "start_time": "2023-09-15T10:17:37.461Z"
   },
   {
    "duration": 14,
    "start_time": "2023-09-15T10:17:40.162Z"
   },
   {
    "duration": 104,
    "start_time": "2023-09-15T10:17:43.141Z"
   },
   {
    "duration": 19,
    "start_time": "2023-09-15T10:17:48.122Z"
   },
   {
    "duration": 2990,
    "start_time": "2023-09-15T10:17:54.122Z"
   },
   {
    "duration": 2583,
    "start_time": "2023-09-15T10:17:57.123Z"
   },
   {
    "duration": 2585,
    "start_time": "2023-09-15T10:17:59.709Z"
   },
   {
    "duration": 263,
    "start_time": "2023-09-15T10:18:02.298Z"
   },
   {
    "duration": 0,
    "start_time": "2023-09-15T10:18:02.563Z"
   },
   {
    "duration": 1337,
    "start_time": "2023-09-15T10:21:01.502Z"
   },
   {
    "duration": 68,
    "start_time": "2023-09-15T10:21:02.841Z"
   },
   {
    "duration": 20,
    "start_time": "2023-09-15T10:21:05.191Z"
   },
   {
    "duration": 16,
    "start_time": "2023-09-15T10:21:06.738Z"
   },
   {
    "duration": 14,
    "start_time": "2023-09-15T10:21:08.222Z"
   },
   {
    "duration": 14,
    "start_time": "2023-09-15T10:21:09.971Z"
   },
   {
    "duration": 155,
    "start_time": "2023-09-15T10:21:12.223Z"
   },
   {
    "duration": 13,
    "start_time": "2023-09-15T10:21:13.140Z"
   },
   {
    "duration": 2896,
    "start_time": "2023-09-15T10:21:14.255Z"
   },
   {
    "duration": 2337,
    "start_time": "2023-09-15T10:21:19.292Z"
   },
   {
    "duration": 2434,
    "start_time": "2023-09-15T10:21:21.636Z"
   },
   {
    "duration": 208,
    "start_time": "2023-09-15T10:21:24.073Z"
   },
   {
    "duration": 0,
    "start_time": "2023-09-15T10:21:24.282Z"
   },
   {
    "duration": 0,
    "start_time": "2023-09-15T10:21:24.284Z"
   },
   {
    "duration": 4189,
    "start_time": "2023-09-15T10:21:24.502Z"
   },
   {
    "duration": 0,
    "start_time": "2023-09-15T10:21:28.693Z"
   },
   {
    "duration": 375,
    "start_time": "2023-09-15T10:21:30.212Z"
   },
   {
    "duration": 7,
    "start_time": "2023-09-15T10:21:30.590Z"
   },
   {
    "duration": 403,
    "start_time": "2023-09-15T10:21:30.599Z"
   },
   {
    "duration": 7,
    "start_time": "2023-09-15T10:21:31.005Z"
   },
   {
    "duration": 244,
    "start_time": "2023-09-15T10:21:31.028Z"
   },
   {
    "duration": 25,
    "start_time": "2023-09-15T10:21:41.369Z"
   },
   {
    "duration": 22,
    "start_time": "2023-09-15T10:21:46.915Z"
   },
   {
    "duration": 6,
    "start_time": "2023-09-15T10:21:47.072Z"
   },
   {
    "duration": 4,
    "start_time": "2023-09-15T10:21:50.909Z"
   },
   {
    "duration": 5,
    "start_time": "2023-09-15T10:25:32.339Z"
   },
   {
    "duration": 66,
    "start_time": "2023-09-15T10:25:33.316Z"
   },
   {
    "duration": 15,
    "start_time": "2023-09-15T10:25:34.061Z"
   },
   {
    "duration": 16,
    "start_time": "2023-09-15T10:25:39.449Z"
   },
   {
    "duration": 10,
    "start_time": "2023-09-15T10:25:41.957Z"
   },
   {
    "duration": 14,
    "start_time": "2023-09-15T10:25:43.482Z"
   },
   {
    "duration": 114,
    "start_time": "2023-09-15T10:25:44.538Z"
   },
   {
    "duration": 25,
    "start_time": "2023-09-15T10:25:49.226Z"
   },
   {
    "duration": 1430,
    "start_time": "2023-09-15T10:26:04.523Z"
   },
   {
    "duration": 61,
    "start_time": "2023-09-15T10:26:05.957Z"
   },
   {
    "duration": 67,
    "start_time": "2023-09-15T10:26:06.020Z"
   },
   {
    "duration": 18,
    "start_time": "2023-09-15T10:26:06.089Z"
   },
   {
    "duration": 23,
    "start_time": "2023-09-15T10:26:06.109Z"
   },
   {
    "duration": 26,
    "start_time": "2023-09-15T10:26:06.137Z"
   },
   {
    "duration": 157,
    "start_time": "2023-09-15T10:26:06.165Z"
   },
   {
    "duration": 160,
    "start_time": "2023-09-15T10:26:06.324Z"
   },
   {
    "duration": 1313,
    "start_time": "2023-09-15T10:26:21.252Z"
   },
   {
    "duration": 52,
    "start_time": "2023-09-15T10:26:22.567Z"
   },
   {
    "duration": 32,
    "start_time": "2023-09-15T10:26:22.621Z"
   },
   {
    "duration": 49,
    "start_time": "2023-09-15T10:26:22.654Z"
   },
   {
    "duration": 10,
    "start_time": "2023-09-15T10:26:22.705Z"
   },
   {
    "duration": 18,
    "start_time": "2023-09-15T10:26:22.717Z"
   },
   {
    "duration": 141,
    "start_time": "2023-09-15T10:26:22.737Z"
   },
   {
    "duration": 14,
    "start_time": "2023-09-15T10:26:22.879Z"
   },
   {
    "duration": 3144,
    "start_time": "2023-09-15T10:26:22.895Z"
   },
   {
    "duration": 2716,
    "start_time": "2023-09-15T10:26:26.045Z"
   },
   {
    "duration": 2693,
    "start_time": "2023-09-15T10:26:28.763Z"
   },
   {
    "duration": 6,
    "start_time": "2023-09-15T10:26:31.458Z"
   },
   {
    "duration": 483,
    "start_time": "2023-09-15T10:26:31.466Z"
   },
   {
    "duration": 9,
    "start_time": "2023-09-15T10:26:31.953Z"
   },
   {
    "duration": 434,
    "start_time": "2023-09-15T10:26:31.964Z"
   },
   {
    "duration": 6,
    "start_time": "2023-09-15T10:26:32.400Z"
   },
   {
    "duration": 472,
    "start_time": "2023-09-15T10:26:32.408Z"
   },
   {
    "duration": 306,
    "start_time": "2023-09-15T10:26:32.882Z"
   },
   {
    "duration": 165,
    "start_time": "2023-09-15T10:26:33.190Z"
   },
   {
    "duration": 149,
    "start_time": "2023-09-15T10:26:33.357Z"
   },
   {
    "duration": 200,
    "start_time": "2023-09-15T10:26:33.509Z"
   },
   {
    "duration": 125,
    "start_time": "2023-09-15T10:26:33.711Z"
   },
   {
    "duration": 52,
    "start_time": "2023-09-15T10:26:33.838Z"
   },
   {
    "duration": 64,
    "start_time": "2023-09-15T10:26:33.891Z"
   },
   {
    "duration": 16,
    "start_time": "2023-09-15T10:26:33.957Z"
   },
   {
    "duration": 41,
    "start_time": "2023-09-15T10:26:33.974Z"
   },
   {
    "duration": 479,
    "start_time": "2023-09-15T10:26:34.017Z"
   },
   {
    "duration": 4,
    "start_time": "2023-09-15T10:26:34.498Z"
   },
   {
    "duration": 86,
    "start_time": "2023-09-15T10:26:34.503Z"
   },
   {
    "duration": 19,
    "start_time": "2023-09-15T10:26:34.591Z"
   },
   {
    "duration": 35,
    "start_time": "2023-09-15T10:26:34.611Z"
   },
   {
    "duration": 55,
    "start_time": "2023-09-15T10:26:34.650Z"
   },
   {
    "duration": 34,
    "start_time": "2023-09-15T10:26:34.707Z"
   },
   {
    "duration": 118,
    "start_time": "2023-09-15T10:26:34.744Z"
   },
   {
    "duration": 39,
    "start_time": "2023-09-15T10:26:34.864Z"
   },
   {
    "duration": 374,
    "start_time": "2023-09-15T10:26:34.904Z"
   },
   {
    "duration": 16,
    "start_time": "2023-09-15T10:26:35.280Z"
   },
   {
    "duration": 697,
    "start_time": "2023-09-15T10:26:35.298Z"
   },
   {
    "duration": 111,
    "start_time": "2023-09-15T10:29:33.573Z"
   },
   {
    "duration": 3,
    "start_time": "2023-09-15T10:29:50.568Z"
   },
   {
    "duration": 60,
    "start_time": "2023-09-15T10:29:51.410Z"
   },
   {
    "duration": 30,
    "start_time": "2023-09-15T10:29:52.221Z"
   },
   {
    "duration": 18,
    "start_time": "2023-09-15T10:29:55.998Z"
   },
   {
    "duration": 11,
    "start_time": "2023-09-15T10:30:08.049Z"
   },
   {
    "duration": 1344,
    "start_time": "2023-09-15T10:31:22.818Z"
   },
   {
    "duration": 53,
    "start_time": "2023-09-15T10:31:24.164Z"
   },
   {
    "duration": 42,
    "start_time": "2023-09-15T10:31:26.420Z"
   },
   {
    "duration": 15,
    "start_time": "2023-09-15T10:31:29.190Z"
   },
   {
    "duration": 18,
    "start_time": "2023-09-15T10:31:29.636Z"
   },
   {
    "duration": 35,
    "start_time": "2023-09-15T10:31:32.116Z"
   },
   {
    "duration": 153,
    "start_time": "2023-09-15T10:31:32.857Z"
   },
   {
    "duration": 17,
    "start_time": "2023-09-15T10:31:33.313Z"
   },
   {
    "duration": 3292,
    "start_time": "2023-09-15T10:31:33.812Z"
   },
   {
    "duration": 3147,
    "start_time": "2023-09-15T10:31:37.106Z"
   },
   {
    "duration": 3049,
    "start_time": "2023-09-15T10:31:40.258Z"
   },
   {
    "duration": 29,
    "start_time": "2023-09-15T10:31:43.309Z"
   },
   {
    "duration": 506,
    "start_time": "2023-09-15T10:31:43.340Z"
   },
   {
    "duration": 9,
    "start_time": "2023-09-15T10:31:43.854Z"
   },
   {
    "duration": 308,
    "start_time": "2023-09-15T10:31:43.866Z"
   },
   {
    "duration": 7,
    "start_time": "2023-09-15T10:31:44.176Z"
   },
   {
    "duration": 220,
    "start_time": "2023-09-15T10:31:44.184Z"
   },
   {
    "duration": 138,
    "start_time": "2023-09-15T10:31:44.406Z"
   },
   {
    "duration": 0,
    "start_time": "2023-09-15T10:31:44.546Z"
   },
   {
    "duration": 0,
    "start_time": "2023-09-15T10:31:44.548Z"
   },
   {
    "duration": 0,
    "start_time": "2023-09-15T10:31:44.549Z"
   },
   {
    "duration": 0,
    "start_time": "2023-09-15T10:31:44.550Z"
   },
   {
    "duration": 0,
    "start_time": "2023-09-15T10:31:44.550Z"
   },
   {
    "duration": 0,
    "start_time": "2023-09-15T10:31:44.552Z"
   },
   {
    "duration": 0,
    "start_time": "2023-09-15T10:31:44.553Z"
   },
   {
    "duration": 0,
    "start_time": "2023-09-15T10:31:44.554Z"
   },
   {
    "duration": 11,
    "start_time": "2023-09-15T10:32:44.486Z"
   },
   {
    "duration": 5,
    "start_time": "2023-09-15T10:32:53.253Z"
   },
   {
    "duration": 20,
    "start_time": "2023-09-15T10:32:55.942Z"
   },
   {
    "duration": 4,
    "start_time": "2023-09-15T10:32:56.637Z"
   },
   {
    "duration": 4,
    "start_time": "2023-09-15T10:32:59.902Z"
   },
   {
    "duration": 28,
    "start_time": "2023-09-15T10:33:08.353Z"
   },
   {
    "duration": 7,
    "start_time": "2023-09-15T10:33:09.396Z"
   },
   {
    "duration": 21,
    "start_time": "2023-09-15T10:33:10.347Z"
   },
   {
    "duration": 9,
    "start_time": "2023-09-15T10:33:11.307Z"
   },
   {
    "duration": 5,
    "start_time": "2023-09-15T10:33:13.183Z"
   },
   {
    "duration": 430,
    "start_time": "2023-09-15T10:33:14.889Z"
   },
   {
    "duration": 6,
    "start_time": "2023-09-15T10:33:15.743Z"
   },
   {
    "duration": 21,
    "start_time": "2023-09-15T10:33:16.778Z"
   },
   {
    "duration": 11,
    "start_time": "2023-09-15T10:33:17.491Z"
   },
   {
    "duration": 32,
    "start_time": "2023-09-15T10:33:17.720Z"
   },
   {
    "duration": 6,
    "start_time": "2023-09-15T10:33:24.278Z"
   },
   {
    "duration": 5,
    "start_time": "2023-09-15T10:33:25.275Z"
   },
   {
    "duration": 20,
    "start_time": "2023-09-15T10:33:26.441Z"
   },
   {
    "duration": 9,
    "start_time": "2023-09-15T10:33:30.659Z"
   },
   {
    "duration": 358,
    "start_time": "2023-09-15T10:33:34.533Z"
   },
   {
    "duration": 25,
    "start_time": "2023-09-15T10:33:38.950Z"
   },
   {
    "duration": 473,
    "start_time": "2023-09-15T10:33:39.932Z"
   },
   {
    "duration": 5,
    "start_time": "2023-09-15T10:36:35.512Z"
   },
   {
    "duration": 9,
    "start_time": "2023-09-15T10:36:38.461Z"
   },
   {
    "duration": 1504,
    "start_time": "2023-09-15T10:36:44.382Z"
   },
   {
    "duration": 77,
    "start_time": "2023-09-15T10:36:45.888Z"
   },
   {
    "duration": 21,
    "start_time": "2023-09-15T10:36:45.967Z"
   },
   {
    "duration": 18,
    "start_time": "2023-09-15T10:36:45.991Z"
   },
   {
    "duration": 44,
    "start_time": "2023-09-15T10:36:46.012Z"
   },
   {
    "duration": 63,
    "start_time": "2023-09-15T10:36:46.059Z"
   },
   {
    "duration": 183,
    "start_time": "2023-09-15T10:36:46.135Z"
   },
   {
    "duration": 36,
    "start_time": "2023-09-15T10:36:46.320Z"
   },
   {
    "duration": 3460,
    "start_time": "2023-09-15T10:36:46.361Z"
   },
   {
    "duration": 2945,
    "start_time": "2023-09-15T10:36:49.825Z"
   },
   {
    "duration": 2816,
    "start_time": "2023-09-15T10:36:52.773Z"
   },
   {
    "duration": 7,
    "start_time": "2023-09-15T10:36:55.591Z"
   },
   {
    "duration": 576,
    "start_time": "2023-09-15T10:36:55.599Z"
   },
   {
    "duration": 9,
    "start_time": "2023-09-15T10:36:56.178Z"
   },
   {
    "duration": 319,
    "start_time": "2023-09-15T10:36:56.189Z"
   },
   {
    "duration": 18,
    "start_time": "2023-09-15T10:36:56.510Z"
   },
   {
    "duration": 253,
    "start_time": "2023-09-15T10:36:56.530Z"
   },
   {
    "duration": 5,
    "start_time": "2023-09-15T10:36:56.785Z"
   },
   {
    "duration": 26,
    "start_time": "2023-09-15T10:36:56.792Z"
   },
   {
    "duration": 31,
    "start_time": "2023-09-15T10:36:56.819Z"
   },
   {
    "duration": 4,
    "start_time": "2023-09-15T10:36:56.854Z"
   },
   {
    "duration": 45,
    "start_time": "2023-09-15T10:36:56.859Z"
   },
   {
    "duration": 5,
    "start_time": "2023-09-15T10:36:56.907Z"
   },
   {
    "duration": 52,
    "start_time": "2023-09-15T10:36:56.914Z"
   },
   {
    "duration": 9,
    "start_time": "2023-09-15T10:36:56.969Z"
   },
   {
    "duration": 14,
    "start_time": "2023-09-15T10:36:56.980Z"
   },
   {
    "duration": 24,
    "start_time": "2023-09-15T10:36:56.996Z"
   },
   {
    "duration": 128,
    "start_time": "2023-09-15T10:36:57.030Z"
   },
   {
    "duration": 0,
    "start_time": "2023-09-15T10:36:57.159Z"
   },
   {
    "duration": 0,
    "start_time": "2023-09-15T10:36:57.161Z"
   },
   {
    "duration": 0,
    "start_time": "2023-09-15T10:36:57.163Z"
   },
   {
    "duration": 0,
    "start_time": "2023-09-15T10:36:57.164Z"
   },
   {
    "duration": 0,
    "start_time": "2023-09-15T10:36:57.165Z"
   },
   {
    "duration": 0,
    "start_time": "2023-09-15T10:36:57.167Z"
   },
   {
    "duration": 1,
    "start_time": "2023-09-15T10:36:57.168Z"
   },
   {
    "duration": 0,
    "start_time": "2023-09-15T10:36:57.170Z"
   },
   {
    "duration": 0,
    "start_time": "2023-09-15T10:36:57.171Z"
   },
   {
    "duration": 0,
    "start_time": "2023-09-15T10:36:57.172Z"
   },
   {
    "duration": 0,
    "start_time": "2023-09-15T10:36:57.174Z"
   },
   {
    "duration": 4,
    "start_time": "2023-09-15T10:36:57.349Z"
   },
   {
    "duration": 68,
    "start_time": "2023-09-15T10:37:02.702Z"
   },
   {
    "duration": 376,
    "start_time": "2023-09-15T10:37:51.983Z"
   },
   {
    "duration": 3263,
    "start_time": "2023-09-15T10:38:04.552Z"
   },
   {
    "duration": 10,
    "start_time": "2023-09-15T10:38:08.172Z"
   },
   {
    "duration": 5,
    "start_time": "2023-09-15T10:38:19.550Z"
   },
   {
    "duration": 55,
    "start_time": "2023-09-15T10:38:20.249Z"
   },
   {
    "duration": 15,
    "start_time": "2023-09-15T10:38:20.999Z"
   },
   {
    "duration": 22,
    "start_time": "2023-09-15T10:38:24.640Z"
   },
   {
    "duration": 11,
    "start_time": "2023-09-15T10:38:28.290Z"
   },
   {
    "duration": 13,
    "start_time": "2023-09-15T10:38:31.052Z"
   },
   {
    "duration": 148,
    "start_time": "2023-09-15T10:38:37.814Z"
   },
   {
    "duration": 17,
    "start_time": "2023-09-15T10:38:39.908Z"
   },
   {
    "duration": 4480,
    "start_time": "2023-09-15T10:38:41.353Z"
   },
   {
    "duration": 2713,
    "start_time": "2023-09-15T10:38:47.042Z"
   },
   {
    "duration": 2796,
    "start_time": "2023-09-15T10:38:49.757Z"
   },
   {
    "duration": 7,
    "start_time": "2023-09-15T10:38:52.556Z"
   },
   {
    "duration": 454,
    "start_time": "2023-09-15T10:38:52.564Z"
   },
   {
    "duration": 17,
    "start_time": "2023-09-15T10:38:53.025Z"
   },
   {
    "duration": 435,
    "start_time": "2023-09-15T10:38:53.045Z"
   },
   {
    "duration": 8,
    "start_time": "2023-09-15T10:38:53.481Z"
   },
   {
    "duration": 211,
    "start_time": "2023-09-15T10:38:53.491Z"
   },
   {
    "duration": 5,
    "start_time": "2023-09-15T10:38:53.704Z"
   },
   {
    "duration": 31,
    "start_time": "2023-09-15T10:38:53.710Z"
   },
   {
    "duration": 19,
    "start_time": "2023-09-15T10:38:53.742Z"
   },
   {
    "duration": 10,
    "start_time": "2023-09-15T10:38:53.762Z"
   },
   {
    "duration": 26,
    "start_time": "2023-09-15T10:38:53.773Z"
   },
   {
    "duration": 12,
    "start_time": "2023-09-15T10:38:53.802Z"
   },
   {
    "duration": 34,
    "start_time": "2023-09-15T10:38:53.815Z"
   },
   {
    "duration": 10,
    "start_time": "2023-09-15T10:38:53.850Z"
   },
   {
    "duration": 11,
    "start_time": "2023-09-15T10:38:53.862Z"
   },
   {
    "duration": 21,
    "start_time": "2023-09-15T10:38:53.874Z"
   },
   {
    "duration": 2,
    "start_time": "2023-09-15T10:38:53.897Z"
   },
   {
    "duration": 6,
    "start_time": "2023-09-15T10:38:53.901Z"
   },
   {
    "duration": 20,
    "start_time": "2023-09-15T10:38:59.059Z"
   },
   {
    "duration": 9,
    "start_time": "2023-09-15T10:38:59.213Z"
   },
   {
    "duration": 16,
    "start_time": "2023-09-15T10:38:59.297Z"
   },
   {
    "duration": 10,
    "start_time": "2023-09-15T10:40:03.533Z"
   },
   {
    "duration": 5,
    "start_time": "2023-09-15T10:40:04.595Z"
   },
   {
    "duration": 14,
    "start_time": "2023-09-15T10:40:05.449Z"
   },
   {
    "duration": 6,
    "start_time": "2023-09-15T10:40:06.147Z"
   },
   {
    "duration": 352,
    "start_time": "2023-09-15T10:40:10.048Z"
   },
   {
    "duration": 17,
    "start_time": "2023-09-15T10:40:13.599Z"
   },
   {
    "duration": 372,
    "start_time": "2023-09-15T10:40:19.340Z"
   },
   {
    "duration": 27,
    "start_time": "2023-09-15T10:54:41.159Z"
   },
   {
    "duration": 33,
    "start_time": "2023-09-15T10:54:58.311Z"
   },
   {
    "duration": 15,
    "start_time": "2023-09-15T10:58:20.869Z"
   },
   {
    "duration": 340,
    "start_time": "2023-09-15T10:59:44.802Z"
   },
   {
    "duration": 24,
    "start_time": "2023-09-15T11:00:34.906Z"
   },
   {
    "duration": 20,
    "start_time": "2023-09-15T11:00:42.923Z"
   },
   {
    "duration": 231,
    "start_time": "2023-09-15T11:03:55.604Z"
   },
   {
    "duration": 144,
    "start_time": "2023-09-15T11:06:32.202Z"
   },
   {
    "duration": 131,
    "start_time": "2023-09-15T11:06:45.370Z"
   },
   {
    "duration": 117,
    "start_time": "2023-09-15T11:08:00.649Z"
   },
   {
    "duration": 10,
    "start_time": "2023-09-15T11:14:15.449Z"
   },
   {
    "duration": 552,
    "start_time": "2023-09-15T11:14:32.901Z"
   },
   {
    "duration": 96,
    "start_time": "2023-09-15T11:19:47.804Z"
   },
   {
    "duration": 153,
    "start_time": "2023-09-15T11:20:14.118Z"
   },
   {
    "duration": 117,
    "start_time": "2023-09-15T11:20:20.274Z"
   },
   {
    "duration": 91,
    "start_time": "2023-09-15T11:20:58.258Z"
   },
   {
    "duration": 7,
    "start_time": "2023-09-15T11:21:42.222Z"
   },
   {
    "duration": 324,
    "start_time": "2023-09-15T11:23:09.244Z"
   },
   {
    "duration": 16,
    "start_time": "2023-09-15T11:26:37.514Z"
   },
   {
    "duration": 11,
    "start_time": "2023-09-15T11:28:51.861Z"
   },
   {
    "duration": 12,
    "start_time": "2023-09-15T11:29:01.946Z"
   },
   {
    "duration": 22,
    "start_time": "2023-09-15T11:29:08.121Z"
   },
   {
    "duration": 15,
    "start_time": "2023-09-15T11:29:14.682Z"
   },
   {
    "duration": 14,
    "start_time": "2023-09-15T11:29:45.449Z"
   },
   {
    "duration": 21,
    "start_time": "2023-09-15T11:31:08.222Z"
   },
   {
    "duration": 324,
    "start_time": "2023-09-15T11:32:52.440Z"
   },
   {
    "duration": 135,
    "start_time": "2023-09-15T11:33:22.316Z"
   },
   {
    "duration": 4,
    "start_time": "2023-09-15T11:36:00.882Z"
   },
   {
    "duration": 14,
    "start_time": "2023-09-15T11:36:02.662Z"
   },
   {
    "duration": 145,
    "start_time": "2023-09-15T11:36:06.203Z"
   },
   {
    "duration": 19,
    "start_time": "2023-09-15T11:37:10.402Z"
   },
   {
    "duration": 2076,
    "start_time": "2023-09-15T11:38:00.191Z"
   },
   {
    "duration": 4,
    "start_time": "2023-09-15T11:38:45.249Z"
   },
   {
    "duration": 19,
    "start_time": "2023-09-15T11:38:46.062Z"
   },
   {
    "duration": 127,
    "start_time": "2023-09-15T11:38:47.363Z"
   },
   {
    "duration": 2373,
    "start_time": "2023-09-15T11:38:48.545Z"
   },
   {
    "duration": 3,
    "start_time": "2023-09-15T11:39:30.612Z"
   },
   {
    "duration": 15,
    "start_time": "2023-09-15T11:39:31.982Z"
   },
   {
    "duration": 132,
    "start_time": "2023-09-15T11:39:33.374Z"
   },
   {
    "duration": 1979,
    "start_time": "2023-09-15T11:39:34.873Z"
   },
   {
    "duration": 2017,
    "start_time": "2023-09-15T11:40:25.514Z"
   },
   {
    "duration": 22,
    "start_time": "2023-09-15T11:43:21.956Z"
   },
   {
    "duration": 30,
    "start_time": "2023-09-15T11:44:04.326Z"
   },
   {
    "duration": 151,
    "start_time": "2023-09-15T11:44:08.762Z"
   },
   {
    "duration": 160,
    "start_time": "2023-09-15T11:44:17.445Z"
   },
   {
    "duration": 365,
    "start_time": "2023-09-15T11:45:03.503Z"
   },
   {
    "duration": 407,
    "start_time": "2023-09-15T11:46:56.554Z"
   },
   {
    "duration": 341,
    "start_time": "2023-09-15T11:47:01.177Z"
   },
   {
    "duration": 18,
    "start_time": "2023-09-15T11:48:06.852Z"
   },
   {
    "duration": 130,
    "start_time": "2023-09-15T11:48:10.884Z"
   },
   {
    "duration": 180,
    "start_time": "2023-09-15T11:48:39.785Z"
   },
   {
    "duration": 2658,
    "start_time": "2023-09-15T11:48:45.484Z"
   },
   {
    "duration": 5,
    "start_time": "2023-09-15T11:49:56.763Z"
   },
   {
    "duration": 15,
    "start_time": "2023-09-15T11:49:58.106Z"
   },
   {
    "duration": 159,
    "start_time": "2023-09-15T11:50:00.261Z"
   },
   {
    "duration": 409,
    "start_time": "2023-09-15T11:50:01.968Z"
   },
   {
    "duration": 6,
    "start_time": "2023-09-15T11:50:43.631Z"
   },
   {
    "duration": 29,
    "start_time": "2023-09-15T11:50:44.733Z"
   },
   {
    "duration": 164,
    "start_time": "2023-09-15T11:50:46.314Z"
   },
   {
    "duration": 3331,
    "start_time": "2023-09-15T11:50:49.064Z"
   },
   {
    "duration": 3375,
    "start_time": "2023-09-15T11:50:52.960Z"
   },
   {
    "duration": 9,
    "start_time": "2023-09-15T11:51:39.447Z"
   },
   {
    "duration": 16,
    "start_time": "2023-09-15T11:51:40.177Z"
   },
   {
    "duration": 186,
    "start_time": "2023-09-15T11:51:42.150Z"
   },
   {
    "duration": 2490,
    "start_time": "2023-09-15T11:51:43.607Z"
   },
   {
    "duration": 2882,
    "start_time": "2023-09-15T11:54:08.123Z"
   },
   {
    "duration": 2635,
    "start_time": "2023-09-15T11:56:58.383Z"
   },
   {
    "duration": 2816,
    "start_time": "2023-09-15T11:57:41.899Z"
   },
   {
    "duration": 2458,
    "start_time": "2023-09-15T11:57:53.150Z"
   },
   {
    "duration": 2704,
    "start_time": "2023-09-15T12:00:19.064Z"
   },
   {
    "duration": 3063,
    "start_time": "2023-09-15T12:00:30.758Z"
   },
   {
    "duration": 438,
    "start_time": "2023-09-15T12:01:18.383Z"
   },
   {
    "duration": 1548,
    "start_time": "2023-09-16T09:18:13.730Z"
   },
   {
    "duration": 122,
    "start_time": "2023-09-16T09:18:15.280Z"
   },
   {
    "duration": 28,
    "start_time": "2023-09-16T09:18:15.405Z"
   },
   {
    "duration": 17,
    "start_time": "2023-09-16T09:18:17.246Z"
   },
   {
    "duration": 14,
    "start_time": "2023-09-16T09:18:21.835Z"
   },
   {
    "duration": 15,
    "start_time": "2023-09-16T09:18:23.889Z"
   },
   {
    "duration": 128,
    "start_time": "2023-09-16T09:18:26.581Z"
   },
   {
    "duration": 15,
    "start_time": "2023-09-16T09:18:29.185Z"
   },
   {
    "duration": 2910,
    "start_time": "2023-09-16T09:18:35.422Z"
   },
   {
    "duration": 2476,
    "start_time": "2023-09-16T09:18:38.522Z"
   },
   {
    "duration": 2592,
    "start_time": "2023-09-16T09:18:41.001Z"
   },
   {
    "duration": 7,
    "start_time": "2023-09-16T09:18:48.606Z"
   },
   {
    "duration": 391,
    "start_time": "2023-09-16T09:18:49.531Z"
   },
   {
    "duration": 8,
    "start_time": "2023-09-16T09:18:52.011Z"
   },
   {
    "duration": 284,
    "start_time": "2023-09-16T09:18:54.306Z"
   },
   {
    "duration": 7,
    "start_time": "2023-09-16T09:19:01.911Z"
   },
   {
    "duration": 198,
    "start_time": "2023-09-16T09:19:03.139Z"
   },
   {
    "duration": 5,
    "start_time": "2023-09-16T09:19:04.271Z"
   },
   {
    "duration": 13,
    "start_time": "2023-09-16T09:19:05.037Z"
   },
   {
    "duration": 5,
    "start_time": "2023-09-16T09:19:05.618Z"
   },
   {
    "duration": 17,
    "start_time": "2023-09-16T09:19:06.795Z"
   },
   {
    "duration": 6,
    "start_time": "2023-09-16T09:19:07.384Z"
   },
   {
    "duration": 15,
    "start_time": "2023-09-16T09:19:08.023Z"
   },
   {
    "duration": 10,
    "start_time": "2023-09-16T09:19:08.636Z"
   },
   {
    "duration": 4,
    "start_time": "2023-09-16T09:19:09.247Z"
   },
   {
    "duration": 8,
    "start_time": "2023-09-16T09:19:10.977Z"
   },
   {
    "duration": 2,
    "start_time": "2023-09-16T09:19:11.252Z"
   },
   {
    "duration": 5,
    "start_time": "2023-09-16T09:19:11.906Z"
   },
   {
    "duration": 5,
    "start_time": "2023-09-16T09:19:16.742Z"
   },
   {
    "duration": 24,
    "start_time": "2023-09-16T09:19:17.581Z"
   },
   {
    "duration": 9,
    "start_time": "2023-09-16T09:19:20.530Z"
   },
   {
    "duration": 16,
    "start_time": "2023-09-16T09:19:23.102Z"
   },
   {
    "duration": 6,
    "start_time": "2023-09-16T09:19:23.701Z"
   },
   {
    "duration": 4,
    "start_time": "2023-09-16T09:19:24.231Z"
   },
   {
    "duration": 14,
    "start_time": "2023-09-16T09:19:24.682Z"
   },
   {
    "duration": 7,
    "start_time": "2023-09-16T09:19:26.382Z"
   },
   {
    "duration": 337,
    "start_time": "2023-09-16T09:19:28.685Z"
   },
   {
    "duration": 17,
    "start_time": "2023-09-16T09:19:30.593Z"
   },
   {
    "duration": 412,
    "start_time": "2023-09-16T09:19:33.827Z"
   },
   {
    "duration": 198,
    "start_time": "2023-09-16T09:19:35.087Z"
   },
   {
    "duration": 17,
    "start_time": "2023-09-16T09:19:35.878Z"
   },
   {
    "duration": 131,
    "start_time": "2023-09-16T09:19:37.281Z"
   },
   {
    "duration": 1506,
    "start_time": "2023-09-16T09:19:38.901Z"
   },
   {
    "duration": 16,
    "start_time": "2023-09-16T09:19:40.409Z"
   },
   {
    "duration": 16,
    "start_time": "2023-09-16T09:19:41.719Z"
   },
   {
    "duration": 15,
    "start_time": "2023-09-16T09:19:43.241Z"
   },
   {
    "duration": 101,
    "start_time": "2023-09-16T09:19:48.213Z"
   },
   {
    "duration": 122,
    "start_time": "2023-09-16T09:19:49.578Z"
   },
   {
    "duration": 105,
    "start_time": "2023-09-16T09:19:50.153Z"
   },
   {
    "duration": 114,
    "start_time": "2023-09-16T09:19:50.784Z"
   },
   {
    "duration": 205,
    "start_time": "2023-09-16T09:19:51.317Z"
   },
   {
    "duration": 118,
    "start_time": "2023-09-16T09:19:51.981Z"
   },
   {
    "duration": 11,
    "start_time": "2023-09-16T09:19:52.488Z"
   },
   {
    "duration": 10,
    "start_time": "2023-09-16T09:19:53.054Z"
   },
   {
    "duration": 747,
    "start_time": "2023-09-16T09:19:53.610Z"
   },
   {
    "duration": 129,
    "start_time": "2023-09-16T09:21:57.294Z"
   },
   {
    "duration": 12,
    "start_time": "2023-09-16T09:23:49.283Z"
   },
   {
    "duration": 8,
    "start_time": "2023-09-16T09:24:06.555Z"
   },
   {
    "duration": 10,
    "start_time": "2023-09-16T09:24:09.188Z"
   },
   {
    "duration": 11,
    "start_time": "2023-09-16T09:27:22.210Z"
   },
   {
    "duration": 10,
    "start_time": "2023-09-16T09:32:20.272Z"
   },
   {
    "duration": 632,
    "start_time": "2023-09-16T09:38:43.322Z"
   },
   {
    "duration": 690,
    "start_time": "2023-09-16T09:39:24.881Z"
   },
   {
    "duration": 628,
    "start_time": "2023-09-16T09:40:02.414Z"
   },
   {
    "duration": 1689,
    "start_time": "2023-09-16T09:41:13.920Z"
   },
   {
    "duration": 7,
    "start_time": "2023-09-16T09:41:22.943Z"
   },
   {
    "duration": 6,
    "start_time": "2023-09-16T09:45:21.098Z"
   },
   {
    "duration": 262,
    "start_time": "2023-09-16T09:45:52.886Z"
   },
   {
    "duration": 15,
    "start_time": "2023-09-16T09:47:12.890Z"
   },
   {
    "duration": 49,
    "start_time": "2023-09-16T09:49:21.752Z"
   },
   {
    "duration": 218,
    "start_time": "2023-09-16T09:58:23.884Z"
   },
   {
    "duration": 15,
    "start_time": "2023-09-16T09:59:09.439Z"
   },
   {
    "duration": 214,
    "start_time": "2023-09-16T09:59:12.395Z"
   },
   {
    "duration": 211,
    "start_time": "2023-09-16T09:59:52.604Z"
   },
   {
    "duration": 212,
    "start_time": "2023-09-16T09:59:58.395Z"
   },
   {
    "duration": 223,
    "start_time": "2023-09-16T10:00:51.324Z"
   },
   {
    "duration": 245,
    "start_time": "2023-09-16T10:02:53.359Z"
   },
   {
    "duration": 22,
    "start_time": "2023-09-16T10:02:57.240Z"
   },
   {
    "duration": 226,
    "start_time": "2023-09-16T10:03:35.537Z"
   },
   {
    "duration": 15,
    "start_time": "2023-09-16T10:04:57.527Z"
   },
   {
    "duration": 14,
    "start_time": "2023-09-16T10:05:54.671Z"
   },
   {
    "duration": 14,
    "start_time": "2023-09-16T10:06:33.388Z"
   },
   {
    "duration": 11,
    "start_time": "2023-09-16T10:07:08.682Z"
   },
   {
    "duration": 14,
    "start_time": "2023-09-16T10:07:33.099Z"
   },
   {
    "duration": 15,
    "start_time": "2023-09-16T10:08:27.639Z"
   },
   {
    "duration": 10,
    "start_time": "2023-09-16T10:08:34.374Z"
   },
   {
    "duration": 15,
    "start_time": "2023-09-16T10:08:52.538Z"
   },
   {
    "duration": 14,
    "start_time": "2023-09-16T10:09:34.200Z"
   },
   {
    "duration": 16,
    "start_time": "2023-09-16T10:10:33.005Z"
   },
   {
    "duration": 15,
    "start_time": "2023-09-16T10:10:59.810Z"
   },
   {
    "duration": 15,
    "start_time": "2023-09-16T10:11:28.274Z"
   },
   {
    "duration": 185,
    "start_time": "2023-09-16T10:14:11.717Z"
   },
   {
    "duration": 20,
    "start_time": "2023-09-16T10:17:04.412Z"
   },
   {
    "duration": 18,
    "start_time": "2023-09-16T10:18:36.879Z"
   },
   {
    "duration": 18,
    "start_time": "2023-09-16T10:18:41.784Z"
   },
   {
    "duration": 16,
    "start_time": "2023-09-16T10:20:05.467Z"
   },
   {
    "duration": 71,
    "start_time": "2023-09-16T16:44:23.094Z"
   },
   {
    "duration": 1753,
    "start_time": "2023-09-16T16:44:31.446Z"
   },
   {
    "duration": 148,
    "start_time": "2023-09-16T16:44:33.201Z"
   },
   {
    "duration": 23,
    "start_time": "2023-09-16T16:44:33.351Z"
   },
   {
    "duration": 20,
    "start_time": "2023-09-16T16:44:34.074Z"
   },
   {
    "duration": 11,
    "start_time": "2023-09-16T16:44:35.140Z"
   },
   {
    "duration": 16,
    "start_time": "2023-09-16T16:44:36.374Z"
   },
   {
    "duration": 153,
    "start_time": "2023-09-16T16:44:37.384Z"
   },
   {
    "duration": 15,
    "start_time": "2023-09-16T16:44:38.675Z"
   },
   {
    "duration": 3557,
    "start_time": "2023-09-16T16:44:39.936Z"
   },
   {
    "duration": 3104,
    "start_time": "2023-09-16T16:44:43.496Z"
   },
   {
    "duration": 3068,
    "start_time": "2023-09-16T16:44:46.602Z"
   },
   {
    "duration": 10,
    "start_time": "2023-09-16T16:44:49.673Z"
   },
   {
    "duration": 518,
    "start_time": "2023-09-16T16:44:49.685Z"
   },
   {
    "duration": 25,
    "start_time": "2023-09-16T16:44:50.205Z"
   },
   {
    "duration": 367,
    "start_time": "2023-09-16T16:44:50.232Z"
   },
   {
    "duration": 24,
    "start_time": "2023-09-16T16:44:50.601Z"
   },
   {
    "duration": 228,
    "start_time": "2023-09-16T16:44:50.628Z"
   },
   {
    "duration": 5,
    "start_time": "2023-09-16T16:44:51.166Z"
   },
   {
    "duration": 18,
    "start_time": "2023-09-16T16:44:51.838Z"
   },
   {
    "duration": 11,
    "start_time": "2023-09-16T16:44:54.106Z"
   },
   {
    "duration": 22,
    "start_time": "2023-09-16T16:44:54.192Z"
   },
   {
    "duration": 5,
    "start_time": "2023-09-16T16:44:54.270Z"
   },
   {
    "duration": 15,
    "start_time": "2023-09-16T16:44:54.351Z"
   },
   {
    "duration": 10,
    "start_time": "2023-09-16T16:44:57.290Z"
   },
   {
    "duration": 5,
    "start_time": "2023-09-16T16:44:59.863Z"
   },
   {
    "duration": 11,
    "start_time": "2023-09-16T16:45:16.429Z"
   },
   {
    "duration": 5,
    "start_time": "2023-09-16T16:45:17.437Z"
   },
   {
    "duration": 8,
    "start_time": "2023-09-16T16:45:18.015Z"
   },
   {
    "duration": 20,
    "start_time": "2023-09-16T16:45:18.939Z"
   },
   {
    "duration": 13,
    "start_time": "2023-09-16T16:45:21.961Z"
   },
   {
    "duration": 17,
    "start_time": "2023-09-16T16:45:25.758Z"
   },
   {
    "duration": 28,
    "start_time": "2023-09-16T16:45:25.777Z"
   },
   {
    "duration": 7,
    "start_time": "2023-09-16T16:45:30.240Z"
   },
   {
    "duration": 20,
    "start_time": "2023-09-16T16:45:31.803Z"
   },
   {
    "duration": 11,
    "start_time": "2023-09-16T16:45:34.605Z"
   },
   {
    "duration": 395,
    "start_time": "2023-09-16T16:45:36.234Z"
   },
   {
    "duration": 19,
    "start_time": "2023-09-16T16:45:37.236Z"
   },
   {
    "duration": 479,
    "start_time": "2023-09-16T16:45:38.648Z"
   },
   {
    "duration": 208,
    "start_time": "2023-09-16T16:45:39.238Z"
   },
   {
    "duration": 17,
    "start_time": "2023-09-16T16:45:39.978Z"
   },
   {
    "duration": 185,
    "start_time": "2023-09-16T16:45:40.656Z"
   },
   {
    "duration": 1756,
    "start_time": "2023-09-16T16:45:41.441Z"
   },
   {
    "duration": 25,
    "start_time": "2023-09-16T16:45:43.200Z"
   },
   {
    "duration": 41,
    "start_time": "2023-09-16T16:45:43.228Z"
   },
   {
    "duration": 22,
    "start_time": "2023-09-16T16:45:43.273Z"
   },
   {
    "duration": 127,
    "start_time": "2023-09-16T16:45:43.693Z"
   },
   {
    "duration": 154,
    "start_time": "2023-09-16T16:45:44.267Z"
   },
   {
    "duration": 114,
    "start_time": "2023-09-16T16:45:44.765Z"
   },
   {
    "duration": 150,
    "start_time": "2023-09-16T16:45:45.386Z"
   },
   {
    "duration": 235,
    "start_time": "2023-09-16T16:45:45.540Z"
   },
   {
    "duration": 131,
    "start_time": "2023-09-16T16:45:45.939Z"
   },
   {
    "duration": 15,
    "start_time": "2023-09-16T16:45:46.560Z"
   },
   {
    "duration": 9,
    "start_time": "2023-09-16T16:45:47.135Z"
   },
   {
    "duration": 806,
    "start_time": "2023-09-16T16:45:47.772Z"
   },
   {
    "duration": 10,
    "start_time": "2023-09-16T16:45:51.063Z"
   },
   {
    "duration": 8,
    "start_time": "2023-09-16T16:45:51.738Z"
   },
   {
    "duration": 665,
    "start_time": "2023-09-16T16:45:52.411Z"
   },
   {
    "duration": 8,
    "start_time": "2023-09-16T16:45:54.050Z"
   },
   {
    "duration": 226,
    "start_time": "2023-09-16T16:45:55.696Z"
   },
   {
    "duration": 14,
    "start_time": "2023-09-16T16:45:56.469Z"
   },
   {
    "duration": 243,
    "start_time": "2023-09-16T16:45:58.933Z"
   },
   {
    "duration": 16,
    "start_time": "2023-09-16T16:46:00.758Z"
   },
   {
    "duration": 18,
    "start_time": "2023-09-16T16:46:01.433Z"
   },
   {
    "duration": 17,
    "start_time": "2023-09-16T16:46:01.967Z"
   },
   {
    "duration": 25,
    "start_time": "2023-09-16T16:46:02.727Z"
   },
   {
    "duration": 14,
    "start_time": "2023-09-16T16:46:03.562Z"
   },
   {
    "duration": 21,
    "start_time": "2023-09-16T16:46:04.248Z"
   },
   {
    "duration": 25,
    "start_time": "2023-09-16T16:46:04.801Z"
   },
   {
    "duration": 18,
    "start_time": "2023-09-16T16:46:05.626Z"
   },
   {
    "duration": 19,
    "start_time": "2023-09-16T16:46:07.158Z"
   },
   {
    "duration": 24,
    "start_time": "2023-09-16T16:59:59.282Z"
   },
   {
    "duration": 8,
    "start_time": "2023-09-16T17:17:44.309Z"
   },
   {
    "duration": 17,
    "start_time": "2023-09-16T17:17:49.044Z"
   },
   {
    "duration": 107,
    "start_time": "2023-09-16T17:17:57.680Z"
   },
   {
    "duration": 32,
    "start_time": "2023-09-16T17:18:03.538Z"
   },
   {
    "duration": 19,
    "start_time": "2023-09-16T17:18:09.444Z"
   },
   {
    "duration": 18,
    "start_time": "2023-09-16T17:18:55.887Z"
   },
   {
    "duration": 7,
    "start_time": "2023-09-16T17:19:27.203Z"
   },
   {
    "duration": 11,
    "start_time": "2023-09-16T17:21:42.744Z"
   },
   {
    "duration": 16,
    "start_time": "2023-09-16T17:21:59.935Z"
   },
   {
    "duration": 9,
    "start_time": "2023-09-16T17:23:39.196Z"
   },
   {
    "duration": 18,
    "start_time": "2023-09-16T17:25:14.735Z"
   },
   {
    "duration": 10,
    "start_time": "2023-09-16T17:25:22.987Z"
   },
   {
    "duration": 1330,
    "start_time": "2023-09-17T09:55:41.691Z"
   },
   {
    "duration": 427,
    "start_time": "2023-09-17T09:56:50.815Z"
   },
   {
    "duration": 19,
    "start_time": "2023-09-17T09:56:51.330Z"
   },
   {
    "duration": 14,
    "start_time": "2023-09-17T09:56:52.932Z"
   },
   {
    "duration": 8,
    "start_time": "2023-09-17T09:57:29.682Z"
   },
   {
    "duration": 13,
    "start_time": "2023-09-17T09:57:30.280Z"
   },
   {
    "duration": 122,
    "start_time": "2023-09-17T09:57:31.728Z"
   },
   {
    "duration": 13,
    "start_time": "2023-09-17T09:57:33.981Z"
   },
   {
    "duration": 2519,
    "start_time": "2023-09-17T09:57:35.399Z"
   },
   {
    "duration": 2083,
    "start_time": "2023-09-17T09:57:39.102Z"
   },
   {
    "duration": 2061,
    "start_time": "2023-09-17T09:57:49.980Z"
   },
   {
    "duration": 7,
    "start_time": "2023-09-17T09:57:52.283Z"
   },
   {
    "duration": 324,
    "start_time": "2023-09-17T10:02:02.327Z"
   },
   {
    "duration": 8,
    "start_time": "2023-09-17T10:02:03.012Z"
   },
   {
    "duration": 242,
    "start_time": "2023-09-17T10:02:03.518Z"
   },
   {
    "duration": 10,
    "start_time": "2023-09-17T10:02:04.078Z"
   },
   {
    "duration": 167,
    "start_time": "2023-09-17T10:02:04.546Z"
   },
   {
    "duration": 5,
    "start_time": "2023-09-17T10:02:05.094Z"
   },
   {
    "duration": 12,
    "start_time": "2023-09-17T10:02:05.524Z"
   },
   {
    "duration": 5,
    "start_time": "2023-09-17T10:02:06.103Z"
   },
   {
    "duration": 17,
    "start_time": "2023-09-17T10:02:06.700Z"
   },
   {
    "duration": 4,
    "start_time": "2023-09-17T10:02:06.927Z"
   },
   {
    "duration": 13,
    "start_time": "2023-09-17T10:02:07.189Z"
   },
   {
    "duration": 9,
    "start_time": "2023-09-17T10:02:07.620Z"
   },
   {
    "duration": 4,
    "start_time": "2023-09-17T10:02:08.193Z"
   },
   {
    "duration": 6,
    "start_time": "2023-09-17T10:02:08.641Z"
   },
   {
    "duration": 4,
    "start_time": "2023-09-17T10:02:08.881Z"
   },
   {
    "duration": 5,
    "start_time": "2023-09-17T10:02:09.211Z"
   },
   {
    "duration": 17,
    "start_time": "2023-09-17T10:02:09.498Z"
   },
   {
    "duration": 8,
    "start_time": "2023-09-17T10:02:09.977Z"
   },
   {
    "duration": 14,
    "start_time": "2023-09-17T10:02:10.090Z"
   },
   {
    "duration": 6,
    "start_time": "2023-09-17T10:02:10.281Z"
   },
   {
    "duration": 5,
    "start_time": "2023-09-17T10:02:10.485Z"
   },
   {
    "duration": 11,
    "start_time": "2023-09-17T10:02:10.701Z"
   },
   {
    "duration": 6,
    "start_time": "2023-09-17T10:02:10.897Z"
   },
   {
    "duration": 279,
    "start_time": "2023-09-17T10:02:10.973Z"
   },
   {
    "duration": 15,
    "start_time": "2023-09-17T10:02:11.254Z"
   },
   {
    "duration": 338,
    "start_time": "2023-09-17T10:02:11.643Z"
   },
   {
    "duration": 139,
    "start_time": "2023-09-17T10:02:11.983Z"
   },
   {
    "duration": 16,
    "start_time": "2023-09-17T10:02:12.202Z"
   },
   {
    "duration": 112,
    "start_time": "2023-09-17T10:02:12.739Z"
   },
   {
    "duration": 1261,
    "start_time": "2023-09-17T10:02:13.235Z"
   },
   {
    "duration": 12,
    "start_time": "2023-09-17T10:02:14.498Z"
   },
   {
    "duration": 13,
    "start_time": "2023-09-17T10:02:14.512Z"
   },
   {
    "duration": 12,
    "start_time": "2023-09-17T10:02:14.545Z"
   },
   {
    "duration": 89,
    "start_time": "2023-09-17T10:02:15.041Z"
   },
   {
    "duration": 106,
    "start_time": "2023-09-17T10:02:15.465Z"
   },
   {
    "duration": 94,
    "start_time": "2023-09-17T10:02:15.906Z"
   },
   {
    "duration": 107,
    "start_time": "2023-09-17T10:02:16.389Z"
   },
   {
    "duration": 198,
    "start_time": "2023-09-17T10:02:16.815Z"
   },
   {
    "duration": 95,
    "start_time": "2023-09-17T10:02:17.231Z"
   },
   {
    "duration": 10,
    "start_time": "2023-09-17T10:02:17.693Z"
   },
   {
    "duration": 9,
    "start_time": "2023-09-17T10:02:17.889Z"
   },
   {
    "duration": 622,
    "start_time": "2023-09-17T10:02:18.145Z"
   },
   {
    "duration": 7,
    "start_time": "2023-09-17T10:02:18.769Z"
   },
   {
    "duration": 58,
    "start_time": "2023-09-17T10:02:18.777Z"
   },
   {
    "duration": 568,
    "start_time": "2023-09-17T10:02:18.838Z"
   },
   {
    "duration": 6,
    "start_time": "2023-09-17T10:02:19.836Z"
   },
   {
    "duration": 168,
    "start_time": "2023-09-17T10:02:20.313Z"
   },
   {
    "duration": 15,
    "start_time": "2023-09-17T10:02:20.889Z"
   },
   {
    "duration": 188,
    "start_time": "2023-09-17T10:02:21.389Z"
   },
   {
    "duration": 14,
    "start_time": "2023-09-17T10:02:21.890Z"
   },
   {
    "duration": 13,
    "start_time": "2023-09-17T10:02:22.338Z"
   },
   {
    "duration": 15,
    "start_time": "2023-09-17T10:02:22.797Z"
   },
   {
    "duration": 14,
    "start_time": "2023-09-17T10:02:23.253Z"
   },
   {
    "duration": 13,
    "start_time": "2023-09-17T10:02:23.739Z"
   },
   {
    "duration": 15,
    "start_time": "2023-09-17T10:02:23.882Z"
   },
   {
    "duration": 13,
    "start_time": "2023-09-17T10:02:23.981Z"
   },
   {
    "duration": 12,
    "start_time": "2023-09-17T10:02:24.501Z"
   },
   {
    "duration": 14,
    "start_time": "2023-09-17T10:02:24.677Z"
   },
   {
    "duration": 7,
    "start_time": "2023-09-17T10:02:25.305Z"
   },
   {
    "duration": 6,
    "start_time": "2023-09-17T10:02:25.316Z"
   },
   {
    "duration": 9,
    "start_time": "2023-09-17T10:02:37.995Z"
   },
   {
    "duration": 8,
    "start_time": "2023-09-17T10:02:40.833Z"
   },
   {
    "duration": 3,
    "start_time": "2023-09-17T10:04:33.993Z"
   },
   {
    "duration": 3,
    "start_time": "2023-09-17T10:04:37.420Z"
   },
   {
    "duration": 50,
    "start_time": "2023-09-17T10:04:39.696Z"
   },
   {
    "duration": 16,
    "start_time": "2023-09-17T10:04:40.525Z"
   },
   {
    "duration": 13,
    "start_time": "2023-09-17T10:12:05.257Z"
   },
   {
    "duration": 2787,
    "start_time": "2023-09-17T10:12:25.811Z"
   },
   {
    "duration": 2198,
    "start_time": "2023-09-17T10:13:10.710Z"
   },
   {
    "duration": 6,
    "start_time": "2023-09-17T10:15:52.709Z"
   },
   {
    "duration": 7,
    "start_time": "2023-09-17T10:16:07.348Z"
   },
   {
    "duration": 95,
    "start_time": "2023-09-17T10:43:04.943Z"
   },
   {
    "duration": 10,
    "start_time": "2023-09-17T10:43:23.294Z"
   },
   {
    "duration": 3,
    "start_time": "2023-09-17T10:43:28.283Z"
   },
   {
    "duration": 52,
    "start_time": "2023-09-17T10:43:29.976Z"
   },
   {
    "duration": 15,
    "start_time": "2023-09-17T10:43:30.701Z"
   },
   {
    "duration": 13,
    "start_time": "2023-09-17T10:43:33.195Z"
   },
   {
    "duration": 10,
    "start_time": "2023-09-17T10:43:36.391Z"
   },
   {
    "duration": 15,
    "start_time": "2023-09-17T10:43:38.175Z"
   },
   {
    "duration": 92,
    "start_time": "2023-09-17T10:43:40.042Z"
   },
   {
    "duration": 12,
    "start_time": "2023-09-17T10:43:42.337Z"
   },
   {
    "duration": 2603,
    "start_time": "2023-09-17T10:43:52.938Z"
   },
   {
    "duration": 2271,
    "start_time": "2023-09-17T10:43:55.545Z"
   },
   {
    "duration": 2193,
    "start_time": "2023-09-17T10:43:57.820Z"
   },
   {
    "duration": 7,
    "start_time": "2023-09-17T10:44:13.836Z"
   },
   {
    "duration": 286,
    "start_time": "2023-09-17T10:44:19.283Z"
   },
   {
    "duration": 7,
    "start_time": "2023-09-17T10:44:21.720Z"
   },
   {
    "duration": 233,
    "start_time": "2023-09-17T10:44:22.656Z"
   },
   {
    "duration": 7,
    "start_time": "2023-09-17T10:44:29.833Z"
   },
   {
    "duration": 177,
    "start_time": "2023-09-17T10:44:31.295Z"
   },
   {
    "duration": 5,
    "start_time": "2023-09-17T10:44:33.526Z"
   },
   {
    "duration": 14,
    "start_time": "2023-09-17T10:44:34.187Z"
   },
   {
    "duration": 4,
    "start_time": "2023-09-17T10:44:37.338Z"
   },
   {
    "duration": 15,
    "start_time": "2023-09-17T10:44:38.580Z"
   },
   {
    "duration": 5,
    "start_time": "2023-09-17T10:44:42.579Z"
   },
   {
    "duration": 13,
    "start_time": "2023-09-17T10:44:43.475Z"
   },
   {
    "duration": 8,
    "start_time": "2023-09-17T10:44:45.431Z"
   },
   {
    "duration": 4,
    "start_time": "2023-09-17T10:44:46.849Z"
   },
   {
    "duration": 8,
    "start_time": "2023-09-17T10:44:48.442Z"
   },
   {
    "duration": 4,
    "start_time": "2023-09-17T10:44:53.647Z"
   },
   {
    "duration": 20,
    "start_time": "2023-09-17T10:44:57.438Z"
   },
   {
    "duration": 14,
    "start_time": "2023-09-17T10:46:09.879Z"
   },
   {
    "duration": 5,
    "start_time": "2023-09-17T10:46:10.479Z"
   },
   {
    "duration": 18,
    "start_time": "2023-09-17T10:46:12.183Z"
   },
   {
    "duration": 9,
    "start_time": "2023-09-17T10:46:21.175Z"
   },
   {
    "duration": 8,
    "start_time": "2023-09-17T10:46:25.541Z"
   },
   {
    "duration": 5,
    "start_time": "2023-09-17T10:46:51.494Z"
   },
   {
    "duration": 22,
    "start_time": "2023-09-17T10:46:54.195Z"
   },
   {
    "duration": 7,
    "start_time": "2023-09-17T10:47:14.222Z"
   },
   {
    "duration": 8,
    "start_time": "2023-09-17T10:47:15.121Z"
   },
   {
    "duration": 5,
    "start_time": "2023-09-17T10:47:15.636Z"
   },
   {
    "duration": 4,
    "start_time": "2023-09-17T10:47:21.425Z"
   },
   {
    "duration": 5,
    "start_time": "2023-09-17T10:47:22.727Z"
   },
   {
    "duration": 1173,
    "start_time": "2023-09-17T10:48:22.405Z"
   },
   {
    "duration": 53,
    "start_time": "2023-09-17T10:48:23.580Z"
   },
   {
    "duration": 20,
    "start_time": "2023-09-17T10:48:23.902Z"
   },
   {
    "duration": 14,
    "start_time": "2023-09-17T10:48:25.987Z"
   },
   {
    "duration": 9,
    "start_time": "2023-09-17T10:48:26.546Z"
   },
   {
    "duration": 13,
    "start_time": "2023-09-17T10:48:36.639Z"
   },
   {
    "duration": 114,
    "start_time": "2023-09-17T10:48:37.140Z"
   },
   {
    "duration": 12,
    "start_time": "2023-09-17T10:48:37.675Z"
   },
   {
    "duration": 2450,
    "start_time": "2023-09-17T10:48:38.110Z"
   },
   {
    "duration": 2156,
    "start_time": "2023-09-17T10:48:40.561Z"
   },
   {
    "duration": 2205,
    "start_time": "2023-09-17T10:48:42.719Z"
   },
   {
    "duration": 19,
    "start_time": "2023-09-17T10:48:44.926Z"
   },
   {
    "duration": 315,
    "start_time": "2023-09-17T10:48:57.311Z"
   },
   {
    "duration": 6,
    "start_time": "2023-09-17T10:49:04.826Z"
   },
   {
    "duration": 240,
    "start_time": "2023-09-17T10:49:05.596Z"
   },
   {
    "duration": 7,
    "start_time": "2023-09-17T10:49:06.463Z"
   },
   {
    "duration": 169,
    "start_time": "2023-09-17T10:49:07.377Z"
   },
   {
    "duration": 5,
    "start_time": "2023-09-17T10:49:10.876Z"
   },
   {
    "duration": 12,
    "start_time": "2023-09-17T10:49:11.446Z"
   },
   {
    "duration": 4,
    "start_time": "2023-09-17T10:49:13.185Z"
   },
   {
    "duration": 19,
    "start_time": "2023-09-17T10:49:14.229Z"
   },
   {
    "duration": 6,
    "start_time": "2023-09-17T10:49:16.225Z"
   },
   {
    "duration": 12,
    "start_time": "2023-09-17T10:49:23.275Z"
   },
   {
    "duration": 9,
    "start_time": "2023-09-17T10:49:27.539Z"
   },
   {
    "duration": 5,
    "start_time": "2023-09-17T10:49:28.685Z"
   },
   {
    "duration": 9,
    "start_time": "2023-09-17T10:49:34.198Z"
   },
   {
    "duration": 4,
    "start_time": "2023-09-17T10:49:34.830Z"
   },
   {
    "duration": 5,
    "start_time": "2023-09-17T10:49:38.596Z"
   },
   {
    "duration": 8,
    "start_time": "2023-09-17T10:49:45.324Z"
   },
   {
    "duration": 5,
    "start_time": "2023-09-17T10:49:47.543Z"
   },
   {
    "duration": 17,
    "start_time": "2023-09-17T10:51:58.829Z"
   },
   {
    "duration": 9,
    "start_time": "2023-09-17T10:52:03.187Z"
   },
   {
    "duration": 13,
    "start_time": "2023-09-17T10:52:06.390Z"
   },
   {
    "duration": 6,
    "start_time": "2023-09-17T10:52:08.717Z"
   },
   {
    "duration": 6,
    "start_time": "2023-09-17T10:58:15.963Z"
   },
   {
    "duration": 13,
    "start_time": "2023-09-17T10:58:16.907Z"
   },
   {
    "duration": 12,
    "start_time": "2023-09-17T10:58:43.110Z"
   },
   {
    "duration": 7,
    "start_time": "2023-09-17T10:58:47.309Z"
   },
   {
    "duration": 8,
    "start_time": "2023-09-17T11:00:10.790Z"
   },
   {
    "duration": 306,
    "start_time": "2023-09-17T11:00:15.686Z"
   },
   {
    "duration": 15,
    "start_time": "2023-09-17T11:01:18.436Z"
   },
   {
    "duration": 341,
    "start_time": "2023-09-17T11:01:22.650Z"
   },
   {
    "duration": 133,
    "start_time": "2023-09-17T11:01:42.362Z"
   },
   {
    "duration": 2297,
    "start_time": "2023-09-17T11:08:42.092Z"
   },
   {
    "duration": 138,
    "start_time": "2023-09-17T11:09:18.815Z"
   },
   {
    "duration": 164,
    "start_time": "2023-09-17T11:09:28.946Z"
   },
   {
    "duration": 236,
    "start_time": "2023-09-17T11:09:33.279Z"
   },
   {
    "duration": 144,
    "start_time": "2023-09-17T11:09:42.292Z"
   },
   {
    "duration": 135,
    "start_time": "2023-09-17T11:09:52.648Z"
   },
   {
    "duration": 110,
    "start_time": "2023-09-17T11:11:14.998Z"
   },
   {
    "duration": 305,
    "start_time": "2023-09-17T11:11:26.174Z"
   },
   {
    "duration": 33,
    "start_time": "2023-09-17T11:12:38.657Z"
   },
   {
    "duration": 14,
    "start_time": "2023-09-17T11:14:36.199Z"
   },
   {
    "duration": 110,
    "start_time": "2023-09-17T11:15:31.275Z"
   },
   {
    "duration": 1211,
    "start_time": "2023-09-17T11:15:35.181Z"
   },
   {
    "duration": 109,
    "start_time": "2023-09-17T11:15:45.099Z"
   },
   {
    "duration": 1271,
    "start_time": "2023-09-17T11:15:53.896Z"
   },
   {
    "duration": 1222,
    "start_time": "2023-09-17T11:19:50.310Z"
   },
   {
    "duration": 1312,
    "start_time": "2023-09-17T11:20:06.529Z"
   },
   {
    "duration": 13,
    "start_time": "2023-09-17T11:30:46.870Z"
   },
   {
    "duration": 14,
    "start_time": "2023-09-17T11:30:47.472Z"
   },
   {
    "duration": 13,
    "start_time": "2023-09-17T11:30:48.961Z"
   },
   {
    "duration": 15,
    "start_time": "2023-09-17T11:32:22.003Z"
   },
   {
    "duration": 89,
    "start_time": "2023-09-17T11:32:27.552Z"
   },
   {
    "duration": 99,
    "start_time": "2023-09-17T11:32:29.749Z"
   },
   {
    "duration": 90,
    "start_time": "2023-09-17T11:32:30.365Z"
   },
   {
    "duration": 99,
    "start_time": "2023-09-17T11:32:30.913Z"
   },
   {
    "duration": 102,
    "start_time": "2023-09-17T11:32:31.389Z"
   },
   {
    "duration": 99,
    "start_time": "2023-09-17T11:32:31.862Z"
   },
   {
    "duration": 9,
    "start_time": "2023-09-17T11:32:32.337Z"
   },
   {
    "duration": 10,
    "start_time": "2023-09-17T11:32:33.585Z"
   },
   {
    "duration": 643,
    "start_time": "2023-09-17T11:32:34.119Z"
   },
   {
    "duration": 8,
    "start_time": "2023-09-17T11:32:35.616Z"
   },
   {
    "duration": 8,
    "start_time": "2023-09-17T11:32:37.520Z"
   },
   {
    "duration": 520,
    "start_time": "2023-09-17T11:32:38.082Z"
   },
   {
    "duration": 7,
    "start_time": "2023-09-17T11:32:38.604Z"
   },
   {
    "duration": 165,
    "start_time": "2023-09-17T11:32:39.386Z"
   },
   {
    "duration": 16,
    "start_time": "2023-09-17T11:32:39.883Z"
   },
   {
    "duration": 180,
    "start_time": "2023-09-17T11:32:40.446Z"
   },
   {
    "duration": 13,
    "start_time": "2023-09-17T11:32:41.069Z"
   },
   {
    "duration": 14,
    "start_time": "2023-09-17T11:32:41.870Z"
   },
   {
    "duration": 14,
    "start_time": "2023-09-17T11:32:42.458Z"
   },
   {
    "duration": 13,
    "start_time": "2023-09-17T11:32:43.122Z"
   },
   {
    "duration": 13,
    "start_time": "2023-09-17T11:32:44.405Z"
   },
   {
    "duration": 15,
    "start_time": "2023-09-17T11:32:44.920Z"
   },
   {
    "duration": 14,
    "start_time": "2023-09-17T11:32:45.414Z"
   },
   {
    "duration": 14,
    "start_time": "2023-09-17T11:32:45.949Z"
   },
   {
    "duration": 15,
    "start_time": "2023-09-17T11:32:46.501Z"
   },
   {
    "duration": 10,
    "start_time": "2023-09-17T11:32:47.024Z"
   },
   {
    "duration": 11,
    "start_time": "2023-09-17T11:32:47.600Z"
   },
   {
    "duration": 13,
    "start_time": "2023-09-17T11:33:18.162Z"
   },
   {
    "duration": 9,
    "start_time": "2023-09-17T11:37:44.779Z"
   },
   {
    "duration": 10,
    "start_time": "2023-09-17T11:37:45.343Z"
   },
   {
    "duration": 640,
    "start_time": "2023-09-17T11:37:46.013Z"
   },
   {
    "duration": 8,
    "start_time": "2023-09-17T11:39:19.539Z"
   },
   {
    "duration": 16,
    "start_time": "2023-09-17T11:46:32.151Z"
   },
   {
    "duration": 13,
    "start_time": "2023-09-17T11:47:51.582Z"
   },
   {
    "duration": 13,
    "start_time": "2023-09-17T11:49:36.052Z"
   },
   {
    "duration": 14,
    "start_time": "2023-09-17T11:49:38.478Z"
   },
   {
    "duration": 13,
    "start_time": "2023-09-17T11:49:42.686Z"
   },
   {
    "duration": 13,
    "start_time": "2023-09-17T11:49:44.490Z"
   },
   {
    "duration": 14,
    "start_time": "2023-09-17T11:49:46.162Z"
   },
   {
    "duration": 14,
    "start_time": "2023-09-17T11:49:48.633Z"
   },
   {
    "duration": 14,
    "start_time": "2023-09-17T11:49:49.752Z"
   },
   {
    "duration": 17,
    "start_time": "2023-09-17T11:49:51.219Z"
   },
   {
    "duration": 1597,
    "start_time": "2023-09-17T17:10:50.016Z"
   },
   {
    "duration": 95,
    "start_time": "2023-09-17T17:10:51.751Z"
   },
   {
    "duration": 17,
    "start_time": "2023-09-17T17:10:52.365Z"
   },
   {
    "duration": 14,
    "start_time": "2023-09-17T17:11:24.267Z"
   },
   {
    "duration": 8,
    "start_time": "2023-09-17T17:12:21.008Z"
   },
   {
    "duration": 17,
    "start_time": "2023-09-17T17:12:25.907Z"
   },
   {
    "duration": 128,
    "start_time": "2023-09-17T17:12:30.789Z"
   },
   {
    "duration": 14,
    "start_time": "2023-09-17T17:12:32.721Z"
   },
   {
    "duration": 2536,
    "start_time": "2023-09-17T17:12:34.563Z"
   },
   {
    "duration": 2073,
    "start_time": "2023-09-17T17:12:42.047Z"
   },
   {
    "duration": 2222,
    "start_time": "2023-09-17T17:12:44.122Z"
   },
   {
    "duration": 7,
    "start_time": "2023-09-17T17:13:01.081Z"
   },
   {
    "duration": 296,
    "start_time": "2023-09-17T17:13:03.373Z"
   },
   {
    "duration": 9,
    "start_time": "2023-09-17T17:13:09.143Z"
   },
   {
    "duration": 243,
    "start_time": "2023-09-17T17:13:10.032Z"
   },
   {
    "duration": 7,
    "start_time": "2023-09-17T17:13:11.000Z"
   },
   {
    "duration": 166,
    "start_time": "2023-09-17T17:13:11.880Z"
   },
   {
    "duration": 5,
    "start_time": "2023-09-17T17:13:14.831Z"
   },
   {
    "duration": 12,
    "start_time": "2023-09-17T17:13:15.836Z"
   },
   {
    "duration": 5,
    "start_time": "2023-09-17T17:13:17.777Z"
   },
   {
    "duration": 17,
    "start_time": "2023-09-17T17:13:18.783Z"
   },
   {
    "duration": 5,
    "start_time": "2023-09-17T17:13:21.995Z"
   },
   {
    "duration": 13,
    "start_time": "2023-09-17T17:13:22.593Z"
   },
   {
    "duration": 9,
    "start_time": "2023-09-17T17:13:23.869Z"
   },
   {
    "duration": 5,
    "start_time": "2023-09-17T17:13:24.415Z"
   },
   {
    "duration": 9,
    "start_time": "2023-09-17T17:13:25.010Z"
   },
   {
    "duration": 4,
    "start_time": "2023-09-17T17:13:25.535Z"
   },
   {
    "duration": 7,
    "start_time": "2023-09-17T17:13:26.021Z"
   },
   {
    "duration": 7,
    "start_time": "2023-09-17T17:13:26.582Z"
   },
   {
    "duration": 5,
    "start_time": "2023-09-17T17:13:27.085Z"
   },
   {
    "duration": 17,
    "start_time": "2023-09-17T17:13:28.211Z"
   },
   {
    "duration": 9,
    "start_time": "2023-09-17T17:13:28.664Z"
   },
   {
    "duration": 13,
    "start_time": "2023-09-17T17:13:29.209Z"
   },
   {
    "duration": 6,
    "start_time": "2023-09-17T17:13:29.772Z"
   },
   {
    "duration": 5,
    "start_time": "2023-09-17T17:13:30.926Z"
   },
   {
    "duration": 12,
    "start_time": "2023-09-17T17:13:31.413Z"
   },
   {
    "duration": 7,
    "start_time": "2023-09-17T17:13:33.569Z"
   },
   {
    "duration": 277,
    "start_time": "2023-09-17T17:13:34.217Z"
   },
   {
    "duration": 16,
    "start_time": "2023-09-17T17:13:39.617Z"
   },
   {
    "duration": 374,
    "start_time": "2023-09-17T17:13:40.150Z"
   },
   {
    "duration": 15,
    "start_time": "2023-09-17T17:13:49.515Z"
   },
   {
    "duration": 113,
    "start_time": "2023-09-17T17:13:50.179Z"
   },
   {
    "duration": 1215,
    "start_time": "2023-09-17T17:13:51.843Z"
   },
   {
    "duration": 13,
    "start_time": "2023-09-17T17:13:53.417Z"
   },
   {
    "duration": 14,
    "start_time": "2023-09-17T17:13:53.622Z"
   },
   {
    "duration": 14,
    "start_time": "2023-09-17T17:13:54.417Z"
   },
   {
    "duration": 114,
    "start_time": "2023-09-17T17:13:54.433Z"
   },
   {
    "duration": 93,
    "start_time": "2023-09-17T17:13:55.045Z"
   },
   {
    "duration": 85,
    "start_time": "2023-09-17T17:13:55.252Z"
   },
   {
    "duration": 91,
    "start_time": "2023-09-17T17:13:55.370Z"
   },
   {
    "duration": 126,
    "start_time": "2023-09-17T17:13:55.835Z"
   },
   {
    "duration": 198,
    "start_time": "2023-09-17T17:13:56.046Z"
   },
   {
    "duration": 9,
    "start_time": "2023-09-17T17:13:56.424Z"
   },
   {
    "duration": 9,
    "start_time": "2023-09-17T17:13:56.816Z"
   },
   {
    "duration": 664,
    "start_time": "2023-09-17T17:13:57.219Z"
   },
   {
    "duration": 8,
    "start_time": "2023-09-17T17:13:57.885Z"
   },
   {
    "duration": 20,
    "start_time": "2023-09-17T17:13:57.894Z"
   },
   {
    "duration": 599,
    "start_time": "2023-09-17T17:13:58.208Z"
   },
   {
    "duration": 6,
    "start_time": "2023-09-17T17:13:58.809Z"
   },
   {
    "duration": 184,
    "start_time": "2023-09-17T17:13:58.817Z"
   },
   {
    "duration": 15,
    "start_time": "2023-09-17T17:13:59.086Z"
   },
   {
    "duration": 182,
    "start_time": "2023-09-17T17:13:59.234Z"
   },
   {
    "duration": 12,
    "start_time": "2023-09-17T17:14:00.014Z"
   },
   {
    "duration": 12,
    "start_time": "2023-09-17T17:14:00.138Z"
   },
   {
    "duration": 14,
    "start_time": "2023-09-17T17:14:00.767Z"
   },
   {
    "duration": 13,
    "start_time": "2023-09-17T17:14:00.944Z"
   },
   {
    "duration": 13,
    "start_time": "2023-09-17T17:14:01.092Z"
   },
   {
    "duration": 14,
    "start_time": "2023-09-17T17:14:01.311Z"
   },
   {
    "duration": 13,
    "start_time": "2023-09-17T17:14:01.865Z"
   },
   {
    "duration": 13,
    "start_time": "2023-09-17T17:14:01.985Z"
   },
   {
    "duration": 22,
    "start_time": "2023-09-17T17:14:02.441Z"
   },
   {
    "duration": 7,
    "start_time": "2023-09-17T17:14:04.052Z"
   },
   {
    "duration": 1687,
    "start_time": "2023-09-17T18:08:24.938Z"
   },
   {
    "duration": 135,
    "start_time": "2023-09-17T18:08:26.627Z"
   },
   {
    "duration": 21,
    "start_time": "2023-09-17T18:08:26.764Z"
   },
   {
    "duration": 19,
    "start_time": "2023-09-17T18:08:26.787Z"
   },
   {
    "duration": 47,
    "start_time": "2023-09-17T18:08:26.807Z"
   },
   {
    "duration": 46,
    "start_time": "2023-09-17T18:08:26.857Z"
   },
   {
    "duration": 213,
    "start_time": "2023-09-17T18:08:26.905Z"
   },
   {
    "duration": 27,
    "start_time": "2023-09-17T18:08:27.120Z"
   },
   {
    "duration": 3341,
    "start_time": "2023-09-17T18:08:27.149Z"
   },
   {
    "duration": 2970,
    "start_time": "2023-09-17T18:08:30.495Z"
   },
   {
    "duration": 3007,
    "start_time": "2023-09-17T18:08:33.467Z"
   },
   {
    "duration": 8,
    "start_time": "2023-09-17T18:08:36.478Z"
   },
   {
    "duration": 573,
    "start_time": "2023-09-17T18:08:36.489Z"
   },
   {
    "duration": 7,
    "start_time": "2023-09-17T18:08:37.068Z"
   },
   {
    "duration": 330,
    "start_time": "2023-09-17T18:08:37.077Z"
   },
   {
    "duration": 8,
    "start_time": "2023-09-17T18:08:37.409Z"
   },
   {
    "duration": 246,
    "start_time": "2023-09-17T18:08:37.428Z"
   },
   {
    "duration": 5,
    "start_time": "2023-09-17T18:08:37.676Z"
   },
   {
    "duration": 18,
    "start_time": "2023-09-17T18:08:37.682Z"
   },
   {
    "duration": 7,
    "start_time": "2023-09-17T18:08:37.701Z"
   },
   {
    "duration": 29,
    "start_time": "2023-09-17T18:08:37.724Z"
   },
   {
    "duration": 6,
    "start_time": "2023-09-17T18:08:37.755Z"
   },
   {
    "duration": 27,
    "start_time": "2023-09-17T18:08:37.763Z"
   },
   {
    "duration": 9,
    "start_time": "2023-09-17T18:08:37.793Z"
   },
   {
    "duration": 48,
    "start_time": "2023-09-17T18:08:37.803Z"
   },
   {
    "duration": 11,
    "start_time": "2023-09-17T18:08:37.857Z"
   },
   {
    "duration": 5,
    "start_time": "2023-09-17T18:08:37.870Z"
   },
   {
    "duration": 16,
    "start_time": "2023-09-17T18:08:37.879Z"
   },
   {
    "duration": 21,
    "start_time": "2023-09-17T18:08:37.896Z"
   },
   {
    "duration": 40,
    "start_time": "2023-09-17T18:08:37.919Z"
   },
   {
    "duration": 18,
    "start_time": "2023-09-17T18:08:37.960Z"
   },
   {
    "duration": 10,
    "start_time": "2023-09-17T18:08:37.980Z"
   },
   {
    "duration": 16,
    "start_time": "2023-09-17T18:08:37.991Z"
   },
   {
    "duration": 8,
    "start_time": "2023-09-17T18:08:38.009Z"
   },
   {
    "duration": 31,
    "start_time": "2023-09-17T18:08:38.020Z"
   },
   {
    "duration": 16,
    "start_time": "2023-09-17T18:08:38.055Z"
   },
   {
    "duration": 21,
    "start_time": "2023-09-17T18:08:38.072Z"
   },
   {
    "duration": 437,
    "start_time": "2023-09-17T18:08:38.095Z"
   },
   {
    "duration": 21,
    "start_time": "2023-09-17T18:08:38.533Z"
   },
   {
    "duration": 429,
    "start_time": "2023-09-17T18:08:38.556Z"
   },
   {
    "duration": 16,
    "start_time": "2023-09-17T18:08:38.987Z"
   },
   {
    "duration": 176,
    "start_time": "2023-09-17T18:08:39.005Z"
   },
   {
    "duration": 1528,
    "start_time": "2023-09-17T18:08:39.182Z"
   },
   {
    "duration": 38,
    "start_time": "2023-09-17T18:08:40.712Z"
   },
   {
    "duration": 21,
    "start_time": "2023-09-17T18:08:40.752Z"
   },
   {
    "duration": 17,
    "start_time": "2023-09-17T18:08:40.775Z"
   },
   {
    "duration": 174,
    "start_time": "2023-09-17T18:08:40.794Z"
   },
   {
    "duration": 132,
    "start_time": "2023-09-17T18:08:40.973Z"
   },
   {
    "duration": 143,
    "start_time": "2023-09-17T18:08:41.107Z"
   },
   {
    "duration": 120,
    "start_time": "2023-09-17T18:08:41.258Z"
   },
   {
    "duration": 144,
    "start_time": "2023-09-17T18:08:41.379Z"
   },
   {
    "duration": 237,
    "start_time": "2023-09-17T18:08:41.529Z"
   },
   {
    "duration": 10,
    "start_time": "2023-09-17T18:08:41.768Z"
   },
   {
    "duration": 23,
    "start_time": "2023-09-17T18:08:41.779Z"
   },
   {
    "duration": 732,
    "start_time": "2023-09-17T18:08:41.804Z"
   },
   {
    "duration": 9,
    "start_time": "2023-09-17T18:08:42.549Z"
   },
   {
    "duration": 8,
    "start_time": "2023-09-17T18:08:42.562Z"
   },
   {
    "duration": 686,
    "start_time": "2023-09-17T18:08:42.571Z"
   },
   {
    "duration": 10,
    "start_time": "2023-09-17T18:08:43.261Z"
   },
   {
    "duration": 230,
    "start_time": "2023-09-17T18:08:43.273Z"
   },
   {
    "duration": 40,
    "start_time": "2023-09-17T18:08:43.506Z"
   },
   {
    "duration": 241,
    "start_time": "2023-09-17T18:08:43.549Z"
   },
   {
    "duration": 16,
    "start_time": "2023-09-17T18:08:43.792Z"
   },
   {
    "duration": 39,
    "start_time": "2023-09-17T18:08:43.810Z"
   },
   {
    "duration": 23,
    "start_time": "2023-09-17T18:08:43.852Z"
   },
   {
    "duration": 13,
    "start_time": "2023-09-17T18:08:43.877Z"
   },
   {
    "duration": 37,
    "start_time": "2023-09-17T18:08:43.892Z"
   },
   {
    "duration": 24,
    "start_time": "2023-09-17T18:08:43.931Z"
   },
   {
    "duration": 21,
    "start_time": "2023-09-17T18:08:43.957Z"
   },
   {
    "duration": 19,
    "start_time": "2023-09-17T18:08:43.979Z"
   },
   {
    "duration": 46,
    "start_time": "2023-09-17T18:08:44.001Z"
   },
   {
    "duration": 15,
    "start_time": "2023-09-17T18:08:44.049Z"
   },
   {
    "duration": 8,
    "start_time": "2023-09-17T18:08:44.065Z"
   },
   {
    "duration": 50,
    "start_time": "2023-09-18T15:31:20.138Z"
   },
   {
    "duration": 1323,
    "start_time": "2023-09-18T15:31:26.994Z"
   },
   {
    "duration": 426,
    "start_time": "2023-09-18T15:31:28.858Z"
   },
   {
    "duration": 20,
    "start_time": "2023-09-18T15:31:29.974Z"
   },
   {
    "duration": 14,
    "start_time": "2023-09-18T15:31:31.108Z"
   },
   {
    "duration": 9,
    "start_time": "2023-09-18T15:31:35.487Z"
   },
   {
    "duration": 13,
    "start_time": "2023-09-18T15:31:40.464Z"
   },
   {
    "duration": 13,
    "start_time": "2023-09-18T15:31:54.340Z"
   },
   {
    "duration": 16,
    "start_time": "2023-09-18T15:32:14.002Z"
   },
   {
    "duration": 17,
    "start_time": "2023-09-18T15:32:16.393Z"
   },
   {
    "duration": 15,
    "start_time": "2023-09-18T15:32:26.428Z"
   },
   {
    "duration": 16,
    "start_time": "2023-09-18T15:32:35.885Z"
   },
   {
    "duration": 5,
    "start_time": "2023-09-18T15:37:32.580Z"
   },
   {
    "duration": 11,
    "start_time": "2023-09-18T15:37:35.107Z"
   },
   {
    "duration": 15,
    "start_time": "2023-09-18T15:43:21.917Z"
   },
   {
    "duration": 5,
    "start_time": "2023-09-18T15:49:02.329Z"
   },
   {
    "duration": 11,
    "start_time": "2023-09-18T15:49:03.622Z"
   },
   {
    "duration": 4,
    "start_time": "2023-09-18T15:49:07.130Z"
   },
   {
    "duration": 16,
    "start_time": "2023-09-18T15:49:10.197Z"
   },
   {
    "duration": 4,
    "start_time": "2023-09-18T15:49:14.331Z"
   },
   {
    "duration": 13,
    "start_time": "2023-09-18T15:49:15.889Z"
   },
   {
    "duration": 9,
    "start_time": "2023-09-18T15:49:21.213Z"
   },
   {
    "duration": 5,
    "start_time": "2023-09-18T15:49:22.344Z"
   },
   {
    "duration": 10,
    "start_time": "2023-09-18T15:49:38.534Z"
   },
   {
    "duration": 5,
    "start_time": "2023-09-18T15:49:38.967Z"
   },
   {
    "duration": 5,
    "start_time": "2023-09-18T15:49:42.066Z"
   },
   {
    "duration": 8,
    "start_time": "2023-09-18T15:49:43.003Z"
   },
   {
    "duration": 6,
    "start_time": "2023-09-18T15:49:43.455Z"
   },
   {
    "duration": 18,
    "start_time": "2023-09-18T15:49:52.041Z"
   },
   {
    "duration": 10,
    "start_time": "2023-09-18T15:50:17.082Z"
   },
   {
    "duration": 16,
    "start_time": "2023-09-18T15:50:17.773Z"
   },
   {
    "duration": 8,
    "start_time": "2023-09-18T15:50:21.218Z"
   },
   {
    "duration": 5,
    "start_time": "2023-09-18T15:50:26.443Z"
   },
   {
    "duration": 5,
    "start_time": "2023-09-18T15:54:55.160Z"
   },
   {
    "duration": 7,
    "start_time": "2023-09-18T15:54:56.475Z"
   },
   {
    "duration": 5,
    "start_time": "2023-09-18T15:54:57.402Z"
   },
   {
    "duration": 12,
    "start_time": "2023-09-18T15:55:02.116Z"
   },
   {
    "duration": 77,
    "start_time": "2023-09-18T16:04:56.208Z"
   },
   {
    "duration": 23,
    "start_time": "2023-09-18T16:05:04.860Z"
   },
   {
    "duration": 9,
    "start_time": "2023-09-18T16:05:07.159Z"
   },
   {
    "duration": 14,
    "start_time": "2023-09-18T16:05:15.559Z"
   },
   {
    "duration": 15,
    "start_time": "2023-09-18T16:05:30.465Z"
   },
   {
    "duration": 9,
    "start_time": "2023-09-18T16:05:51.644Z"
   },
   {
    "duration": 55,
    "start_time": "2023-09-18T16:05:53.678Z"
   },
   {
    "duration": 17,
    "start_time": "2023-09-18T16:05:54.477Z"
   },
   {
    "duration": 23,
    "start_time": "2023-09-18T16:05:54.938Z"
   },
   {
    "duration": 12,
    "start_time": "2023-09-18T16:05:55.766Z"
   },
   {
    "duration": 21,
    "start_time": "2023-09-18T16:05:56.168Z"
   },
   {
    "duration": 25,
    "start_time": "2023-09-18T16:05:56.632Z"
   },
   {
    "duration": 16,
    "start_time": "2023-09-18T16:05:58.357Z"
   },
   {
    "duration": 17,
    "start_time": "2023-09-18T16:05:58.399Z"
   },
   {
    "duration": 18,
    "start_time": "2023-09-18T16:05:58.930Z"
   },
   {
    "duration": 18,
    "start_time": "2023-09-18T16:05:59.422Z"
   },
   {
    "duration": 5,
    "start_time": "2023-09-18T16:06:02.987Z"
   },
   {
    "duration": 15,
    "start_time": "2023-09-18T16:06:03.030Z"
   },
   {
    "duration": 5,
    "start_time": "2023-09-18T16:06:04.657Z"
   },
   {
    "duration": 23,
    "start_time": "2023-09-18T16:06:06.255Z"
   },
   {
    "duration": 7,
    "start_time": "2023-09-18T16:06:08.729Z"
   },
   {
    "duration": 19,
    "start_time": "2023-09-18T16:06:09.545Z"
   },
   {
    "duration": 9,
    "start_time": "2023-09-18T16:06:12.503Z"
   },
   {
    "duration": 4,
    "start_time": "2023-09-18T16:06:13.210Z"
   },
   {
    "duration": 9,
    "start_time": "2023-09-18T16:06:18.555Z"
   },
   {
    "duration": 5,
    "start_time": "2023-09-18T16:06:19.015Z"
   },
   {
    "duration": 6,
    "start_time": "2023-09-18T16:06:19.480Z"
   },
   {
    "duration": 10,
    "start_time": "2023-09-18T16:06:19.858Z"
   },
   {
    "duration": 6,
    "start_time": "2023-09-18T16:06:20.721Z"
   },
   {
    "duration": 26,
    "start_time": "2023-09-18T16:06:24.158Z"
   },
   {
    "duration": 10,
    "start_time": "2023-09-18T16:06:27.595Z"
   },
   {
    "duration": 17,
    "start_time": "2023-09-18T16:06:28.017Z"
   },
   {
    "duration": 5,
    "start_time": "2023-09-18T16:06:28.455Z"
   },
   {
    "duration": 8,
    "start_time": "2023-09-18T16:06:28.808Z"
   },
   {
    "duration": 5,
    "start_time": "2023-09-18T16:06:29.961Z"
   },
   {
    "duration": 13,
    "start_time": "2023-09-18T16:06:32.084Z"
   },
   {
    "duration": 4,
    "start_time": "2023-09-18T16:07:55.972Z"
   },
   {
    "duration": 16,
    "start_time": "2023-09-18T16:08:01.194Z"
   },
   {
    "duration": 9,
    "start_time": "2023-09-18T16:08:10.417Z"
   },
   {
    "duration": 11,
    "start_time": "2023-09-18T16:10:25.407Z"
   },
   {
    "duration": 8,
    "start_time": "2023-09-18T16:11:13.630Z"
   },
   {
    "duration": 11,
    "start_time": "2023-09-18T16:11:23.186Z"
   },
   {
    "duration": 11,
    "start_time": "2023-09-18T16:12:07.779Z"
   },
   {
    "duration": 11,
    "start_time": "2023-09-18T16:12:11.066Z"
   },
   {
    "duration": 6,
    "start_time": "2023-09-18T16:14:25.935Z"
   },
   {
    "duration": 5,
    "start_time": "2023-09-18T16:14:31.268Z"
   },
   {
    "duration": 53,
    "start_time": "2023-09-18T16:18:50.175Z"
   },
   {
    "duration": 1346,
    "start_time": "2023-09-18T16:18:55.423Z"
   },
   {
    "duration": 64,
    "start_time": "2023-09-18T16:18:56.798Z"
   },
   {
    "duration": 24,
    "start_time": "2023-09-18T16:18:57.640Z"
   },
   {
    "duration": 18,
    "start_time": "2023-09-18T16:18:58.158Z"
   },
   {
    "duration": 9,
    "start_time": "2023-09-18T16:18:59.382Z"
   },
   {
    "duration": 14,
    "start_time": "2023-09-18T16:19:00.001Z"
   },
   {
    "duration": 19,
    "start_time": "2023-09-18T16:19:00.441Z"
   },
   {
    "duration": 20,
    "start_time": "2023-09-18T16:19:13.031Z"
   },
   {
    "duration": 23,
    "start_time": "2023-09-18T16:19:14.260Z"
   },
   {
    "duration": 17,
    "start_time": "2023-09-18T16:19:15.967Z"
   },
   {
    "duration": 26,
    "start_time": "2023-09-18T16:19:16.130Z"
   },
   {
    "duration": 5,
    "start_time": "2023-09-18T16:19:17.891Z"
   },
   {
    "duration": 11,
    "start_time": "2023-09-18T16:19:18.109Z"
   },
   {
    "duration": 5,
    "start_time": "2023-09-18T16:19:22.398Z"
   },
   {
    "duration": 35,
    "start_time": "2023-09-18T16:19:25.737Z"
   },
   {
    "duration": 5,
    "start_time": "2023-09-18T16:19:28.838Z"
   },
   {
    "duration": 14,
    "start_time": "2023-09-18T16:19:29.288Z"
   },
   {
    "duration": 15,
    "start_time": "2023-09-18T16:19:32.545Z"
   },
   {
    "duration": 5,
    "start_time": "2023-09-18T16:19:33.693Z"
   },
   {
    "duration": 100,
    "start_time": "2023-09-18T16:21:24.204Z"
   },
   {
    "duration": 27,
    "start_time": "2023-09-18T16:21:26.489Z"
   },
   {
    "duration": 25,
    "start_time": "2023-09-18T16:21:37.295Z"
   },
   {
    "duration": 18,
    "start_time": "2023-09-18T16:21:49.090Z"
   },
   {
    "duration": 4,
    "start_time": "2023-09-18T16:27:33.888Z"
   },
   {
    "duration": 10,
    "start_time": "2023-09-18T16:27:36.186Z"
   },
   {
    "duration": 5,
    "start_time": "2023-09-18T16:27:37.669Z"
   },
   {
    "duration": 6,
    "start_time": "2023-09-18T16:32:26.159Z"
   },
   {
    "duration": 6,
    "start_time": "2023-09-18T16:32:27.066Z"
   },
   {
    "duration": 8,
    "start_time": "2023-09-18T16:32:30.339Z"
   },
   {
    "duration": 5,
    "start_time": "2023-09-18T16:32:32.177Z"
   },
   {
    "duration": 11,
    "start_time": "2023-09-18T16:33:54.393Z"
   },
   {
    "duration": 9,
    "start_time": "2023-09-18T16:34:04.922Z"
   },
   {
    "duration": 5,
    "start_time": "2023-09-18T16:34:13.527Z"
   },
   {
    "duration": 5,
    "start_time": "2023-09-18T16:34:18.868Z"
   },
   {
    "duration": 9,
    "start_time": "2023-09-18T16:41:44.165Z"
   },
   {
    "duration": 8,
    "start_time": "2023-09-18T16:42:16.216Z"
   },
   {
    "duration": 18,
    "start_time": "2023-09-18T16:42:21.601Z"
   },
   {
    "duration": 170,
    "start_time": "2023-09-18T16:42:41.186Z"
   },
   {
    "duration": 18,
    "start_time": "2023-09-18T16:44:40.978Z"
   },
   {
    "duration": 10,
    "start_time": "2023-09-18T16:44:58.626Z"
   },
   {
    "duration": 3,
    "start_time": "2023-09-18T16:44:59.422Z"
   },
   {
    "duration": 2,
    "start_time": "2023-09-18T16:45:00.167Z"
   },
   {
    "duration": 10,
    "start_time": "2023-09-18T16:45:02.312Z"
   },
   {
    "duration": 10,
    "start_time": "2023-09-18T16:45:07.769Z"
   },
   {
    "duration": 1300,
    "start_time": "2023-09-18T16:45:19.212Z"
   },
   {
    "duration": 58,
    "start_time": "2023-09-18T16:45:20.514Z"
   },
   {
    "duration": 18,
    "start_time": "2023-09-18T16:45:20.574Z"
   },
   {
    "duration": 18,
    "start_time": "2023-09-18T16:45:20.594Z"
   },
   {
    "duration": 9,
    "start_time": "2023-09-18T16:45:20.614Z"
   },
   {
    "duration": 37,
    "start_time": "2023-09-18T16:45:20.625Z"
   },
   {
    "duration": 13,
    "start_time": "2023-09-18T16:45:20.664Z"
   },
   {
    "duration": 42,
    "start_time": "2023-09-18T16:45:20.679Z"
   },
   {
    "duration": 19,
    "start_time": "2023-09-18T16:45:20.723Z"
   },
   {
    "duration": 24,
    "start_time": "2023-09-18T16:45:20.744Z"
   },
   {
    "duration": 15,
    "start_time": "2023-09-18T16:45:20.769Z"
   },
   {
    "duration": 13,
    "start_time": "2023-09-18T16:45:20.786Z"
   },
   {
    "duration": 26,
    "start_time": "2023-09-18T16:45:20.800Z"
   },
   {
    "duration": 6,
    "start_time": "2023-09-18T16:45:20.827Z"
   },
   {
    "duration": 29,
    "start_time": "2023-09-18T16:45:20.834Z"
   },
   {
    "duration": 10,
    "start_time": "2023-09-18T16:45:20.864Z"
   },
   {
    "duration": 24,
    "start_time": "2023-09-18T16:45:20.876Z"
   },
   {
    "duration": 10,
    "start_time": "2023-09-18T16:45:20.901Z"
   },
   {
    "duration": 5,
    "start_time": "2023-09-18T16:45:20.913Z"
   },
   {
    "duration": 7,
    "start_time": "2023-09-18T16:45:20.919Z"
   },
   {
    "duration": 31,
    "start_time": "2023-09-18T16:45:20.928Z"
   },
   {
    "duration": 17,
    "start_time": "2023-09-18T16:45:20.960Z"
   },
   {
    "duration": 11,
    "start_time": "2023-09-18T16:45:20.979Z"
   },
   {
    "duration": 29,
    "start_time": "2023-09-18T16:45:20.991Z"
   },
   {
    "duration": 30,
    "start_time": "2023-09-18T16:45:21.022Z"
   },
   {
    "duration": 10,
    "start_time": "2023-09-18T16:45:21.055Z"
   },
   {
    "duration": 8,
    "start_time": "2023-09-18T16:45:21.066Z"
   },
   {
    "duration": 41,
    "start_time": "2023-09-18T16:45:21.077Z"
   },
   {
    "duration": 9,
    "start_time": "2023-09-18T16:45:21.119Z"
   },
   {
    "duration": 30,
    "start_time": "2023-09-18T16:45:21.130Z"
   },
   {
    "duration": 4,
    "start_time": "2023-09-18T16:45:21.162Z"
   },
   {
    "duration": 10,
    "start_time": "2023-09-18T16:45:21.168Z"
   },
   {
    "duration": 6,
    "start_time": "2023-09-18T16:45:21.179Z"
   },
   {
    "duration": 15,
    "start_time": "2023-09-18T16:45:21.187Z"
   },
   {
    "duration": 12,
    "start_time": "2023-09-18T16:45:21.203Z"
   },
   {
    "duration": 353,
    "start_time": "2023-09-18T16:45:21.217Z"
   },
   {
    "duration": 15,
    "start_time": "2023-09-18T16:45:21.572Z"
   },
   {
    "duration": 339,
    "start_time": "2023-09-18T16:45:21.588Z"
   },
   {
    "duration": 32,
    "start_time": "2023-09-18T16:45:21.929Z"
   },
   {
    "duration": 132,
    "start_time": "2023-09-18T16:45:21.963Z"
   },
   {
    "duration": 1464,
    "start_time": "2023-09-18T16:45:22.097Z"
   },
   {
    "duration": 15,
    "start_time": "2023-09-18T16:45:23.565Z"
   },
   {
    "duration": 20,
    "start_time": "2023-09-18T16:45:23.581Z"
   },
   {
    "duration": 17,
    "start_time": "2023-09-18T16:45:23.602Z"
   },
   {
    "duration": 131,
    "start_time": "2023-09-18T16:45:23.621Z"
   },
   {
    "duration": 118,
    "start_time": "2023-09-18T16:45:23.759Z"
   },
   {
    "duration": 107,
    "start_time": "2023-09-18T16:45:23.879Z"
   },
   {
    "duration": 135,
    "start_time": "2023-09-18T16:45:23.988Z"
   },
   {
    "duration": 160,
    "start_time": "2023-09-18T16:45:24.125Z"
   },
   {
    "duration": 138,
    "start_time": "2023-09-18T16:45:24.287Z"
   },
   {
    "duration": 8,
    "start_time": "2023-09-18T16:45:24.427Z"
   },
   {
    "duration": 19,
    "start_time": "2023-09-18T16:45:24.437Z"
   },
   {
    "duration": 626,
    "start_time": "2023-09-18T16:45:24.457Z"
   },
   {
    "duration": 7,
    "start_time": "2023-09-18T16:45:25.085Z"
   },
   {
    "duration": 20,
    "start_time": "2023-09-18T16:45:25.093Z"
   },
   {
    "duration": 615,
    "start_time": "2023-09-18T16:45:25.114Z"
   },
   {
    "duration": 14,
    "start_time": "2023-09-18T16:45:25.731Z"
   },
   {
    "duration": 182,
    "start_time": "2023-09-18T16:45:25.748Z"
   },
   {
    "duration": 30,
    "start_time": "2023-09-18T16:45:25.932Z"
   },
   {
    "duration": 200,
    "start_time": "2023-09-18T16:45:25.964Z"
   },
   {
    "duration": 14,
    "start_time": "2023-09-18T16:45:26.166Z"
   },
   {
    "duration": 13,
    "start_time": "2023-09-18T16:45:26.181Z"
   },
   {
    "duration": 14,
    "start_time": "2023-09-18T16:45:26.196Z"
   },
   {
    "duration": 48,
    "start_time": "2023-09-18T16:45:26.212Z"
   },
   {
    "duration": 13,
    "start_time": "2023-09-18T16:45:26.263Z"
   },
   {
    "duration": 26,
    "start_time": "2023-09-18T16:45:26.278Z"
   },
   {
    "duration": 16,
    "start_time": "2023-09-18T16:45:26.306Z"
   },
   {
    "duration": 22,
    "start_time": "2023-09-18T16:45:26.344Z"
   },
   {
    "duration": 14,
    "start_time": "2023-09-18T16:45:26.367Z"
   },
   {
    "duration": 18,
    "start_time": "2023-09-18T16:45:26.383Z"
   },
   {
    "duration": 11,
    "start_time": "2023-09-18T16:45:26.402Z"
   },
   {
    "duration": 2,
    "start_time": "2023-09-18T16:45:52.589Z"
   },
   {
    "duration": 60,
    "start_time": "2023-09-18T16:45:54.937Z"
   },
   {
    "duration": 15,
    "start_time": "2023-09-18T16:45:55.997Z"
   },
   {
    "duration": 14,
    "start_time": "2023-09-18T16:45:57.223Z"
   },
   {
    "duration": 11,
    "start_time": "2023-09-18T16:45:57.612Z"
   },
   {
    "duration": 14,
    "start_time": "2023-09-18T16:45:57.995Z"
   },
   {
    "duration": 14,
    "start_time": "2023-09-18T16:45:58.189Z"
   },
   {
    "duration": 13,
    "start_time": "2023-09-18T16:45:58.732Z"
   },
   {
    "duration": 18,
    "start_time": "2023-09-18T16:45:59.024Z"
   },
   {
    "duration": 27,
    "start_time": "2023-09-18T16:45:59.423Z"
   },
   {
    "duration": 15,
    "start_time": "2023-09-18T16:45:59.916Z"
   },
   {
    "duration": 5,
    "start_time": "2023-09-18T16:46:01.975Z"
   },
   {
    "duration": 13,
    "start_time": "2023-09-18T16:46:02.186Z"
   },
   {
    "duration": 5,
    "start_time": "2023-09-18T16:46:03.272Z"
   },
   {
    "duration": 16,
    "start_time": "2023-09-18T16:46:05.292Z"
   },
   {
    "duration": 5,
    "start_time": "2023-09-18T16:46:08.472Z"
   },
   {
    "duration": 21,
    "start_time": "2023-09-18T16:46:08.842Z"
   },
   {
    "duration": 13,
    "start_time": "2023-09-18T16:46:11.398Z"
   },
   {
    "duration": 6,
    "start_time": "2023-09-18T16:46:11.897Z"
   },
   {
    "duration": 5,
    "start_time": "2023-09-18T16:46:12.529Z"
   },
   {
    "duration": 9,
    "start_time": "2023-09-18T16:46:14.625Z"
   },
   {
    "duration": 5,
    "start_time": "2023-09-18T16:46:15.027Z"
   },
   {
    "duration": 5,
    "start_time": "2023-09-18T16:46:17.128Z"
   },
   {
    "duration": 8,
    "start_time": "2023-09-18T16:46:18.358Z"
   },
   {
    "duration": 103,
    "start_time": "2023-09-18T17:06:09.202Z"
   },
   {
    "duration": 9,
    "start_time": "2023-09-18T17:06:23.583Z"
   },
   {
    "duration": 6,
    "start_time": "2023-09-18T17:06:40.106Z"
   },
   {
    "duration": 5,
    "start_time": "2023-09-18T17:06:41.059Z"
   },
   {
    "duration": 1705,
    "start_time": "2023-09-18T17:06:48.935Z"
   },
   {
    "duration": 0,
    "start_time": "2023-09-18T17:06:50.642Z"
   },
   {
    "duration": 0,
    "start_time": "2023-09-18T17:06:50.643Z"
   },
   {
    "duration": 1610,
    "start_time": "2023-09-18T17:06:50.880Z"
   },
   {
    "duration": 4,
    "start_time": "2023-09-18T17:07:03.858Z"
   },
   {
    "duration": 72,
    "start_time": "2023-09-18T17:07:06.133Z"
   },
   {
    "duration": 24,
    "start_time": "2023-09-18T17:07:06.852Z"
   },
   {
    "duration": 14,
    "start_time": "2023-09-18T17:07:07.486Z"
   },
   {
    "duration": 9,
    "start_time": "2023-09-18T17:07:08.000Z"
   },
   {
    "duration": 13,
    "start_time": "2023-09-18T17:07:08.607Z"
   },
   {
    "duration": 14,
    "start_time": "2023-09-18T17:07:08.812Z"
   },
   {
    "duration": 12,
    "start_time": "2023-09-18T17:07:09.720Z"
   },
   {
    "duration": 27,
    "start_time": "2023-09-18T17:07:09.930Z"
   },
   {
    "duration": 15,
    "start_time": "2023-09-18T17:07:10.195Z"
   },
   {
    "duration": 19,
    "start_time": "2023-09-18T17:07:10.573Z"
   },
   {
    "duration": 5,
    "start_time": "2023-09-18T17:07:12.068Z"
   },
   {
    "duration": 22,
    "start_time": "2023-09-18T17:07:12.229Z"
   },
   {
    "duration": 4,
    "start_time": "2023-09-18T17:07:13.197Z"
   },
   {
    "duration": 29,
    "start_time": "2023-09-18T17:07:13.726Z"
   },
   {
    "duration": 5,
    "start_time": "2023-09-18T17:07:14.961Z"
   },
   {
    "duration": 12,
    "start_time": "2023-09-18T17:07:15.170Z"
   },
   {
    "duration": 10,
    "start_time": "2023-09-18T17:07:15.590Z"
   },
   {
    "duration": 5,
    "start_time": "2023-09-18T17:07:15.767Z"
   },
   {
    "duration": 5,
    "start_time": "2023-09-18T17:07:16.283Z"
   },
   {
    "duration": 8,
    "start_time": "2023-09-18T17:07:16.860Z"
   },
   {
    "duration": 4,
    "start_time": "2023-09-18T17:07:17.059Z"
   },
   {
    "duration": 5,
    "start_time": "2023-09-18T17:07:17.339Z"
   },
   {
    "duration": 7,
    "start_time": "2023-09-18T17:07:17.499Z"
   },
   {
    "duration": 15,
    "start_time": "2023-09-18T17:07:18.295Z"
   },
   {
    "duration": 8,
    "start_time": "2023-09-18T17:07:18.775Z"
   },
   {
    "duration": 5,
    "start_time": "2023-09-18T17:07:18.985Z"
   },
   {
    "duration": 19,
    "start_time": "2023-09-18T17:07:19.728Z"
   },
   {
    "duration": 9,
    "start_time": "2023-09-18T17:07:20.776Z"
   },
   {
    "duration": 27,
    "start_time": "2023-09-18T17:07:21.330Z"
   },
   {
    "duration": 5,
    "start_time": "2023-09-18T17:07:21.513Z"
   },
   {
    "duration": 7,
    "start_time": "2023-09-18T17:07:22.997Z"
   },
   {
    "duration": 5,
    "start_time": "2023-09-18T17:07:23.260Z"
   },
   {
    "duration": 12,
    "start_time": "2023-09-18T17:07:27.621Z"
   },
   {
    "duration": 7,
    "start_time": "2023-09-18T17:07:29.955Z"
   },
   {
    "duration": 430,
    "start_time": "2023-09-18T17:07:30.855Z"
   },
   {
    "duration": 17,
    "start_time": "2023-09-18T17:07:31.458Z"
   },
   {
    "duration": 304,
    "start_time": "2023-09-18T17:07:31.619Z"
   },
   {
    "duration": 20,
    "start_time": "2023-09-18T17:07:43.434Z"
   },
   {
    "duration": 127,
    "start_time": "2023-09-18T17:07:43.685Z"
   },
   {
    "duration": 11,
    "start_time": "2023-09-18T17:07:44.516Z"
   },
   {
    "duration": 17,
    "start_time": "2023-09-18T17:07:56.163Z"
   },
   {
    "duration": 12,
    "start_time": "2023-09-18T17:09:50.959Z"
   },
   {
    "duration": 30,
    "start_time": "2023-09-18T17:11:02.207Z"
   },
   {
    "duration": 10,
    "start_time": "2023-09-18T17:11:12.485Z"
   },
   {
    "duration": 305,
    "start_time": "2023-09-18T17:11:21.824Z"
   },
   {
    "duration": 19,
    "start_time": "2023-09-18T17:14:22.054Z"
   },
   {
    "duration": 11,
    "start_time": "2023-09-18T17:14:47.686Z"
   },
   {
    "duration": 15,
    "start_time": "2023-09-18T17:15:28.989Z"
   },
   {
    "duration": 1412,
    "start_time": "2023-09-18T17:15:31.522Z"
   },
   {
    "duration": 18,
    "start_time": "2023-09-18T17:15:34.770Z"
   },
   {
    "duration": 14,
    "start_time": "2023-09-18T17:15:37.999Z"
   },
   {
    "duration": 13,
    "start_time": "2023-09-18T17:15:38.383Z"
   },
   {
    "duration": 93,
    "start_time": "2023-09-18T17:15:38.870Z"
   },
   {
    "duration": 105,
    "start_time": "2023-09-18T17:15:39.290Z"
   },
   {
    "duration": 184,
    "start_time": "2023-09-18T17:15:39.778Z"
   },
   {
    "duration": 114,
    "start_time": "2023-09-18T17:15:41.880Z"
   },
   {
    "duration": 117,
    "start_time": "2023-09-18T17:15:42.297Z"
   },
   {
    "duration": 113,
    "start_time": "2023-09-18T17:15:42.663Z"
   },
   {
    "duration": 325,
    "start_time": "2023-09-18T17:19:58.536Z"
   },
   {
    "duration": 308,
    "start_time": "2023-09-18T17:21:27.979Z"
   },
   {
    "duration": 399,
    "start_time": "2023-09-18T17:21:33.936Z"
   },
   {
    "duration": 417,
    "start_time": "2023-09-18T17:21:43.307Z"
   },
   {
    "duration": 300,
    "start_time": "2023-09-18T17:22:01.464Z"
   },
   {
    "duration": 16,
    "start_time": "2023-09-18T17:37:07.786Z"
   },
   {
    "duration": 304,
    "start_time": "2023-09-18T17:37:34.479Z"
   },
   {
    "duration": 9,
    "start_time": "2023-09-18T17:48:55.886Z"
   },
   {
    "duration": 578,
    "start_time": "2023-09-18T17:53:44.042Z"
   },
   {
    "duration": 602,
    "start_time": "2023-09-18T17:54:10.076Z"
   },
   {
    "duration": 591,
    "start_time": "2023-09-18T17:54:22.530Z"
   },
   {
    "duration": 9,
    "start_time": "2023-09-18T17:55:41.035Z"
   },
   {
    "duration": 603,
    "start_time": "2023-09-18T17:56:41.730Z"
   },
   {
    "duration": 8,
    "start_time": "2023-09-18T17:58:10.395Z"
   },
   {
    "duration": 596,
    "start_time": "2023-09-18T17:59:50.338Z"
   },
   {
    "duration": 12,
    "start_time": "2023-09-18T18:02:19.096Z"
   },
   {
    "duration": 10,
    "start_time": "2023-09-18T18:04:45.337Z"
   },
   {
    "duration": 9,
    "start_time": "2023-09-18T18:05:10.504Z"
   },
   {
    "duration": 75,
    "start_time": "2023-09-18T18:08:36.555Z"
   },
   {
    "duration": 78,
    "start_time": "2023-09-18T18:09:11.523Z"
   },
   {
    "duration": 9,
    "start_time": "2023-09-18T18:09:15.362Z"
   },
   {
    "duration": 7,
    "start_time": "2023-09-18T18:15:05.483Z"
   },
   {
    "duration": 14,
    "start_time": "2023-09-18T18:16:45.602Z"
   },
   {
    "duration": 39,
    "start_time": "2023-09-18T18:17:35.439Z"
   },
   {
    "duration": 14,
    "start_time": "2023-09-18T18:20:05.645Z"
   },
   {
    "duration": 213,
    "start_time": "2023-09-18T18:20:19.225Z"
   },
   {
    "duration": 14,
    "start_time": "2023-09-18T18:25:47.098Z"
   },
   {
    "duration": 14,
    "start_time": "2023-09-18T18:25:48.449Z"
   },
   {
    "duration": 18,
    "start_time": "2023-09-18T18:25:50.503Z"
   },
   {
    "duration": 14,
    "start_time": "2023-09-18T18:25:52.945Z"
   },
   {
    "duration": 13,
    "start_time": "2023-09-18T18:25:53.277Z"
   },
   {
    "duration": 14,
    "start_time": "2023-09-18T18:25:53.776Z"
   },
   {
    "duration": 13,
    "start_time": "2023-09-18T18:25:55.450Z"
   },
   {
    "duration": 13,
    "start_time": "2023-09-18T18:25:55.853Z"
   },
   {
    "duration": 15,
    "start_time": "2023-09-18T18:25:56.088Z"
   },
   {
    "duration": 15,
    "start_time": "2023-09-18T18:45:36.528Z"
   },
   {
    "duration": 1556,
    "start_time": "2023-09-19T06:02:46.149Z"
   },
   {
    "duration": 115,
    "start_time": "2023-09-19T06:02:47.707Z"
   },
   {
    "duration": 23,
    "start_time": "2023-09-19T06:02:47.824Z"
   },
   {
    "duration": 17,
    "start_time": "2023-09-19T06:02:47.849Z"
   },
   {
    "duration": 22,
    "start_time": "2023-09-19T06:02:47.868Z"
   },
   {
    "duration": 45,
    "start_time": "2023-09-19T06:02:47.892Z"
   },
   {
    "duration": 23,
    "start_time": "2023-09-19T06:02:47.940Z"
   },
   {
    "duration": 22,
    "start_time": "2023-09-19T06:02:47.965Z"
   },
   {
    "duration": 44,
    "start_time": "2023-09-19T06:02:47.989Z"
   },
   {
    "duration": 23,
    "start_time": "2023-09-19T06:02:48.035Z"
   },
   {
    "duration": 23,
    "start_time": "2023-09-19T06:02:48.061Z"
   },
   {
    "duration": 5,
    "start_time": "2023-09-19T06:02:48.086Z"
   },
   {
    "duration": 14,
    "start_time": "2023-09-19T06:02:48.110Z"
   },
   {
    "duration": 13,
    "start_time": "2023-09-19T06:02:48.128Z"
   },
   {
    "duration": 21,
    "start_time": "2023-09-19T06:02:48.143Z"
   },
   {
    "duration": 6,
    "start_time": "2023-09-19T06:02:48.166Z"
   },
   {
    "duration": 39,
    "start_time": "2023-09-19T06:02:48.174Z"
   },
   {
    "duration": 9,
    "start_time": "2023-09-19T06:02:48.215Z"
   },
   {
    "duration": 17,
    "start_time": "2023-09-19T06:02:48.225Z"
   },
   {
    "duration": 4,
    "start_time": "2023-09-19T06:02:48.244Z"
   },
   {
    "duration": 29,
    "start_time": "2023-09-19T06:02:48.250Z"
   },
   {
    "duration": 8,
    "start_time": "2023-09-19T06:02:48.282Z"
   },
   {
    "duration": 21,
    "start_time": "2023-09-19T06:02:48.291Z"
   },
   {
    "duration": 10,
    "start_time": "2023-09-19T06:02:48.314Z"
   },
   {
    "duration": 25,
    "start_time": "2023-09-19T06:02:48.326Z"
   },
   {
    "duration": 8,
    "start_time": "2023-09-19T06:02:48.354Z"
   },
   {
    "duration": 31,
    "start_time": "2023-09-19T06:02:48.364Z"
   },
   {
    "duration": 27,
    "start_time": "2023-09-19T06:02:48.397Z"
   },
   {
    "duration": 10,
    "start_time": "2023-09-19T06:02:48.426Z"
   },
   {
    "duration": 20,
    "start_time": "2023-09-19T06:02:48.438Z"
   },
   {
    "duration": 7,
    "start_time": "2023-09-19T06:02:48.460Z"
   },
   {
    "duration": 40,
    "start_time": "2023-09-19T06:02:48.469Z"
   },
   {
    "duration": 6,
    "start_time": "2023-09-19T06:02:48.511Z"
   },
   {
    "duration": 25,
    "start_time": "2023-09-19T06:02:48.519Z"
   },
   {
    "duration": 42,
    "start_time": "2023-09-19T06:02:48.546Z"
   },
   {
    "duration": 402,
    "start_time": "2023-09-19T06:02:48.591Z"
   },
   {
    "duration": 25,
    "start_time": "2023-09-19T06:02:48.995Z"
   },
   {
    "duration": 392,
    "start_time": "2023-09-19T06:02:49.022Z"
   },
   {
    "duration": 24,
    "start_time": "2023-09-19T06:02:49.416Z"
   },
   {
    "duration": 167,
    "start_time": "2023-09-19T06:02:49.442Z"
   },
   {
    "duration": 101,
    "start_time": "2023-09-19T06:02:49.614Z"
   },
   {
    "duration": 121,
    "start_time": "2023-09-19T06:04:47.698Z"
   },
   {
    "duration": 15,
    "start_time": "2023-09-19T06:05:02.874Z"
   },
   {
    "duration": 26,
    "start_time": "2023-09-19T06:06:24.800Z"
   },
   {
    "duration": 110855,
    "start_time": "2023-09-19T06:09:07.652Z"
   },
   {
    "duration": 0,
    "start_time": "2023-09-19T06:10:58.510Z"
   },
   {
    "duration": 20,
    "start_time": "2023-09-19T06:11:04.510Z"
   },
   {
    "duration": 24,
    "start_time": "2023-09-19T06:12:31.793Z"
   },
   {
    "duration": 20,
    "start_time": "2023-09-19T06:13:15.297Z"
   },
   {
    "duration": 25,
    "start_time": "2023-09-19T06:13:28.050Z"
   },
   {
    "duration": 14,
    "start_time": "2023-09-19T06:13:46.379Z"
   },
   {
    "duration": 19,
    "start_time": "2023-09-19T06:14:02.701Z"
   },
   {
    "duration": 15,
    "start_time": "2023-09-19T06:14:08.177Z"
   },
   {
    "duration": 17,
    "start_time": "2023-09-19T06:14:10.428Z"
   },
   {
    "duration": 1057,
    "start_time": "2023-09-19T06:14:22.945Z"
   },
   {
    "duration": 90,
    "start_time": "2023-09-19T06:15:20.524Z"
   },
   {
    "duration": 368,
    "start_time": "2023-09-19T06:15:46.336Z"
   },
   {
    "duration": 13,
    "start_time": "2023-09-19T06:17:17.508Z"
   },
   {
    "duration": 355,
    "start_time": "2023-09-19T06:17:19.924Z"
   }
  ],
  "kernelspec": {
   "display_name": "Python 3 (ipykernel)",
   "language": "python",
   "name": "python3"
  },
  "language_info": {
   "codemirror_mode": {
    "name": "ipython",
    "version": 3
   },
   "file_extension": ".py",
   "mimetype": "text/x-python",
   "name": "python",
   "nbconvert_exporter": "python",
   "pygments_lexer": "ipython3",
   "version": "3.10.0"
  },
  "toc": {
   "base_numbering": 1,
   "nav_menu": {},
   "number_sections": true,
   "sideBar": true,
   "skip_h1_title": true,
   "title_cell": "Table of Contents",
   "title_sidebar": "Contents",
   "toc_cell": false,
   "toc_position": {},
   "toc_section_display": true,
   "toc_window_display": true
  }
 },
 "nbformat": 4,
 "nbformat_minor": 2
}
