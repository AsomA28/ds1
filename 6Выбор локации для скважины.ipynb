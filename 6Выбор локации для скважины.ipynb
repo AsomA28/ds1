{
 "cells": [
  {
   "cell_type": "markdown",
   "metadata": {},
   "source": [
    "# Выбор локации для скважины"
   ]
  },
  {
   "cell_type": "markdown",
   "metadata": {},
   "source": [
    "Допустим, вы работаете в добывающей компании «ГлавРосГосНефть». Нужно решить, где бурить новую скважину.\n",
    "\n",
    "Вам предоставлены пробы нефти в трёх регионах: в каждом 10 000 месторождений, где измерили качество нефти и объём её запасов. Постройте модель машинного обучения, которая поможет определить регион, где добыча принесёт наибольшую прибыль. Проанализируйте возможную прибыль и риски техникой *Bootstrap.*\n",
    "\n",
    "Шаги для выбора локации:\n",
    "\n",
    "- В избранном регионе ищут месторождения, для каждого определяют значения признаков;\n",
    "- Строят модель и оценивают объём запасов;\n",
    "- Выбирают месторождения с самым высокими оценками значений. Количество месторождений зависит от бюджета компании и стоимости разработки одной скважины;\n",
    "- Прибыль равна суммарной прибыли отобранных месторождений."
   ]
  },
  {
   "cell_type": "markdown",
   "metadata": {},
   "source": [
    "# Цель работы:\n",
    "С помощью модели машинного обучения определить регион, где добыча нефти принесет наибольшую прибыль"
   ]
  },
  {
   "cell_type": "markdown",
   "metadata": {},
   "source": [
    "# Ход исследования:\n",
    "* Загрузка и подготовка данных\n",
    "* Разбить данные на обучающую и валидационную выборки в соотношении 75:25\n",
    "* Обучить модель и сделать предсказания на валидационной выборке\n",
    "* Напечатать на экране средний запас предсказанного сырья и RMSE модели\n",
    "* Анализ результатов\n",
    "* Все ключевые значения для расчётов сохранить в отдельных переменных\n",
    "* Рассчитать достаточный объём сырья для безубыточной разработки новой скважины\n",
    "* Сравните полученный объём сырья со средним запасом в каждом регионе\n",
    "* Напишите выводы по этапу подготовки расчёта прибыли\n",
    "* Выбрать скважины с максимальными значениями предсказаний.\n",
    "* Просуммировать целевое значение объёма сырья, соответствующее этим предсказаниям.\n",
    "* Рассчитать прибыль для полученного объёма сырья.\n",
    "* Применить технику Bootstrap с 1000 выборок, чтобы найти распределение прибыли.\n",
    "* Найти среднюю прибыль, 95%-й доверительный интервал и риск убытков.\n",
    "* Написать выводы: предложить регион для разработки скважин и обосновать выбор."
   ]
  },
  {
   "cell_type": "markdown",
   "metadata": {},
   "source": [
    "# Описание данных\n",
    "\n",
    "- `id` — уникальный идентификатор скважины\n",
    "- `f0`, `f1`, `f2` — три признака точек (неважно, что они означают, но сами признаки значимы)\n",
    "- `product` — объём запасов в скважине (тыс. баррелей)\n",
    "\n",
    "***Данные геологоразведки трёх регионов находятся в файлах:***  \n",
    "- `/datasets/geo_data_0.csv`  \n",
    "- `/datasets/geo_data_1.csv`\n",
    "- `/datasets/geo_data_2.csv`"
   ]
  },
  {
   "cell_type": "markdown",
   "metadata": {},
   "source": [
    "# Условия задачи\n",
    "\n",
    "- Для обучения модели подходит только линейная регрессия (остальные — недостаточно предсказуемые)   \n",
    "- При разведке региона исследуют 500 точек, из которых с помощью машинного обучения выбирают 200 лучших для разработки  \n",
    "- Бюджет на разработку скважин в регионе — 10 млрд рублей  \n",
    "- При нынешних ценах один баррель сырья приносит 450 рублей дохода. Доход с каждой единицы продукта составляет 450 тыс. рублей, поскольку объём указан в тысячах баррелей\n",
    "- После оценки рисков нужно оставить лишь те регионы, в которых вероятность убытков меньше 2.5%. Среди них выбирают регион с наибольшей средней прибылью \n",
    "\n",
    "***Данные синтетические: детали контрактов и характеристики месторождений не разглашаются.***"
   ]
  },
  {
   "cell_type": "markdown",
   "metadata": {},
   "source": [
    "## Загрузка и подготовка данных"
   ]
  },
  {
   "cell_type": "code",
   "execution_count": 1,
   "metadata": {},
   "outputs": [],
   "source": [
    "!pip install phik -q"
   ]
  },
  {
   "cell_type": "code",
   "execution_count": 2,
   "metadata": {},
   "outputs": [],
   "source": [
    "import pandas as pd\n",
    "import numpy as np\n",
    "import matplotlib.pyplot as plt\n",
    "import seaborn as sns\n",
    "import phik\n",
    "from scipy import stats\n",
    "from phik.report import plot_correlation_matrix\n",
    "from pathlib import Path\n",
    "from sklearn.linear_model import LinearRegression\n",
    "from sklearn.model_selection import train_test_split\n",
    "from sklearn.metrics import mean_squared_error\n",
    "from scipy import stats as st\n",
    "from numpy.random import RandomState\n",
    "state = RandomState(12345)"
   ]
  },
  {
   "cell_type": "markdown",
   "metadata": {},
   "source": [
    "**Файл, содержащий данные о первом регионе:**"
   ]
  },
  {
   "cell_type": "code",
   "execution_count": 3,
   "metadata": {},
   "outputs": [
    {
     "data": {
      "text/html": [
       "<div>\n",
       "<style scoped>\n",
       "    .dataframe tbody tr th:only-of-type {\n",
       "        vertical-align: middle;\n",
       "    }\n",
       "\n",
       "    .dataframe tbody tr th {\n",
       "        vertical-align: top;\n",
       "    }\n",
       "\n",
       "    .dataframe thead th {\n",
       "        text-align: right;\n",
       "    }\n",
       "</style>\n",
       "<table border=\"1\" class=\"dataframe\">\n",
       "  <thead>\n",
       "    <tr style=\"text-align: right;\">\n",
       "      <th></th>\n",
       "      <th>id</th>\n",
       "      <th>f0</th>\n",
       "      <th>f1</th>\n",
       "      <th>f2</th>\n",
       "      <th>product</th>\n",
       "    </tr>\n",
       "  </thead>\n",
       "  <tbody>\n",
       "    <tr>\n",
       "      <th>0</th>\n",
       "      <td>txEyH</td>\n",
       "      <td>0.705745</td>\n",
       "      <td>-0.497823</td>\n",
       "      <td>1.221170</td>\n",
       "      <td>105.280062</td>\n",
       "    </tr>\n",
       "    <tr>\n",
       "      <th>1</th>\n",
       "      <td>2acmU</td>\n",
       "      <td>1.334711</td>\n",
       "      <td>-0.340164</td>\n",
       "      <td>4.365080</td>\n",
       "      <td>73.037750</td>\n",
       "    </tr>\n",
       "    <tr>\n",
       "      <th>2</th>\n",
       "      <td>409Wp</td>\n",
       "      <td>1.022732</td>\n",
       "      <td>0.151990</td>\n",
       "      <td>1.419926</td>\n",
       "      <td>85.265647</td>\n",
       "    </tr>\n",
       "    <tr>\n",
       "      <th>3</th>\n",
       "      <td>iJLyR</td>\n",
       "      <td>-0.032172</td>\n",
       "      <td>0.139033</td>\n",
       "      <td>2.978566</td>\n",
       "      <td>168.620776</td>\n",
       "    </tr>\n",
       "    <tr>\n",
       "      <th>4</th>\n",
       "      <td>Xdl7t</td>\n",
       "      <td>1.988431</td>\n",
       "      <td>0.155413</td>\n",
       "      <td>4.751769</td>\n",
       "      <td>154.036647</td>\n",
       "    </tr>\n",
       "  </tbody>\n",
       "</table>\n",
       "</div>"
      ],
      "text/plain": [
       "      id        f0        f1        f2     product\n",
       "0  txEyH  0.705745 -0.497823  1.221170  105.280062\n",
       "1  2acmU  1.334711 -0.340164  4.365080   73.037750\n",
       "2  409Wp  1.022732  0.151990  1.419926   85.265647\n",
       "3  iJLyR -0.032172  0.139033  2.978566  168.620776\n",
       "4  Xdl7t  1.988431  0.155413  4.751769  154.036647"
      ]
     },
     "execution_count": 3,
     "metadata": {},
     "output_type": "execute_result"
    }
   ],
   "source": [
    "geo_0 = pd.read_csv('/datasets/geo_data_0.csv', delimiter = ',')\n",
    "pd.set_option('display.max_rows', None) #параметр для выводы всего датафрейма\n",
    "geo_0.head()"
   ]
  },
  {
   "cell_type": "markdown",
   "metadata": {},
   "source": [
    "**Файл, содержащий данные о втором регионе:**"
   ]
  },
  {
   "cell_type": "code",
   "execution_count": 4,
   "metadata": {},
   "outputs": [
    {
     "data": {
      "text/html": [
       "<div>\n",
       "<style scoped>\n",
       "    .dataframe tbody tr th:only-of-type {\n",
       "        vertical-align: middle;\n",
       "    }\n",
       "\n",
       "    .dataframe tbody tr th {\n",
       "        vertical-align: top;\n",
       "    }\n",
       "\n",
       "    .dataframe thead th {\n",
       "        text-align: right;\n",
       "    }\n",
       "</style>\n",
       "<table border=\"1\" class=\"dataframe\">\n",
       "  <thead>\n",
       "    <tr style=\"text-align: right;\">\n",
       "      <th></th>\n",
       "      <th>id</th>\n",
       "      <th>f0</th>\n",
       "      <th>f1</th>\n",
       "      <th>f2</th>\n",
       "      <th>product</th>\n",
       "    </tr>\n",
       "  </thead>\n",
       "  <tbody>\n",
       "    <tr>\n",
       "      <th>0</th>\n",
       "      <td>kBEdx</td>\n",
       "      <td>-15.001348</td>\n",
       "      <td>-8.276000</td>\n",
       "      <td>-0.005876</td>\n",
       "      <td>3.179103</td>\n",
       "    </tr>\n",
       "    <tr>\n",
       "      <th>1</th>\n",
       "      <td>62mP7</td>\n",
       "      <td>14.272088</td>\n",
       "      <td>-3.475083</td>\n",
       "      <td>0.999183</td>\n",
       "      <td>26.953261</td>\n",
       "    </tr>\n",
       "    <tr>\n",
       "      <th>2</th>\n",
       "      <td>vyE1P</td>\n",
       "      <td>6.263187</td>\n",
       "      <td>-5.948386</td>\n",
       "      <td>5.001160</td>\n",
       "      <td>134.766305</td>\n",
       "    </tr>\n",
       "    <tr>\n",
       "      <th>3</th>\n",
       "      <td>KcrkZ</td>\n",
       "      <td>-13.081196</td>\n",
       "      <td>-11.506057</td>\n",
       "      <td>4.999415</td>\n",
       "      <td>137.945408</td>\n",
       "    </tr>\n",
       "    <tr>\n",
       "      <th>4</th>\n",
       "      <td>AHL4O</td>\n",
       "      <td>12.702195</td>\n",
       "      <td>-8.147433</td>\n",
       "      <td>5.004363</td>\n",
       "      <td>134.766305</td>\n",
       "    </tr>\n",
       "  </tbody>\n",
       "</table>\n",
       "</div>"
      ],
      "text/plain": [
       "      id         f0         f1        f2     product\n",
       "0  kBEdx -15.001348  -8.276000 -0.005876    3.179103\n",
       "1  62mP7  14.272088  -3.475083  0.999183   26.953261\n",
       "2  vyE1P   6.263187  -5.948386  5.001160  134.766305\n",
       "3  KcrkZ -13.081196 -11.506057  4.999415  137.945408\n",
       "4  AHL4O  12.702195  -8.147433  5.004363  134.766305"
      ]
     },
     "execution_count": 4,
     "metadata": {},
     "output_type": "execute_result"
    }
   ],
   "source": [
    "geo_1 = pd.read_csv('/datasets/geo_data_1.csv', delimiter = ',')\n",
    "pd.set_option('display.max_rows', None) #параметр для выводы всего датафрейма\n",
    "geo_1.head()"
   ]
  },
  {
   "cell_type": "markdown",
   "metadata": {},
   "source": [
    "**Файл, содержащий данные о третьем регионе:**"
   ]
  },
  {
   "cell_type": "code",
   "execution_count": 5,
   "metadata": {},
   "outputs": [
    {
     "data": {
      "text/html": [
       "<div>\n",
       "<style scoped>\n",
       "    .dataframe tbody tr th:only-of-type {\n",
       "        vertical-align: middle;\n",
       "    }\n",
       "\n",
       "    .dataframe tbody tr th {\n",
       "        vertical-align: top;\n",
       "    }\n",
       "\n",
       "    .dataframe thead th {\n",
       "        text-align: right;\n",
       "    }\n",
       "</style>\n",
       "<table border=\"1\" class=\"dataframe\">\n",
       "  <thead>\n",
       "    <tr style=\"text-align: right;\">\n",
       "      <th></th>\n",
       "      <th>id</th>\n",
       "      <th>f0</th>\n",
       "      <th>f1</th>\n",
       "      <th>f2</th>\n",
       "      <th>product</th>\n",
       "    </tr>\n",
       "  </thead>\n",
       "  <tbody>\n",
       "    <tr>\n",
       "      <th>0</th>\n",
       "      <td>fwXo0</td>\n",
       "      <td>-1.146987</td>\n",
       "      <td>0.963328</td>\n",
       "      <td>-0.828965</td>\n",
       "      <td>27.758673</td>\n",
       "    </tr>\n",
       "    <tr>\n",
       "      <th>1</th>\n",
       "      <td>WJtFt</td>\n",
       "      <td>0.262778</td>\n",
       "      <td>0.269839</td>\n",
       "      <td>-2.530187</td>\n",
       "      <td>56.069697</td>\n",
       "    </tr>\n",
       "    <tr>\n",
       "      <th>2</th>\n",
       "      <td>ovLUW</td>\n",
       "      <td>0.194587</td>\n",
       "      <td>0.289035</td>\n",
       "      <td>-5.586433</td>\n",
       "      <td>62.871910</td>\n",
       "    </tr>\n",
       "    <tr>\n",
       "      <th>3</th>\n",
       "      <td>q6cA6</td>\n",
       "      <td>2.236060</td>\n",
       "      <td>-0.553760</td>\n",
       "      <td>0.930038</td>\n",
       "      <td>114.572842</td>\n",
       "    </tr>\n",
       "    <tr>\n",
       "      <th>4</th>\n",
       "      <td>WPMUX</td>\n",
       "      <td>-0.515993</td>\n",
       "      <td>1.716266</td>\n",
       "      <td>5.899011</td>\n",
       "      <td>149.600746</td>\n",
       "    </tr>\n",
       "  </tbody>\n",
       "</table>\n",
       "</div>"
      ],
      "text/plain": [
       "      id        f0        f1        f2     product\n",
       "0  fwXo0 -1.146987  0.963328 -0.828965   27.758673\n",
       "1  WJtFt  0.262778  0.269839 -2.530187   56.069697\n",
       "2  ovLUW  0.194587  0.289035 -5.586433   62.871910\n",
       "3  q6cA6  2.236060 -0.553760  0.930038  114.572842\n",
       "4  WPMUX -0.515993  1.716266  5.899011  149.600746"
      ]
     },
     "execution_count": 5,
     "metadata": {},
     "output_type": "execute_result"
    }
   ],
   "source": [
    "geo_2 = pd.read_csv('/datasets/geo_data_2.csv', delimiter = ',')\n",
    "pd.set_option('display.max_rows', None) #параметр для выводы всего датафрейма\n",
    "geo_2.head()"
   ]
  },
  {
   "cell_type": "markdown",
   "metadata": {},
   "source": [
    "**Напишем функцию для получения детальной информации о каждом из трех датасетах:**"
   ]
  },
  {
   "cell_type": "code",
   "execution_count": 6,
   "metadata": {},
   "outputs": [],
   "source": [
    "def so(geo_0):\n",
    "    print(f'Размер датасета - {geo_0.shape}')\n",
    "    print()\n",
    "    print('Информация о данных:')\n",
    "    print(geo_0.info())\n",
    "    print()\n",
    "    print(f'Количество пропусков в датасете: {geo_0.isna().sum().sum()}')\n",
    "    print(f'Указание на пропуски в датасете: {geo_0.isna().sum()}')\n",
    "    print(f'Дубликаты в датасете: {geo_0.duplicated().sum()}')"
   ]
  },
  {
   "cell_type": "code",
   "execution_count": 7,
   "metadata": {},
   "outputs": [
    {
     "name": "stdout",
     "output_type": "stream",
     "text": [
      "Размер датасета - (100000, 5)\n",
      "\n",
      "Информация о данных:\n",
      "<class 'pandas.core.frame.DataFrame'>\n",
      "RangeIndex: 100000 entries, 0 to 99999\n",
      "Data columns (total 5 columns):\n",
      " #   Column   Non-Null Count   Dtype  \n",
      "---  ------   --------------   -----  \n",
      " 0   id       100000 non-null  object \n",
      " 1   f0       100000 non-null  float64\n",
      " 2   f1       100000 non-null  float64\n",
      " 3   f2       100000 non-null  float64\n",
      " 4   product  100000 non-null  float64\n",
      "dtypes: float64(4), object(1)\n",
      "memory usage: 3.8+ MB\n",
      "None\n",
      "\n",
      "Количество пропусков в датасете: 0\n",
      "Указание на пропуски в датасете: id         0\n",
      "f0         0\n",
      "f1         0\n",
      "f2         0\n",
      "product    0\n",
      "dtype: int64\n",
      "Дубликаты в датасете: 0\n"
     ]
    }
   ],
   "source": [
    "so(geo_0)"
   ]
  },
  {
   "cell_type": "code",
   "execution_count": 8,
   "metadata": {},
   "outputs": [
    {
     "name": "stdout",
     "output_type": "stream",
     "text": [
      "Размер датасета - (100000, 5)\n",
      "\n",
      "Информация о данных:\n",
      "<class 'pandas.core.frame.DataFrame'>\n",
      "RangeIndex: 100000 entries, 0 to 99999\n",
      "Data columns (total 5 columns):\n",
      " #   Column   Non-Null Count   Dtype  \n",
      "---  ------   --------------   -----  \n",
      " 0   id       100000 non-null  object \n",
      " 1   f0       100000 non-null  float64\n",
      " 2   f1       100000 non-null  float64\n",
      " 3   f2       100000 non-null  float64\n",
      " 4   product  100000 non-null  float64\n",
      "dtypes: float64(4), object(1)\n",
      "memory usage: 3.8+ MB\n",
      "None\n",
      "\n",
      "Количество пропусков в датасете: 0\n",
      "Указание на пропуски в датасете: id         0\n",
      "f0         0\n",
      "f1         0\n",
      "f2         0\n",
      "product    0\n",
      "dtype: int64\n",
      "Дубликаты в датасете: 0\n"
     ]
    }
   ],
   "source": [
    "so(geo_1)"
   ]
  },
  {
   "cell_type": "code",
   "execution_count": 9,
   "metadata": {},
   "outputs": [
    {
     "name": "stdout",
     "output_type": "stream",
     "text": [
      "Размер датасета - (100000, 5)\n",
      "\n",
      "Информация о данных:\n",
      "<class 'pandas.core.frame.DataFrame'>\n",
      "RangeIndex: 100000 entries, 0 to 99999\n",
      "Data columns (total 5 columns):\n",
      " #   Column   Non-Null Count   Dtype  \n",
      "---  ------   --------------   -----  \n",
      " 0   id       100000 non-null  object \n",
      " 1   f0       100000 non-null  float64\n",
      " 2   f1       100000 non-null  float64\n",
      " 3   f2       100000 non-null  float64\n",
      " 4   product  100000 non-null  float64\n",
      "dtypes: float64(4), object(1)\n",
      "memory usage: 3.8+ MB\n",
      "None\n",
      "\n",
      "Количество пропусков в датасете: 0\n",
      "Указание на пропуски в датасете: id         0\n",
      "f0         0\n",
      "f1         0\n",
      "f2         0\n",
      "product    0\n",
      "dtype: int64\n",
      "Дубликаты в датасете: 0\n"
     ]
    }
   ],
   "source": [
    "so(geo_2)"
   ]
  },
  {
   "cell_type": "markdown",
   "metadata": {},
   "source": [
    "**Проведем визуализацию данных трех датасетов:**"
   ]
  },
  {
   "cell_type": "code",
   "execution_count": 10,
   "metadata": {},
   "outputs": [
    {
     "data": {
      "image/png": "[encoded data removed]",
      "text/plain": [
       "<Figure size 720x2160 with 8 Axes>"
      ]
     },
     "metadata": {
      "needs_background": "light"
     },
     "output_type": "display_data"
    }
   ],
   "source": [
    "col = ['f0', 'f1', 'f2','product']\n",
    "plt.figure(figsize = (10,30))\n",
    "a = 1\n",
    "for i in col:\n",
    "    plt.subplot(12, 2, a)\n",
    "    plt.hist(geo_0[i], bins = 50, rwidth = 0.8,color = 'gold')\n",
    "    plt.title(i, size = 10)\n",
    "    a = a + 1\n",
    "    plt.subplot(12, 2, a)\n",
    "    plt.boxplot(geo_0[i])\n",
    "    plt.title(i, size = 10)\n",
    "    a = a + 1\n",
    "\n",
    "plt.subplots_adjust(left=0.13, \n",
    "                    right=0.8, \n",
    "                    top=1.4, \n",
    "                    bottom= 0.2, \n",
    "                    wspace= 0.4, \n",
    "                    hspace=0.8)\n",
    "plt.show()"
   ]
  },
  {
   "cell_type": "code",
   "execution_count": 11,
   "metadata": {},
   "outputs": [
    {
     "data": {
      "image/png": "[encoded data removed]",
      "text/plain": [
       "<Figure size 720x2160 with 8 Axes>"
      ]
     },
     "metadata": {
      "needs_background": "light"
     },
     "output_type": "display_data"
    }
   ],
   "source": [
    "col = ['f0', 'f1', 'f2','product']\n",
    "plt.figure(figsize = (10,30))\n",
    "a = 1\n",
    "for i in col:\n",
    "    plt.subplot(12, 2, a)\n",
    "    plt.hist(geo_1[i], bins = 50, rwidth = 0.8,color = 'plum')\n",
    "    plt.title(i, size = 10)\n",
    "    a = a + 1\n",
    "    plt.subplot(12, 2, a)\n",
    "    plt.boxplot(geo_1[i])\n",
    "    plt.title(i, size = 10)\n",
    "    a = a + 1\n",
    "\n",
    "plt.subplots_adjust(left=0.13, \n",
    "                    right=0.8, \n",
    "                    top=1.4, \n",
    "                    bottom= 0.2, \n",
    "                    wspace= 0.4, \n",
    "                    hspace=0.8)\n",
    "plt.show()"
   ]
  },
  {
   "cell_type": "code",
   "execution_count": 12,
   "metadata": {},
   "outputs": [
    {
     "data": {
      "image/png": "[encoded data removed]",
      "text/plain": [
       "<Figure size 720x2160 with 8 Axes>"
      ]
     },
     "metadata": {
      "needs_background": "light"
     },
     "output_type": "display_data"
    }
   ],
   "source": [
    "col = ['f0', 'f1', 'f2','product']\n",
    "plt.figure(figsize = (10,30))\n",
    "a = 1\n",
    "for i in col:\n",
    "    plt.subplot(12, 2, a)\n",
    "    plt.hist(geo_2[i], bins = 50, rwidth = 0.8,color = 'greenyellow')\n",
    "    plt.title(i, size = 10)\n",
    "    a = a + 1\n",
    "    plt.subplot(12, 2, a)\n",
    "    plt.boxplot(geo_2[i])\n",
    "    plt.title(i, size = 10)\n",
    "    a = a + 1\n",
    "\n",
    "plt.subplots_adjust(left=0.13, \n",
    "                    right=0.8, \n",
    "                    top=1.4, \n",
    "                    bottom= 0.2, \n",
    "                    wspace= 0.4, \n",
    "                    hspace=0.8)\n",
    "plt.show()"
   ]
  },
  {
   "cell_type": "markdown",
   "metadata": {},
   "source": [
    "**Наблюдаем на некоторых графиках выбросы за нижним и верхним квартилем: geo_0 - f2 , geo_1 - f0 , geo_1 - f1 , geo_2 - f0 , geo_2 - f1 , geo_2 - f2.\n",
    "Посоветовавшись с преподавателем, было принято решение не удалять данные выбросы.**"
   ]
  },
  {
   "cell_type": "code",
   "execution_count": 13,
   "metadata": {},
   "outputs": [
    {
     "data": {
      "image/png": "[encoded data removed]",
      "text/plain": [
       "<Figure size 504x504 with 2 Axes>"
      ]
     },
     "metadata": {
      "needs_background": "light"
     },
     "output_type": "display_data"
    }
   ],
   "source": [
    "plt.figure(figsize=(7,7))\n",
    "colormap = sns.color_palette(\"gnuplot\")\n",
    "chart = sns.heatmap(geo_0[geo_0.columns[geo_0.columns != 'id']].corr(), annot=True,\n",
    "            cmap=colormap, linewidths=1, linecolor='black')\n",
    "plt.title('Тепловая карта. Визуализация корреляций.\\n Данные o пробе нефти в первом регионе\\n', fontsize=24, fontweight=\"bold\", color='blue')\n",
    "chart.set_xticklabels(chart.get_xticklabels(), rotation=0, horizontalalignment='right', fontsize=16, fontweight=\"bold\", color='blue')\n",
    "chart.set_yticklabels(chart.get_xticklabels(), rotation=0, horizontalalignment='right', fontsize=16, fontweight=\"bold\", color='blue')\n",
    "plt.show()"
   ]
  },
  {
   "cell_type": "markdown",
   "metadata": {},
   "source": [
    "**Наибольшая корреляция в первом регионе наблюдается между f2 и product**"
   ]
  },
  {
   "cell_type": "code",
   "execution_count": 14,
   "metadata": {},
   "outputs": [
    {
     "data": {
      "image/png": "[encoded data removed]",
      "text/plain": [
       "<Figure size 504x504 with 2 Axes>"
      ]
     },
     "metadata": {
      "needs_background": "light"
     },
     "output_type": "display_data"
    }
   ],
   "source": [
    "plt.figure(figsize=(7,7))\n",
    "colormap = sns.color_palette(\"gnuplot\")\n",
    "chart = sns.heatmap(geo_1[geo_1.columns[geo_1.columns != 'id']].corr(), annot=True,\n",
    "            cmap=colormap, linewidths=1, linecolor='black')\n",
    "plt.title('Тепловая карта. Визуализация корреляций.\\n Данные o пробе нефти во втором регионе\\n', fontsize=24, fontweight=\"bold\", color='blue')\n",
    "chart.set_xticklabels(chart.get_xticklabels(), rotation=0, horizontalalignment='right', fontsize=16, fontweight=\"bold\", color='blue')\n",
    "chart.set_yticklabels(chart.get_xticklabels(), rotation=0, horizontalalignment='right', fontsize=16, fontweight=\"bold\", color='blue')\n",
    "plt.show()"
   ]
  },
  {
   "cell_type": "markdown",
   "metadata": {},
   "source": [
    "**Во втором регионе сильная корреляция между f2 и product**"
   ]
  },
  {
   "cell_type": "code",
   "execution_count": 15,
   "metadata": {},
   "outputs": [
    {
     "data": {
      "image/png": "[encoded data removed]",
      "text/plain": [
       "<Figure size 504x504 with 2 Axes>"
      ]
     },
     "metadata": {
      "needs_background": "light"
     },
     "output_type": "display_data"
    }
   ],
   "source": [
    "plt.figure(figsize=(7,7))\n",
    "colormap = sns.color_palette(\"gnuplot\")\n",
    "chart = sns.heatmap(geo_2[geo_2.columns[geo_2.columns != 'id']].corr(), annot=True,\n",
    "            cmap=colormap, linewidths=1, linecolor='black')\n",
    "plt.title('Тепловая карта. Визуализация корреляций.\\n Данные o пробе нефти в третьем регионе\\n', fontsize=24, fontweight=\"bold\", color='blue')\n",
    "chart.set_xticklabels(chart.get_xticklabels(), rotation=0, horizontalalignment='right', fontsize=16, fontweight=\"bold\", color='blue')\n",
    "chart.set_yticklabels(chart.get_xticklabels(), rotation=0, horizontalalignment='right', fontsize=16, fontweight=\"bold\", color='blue')\n",
    "plt.show()"
   ]
  },
  {
   "cell_type": "markdown",
   "metadata": {},
   "source": [
    "**В третьем регионе ситуация, как в предыдущих двух. Высокая корреляция между f2 и product**"
   ]
  },
  {
   "cell_type": "code",
   "execution_count": 16,
   "metadata": {},
   "outputs": [
    {
     "data": {
      "image/png": "[encoded data removed]",
      "text/plain": [
       "<Figure size 720x432 with 1 Axes>"
      ]
     },
     "metadata": {
      "needs_background": "light"
     },
     "output_type": "display_data"
    }
   ],
   "source": [
    "plt.figure(figsize=(10, 6))\n",
    "sns.histplot(geo_0[\"product\"], color=\"orangered\", label=\"Объём запасов в скважине в первом регионе\")\n",
    "sns.histplot(geo_1[\"product\"], color=\"limegreen\", label=\"Объём запасов в скважине во втором регионе\")\n",
    "sns.histplot(geo_2[\"product\"], color=\"teal\", label=\"Объём запасов в скважине в третьем регионе\")\n",
    "plt.xlabel(\"Распределение данных по запасам сырья в регионах\")\n",
    "plt.ylabel(\"Запасы сырья, тыс.баррелей\")\n",
    "plt.title(\"Графики распределения запасов сырья в регионах\")\n",
    "plt.legend()\n",
    "plt.show()"
   ]
  },
  {
   "cell_type": "markdown",
   "metadata": {},
   "source": [
    "**Объём запасов в скважине во втором регионе сильно выбивается от двух других**"
   ]
  },
  {
   "cell_type": "markdown",
   "metadata": {},
   "source": [
    "**Данные были загружены,последующая обработка не требуются.Была проведена визуализация, где обнаружились выбросы за нижним и верхним квартилем: geo_0 - f2 , geo_1 - f0 , geo_1 - f1 , geo_2 - f0 , geo_2 - f1 , geo_2 - f2.\n",
    "Посоветовавшись с преподавателем, было принято решение не удалять данные выбросы.Объём запасов в скважине во втором регионе сильно выбивается от двух других, что видно из графика. Сильная корреляция во всех регионах между f2 и product.**"
   ]
  },
  {
   "cell_type": "markdown",
   "metadata": {},
   "source": [
    "**Создадим листы для хранения результатов прогнозирования и их метрик**"
   ]
  },
  {
   "cell_type": "code",
   "execution_count": 17,
   "metadata": {},
   "outputs": [],
   "source": [
    "rmse_list = []\n",
    "predictions_list = []\n",
    "score_list = []\n",
    "target = []\n",
    "data_predictions = pd.DataFrame()\n",
    "data_target = pd.DataFrame()"
   ]
  },
  {
   "cell_type": "markdown",
   "metadata": {},
   "source": [
    "**Проверка модели через цикл**"
   ]
  },
  {
   "cell_type": "code",
   "execution_count": 18,
   "metadata": {},
   "outputs": [],
   "source": [
    "for i,j in zip([geo_0,geo_1,geo_2],range(3)):\n",
    "    X = i.drop(['product','id'], axis=1)\n",
    "    y = i['product']\n",
    "    X_train, X_valid, y_train, y_valid = train_test_split(\n",
    "        X, y, random_state=12345, test_size=0.25) \n",
    "    \n",
    "    model = LinearRegression(n_jobs = -1)\n",
    "    model.fit(X_train, y_train)\n",
    "    predictions = model.predict(X_valid)\n",
    "    rmse = np.sqrt(np.mean((y_valid-predictions)**2))\n",
    "    rmse_list.append(rmse)\n",
    "    predictions_list.append(predictions.mean())\n",
    "    score_list.append(model.score(X_train,y_train))\n",
    "    target.append(i['product'].mean())\n",
    "    data_target[j] = y_valid\n",
    "    data_predictions[j] = predictions"
   ]
  },
  {
   "cell_type": "markdown",
   "metadata": {},
   "source": [
    "**Создание сравнительной таблицы:**"
   ]
  },
  {
   "cell_type": "code",
   "execution_count": 19,
   "metadata": {},
   "outputs": [
    {
     "data": {
      "text/html": [
       "<div>\n",
       "<style scoped>\n",
       "    .dataframe tbody tr th:only-of-type {\n",
       "        vertical-align: middle;\n",
       "    }\n",
       "\n",
       "    .dataframe tbody tr th {\n",
       "        vertical-align: top;\n",
       "    }\n",
       "\n",
       "    .dataframe thead th {\n",
       "        text-align: right;\n",
       "    }\n",
       "</style>\n",
       "<table border=\"1\" class=\"dataframe\">\n",
       "  <thead>\n",
       "    <tr style=\"text-align: right;\">\n",
       "      <th></th>\n",
       "      <th>Регион 1</th>\n",
       "      <th>Регион 2</th>\n",
       "      <th>Регион 3</th>\n",
       "    </tr>\n",
       "  </thead>\n",
       "  <tbody>\n",
       "    <tr>\n",
       "      <th>RMSE</th>\n",
       "      <td>37.579422</td>\n",
       "      <td>0.893099</td>\n",
       "      <td>40.029709</td>\n",
       "    </tr>\n",
       "    <tr>\n",
       "      <th>SCORE</th>\n",
       "      <td>0.274239</td>\n",
       "      <td>0.999625</td>\n",
       "      <td>0.196614</td>\n",
       "    </tr>\n",
       "    <tr>\n",
       "      <th>Predicted_mean</th>\n",
       "      <td>92.592568</td>\n",
       "      <td>68.728547</td>\n",
       "      <td>94.965046</td>\n",
       "    </tr>\n",
       "    <tr>\n",
       "      <th>Target_mean</th>\n",
       "      <td>92.500000</td>\n",
       "      <td>68.825000</td>\n",
       "      <td>95.000000</td>\n",
       "    </tr>\n",
       "  </tbody>\n",
       "</table>\n",
       "</div>"
      ],
      "text/plain": [
       "                 Регион 1   Регион 2   Регион 3\n",
       "RMSE            37.579422   0.893099  40.029709\n",
       "SCORE            0.274239   0.999625   0.196614\n",
       "Predicted_mean  92.592568  68.728547  94.965046\n",
       "Target_mean     92.500000  68.825000  95.000000"
      ]
     },
     "metadata": {},
     "output_type": "display_data"
    }
   ],
   "source": [
    "data_target = data_target.reset_index(drop=True)\n",
    "scorelist = pd.DataFrame(data=[rmse_list, score_list, predictions_list, target], index=['RMSE','SCORE','Predicted_mean',\n",
    "'Target_mean'], columns=['Регион 1','Регион 2','Регион 3'])\n",
    "display(scorelist)"
   ]
  },
  {
   "cell_type": "markdown",
   "metadata": {},
   "source": [
    "**Лучше всего LinearRegression  работает со вторым регионом, что не удивительно, учитывая коэффициенты взаимосвязи между целевым и остальными признаками данных по нему.**\n"
   ]
  },
  {
   "cell_type": "markdown",
   "metadata": {},
   "source": [
    "## Подготовка к расчёту прибыли"
   ]
  },
  {
   "cell_type": "markdown",
   "metadata": {},
   "source": [
    "**Все ключевые значения для расчётов сохраним в отдельных переменных**"
   ]
  },
  {
   "cell_type": "code",
   "execution_count": 20,
   "metadata": {},
   "outputs": [],
   "source": [
    "points_explore = 500 #при разведке региона исследуют 500 точек\n",
    "best_points = 200 #с помощью машинного обучения выбирают 200 лучших для разработки\n",
    "budget = 10e9 #бюджет на разработку скважин в регионе\n",
    "price_one = 450e3 #доход с каждой единицы продукта составляет\n",
    "probability_of_losses = 0.025 #после оценки рисков нужно оставить лишь те регионы, в которых вероятность убытков меньше 2.5%.\n",
    "bootstrap_samples = 1000"
   ]
  },
  {
   "cell_type": "code",
   "execution_count": 21,
   "metadata": {},
   "outputs": [
    {
     "name": "stdout",
     "output_type": "stream",
     "text": [
      "Для безубыточной разработки 200 скважин нужно получить в среднем по 111.11 тыс. баррелей с каждой\n"
     ]
    }
   ],
   "source": [
    "print('Для безубыточной разработки {} скважин нужно получить в среднем по {:.2f} тыс. баррелей с каждой'\n",
    "      .format(best_points, budget/price_one/best_points))"
   ]
  },
  {
   "cell_type": "markdown",
   "metadata": {},
   "source": [
    "**Полученное значение больше, чем среднее, предсказанное по любому из регионов.**"
   ]
  },
  {
   "cell_type": "markdown",
   "metadata": {},
   "source": [
    "**Напишем функцию для расчета прибыли по выбранным скважинам и предсказаниям модели**"
   ]
  },
  {
   "cell_type": "code",
   "execution_count": 22,
   "metadata": {},
   "outputs": [],
   "source": [
    "def revenue(target, probabilities, count):\n",
    "    probs_sorted = probabilities.sort_values(ascending=False)\n",
    "    selected = target[probs_sorted.index][:count]\n",
    "    return (price_one* selected.sum() - (budget))"
   ]
  },
  {
   "cell_type": "markdown",
   "metadata": {},
   "source": [
    "**Посчитаем прибыль на каждый регион**"
   ]
  },
  {
   "cell_type": "code",
   "execution_count": 23,
   "metadata": {},
   "outputs": [
    {
     "name": "stdout",
     "output_type": "stream",
     "text": [
      "Прибыль первого региона : 3.32  млрд рублей\n",
      "Прибыль второго региона : 2.42 млрд рублей\n",
      "Прибыль третьего региона :2.71 млрд рублей\n"
     ]
    }
   ],
   "source": [
    "print('Прибыль первого региона : {:.2f}  млрд рублей'.format(revenue(data_target[0], data_predictions[0],best_points)/10**9))\n",
    "print('Прибыль второго региона : {:.2f} млрд рублей'.format(revenue(data_target[1], data_predictions[1],best_points)/10**9))\n",
    "print('Прибыль третьего региона :{:.2f} млрд рублей'.format(revenue(data_target[2], data_predictions[2],best_points)/10**9))"
   ]
  },
  {
   "cell_type": "markdown",
   "metadata": {},
   "source": [
    "## Расчёт прибыли и рисков "
   ]
  },
  {
   "cell_type": "code",
   "execution_count": 24,
   "metadata": {},
   "outputs": [],
   "source": [
    "revenues = []\n",
    "final_revenues = []"
   ]
  },
  {
   "cell_type": "code",
   "execution_count": 25,
   "metadata": {},
   "outputs": [
    {
     "name": "stdout",
     "output_type": "stream",
     "text": [
      "Среднее значение прибыли: 0.4259385269105924\n",
      "2.5%-квантиль: -0.10209009483793653\n",
      "Риск: 6.0 %\n",
      "95% доверительный интервал:  (-102090094.83793654, 947976353.3583689)\n"
     ]
    }
   ],
   "source": [
    "for i in range(1000):\n",
    "    target_subsample = data_target[0].sample(n=500, replace=True, random_state=state)\n",
    "    probs_subsample = data_predictions[0][target_subsample.index]\n",
    "    revenues.append(revenue(target_subsample, probs_subsample, 200))\n",
    "\n",
    "revenues = pd.Series(revenues)\n",
    "lower = revenues.quantile(0.025)\n",
    "mean = revenues.mean()\n",
    "risks = (revenues < 0).mean()* 100\n",
    "confidence_interval = (revenues.quantile(0.025), revenues.quantile(0.975))\n",
    "\n",
    "print(\"Среднее значение прибыли:\", mean/10**9)\n",
    "print(\"2.5%-квантиль:\", lower/10**9)\n",
    "print(\"Риск:\", (revenues < 0).mean()* 100, '%')\n",
    "print('95% доверительный интервал: ', confidence_interval)\n",
    "final_revenues.append(('Регион 1', mean/10**9, lower/10**9, confidence_interval, risks))"
   ]
  },
  {
   "cell_type": "code",
   "execution_count": 26,
   "metadata": {},
   "outputs": [],
   "source": [
    "revenues = []\n",
    "final_revenues = []"
   ]
  },
  {
   "cell_type": "code",
   "execution_count": 27,
   "metadata": {},
   "outputs": [
    {
     "name": "stdout",
     "output_type": "stream",
     "text": [
      "Среднее значение прибыли: 0.5182594936973248\n",
      "2.5%-квантиль: 0.12812323143308443\n",
      "Риск: 0.3 %\n",
      "95% доверительный интервал:  (128123231.43308444, 953612982.0669085)\n"
     ]
    }
   ],
   "source": [
    "for i in range(1000):\n",
    "    target_subsample = data_target[1].sample(n=500, replace=True, random_state=state)\n",
    "    probs_subsample = data_predictions[1][target_subsample.index]\n",
    "    revenues.append(revenue(target_subsample, probs_subsample, 200))\n",
    "\n",
    "revenues = pd.Series(revenues)\n",
    "lower = revenues.quantile(0.025)\n",
    "mean = revenues.mean()\n",
    "risks = (revenues < 0).mean()* 100\n",
    "confidence_interval = (revenues.quantile(0.025), revenues.quantile(0.975))\n",
    "\n",
    "print(\"Среднее значение прибыли:\", mean/10**9)\n",
    "print(\"2.5%-квантиль:\", lower/10**9)\n",
    "print(\"Риск:\", (revenues < 0).mean()* 100, '%')\n",
    "print('95% доверительный интервал: ', confidence_interval)\n",
    "final_revenues.append(('Регион 2', mean/10**9, lower/10**9, confidence_interval, risks))"
   ]
  },
  {
   "cell_type": "code",
   "execution_count": 28,
   "metadata": {},
   "outputs": [],
   "source": [
    "revenues = []\n",
    "final_revenues = []"
   ]
  },
  {
   "cell_type": "code",
   "execution_count": 29,
   "metadata": {},
   "outputs": [
    {
     "name": "stdout",
     "output_type": "stream",
     "text": [
      "Среднее значение прибыли: 0.4201940053440501\n",
      "2.5%-квантиль: -0.11585260916001143\n",
      "Риск: 6.2 %\n",
      "95% доверительный интервал:  (-115852609.16001143, 989629939.8445739)\n"
     ]
    }
   ],
   "source": [
    "for i in range(1000):\n",
    "    target_subsample = data_target[2].sample(n=500,replace=True, random_state=state)\n",
    "    probs_subsample = data_predictions[2][target_subsample.index]\n",
    "    revenues.append(revenue(target_subsample, probs_subsample, 200))\n",
    "\n",
    "revenues = pd.Series(revenues)\n",
    "lower = revenues.quantile(0.025)\n",
    "mean = revenues.mean()\n",
    "risks = (revenues < 0).mean()* 100\n",
    "confidence_interval = (revenues.quantile(0.025), revenues.quantile(0.975))\n",
    "\n",
    "print(\"Среднее значение прибыли:\", mean/10**9)\n",
    "print(\"2.5%-квантиль:\", lower/10**9)\n",
    "print(\"Риск:\", (revenues < 0).mean()* 100, '%')\n",
    "print('95% доверительный интервал: ', confidence_interval)\n",
    "final_revenues.append(('Регион 3', mean/10**9, lower/10**9, confidence_interval, risks))"
   ]
  },
  {
   "cell_type": "markdown",
   "metadata": {},
   "source": [
    "# Общий вывод:"
   ]
  },
  {
   "cell_type": "markdown",
   "metadata": {},
   "source": [
    "**Данные были загружены,последующая обработка не требуются.Была проведена визуализация, где обнаружились выбросы за нижним и верхним квартилем: geo_0 - f2 , geo_1 - f0 , geo_1 - f1 , geo_2 - f0 , geo_2 - f1 , geo_2 - f2.\n",
    "Посоветовавшись с преподавателем, было принято решение не удалять данные выбросы.Объём запасов в скважине во втором регионе сильно выбивается от двух других, что видно из графика. Сильная корреляция во всех регионах между f2 и product.**\n",
    "\n",
    "**Исходя из всех результатов моделей мы получили такие результаты:**\n",
    "\n",
    "* Регион 1: RMSE\t37.579422; SCORЕ 0.274239\t\n",
    "* Регион 2: RMSE : 0.893099 ; SCORE 0.999625\t\n",
    "* Регион 3: RMSE : 40.029709 ; SCORE  0.196614\n",
    "\n",
    "\n",
    "**Для разработки рекомендован второй регион, как единственный отвечающий критерию Риск < 2.5%, но, даже если не учитывать критерий:**\n",
    "* Риск убытков минимален по сравнению с другими регионами, и в случае убытков потери относительно невелики;\n",
    "* Является самым предсказуемым для моделирования;\n",
    "* Показал самое высокое среднее значение прибыли."
   ]
  }
 ],
 "metadata": {
  "ExecuteTimeLog": [
   {
    "duration": 1733,
    "start_time": "2023-11-26T08:21:19.550Z"
   },
   {
    "duration": 13,
    "start_time": "2023-11-26T08:21:33.254Z"
   },
   {
    "duration": 13,
    "start_time": "2023-11-26T08:21:40.209Z"
   },
   {
    "duration": 547,
    "start_time": "2023-11-26T08:24:51.614Z"
   },
   {
    "duration": 591,
    "start_time": "2023-11-26T08:25:18.564Z"
   },
   {
    "duration": 607,
    "start_time": "2023-11-26T08:25:34.646Z"
   },
   {
    "duration": 3,
    "start_time": "2023-11-26T08:26:53.374Z"
   },
   {
    "duration": 83,
    "start_time": "2023-11-26T08:27:05.562Z"
   },
   {
    "duration": 69,
    "start_time": "2023-11-26T08:27:27.164Z"
   },
   {
    "duration": 70,
    "start_time": "2023-11-26T08:27:37.906Z"
   },
   {
    "duration": 20,
    "start_time": "2023-11-26T08:29:08.540Z"
   },
   {
    "duration": 8170,
    "start_time": "2023-11-26T08:46:28.191Z"
   },
   {
    "duration": 1022,
    "start_time": "2023-11-26T08:46:46.286Z"
   },
   {
    "duration": 74,
    "start_time": "2023-11-26T08:47:52.360Z"
   },
   {
    "duration": 13,
    "start_time": "2023-11-26T08:49:17.322Z"
   },
   {
    "duration": 52,
    "start_time": "2023-11-26T08:53:29.310Z"
   },
   {
    "duration": 5004,
    "start_time": "2023-11-26T08:53:44.112Z"
   },
   {
    "duration": 2550,
    "start_time": "2023-11-26T08:54:12.347Z"
   },
   {
    "duration": 537,
    "start_time": "2023-11-26T08:54:18.701Z"
   },
   {
    "duration": 584,
    "start_time": "2023-11-26T08:54:19.240Z"
   },
   {
    "duration": 557,
    "start_time": "2023-11-26T08:54:19.826Z"
   },
   {
    "duration": 4,
    "start_time": "2023-11-26T08:54:20.385Z"
   },
   {
    "duration": 75,
    "start_time": "2023-11-26T08:54:22.379Z"
   },
   {
    "duration": 78,
    "start_time": "2023-11-26T08:54:23.312Z"
   },
   {
    "duration": 70,
    "start_time": "2023-11-26T08:54:24.161Z"
   },
   {
    "duration": 407,
    "start_time": "2023-11-26T08:54:25.183Z"
   },
   {
    "duration": 578,
    "start_time": "2023-11-26T08:56:25.081Z"
   },
   {
    "duration": 770,
    "start_time": "2023-11-26T08:56:53.359Z"
   },
   {
    "duration": 898,
    "start_time": "2023-11-26T08:57:16.812Z"
   },
   {
    "duration": 751,
    "start_time": "2023-11-26T08:57:37.256Z"
   },
   {
    "duration": 997,
    "start_time": "2023-11-26T08:57:49.549Z"
   },
   {
    "duration": 1074,
    "start_time": "2023-11-26T08:57:56.486Z"
   },
   {
    "duration": 1020,
    "start_time": "2023-11-26T08:58:16.159Z"
   },
   {
    "duration": 876,
    "start_time": "2023-11-26T08:58:27.869Z"
   },
   {
    "duration": 1025,
    "start_time": "2023-11-26T08:58:40.352Z"
   },
   {
    "duration": 794,
    "start_time": "2023-11-26T08:59:00.666Z"
   },
   {
    "duration": 1001,
    "start_time": "2023-11-26T08:59:10.948Z"
   },
   {
    "duration": 766,
    "start_time": "2023-11-26T08:59:15.206Z"
   },
   {
    "duration": 992,
    "start_time": "2023-11-26T09:00:01.883Z"
   },
   {
    "duration": 803,
    "start_time": "2023-11-26T09:00:35.177Z"
   },
   {
    "duration": 817,
    "start_time": "2023-11-26T09:01:06.282Z"
   },
   {
    "duration": 1038,
    "start_time": "2023-11-26T09:01:22.599Z"
   },
   {
    "duration": 751,
    "start_time": "2023-11-26T09:01:58.845Z"
   },
   {
    "duration": 970,
    "start_time": "2023-11-26T09:02:00.823Z"
   },
   {
    "duration": 749,
    "start_time": "2023-11-26T09:02:01.795Z"
   },
   {
    "duration": 1017,
    "start_time": "2023-11-26T09:02:42.528Z"
   },
   {
    "duration": 815,
    "start_time": "2023-11-26T09:02:43.547Z"
   },
   {
    "duration": 958,
    "start_time": "2023-11-26T09:02:44.364Z"
   },
   {
    "duration": 388,
    "start_time": "2023-11-26T09:03:43.676Z"
   },
   {
    "duration": 399,
    "start_time": "2023-11-26T09:04:15.385Z"
   },
   {
    "duration": 658,
    "start_time": "2023-11-26T09:12:30.920Z"
   },
   {
    "duration": 615,
    "start_time": "2023-11-26T09:16:55.780Z"
   },
   {
    "duration": 898,
    "start_time": "2023-11-26T09:17:22.694Z"
   },
   {
    "duration": 628,
    "start_time": "2023-11-26T09:17:39.846Z"
   },
   {
    "duration": 643,
    "start_time": "2023-11-26T09:20:15.606Z"
   },
   {
    "duration": 624,
    "start_time": "2023-11-26T09:20:31.822Z"
   },
   {
    "duration": 771,
    "start_time": "2023-11-26T09:20:37.106Z"
   },
   {
    "duration": 20,
    "start_time": "2023-11-26T09:32:56.573Z"
   },
   {
    "duration": 356,
    "start_time": "2023-11-26T09:34:13.213Z"
   },
   {
    "duration": 4,
    "start_time": "2023-11-26T09:36:20.372Z"
   },
   {
    "duration": 42,
    "start_time": "2023-11-26T09:36:28.175Z"
   },
   {
    "duration": 15,
    "start_time": "2023-11-26T09:36:42.720Z"
   },
   {
    "duration": 34,
    "start_time": "2023-11-26T09:40:31.208Z"
   },
   {
    "duration": 94,
    "start_time": "2023-11-26T09:44:16.420Z"
   },
   {
    "duration": 21,
    "start_time": "2023-11-26T09:51:14.611Z"
   },
   {
    "duration": 16,
    "start_time": "2023-11-26T09:51:16.404Z"
   },
   {
    "duration": 18,
    "start_time": "2023-11-26T09:51:17.455Z"
   },
   {
    "duration": 68,
    "start_time": "2023-11-26T09:52:08.745Z"
   },
   {
    "duration": 23,
    "start_time": "2023-11-26T09:53:09.566Z"
   },
   {
    "duration": 18,
    "start_time": "2023-11-26T09:53:40.205Z"
   },
   {
    "duration": 2,
    "start_time": "2023-11-26T10:03:33.036Z"
   },
   {
    "duration": 47,
    "start_time": "2023-11-26T13:35:53.129Z"
   },
   {
    "duration": 7194,
    "start_time": "2023-11-26T13:36:08.134Z"
   },
   {
    "duration": 2497,
    "start_time": "2023-11-26T13:36:15.330Z"
   },
   {
    "duration": 378,
    "start_time": "2023-11-26T13:36:17.829Z"
   },
   {
    "duration": 205,
    "start_time": "2023-11-26T13:36:18.209Z"
   },
   {
    "duration": 204,
    "start_time": "2023-11-26T13:36:18.415Z"
   },
   {
    "duration": 3,
    "start_time": "2023-11-26T13:36:18.621Z"
   },
   {
    "duration": 71,
    "start_time": "2023-11-26T13:36:18.626Z"
   },
   {
    "duration": 59,
    "start_time": "2023-11-26T13:36:18.982Z"
   },
   {
    "duration": 63,
    "start_time": "2023-11-26T13:36:19.229Z"
   },
   {
    "duration": 756,
    "start_time": "2023-11-26T13:36:20.173Z"
   },
   {
    "duration": 800,
    "start_time": "2023-11-26T13:36:20.931Z"
   },
   {
    "duration": 873,
    "start_time": "2023-11-26T13:36:21.733Z"
   },
   {
    "duration": 447,
    "start_time": "2023-11-26T13:36:22.608Z"
   },
   {
    "duration": 331,
    "start_time": "2023-11-26T13:36:23.091Z"
   },
   {
    "duration": 373,
    "start_time": "2023-11-26T13:36:23.424Z"
   },
   {
    "duration": 599,
    "start_time": "2023-11-26T13:36:23.862Z"
   },
   {
    "duration": 165,
    "start_time": "2023-11-26T13:36:28.684Z"
   },
   {
    "duration": 29,
    "start_time": "2023-11-26T13:38:25.039Z"
   },
   {
    "duration": 19,
    "start_time": "2023-11-26T13:38:34.876Z"
   },
   {
    "duration": 10,
    "start_time": "2023-11-26T13:49:25.512Z"
   },
   {
    "duration": 3,
    "start_time": "2023-11-26T13:50:28.398Z"
   },
   {
    "duration": 8,
    "start_time": "2023-11-26T13:50:28.900Z"
   },
   {
    "duration": 10511,
    "start_time": "2023-11-26T13:50:37.472Z"
   },
   {
    "duration": 10,
    "start_time": "2023-11-26T13:51:33.898Z"
   },
   {
    "duration": 3,
    "start_time": "2023-11-26T13:53:32.880Z"
   },
   {
    "duration": 587,
    "start_time": "2023-11-26T13:53:41.030Z"
   },
   {
    "duration": 4783,
    "start_time": "2023-11-26T13:55:35.913Z"
   },
   {
    "duration": 2343,
    "start_time": "2023-11-26T13:55:40.698Z"
   },
   {
    "duration": 156,
    "start_time": "2023-11-26T13:55:43.042Z"
   },
   {
    "duration": 139,
    "start_time": "2023-11-26T13:55:43.199Z"
   },
   {
    "duration": 140,
    "start_time": "2023-11-26T13:55:43.339Z"
   },
   {
    "duration": 3,
    "start_time": "2023-11-26T13:55:43.481Z"
   },
   {
    "duration": 83,
    "start_time": "2023-11-26T13:55:43.485Z"
   },
   {
    "duration": 62,
    "start_time": "2023-11-26T13:55:43.570Z"
   },
   {
    "duration": 82,
    "start_time": "2023-11-26T13:55:43.634Z"
   },
   {
    "duration": 2,
    "start_time": "2023-11-26T13:55:43.719Z"
   },
   {
    "duration": 821,
    "start_time": "2023-11-26T13:55:43.722Z"
   },
   {
    "duration": 935,
    "start_time": "2023-11-26T13:55:44.544Z"
   },
   {
    "duration": 774,
    "start_time": "2023-11-26T13:55:45.480Z"
   },
   {
    "duration": 371,
    "start_time": "2023-11-26T13:55:46.257Z"
   },
   {
    "duration": 407,
    "start_time": "2023-11-26T13:55:46.630Z"
   },
   {
    "duration": 376,
    "start_time": "2023-11-26T13:55:47.039Z"
   },
   {
    "duration": 774,
    "start_time": "2023-11-26T13:55:47.417Z"
   },
   {
    "duration": 18,
    "start_time": "2023-11-26T13:55:48.193Z"
   },
   {
    "duration": 15,
    "start_time": "2023-11-26T13:55:55.282Z"
   },
   {
    "duration": 19,
    "start_time": "2023-11-26T13:55:55.459Z"
   },
   {
    "duration": 17,
    "start_time": "2023-11-26T13:55:55.602Z"
   },
   {
    "duration": 19,
    "start_time": "2023-11-26T13:55:55.759Z"
   },
   {
    "duration": 17,
    "start_time": "2023-11-26T13:55:55.929Z"
   },
   {
    "duration": 3,
    "start_time": "2023-11-26T13:55:56.716Z"
   },
   {
    "duration": 249,
    "start_time": "2023-11-26T13:56:29.903Z"
   },
   {
    "duration": 11,
    "start_time": "2023-11-26T13:57:58.913Z"
   },
   {
    "duration": 12,
    "start_time": "2023-11-26T13:58:44.628Z"
   },
   {
    "duration": 22,
    "start_time": "2023-11-26T13:59:05.730Z"
   },
   {
    "duration": 18,
    "start_time": "2023-11-26T13:59:40.403Z"
   },
   {
    "duration": 374,
    "start_time": "2023-11-26T13:59:58.240Z"
   },
   {
    "duration": 388,
    "start_time": "2023-11-26T14:00:06.817Z"
   },
   {
    "duration": 338,
    "start_time": "2023-11-26T14:00:22.909Z"
   },
   {
    "duration": 314,
    "start_time": "2023-11-26T14:00:29.796Z"
   },
   {
    "duration": 590,
    "start_time": "2023-11-26T14:00:35.194Z"
   },
   {
    "duration": 20,
    "start_time": "2023-11-26T14:02:45.450Z"
   },
   {
    "duration": 330,
    "start_time": "2023-11-26T14:03:21.629Z"
   },
   {
    "duration": 3,
    "start_time": "2023-11-26T14:08:13.789Z"
   },
   {
    "duration": 13,
    "start_time": "2023-11-26T14:20:07.192Z"
   },
   {
    "duration": 17,
    "start_time": "2023-11-26T14:20:20.473Z"
   },
   {
    "duration": 29,
    "start_time": "2023-11-26T14:20:33.648Z"
   },
   {
    "duration": 13,
    "start_time": "2023-11-26T14:22:06.835Z"
   },
   {
    "duration": 29,
    "start_time": "2023-11-26T14:22:18.385Z"
   },
   {
    "duration": 30,
    "start_time": "2023-11-26T14:23:17.281Z"
   },
   {
    "duration": 29,
    "start_time": "2023-11-26T14:23:36.426Z"
   },
   {
    "duration": 30,
    "start_time": "2023-11-26T14:26:36.927Z"
   },
   {
    "duration": 28,
    "start_time": "2023-11-26T14:26:51.171Z"
   },
   {
    "duration": 29,
    "start_time": "2023-11-26T14:29:42.792Z"
   },
   {
    "duration": 3,
    "start_time": "2023-11-26T15:09:09.435Z"
   },
   {
    "duration": 4,
    "start_time": "2023-11-26T15:09:19.416Z"
   },
   {
    "duration": 3,
    "start_time": "2023-11-26T15:09:56.752Z"
   },
   {
    "duration": 11,
    "start_time": "2023-11-26T15:14:27.221Z"
   },
   {
    "duration": 15,
    "start_time": "2023-11-26T15:14:36.229Z"
   },
   {
    "duration": 9,
    "start_time": "2023-11-26T15:15:41.816Z"
   },
   {
    "duration": 3,
    "start_time": "2023-11-26T15:15:59.685Z"
   },
   {
    "duration": 3,
    "start_time": "2023-11-26T15:20:01.644Z"
   },
   {
    "duration": 3,
    "start_time": "2023-11-26T15:20:07.045Z"
   },
   {
    "duration": 3,
    "start_time": "2023-11-26T15:21:14.016Z"
   },
   {
    "duration": 2,
    "start_time": "2023-11-26T15:23:46.246Z"
   },
   {
    "duration": 12,
    "start_time": "2023-11-26T15:25:13.091Z"
   },
   {
    "duration": 14,
    "start_time": "2023-11-26T15:25:23.736Z"
   },
   {
    "duration": 3,
    "start_time": "2023-11-26T15:28:12.183Z"
   },
   {
    "duration": 3,
    "start_time": "2023-11-26T15:28:13.941Z"
   },
   {
    "duration": 12,
    "start_time": "2023-11-26T15:28:52.733Z"
   },
   {
    "duration": 1377,
    "start_time": "2023-11-26T15:29:28.762Z"
   },
   {
    "duration": 12,
    "start_time": "2023-11-26T15:35:47.063Z"
   },
   {
    "duration": 14,
    "start_time": "2023-11-26T15:38:09.787Z"
   },
   {
    "duration": 11,
    "start_time": "2023-11-26T15:40:34.991Z"
   },
   {
    "duration": 11,
    "start_time": "2023-11-26T15:43:08.169Z"
   },
   {
    "duration": 2,
    "start_time": "2023-11-26T15:43:36.531Z"
   },
   {
    "duration": 13,
    "start_time": "2023-11-26T15:43:42.419Z"
   },
   {
    "duration": 14,
    "start_time": "2023-11-26T15:49:07.020Z"
   },
   {
    "duration": 14,
    "start_time": "2023-11-26T15:49:39.032Z"
   },
   {
    "duration": 14,
    "start_time": "2023-11-26T15:49:56.303Z"
   },
   {
    "duration": 2,
    "start_time": "2023-11-26T15:50:24.498Z"
   },
   {
    "duration": 16,
    "start_time": "2023-11-26T16:00:58.924Z"
   },
   {
    "duration": 16,
    "start_time": "2023-11-26T16:01:32.705Z"
   },
   {
    "duration": 3,
    "start_time": "2023-11-26T16:03:00.544Z"
   },
   {
    "duration": 40,
    "start_time": "2023-11-26T16:03:19.943Z"
   },
   {
    "duration": 3,
    "start_time": "2023-11-26T16:04:01.662Z"
   },
   {
    "duration": 3136,
    "start_time": "2023-11-26T16:04:07.236Z"
   },
   {
    "duration": 3151,
    "start_time": "2023-11-26T16:04:29.074Z"
   },
   {
    "duration": 3173,
    "start_time": "2023-11-26T16:06:08.487Z"
   },
   {
    "duration": 1062,
    "start_time": "2023-11-26T16:06:23.919Z"
   },
   {
    "duration": 3350,
    "start_time": "2023-11-26T16:06:50.261Z"
   },
   {
    "duration": 3051,
    "start_time": "2023-11-26T16:10:56.280Z"
   },
   {
    "duration": 3152,
    "start_time": "2023-11-26T16:11:28.759Z"
   },
   {
    "duration": 3117,
    "start_time": "2023-11-26T16:12:13.313Z"
   },
   {
    "duration": 287,
    "start_time": "2023-11-26T16:14:13.367Z"
   },
   {
    "duration": 3219,
    "start_time": "2023-11-26T16:14:23.780Z"
   },
   {
    "duration": 3097,
    "start_time": "2023-11-26T16:15:19.104Z"
   },
   {
    "duration": 3108,
    "start_time": "2023-11-26T16:16:48.503Z"
   },
   {
    "duration": 3121,
    "start_time": "2023-11-26T16:17:27.650Z"
   },
   {
    "duration": 81,
    "start_time": "2023-11-26T16:18:43.388Z"
   },
   {
    "duration": 3232,
    "start_time": "2023-11-26T16:18:51.947Z"
   },
   {
    "duration": 3160,
    "start_time": "2023-11-26T16:19:26.161Z"
   },
   {
    "duration": 77,
    "start_time": "2023-11-26T16:19:43.682Z"
   },
   {
    "duration": 78,
    "start_time": "2023-11-26T16:19:51.722Z"
   },
   {
    "duration": 3135,
    "start_time": "2023-11-26T16:19:54.900Z"
   },
   {
    "duration": 5,
    "start_time": "2023-11-26T16:23:44.576Z"
   },
   {
    "duration": 3166,
    "start_time": "2023-11-26T16:23:52.043Z"
   },
   {
    "duration": 275,
    "start_time": "2023-11-26T16:29:09.303Z"
   },
   {
    "duration": 3236,
    "start_time": "2023-11-26T16:29:24.727Z"
   },
   {
    "duration": 42,
    "start_time": "2023-11-26T16:30:44.780Z"
   },
   {
    "duration": 43,
    "start_time": "2023-11-26T16:30:57.673Z"
   },
   {
    "duration": 1000,
    "start_time": "2023-11-26T16:31:21.712Z"
   },
   {
    "duration": 4841,
    "start_time": "2023-11-26T16:31:37.685Z"
   },
   {
    "duration": 2398,
    "start_time": "2023-11-26T16:31:42.529Z"
   },
   {
    "duration": 156,
    "start_time": "2023-11-26T16:31:44.929Z"
   },
   {
    "duration": 137,
    "start_time": "2023-11-26T16:31:45.087Z"
   },
   {
    "duration": 137,
    "start_time": "2023-11-26T16:31:45.226Z"
   },
   {
    "duration": 3,
    "start_time": "2023-11-26T16:31:45.364Z"
   },
   {
    "duration": 78,
    "start_time": "2023-11-26T16:31:45.369Z"
   },
   {
    "duration": 65,
    "start_time": "2023-11-26T16:31:45.458Z"
   },
   {
    "duration": 88,
    "start_time": "2023-11-26T16:31:45.525Z"
   },
   {
    "duration": 824,
    "start_time": "2023-11-26T16:31:45.616Z"
   },
   {
    "duration": 951,
    "start_time": "2023-11-26T16:31:46.442Z"
   },
   {
    "duration": 778,
    "start_time": "2023-11-26T16:31:47.395Z"
   },
   {
    "duration": 355,
    "start_time": "2023-11-26T16:31:48.174Z"
   },
   {
    "duration": 360,
    "start_time": "2023-11-26T16:31:48.531Z"
   },
   {
    "duration": 340,
    "start_time": "2023-11-26T16:31:48.892Z"
   },
   {
    "duration": 756,
    "start_time": "2023-11-26T16:31:49.233Z"
   },
   {
    "duration": 18,
    "start_time": "2023-11-26T16:31:49.990Z"
   },
   {
    "duration": 54,
    "start_time": "2023-11-26T16:31:50.010Z"
   },
   {
    "duration": 110,
    "start_time": "2023-11-26T16:31:50.066Z"
   },
   {
    "duration": 21,
    "start_time": "2023-11-26T16:31:50.177Z"
   },
   {
    "duration": 110,
    "start_time": "2023-11-26T16:31:50.259Z"
   },
   {
    "duration": 89,
    "start_time": "2023-11-26T16:31:50.371Z"
   },
   {
    "duration": 4,
    "start_time": "2023-11-26T16:31:50.462Z"
   },
   {
    "duration": 3,
    "start_time": "2023-11-26T16:32:17.064Z"
   },
   {
    "duration": 4,
    "start_time": "2023-11-26T16:32:20.327Z"
   },
   {
    "duration": 3,
    "start_time": "2023-11-26T16:32:21.761Z"
   },
   {
    "duration": 3,
    "start_time": "2023-11-26T16:32:22.153Z"
   },
   {
    "duration": 164,
    "start_time": "2023-11-26T16:32:23.079Z"
   },
   {
    "duration": 3,
    "start_time": "2023-11-26T16:32:32.720Z"
   },
   {
    "duration": 17,
    "start_time": "2023-11-26T16:32:33.190Z"
   },
   {
    "duration": 4,
    "start_time": "2023-11-26T16:34:24.056Z"
   },
   {
    "duration": 15,
    "start_time": "2023-11-26T16:34:24.535Z"
   },
   {
    "duration": 15,
    "start_time": "2023-11-26T16:36:23.023Z"
   },
   {
    "duration": 3,
    "start_time": "2023-11-26T16:37:01.854Z"
   },
   {
    "duration": 33,
    "start_time": "2023-11-26T16:37:06.090Z"
   },
   {
    "duration": 76,
    "start_time": "2023-11-26T16:37:06.284Z"
   },
   {
    "duration": 21,
    "start_time": "2023-11-26T16:37:06.869Z"
   },
   {
    "duration": 21,
    "start_time": "2023-11-26T16:37:07.313Z"
   },
   {
    "duration": 19,
    "start_time": "2023-11-26T16:37:07.744Z"
   },
   {
    "duration": 15,
    "start_time": "2023-11-26T16:37:08.479Z"
   },
   {
    "duration": 3,
    "start_time": "2023-11-26T16:37:11.722Z"
   },
   {
    "duration": 3,
    "start_time": "2023-11-26T16:37:12.294Z"
   },
   {
    "duration": 3,
    "start_time": "2023-11-26T16:37:13.031Z"
   },
   {
    "duration": 3,
    "start_time": "2023-11-26T16:37:15.413Z"
   },
   {
    "duration": 16,
    "start_time": "2023-11-26T16:37:16.020Z"
   },
   {
    "duration": 14,
    "start_time": "2023-11-26T16:37:43.624Z"
   },
   {
    "duration": 15,
    "start_time": "2023-11-26T16:37:56.004Z"
   },
   {
    "duration": 3,
    "start_time": "2023-11-26T16:40:01.395Z"
   },
   {
    "duration": 13,
    "start_time": "2023-11-26T16:43:12.600Z"
   },
   {
    "duration": 22,
    "start_time": "2023-11-26T16:48:04.945Z"
   },
   {
    "duration": 21,
    "start_time": "2023-11-26T16:49:32.721Z"
   },
   {
    "duration": 4806,
    "start_time": "2023-11-26T16:50:27.249Z"
   },
   {
    "duration": 2331,
    "start_time": "2023-11-26T16:50:32.057Z"
   },
   {
    "duration": 154,
    "start_time": "2023-11-26T16:50:34.389Z"
   },
   {
    "duration": 143,
    "start_time": "2023-11-26T16:50:34.545Z"
   },
   {
    "duration": 134,
    "start_time": "2023-11-26T16:50:34.689Z"
   },
   {
    "duration": 4,
    "start_time": "2023-11-26T16:50:34.824Z"
   },
   {
    "duration": 76,
    "start_time": "2023-11-26T16:50:34.829Z"
   },
   {
    "duration": 74,
    "start_time": "2023-11-26T16:50:34.907Z"
   },
   {
    "duration": 79,
    "start_time": "2023-11-26T16:50:34.983Z"
   },
   {
    "duration": 815,
    "start_time": "2023-11-26T16:50:35.064Z"
   },
   {
    "duration": 933,
    "start_time": "2023-11-26T16:50:35.881Z"
   },
   {
    "duration": 799,
    "start_time": "2023-11-26T16:50:36.816Z"
   },
   {
    "duration": 389,
    "start_time": "2023-11-26T16:50:37.616Z"
   },
   {
    "duration": 361,
    "start_time": "2023-11-26T16:50:38.007Z"
   },
   {
    "duration": 330,
    "start_time": "2023-11-26T16:50:38.369Z"
   },
   {
    "duration": 779,
    "start_time": "2023-11-26T16:50:38.701Z"
   },
   {
    "duration": 17,
    "start_time": "2023-11-26T16:50:39.482Z"
   },
   {
    "duration": 60,
    "start_time": "2023-11-26T16:50:39.501Z"
   },
   {
    "duration": 106,
    "start_time": "2023-11-26T16:50:39.563Z"
   },
   {
    "duration": 89,
    "start_time": "2023-11-26T16:50:39.671Z"
   },
   {
    "duration": 113,
    "start_time": "2023-11-26T16:50:39.762Z"
   },
   {
    "duration": 17,
    "start_time": "2023-11-26T16:50:39.877Z"
   },
   {
    "duration": 64,
    "start_time": "2023-11-26T16:50:39.896Z"
   },
   {
    "duration": 6,
    "start_time": "2023-11-26T16:50:39.963Z"
   },
   {
    "duration": 3,
    "start_time": "2023-11-26T16:50:40.058Z"
   },
   {
    "duration": 3,
    "start_time": "2023-11-26T16:52:03.456Z"
   },
   {
    "duration": 159,
    "start_time": "2023-11-26T16:52:03.879Z"
   },
   {
    "duration": 13,
    "start_time": "2023-11-26T16:52:36.525Z"
   },
   {
    "duration": 3,
    "start_time": "2023-11-26T16:56:50.504Z"
   },
   {
    "duration": 4,
    "start_time": "2023-11-26T17:00:23.223Z"
   },
   {
    "duration": 5045,
    "start_time": "2023-11-26T17:00:36.870Z"
   },
   {
    "duration": 2433,
    "start_time": "2023-11-26T17:00:41.918Z"
   },
   {
    "duration": 171,
    "start_time": "2023-11-26T17:00:44.353Z"
   },
   {
    "duration": 146,
    "start_time": "2023-11-26T17:00:44.526Z"
   },
   {
    "duration": 155,
    "start_time": "2023-11-26T17:00:44.674Z"
   },
   {
    "duration": 4,
    "start_time": "2023-11-26T17:00:44.830Z"
   },
   {
    "duration": 89,
    "start_time": "2023-11-26T17:00:44.835Z"
   },
   {
    "duration": 80,
    "start_time": "2023-11-26T17:00:44.925Z"
   },
   {
    "duration": 83,
    "start_time": "2023-11-26T17:00:45.006Z"
   },
   {
    "duration": 860,
    "start_time": "2023-11-26T17:00:45.091Z"
   },
   {
    "duration": 864,
    "start_time": "2023-11-26T17:00:52.749Z"
   },
   {
    "duration": 966,
    "start_time": "2023-11-26T17:00:53.615Z"
   },
   {
    "duration": 404,
    "start_time": "2023-11-26T17:00:54.583Z"
   },
   {
    "duration": 338,
    "start_time": "2023-11-26T17:00:54.989Z"
   },
   {
    "duration": 387,
    "start_time": "2023-11-26T17:00:55.329Z"
   },
   {
    "duration": 646,
    "start_time": "2023-11-26T17:00:58.692Z"
   },
   {
    "duration": 4,
    "start_time": "2023-11-26T17:01:02.426Z"
   },
   {
    "duration": 176,
    "start_time": "2023-11-26T17:01:16.734Z"
   },
   {
    "duration": 60,
    "start_time": "2023-11-26T17:01:44.183Z"
   },
   {
    "duration": 200,
    "start_time": "2023-11-26T17:03:24.095Z"
   },
   {
    "duration": 36,
    "start_time": "2023-11-26T17:05:49.740Z"
   },
   {
    "duration": 22,
    "start_time": "2023-11-26T17:06:49.486Z"
   },
   {
    "duration": 32,
    "start_time": "2023-11-26T17:08:15.683Z"
   },
   {
    "duration": 19,
    "start_time": "2023-11-26T17:08:26.334Z"
   },
   {
    "duration": 26,
    "start_time": "2023-11-26T17:08:27.102Z"
   },
   {
    "duration": 22,
    "start_time": "2023-11-26T17:08:27.922Z"
   },
   {
    "duration": 83,
    "start_time": "2023-11-26T17:08:28.777Z"
   },
   {
    "duration": 20,
    "start_time": "2023-11-26T17:08:31.271Z"
   },
   {
    "duration": 30,
    "start_time": "2023-11-26T17:08:31.851Z"
   },
   {
    "duration": 81,
    "start_time": "2023-11-26T17:09:27.183Z"
   },
   {
    "duration": 132,
    "start_time": "2023-11-26T17:09:35.733Z"
   },
   {
    "duration": 22,
    "start_time": "2023-11-26T17:09:40.389Z"
   },
   {
    "duration": 3,
    "start_time": "2023-11-26T17:29:22.984Z"
   },
   {
    "duration": 15,
    "start_time": "2023-11-26T17:31:40.049Z"
   },
   {
    "duration": 20,
    "start_time": "2023-11-26T17:32:44.518Z"
   },
   {
    "duration": 4,
    "start_time": "2023-11-26T17:33:28.806Z"
   },
   {
    "duration": 21,
    "start_time": "2023-11-26T17:33:35.988Z"
   },
   {
    "duration": 3,
    "start_time": "2023-11-26T17:35:35.325Z"
   },
   {
    "duration": 5,
    "start_time": "2023-11-26T17:35:39.696Z"
   },
   {
    "duration": 3,
    "start_time": "2023-11-26T17:35:40.509Z"
   },
   {
    "duration": 4,
    "start_time": "2023-11-26T17:35:48.791Z"
   },
   {
    "duration": 18,
    "start_time": "2023-11-26T17:35:50.292Z"
   },
   {
    "duration": 14,
    "start_time": "2023-11-26T17:37:12.680Z"
   },
   {
    "duration": 4840,
    "start_time": "2023-11-26T17:37:32.732Z"
   },
   {
    "duration": 2346,
    "start_time": "2023-11-26T17:37:37.575Z"
   },
   {
    "duration": 150,
    "start_time": "2023-11-26T17:37:39.922Z"
   },
   {
    "duration": 133,
    "start_time": "2023-11-26T17:37:40.073Z"
   },
   {
    "duration": 136,
    "start_time": "2023-11-26T17:37:40.208Z"
   },
   {
    "duration": 4,
    "start_time": "2023-11-26T17:37:40.345Z"
   },
   {
    "duration": 75,
    "start_time": "2023-11-26T17:37:40.350Z"
   },
   {
    "duration": 76,
    "start_time": "2023-11-26T17:37:40.427Z"
   },
   {
    "duration": 79,
    "start_time": "2023-11-26T17:37:40.505Z"
   },
   {
    "duration": 801,
    "start_time": "2023-11-26T17:37:40.586Z"
   },
   {
    "duration": 932,
    "start_time": "2023-11-26T17:37:41.389Z"
   },
   {
    "duration": 750,
    "start_time": "2023-11-26T17:37:42.322Z"
   },
   {
    "duration": 347,
    "start_time": "2023-11-26T17:37:43.074Z"
   },
   {
    "duration": 354,
    "start_time": "2023-11-26T17:37:43.423Z"
   },
   {
    "duration": 349,
    "start_time": "2023-11-26T17:37:50.550Z"
   },
   {
    "duration": 777,
    "start_time": "2023-11-26T17:37:50.901Z"
   },
   {
    "duration": 17,
    "start_time": "2023-11-26T17:37:51.680Z"
   },
   {
    "duration": 14,
    "start_time": "2023-11-26T17:37:52.391Z"
   },
   {
    "duration": 19,
    "start_time": "2023-11-26T17:37:53.935Z"
   },
   {
    "duration": 45,
    "start_time": "2023-11-26T17:37:54.415Z"
   },
   {
    "duration": 20,
    "start_time": "2023-11-26T17:37:54.859Z"
   },
   {
    "duration": 72,
    "start_time": "2023-11-26T17:37:55.987Z"
   },
   {
    "duration": 3,
    "start_time": "2023-11-26T17:38:01.220Z"
   },
   {
    "duration": 3,
    "start_time": "2023-11-26T17:38:01.884Z"
   },
   {
    "duration": 3,
    "start_time": "2023-11-26T17:38:02.408Z"
   },
   {
    "duration": 4,
    "start_time": "2023-11-26T17:38:07.432Z"
   },
   {
    "duration": 158,
    "start_time": "2023-11-26T17:38:08.976Z"
   },
   {
    "duration": 15,
    "start_time": "2023-11-26T17:46:17.131Z"
   },
   {
    "duration": 490,
    "start_time": "2023-11-26T17:46:39.974Z"
   },
   {
    "duration": 11,
    "start_time": "2023-11-26T17:46:53.487Z"
   },
   {
    "duration": 3,
    "start_time": "2023-11-26T17:50:18.204Z"
   },
   {
    "duration": 23,
    "start_time": "2023-11-26T17:50:34.972Z"
   },
   {
    "duration": 22,
    "start_time": "2023-11-26T17:51:47.138Z"
   },
   {
    "duration": 19,
    "start_time": "2023-11-26T17:53:18.369Z"
   },
   {
    "duration": 18,
    "start_time": "2023-11-26T17:53:26.008Z"
   },
   {
    "duration": 17,
    "start_time": "2023-11-26T17:53:44.322Z"
   },
   {
    "duration": 23,
    "start_time": "2023-11-26T17:53:53.948Z"
   },
   {
    "duration": 18,
    "start_time": "2023-11-26T17:54:23.283Z"
   },
   {
    "duration": 18,
    "start_time": "2023-11-26T17:55:07.434Z"
   },
   {
    "duration": 18,
    "start_time": "2023-11-26T17:55:22.098Z"
   },
   {
    "duration": 416,
    "start_time": "2023-11-26T17:57:56.462Z"
   },
   {
    "duration": 13,
    "start_time": "2023-11-26T17:57:57.060Z"
   },
   {
    "duration": 3,
    "start_time": "2023-11-26T17:58:04.285Z"
   },
   {
    "duration": 1242,
    "start_time": "2023-11-26T17:58:24.049Z"
   },
   {
    "duration": 269,
    "start_time": "2023-11-26T17:59:10.106Z"
   },
   {
    "duration": 98,
    "start_time": "2023-11-26T17:59:10.463Z"
   },
   {
    "duration": 3,
    "start_time": "2023-11-26T17:59:10.803Z"
   },
   {
    "duration": 19,
    "start_time": "2023-11-26T17:59:11.436Z"
   },
   {
    "duration": 288,
    "start_time": "2023-11-26T18:00:00.894Z"
   },
   {
    "duration": 11,
    "start_time": "2023-11-26T18:00:20.971Z"
   },
   {
    "duration": 18,
    "start_time": "2023-11-26T18:01:00.774Z"
   },
   {
    "duration": 3,
    "start_time": "2023-11-26T18:01:21.720Z"
   },
   {
    "duration": 449,
    "start_time": "2023-11-26T18:01:22.326Z"
   },
   {
    "duration": 10,
    "start_time": "2023-11-26T18:01:23.492Z"
   },
   {
    "duration": 3,
    "start_time": "2023-11-26T18:01:24.050Z"
   },
   {
    "duration": 18,
    "start_time": "2023-11-26T18:01:24.474Z"
   },
   {
    "duration": 3,
    "start_time": "2023-11-26T18:01:39.602Z"
   },
   {
    "duration": 3,
    "start_time": "2023-11-26T18:01:41.346Z"
   },
   {
    "duration": 4,
    "start_time": "2023-11-26T18:01:42.596Z"
   },
   {
    "duration": 1403,
    "start_time": "2023-11-26T18:03:32.971Z"
   },
   {
    "duration": 361,
    "start_time": "2023-11-26T18:04:16.908Z"
   },
   {
    "duration": 10,
    "start_time": "2023-11-26T18:04:17.579Z"
   },
   {
    "duration": 3,
    "start_time": "2023-11-26T18:04:19.926Z"
   },
   {
    "duration": 17,
    "start_time": "2023-11-26T18:04:26.019Z"
   },
   {
    "duration": 3,
    "start_time": "2023-11-26T18:05:05.379Z"
   },
   {
    "duration": 2,
    "start_time": "2023-11-26T18:06:03.351Z"
   },
   {
    "duration": 3,
    "start_time": "2023-11-26T18:06:04.022Z"
   },
   {
    "duration": 3,
    "start_time": "2023-11-26T18:06:14.802Z"
   },
   {
    "duration": 19,
    "start_time": "2023-11-26T18:06:15.559Z"
   },
   {
    "duration": 1320,
    "start_time": "2023-11-26T18:06:39.161Z"
   },
   {
    "duration": 1345,
    "start_time": "2023-11-26T18:07:27.414Z"
   },
   {
    "duration": 10,
    "start_time": "2023-11-26T18:08:59.135Z"
   },
   {
    "duration": 3,
    "start_time": "2023-11-26T18:09:03.945Z"
   },
   {
    "duration": 3,
    "start_time": "2023-11-26T18:09:04.924Z"
   },
   {
    "duration": 3,
    "start_time": "2023-11-26T18:09:05.677Z"
   },
   {
    "duration": 20,
    "start_time": "2023-11-26T18:09:06.665Z"
   },
   {
    "duration": 1307,
    "start_time": "2023-11-26T18:09:24.509Z"
   },
   {
    "duration": 4,
    "start_time": "2023-11-26T18:10:03.877Z"
   },
   {
    "duration": 1292,
    "start_time": "2023-11-26T18:10:24.003Z"
   },
   {
    "duration": 1328,
    "start_time": "2023-11-26T18:11:29.341Z"
   },
   {
    "duration": 1320,
    "start_time": "2023-11-26T18:12:23.054Z"
   },
   {
    "duration": 1338,
    "start_time": "2023-11-26T18:12:56.489Z"
   },
   {
    "duration": 4808,
    "start_time": "2023-11-26T18:13:09.348Z"
   },
   {
    "duration": 2297,
    "start_time": "2023-11-26T18:13:14.158Z"
   },
   {
    "duration": 167,
    "start_time": "2023-11-26T18:13:16.457Z"
   },
   {
    "duration": 134,
    "start_time": "2023-11-26T18:13:16.626Z"
   },
   {
    "duration": 139,
    "start_time": "2023-11-26T18:13:16.761Z"
   },
   {
    "duration": 3,
    "start_time": "2023-11-26T18:13:25.714Z"
   },
   {
    "duration": 70,
    "start_time": "2023-11-26T18:13:26.259Z"
   },
   {
    "duration": 63,
    "start_time": "2023-11-26T18:13:26.763Z"
   },
   {
    "duration": 71,
    "start_time": "2023-11-26T18:13:26.918Z"
   },
   {
    "duration": 795,
    "start_time": "2023-11-26T18:13:27.088Z"
   },
   {
    "duration": 812,
    "start_time": "2023-11-26T18:13:27.885Z"
   },
   {
    "duration": 890,
    "start_time": "2023-11-26T18:13:28.698Z"
   },
   {
    "duration": 330,
    "start_time": "2023-11-26T18:13:29.590Z"
   },
   {
    "duration": 356,
    "start_time": "2023-11-26T18:13:29.921Z"
   },
   {
    "duration": 322,
    "start_time": "2023-11-26T18:13:30.278Z"
   },
   {
    "duration": 601,
    "start_time": "2023-11-26T18:13:30.602Z"
   },
   {
    "duration": 561,
    "start_time": "2023-11-26T18:13:31.205Z"
   },
   {
    "duration": 9,
    "start_time": "2023-11-26T18:13:32.848Z"
   },
   {
    "duration": 3,
    "start_time": "2023-11-26T18:13:34.993Z"
   },
   {
    "duration": 155,
    "start_time": "2023-11-26T18:13:36.600Z"
   },
   {
    "duration": 3,
    "start_time": "2023-11-26T18:13:37.836Z"
   },
   {
    "duration": 17,
    "start_time": "2023-11-26T18:13:40.278Z"
   },
   {
    "duration": 13,
    "start_time": "2023-11-26T18:13:46.016Z"
   },
   {
    "duration": 4784,
    "start_time": "2023-11-26T18:15:50.146Z"
   },
   {
    "duration": 2290,
    "start_time": "2023-11-26T18:15:54.933Z"
   },
   {
    "duration": 154,
    "start_time": "2023-11-26T18:15:57.224Z"
   },
   {
    "duration": 130,
    "start_time": "2023-11-26T18:15:57.380Z"
   },
   {
    "duration": 132,
    "start_time": "2023-11-26T18:15:57.512Z"
   },
   {
    "duration": 4,
    "start_time": "2023-11-26T18:15:57.646Z"
   },
   {
    "duration": 68,
    "start_time": "2023-11-26T18:15:57.658Z"
   },
   {
    "duration": 76,
    "start_time": "2023-11-26T18:15:57.728Z"
   },
   {
    "duration": 77,
    "start_time": "2023-11-26T18:15:57.806Z"
   },
   {
    "duration": 785,
    "start_time": "2023-11-26T18:15:57.885Z"
   },
   {
    "duration": 789,
    "start_time": "2023-11-26T18:15:58.672Z"
   },
   {
    "duration": 862,
    "start_time": "2023-11-26T18:15:59.463Z"
   },
   {
    "duration": 370,
    "start_time": "2023-11-26T18:16:00.327Z"
   },
   {
    "duration": 329,
    "start_time": "2023-11-26T18:16:00.698Z"
   },
   {
    "duration": 363,
    "start_time": "2023-11-26T18:16:01.029Z"
   },
   {
    "duration": 612,
    "start_time": "2023-11-26T18:16:01.394Z"
   },
   {
    "duration": 555,
    "start_time": "2023-11-26T18:16:02.008Z"
   },
   {
    "duration": 104,
    "start_time": "2023-11-26T18:16:02.566Z"
   },
   {
    "duration": 3,
    "start_time": "2023-11-26T18:16:02.853Z"
   },
   {
    "duration": 151,
    "start_time": "2023-11-26T18:16:04.640Z"
   },
   {
    "duration": 3,
    "start_time": "2023-11-26T18:16:22.321Z"
   },
   {
    "duration": 18,
    "start_time": "2023-11-26T18:16:23.434Z"
   },
   {
    "duration": 13,
    "start_time": "2023-11-26T18:16:26.129Z"
   },
   {
    "duration": 11,
    "start_time": "2023-11-26T18:16:54.244Z"
   },
   {
    "duration": 1308,
    "start_time": "2023-11-26T18:17:02.260Z"
   },
   {
    "duration": 14,
    "start_time": "2023-11-26T18:17:06.537Z"
   },
   {
    "duration": 1267,
    "start_time": "2023-11-26T18:17:37.702Z"
   },
   {
    "duration": 1273,
    "start_time": "2023-11-26T18:18:27.357Z"
   },
   {
    "duration": 1295,
    "start_time": "2023-11-26T18:19:09.546Z"
   },
   {
    "duration": 1323,
    "start_time": "2023-11-26T18:19:34.052Z"
   },
   {
    "duration": 1286,
    "start_time": "2023-11-26T18:41:28.204Z"
   },
   {
    "duration": 1313,
    "start_time": "2023-11-26T18:41:36.568Z"
   },
   {
    "duration": 1358,
    "start_time": "2023-11-26T18:42:36.277Z"
   },
   {
    "duration": 1293,
    "start_time": "2023-11-26T18:43:08.973Z"
   },
   {
    "duration": 1323,
    "start_time": "2023-11-26T18:43:31.059Z"
   },
   {
    "duration": 1283,
    "start_time": "2023-11-26T18:43:38.476Z"
   },
   {
    "duration": 1280,
    "start_time": "2023-11-26T18:43:44.203Z"
   },
   {
    "duration": 58,
    "start_time": "2023-11-26T18:47:00.816Z"
   },
   {
    "duration": 3697,
    "start_time": "2023-11-27T15:11:01.082Z"
   },
   {
    "duration": 1466,
    "start_time": "2023-11-27T15:11:07.189Z"
   },
   {
    "duration": 0,
    "start_time": "2023-11-27T15:11:08.657Z"
   },
   {
    "duration": 575,
    "start_time": "2023-11-27T15:11:08.742Z"
   },
   {
    "duration": 257,
    "start_time": "2023-11-27T15:11:54.098Z"
   },
   {
    "duration": 48,
    "start_time": "2023-11-27T15:12:05.438Z"
   },
   {
    "duration": 6,
    "start_time": "2023-11-27T15:12:05.783Z"
   },
   {
    "duration": 2422,
    "start_time": "2023-11-27T15:12:11.855Z"
   },
   {
    "duration": 1480,
    "start_time": "2023-11-27T15:12:15.142Z"
   },
   {
    "duration": 2385,
    "start_time": "2023-11-27T15:12:25.646Z"
   },
   {
    "duration": 1496,
    "start_time": "2023-11-27T15:12:35.334Z"
   },
   {
    "duration": 529,
    "start_time": "2023-11-27T15:12:39.853Z"
   },
   {
    "duration": 146,
    "start_time": "2023-11-27T15:12:41.303Z"
   },
   {
    "duration": 560,
    "start_time": "2023-11-27T15:12:41.480Z"
   },
   {
    "duration": 3,
    "start_time": "2023-11-27T15:12:42.055Z"
   },
   {
    "duration": 71,
    "start_time": "2023-11-27T15:12:42.573Z"
   },
   {
    "duration": 63,
    "start_time": "2023-11-27T15:12:42.729Z"
   },
   {
    "duration": 65,
    "start_time": "2023-11-27T15:12:42.957Z"
   },
   {
    "duration": 899,
    "start_time": "2023-11-27T15:12:43.139Z"
   },
   {
    "duration": 829,
    "start_time": "2023-11-27T15:12:44.040Z"
   },
   {
    "duration": 786,
    "start_time": "2023-11-27T15:12:44.873Z"
   },
   {
    "duration": 546,
    "start_time": "2023-11-27T15:12:45.661Z"
   },
   {
    "duration": 360,
    "start_time": "2023-11-27T15:12:46.209Z"
   },
   {
    "duration": 342,
    "start_time": "2023-11-27T15:12:46.572Z"
   },
   {
    "duration": 660,
    "start_time": "2023-11-27T15:12:46.915Z"
   },
   {
    "duration": 3,
    "start_time": "2023-11-27T15:26:00.965Z"
   },
   {
    "duration": 541,
    "start_time": "2023-11-27T15:26:02.532Z"
   },
   {
    "duration": 10,
    "start_time": "2023-11-27T15:26:05.302Z"
   },
   {
    "duration": 4,
    "start_time": "2023-11-27T15:26:53.495Z"
   },
   {
    "duration": 4,
    "start_time": "2023-11-27T15:26:56.246Z"
   },
   {
    "duration": 10,
    "start_time": "2023-11-27T15:27:05.094Z"
   },
   {
    "duration": 3,
    "start_time": "2023-11-27T15:27:23.686Z"
   },
   {
    "duration": 2,
    "start_time": "2023-11-27T15:27:38.905Z"
   },
   {
    "duration": 3,
    "start_time": "2023-11-27T15:27:43.337Z"
   },
   {
    "duration": 19,
    "start_time": "2023-11-27T15:28:07.925Z"
   },
   {
    "duration": 115,
    "start_time": "2023-11-27T15:33:25.600Z"
   },
   {
    "duration": 25,
    "start_time": "2023-11-27T15:33:39.871Z"
   },
   {
    "duration": 17,
    "start_time": "2023-11-27T15:36:36.423Z"
   },
   {
    "duration": 17,
    "start_time": "2023-11-27T15:37:00.791Z"
   },
   {
    "duration": 3,
    "start_time": "2023-11-27T15:37:40.379Z"
   },
   {
    "duration": 2,
    "start_time": "2023-11-27T15:37:40.985Z"
   },
   {
    "duration": 4,
    "start_time": "2023-11-27T15:37:41.457Z"
   },
   {
    "duration": 19,
    "start_time": "2023-11-27T15:37:42.093Z"
   },
   {
    "duration": 3,
    "start_time": "2023-11-27T15:37:52.936Z"
   },
   {
    "duration": 2,
    "start_time": "2023-11-27T15:37:53.662Z"
   },
   {
    "duration": 3,
    "start_time": "2023-11-27T15:37:53.989Z"
   },
   {
    "duration": 18,
    "start_time": "2023-11-27T15:37:54.306Z"
   },
   {
    "duration": 3,
    "start_time": "2023-11-27T15:37:59.441Z"
   },
   {
    "duration": 2,
    "start_time": "2023-11-27T15:37:59.787Z"
   },
   {
    "duration": 3,
    "start_time": "2023-11-27T15:38:00.103Z"
   },
   {
    "duration": 18,
    "start_time": "2023-11-27T15:38:00.489Z"
   },
   {
    "duration": 4,
    "start_time": "2023-11-27T15:38:20.932Z"
   },
   {
    "duration": 3,
    "start_time": "2023-11-27T15:38:21.320Z"
   },
   {
    "duration": 4,
    "start_time": "2023-11-27T15:38:21.699Z"
   },
   {
    "duration": 19,
    "start_time": "2023-11-27T15:38:22.185Z"
   },
   {
    "duration": 18,
    "start_time": "2023-11-27T15:39:29.470Z"
   },
   {
    "duration": 17,
    "start_time": "2023-11-27T15:39:49.416Z"
   },
   {
    "duration": 18,
    "start_time": "2023-11-27T15:40:13.909Z"
   },
   {
    "duration": 16,
    "start_time": "2023-11-27T15:40:39.059Z"
   },
   {
    "duration": 18,
    "start_time": "2023-11-27T15:42:40.607Z"
   },
   {
    "duration": 18,
    "start_time": "2023-11-27T15:43:01.740Z"
   },
   {
    "duration": 18,
    "start_time": "2023-11-27T15:43:12.107Z"
   },
   {
    "duration": 3,
    "start_time": "2023-11-27T15:43:20.168Z"
   },
   {
    "duration": 2,
    "start_time": "2023-11-27T15:43:20.532Z"
   },
   {
    "duration": 3,
    "start_time": "2023-11-27T15:43:20.892Z"
   },
   {
    "duration": 17,
    "start_time": "2023-11-27T15:43:21.703Z"
   },
   {
    "duration": 3,
    "start_time": "2023-11-27T15:43:44.937Z"
   },
   {
    "duration": 4,
    "start_time": "2023-11-27T15:43:45.221Z"
   },
   {
    "duration": 3,
    "start_time": "2023-11-27T15:43:45.585Z"
   },
   {
    "duration": 18,
    "start_time": "2023-11-27T15:43:45.923Z"
   },
   {
    "duration": 2437,
    "start_time": "2023-11-27T15:43:59.481Z"
   },
   {
    "duration": 1446,
    "start_time": "2023-11-27T15:44:01.921Z"
   },
   {
    "duration": 166,
    "start_time": "2023-11-27T15:44:03.369Z"
   },
   {
    "duration": 133,
    "start_time": "2023-11-27T15:44:03.537Z"
   },
   {
    "duration": 139,
    "start_time": "2023-11-27T15:44:03.673Z"
   },
   {
    "duration": 4,
    "start_time": "2023-11-27T15:44:03.814Z"
   },
   {
    "duration": 77,
    "start_time": "2023-11-27T15:44:03.820Z"
   },
   {
    "duration": 74,
    "start_time": "2023-11-27T15:44:03.899Z"
   },
   {
    "duration": 98,
    "start_time": "2023-11-27T15:44:03.975Z"
   },
   {
    "duration": 907,
    "start_time": "2023-11-27T15:44:04.076Z"
   },
   {
    "duration": 827,
    "start_time": "2023-11-27T15:44:04.984Z"
   },
   {
    "duration": 796,
    "start_time": "2023-11-27T15:44:05.812Z"
   },
   {
    "duration": 516,
    "start_time": "2023-11-27T15:44:06.610Z"
   },
   {
    "duration": 362,
    "start_time": "2023-11-27T15:44:07.127Z"
   },
   {
    "duration": 334,
    "start_time": "2023-11-27T15:44:07.490Z"
   },
   {
    "duration": 621,
    "start_time": "2023-11-27T15:44:07.826Z"
   },
   {
    "duration": 3,
    "start_time": "2023-11-27T15:44:08.449Z"
   },
   {
    "duration": 519,
    "start_time": "2023-11-27T15:44:08.454Z"
   },
   {
    "duration": 102,
    "start_time": "2023-11-27T15:44:08.976Z"
   },
   {
    "duration": 4,
    "start_time": "2023-11-27T15:44:09.079Z"
   },
   {
    "duration": 11,
    "start_time": "2023-11-27T15:44:09.084Z"
   },
   {
    "duration": 4,
    "start_time": "2023-11-27T15:44:09.097Z"
   },
   {
    "duration": 23,
    "start_time": "2023-11-27T15:44:09.102Z"
   },
   {
    "duration": 1494,
    "start_time": "2023-11-27T15:44:09.128Z"
   },
   {
    "duration": 0,
    "start_time": "2023-11-27T15:44:10.623Z"
   },
   {
    "duration": 0,
    "start_time": "2023-11-27T15:44:10.625Z"
   },
   {
    "duration": 17,
    "start_time": "2023-11-27T15:45:58.481Z"
   },
   {
    "duration": 19,
    "start_time": "2023-11-27T15:46:18.498Z"
   },
   {
    "duration": 4,
    "start_time": "2023-11-27T15:46:40.531Z"
   },
   {
    "duration": 2,
    "start_time": "2023-11-27T15:46:40.898Z"
   },
   {
    "duration": 3,
    "start_time": "2023-11-27T15:46:41.197Z"
   },
   {
    "duration": 17,
    "start_time": "2023-11-27T15:46:41.648Z"
   },
   {
    "duration": 17,
    "start_time": "2023-11-27T15:47:13.197Z"
   },
   {
    "duration": 3,
    "start_time": "2023-11-27T15:48:13.912Z"
   },
   {
    "duration": 1390,
    "start_time": "2023-11-27T15:48:16.486Z"
   },
   {
    "duration": 18,
    "start_time": "2023-11-27T15:49:05.549Z"
   },
   {
    "duration": 2463,
    "start_time": "2023-11-27T15:49:25.424Z"
   },
   {
    "duration": 1450,
    "start_time": "2023-11-27T15:49:27.889Z"
   },
   {
    "duration": 161,
    "start_time": "2023-11-27T15:49:29.341Z"
   },
   {
    "duration": 141,
    "start_time": "2023-11-27T15:49:29.504Z"
   },
   {
    "duration": 140,
    "start_time": "2023-11-27T15:49:29.646Z"
   },
   {
    "duration": 3,
    "start_time": "2023-11-27T15:49:39.503Z"
   },
   {
    "duration": 67,
    "start_time": "2023-11-27T15:49:39.821Z"
   },
   {
    "duration": 74,
    "start_time": "2023-11-27T15:49:39.998Z"
   },
   {
    "duration": 69,
    "start_time": "2023-11-27T15:49:40.160Z"
   },
   {
    "duration": 909,
    "start_time": "2023-11-27T15:49:40.347Z"
   },
   {
    "duration": 862,
    "start_time": "2023-11-27T15:49:41.258Z"
   },
   {
    "duration": 805,
    "start_time": "2023-11-27T15:49:42.121Z"
   },
   {
    "duration": 505,
    "start_time": "2023-11-27T15:49:42.928Z"
   },
   {
    "duration": 387,
    "start_time": "2023-11-27T15:49:43.434Z"
   },
   {
    "duration": 426,
    "start_time": "2023-11-27T15:49:43.822Z"
   },
   {
    "duration": 645,
    "start_time": "2023-11-27T15:49:44.250Z"
   },
   {
    "duration": 3,
    "start_time": "2023-11-27T15:49:44.897Z"
   },
   {
    "duration": 380,
    "start_time": "2023-11-27T15:49:44.902Z"
   },
   {
    "duration": 92,
    "start_time": "2023-11-27T15:49:45.284Z"
   },
   {
    "duration": 109,
    "start_time": "2023-11-27T15:49:45.378Z"
   },
   {
    "duration": 22,
    "start_time": "2023-11-27T15:49:45.489Z"
   },
   {
    "duration": 15,
    "start_time": "2023-11-27T15:49:45.513Z"
   },
   {
    "duration": 33,
    "start_time": "2023-11-27T15:49:45.530Z"
   },
   {
    "duration": 3,
    "start_time": "2023-11-27T15:49:50.665Z"
   },
   {
    "duration": 1390,
    "start_time": "2023-11-27T15:49:51.434Z"
   },
   {
    "duration": 1368,
    "start_time": "2023-11-27T15:49:54.025Z"
   },
   {
    "duration": 127,
    "start_time": "2023-11-27T15:50:40.185Z"
   },
   {
    "duration": 2411,
    "start_time": "2023-11-27T15:51:51.424Z"
   },
   {
    "duration": 1419,
    "start_time": "2023-11-27T15:51:53.838Z"
   },
   {
    "duration": 160,
    "start_time": "2023-11-27T15:51:55.259Z"
   },
   {
    "duration": 134,
    "start_time": "2023-11-27T15:51:55.421Z"
   },
   {
    "duration": 144,
    "start_time": "2023-11-27T15:52:51.829Z"
   },
   {
    "duration": 3,
    "start_time": "2023-11-27T15:52:51.978Z"
   },
   {
    "duration": 68,
    "start_time": "2023-11-27T15:52:52.135Z"
   },
   {
    "duration": 69,
    "start_time": "2023-11-27T15:52:52.291Z"
   },
   {
    "duration": 66,
    "start_time": "2023-11-27T15:52:52.455Z"
   },
   {
    "duration": 885,
    "start_time": "2023-11-27T15:52:52.612Z"
   },
   {
    "duration": 833,
    "start_time": "2023-11-27T15:52:53.500Z"
   },
   {
    "duration": 774,
    "start_time": "2023-11-27T15:52:54.335Z"
   },
   {
    "duration": 503,
    "start_time": "2023-11-27T15:52:55.111Z"
   },
   {
    "duration": 339,
    "start_time": "2023-11-27T15:52:55.616Z"
   },
   {
    "duration": 359,
    "start_time": "2023-11-27T15:52:55.957Z"
   },
   {
    "duration": 650,
    "start_time": "2023-11-27T15:52:56.317Z"
   },
   {
    "duration": 5,
    "start_time": "2023-11-27T15:53:04.859Z"
   },
   {
    "duration": 426,
    "start_time": "2023-11-27T15:53:14.860Z"
   },
   {
    "duration": 87,
    "start_time": "2023-11-27T15:53:15.288Z"
   },
   {
    "duration": 2,
    "start_time": "2023-11-27T15:53:17.688Z"
   },
   {
    "duration": 2,
    "start_time": "2023-11-27T15:53:17.872Z"
   },
   {
    "duration": 3,
    "start_time": "2023-11-27T15:53:18.896Z"
   },
   {
    "duration": 18,
    "start_time": "2023-11-27T15:53:21.592Z"
   },
   {
    "duration": 2,
    "start_time": "2023-11-27T15:53:24.573Z"
   },
   {
    "duration": 1327,
    "start_time": "2023-11-27T15:53:24.748Z"
   },
   {
    "duration": 115,
    "start_time": "2023-11-27T15:53:27.128Z"
   },
   {
    "duration": 17,
    "start_time": "2023-11-27T15:53:53.075Z"
   },
   {
    "duration": 3,
    "start_time": "2023-11-27T15:54:21.860Z"
   },
   {
    "duration": 3,
    "start_time": "2023-11-27T15:54:23.435Z"
   },
   {
    "duration": 1480,
    "start_time": "2023-11-27T15:54:24.281Z"
   },
   {
    "duration": 19,
    "start_time": "2023-11-27T15:54:25.763Z"
   },
   {
    "duration": 12,
    "start_time": "2023-11-27T15:54:32.770Z"
   },
   {
    "duration": 19,
    "start_time": "2023-11-27T15:56:01.313Z"
   },
   {
    "duration": 2468,
    "start_time": "2023-11-27T15:56:39.274Z"
   },
   {
    "duration": 1421,
    "start_time": "2023-11-27T15:56:41.745Z"
   },
   {
    "duration": 157,
    "start_time": "2023-11-27T15:56:43.168Z"
   },
   {
    "duration": 139,
    "start_time": "2023-11-27T15:56:43.327Z"
   },
   {
    "duration": 153,
    "start_time": "2023-11-27T15:56:43.990Z"
   },
   {
    "duration": 4,
    "start_time": "2023-11-27T15:56:44.281Z"
   },
   {
    "duration": 68,
    "start_time": "2023-11-27T15:56:44.517Z"
   },
   {
    "duration": 63,
    "start_time": "2023-11-27T15:56:44.719Z"
   },
   {
    "duration": 64,
    "start_time": "2023-11-27T15:56:44.908Z"
   },
   {
    "duration": 904,
    "start_time": "2023-11-27T15:56:45.117Z"
   },
   {
    "duration": 872,
    "start_time": "2023-11-27T15:56:46.024Z"
   },
   {
    "duration": 845,
    "start_time": "2023-11-27T15:56:46.898Z"
   },
   {
    "duration": 528,
    "start_time": "2023-11-27T15:56:47.745Z"
   },
   {
    "duration": 349,
    "start_time": "2023-11-27T15:56:48.275Z"
   },
   {
    "duration": 381,
    "start_time": "2023-11-27T15:56:48.625Z"
   },
   {
    "duration": 632,
    "start_time": "2023-11-27T15:56:49.007Z"
   },
   {
    "duration": 4,
    "start_time": "2023-11-27T15:56:49.641Z"
   },
   {
    "duration": 436,
    "start_time": "2023-11-27T15:56:49.646Z"
   },
   {
    "duration": 93,
    "start_time": "2023-11-27T15:56:50.087Z"
   },
   {
    "duration": 38,
    "start_time": "2023-11-27T15:56:50.181Z"
   },
   {
    "duration": 15,
    "start_time": "2023-11-27T15:56:50.221Z"
   },
   {
    "duration": 15,
    "start_time": "2023-11-27T15:56:50.237Z"
   },
   {
    "duration": 42,
    "start_time": "2023-11-27T15:56:50.254Z"
   },
   {
    "duration": 15,
    "start_time": "2023-11-27T15:56:50.298Z"
   },
   {
    "duration": 3,
    "start_time": "2023-11-27T15:56:53.210Z"
   },
   {
    "duration": 1376,
    "start_time": "2023-11-27T15:56:55.206Z"
   },
   {
    "duration": 115,
    "start_time": "2023-11-27T15:57:04.742Z"
   },
   {
    "duration": 80,
    "start_time": "2023-11-27T15:59:30.981Z"
   },
   {
    "duration": 1381,
    "start_time": "2023-11-27T15:59:39.075Z"
   },
   {
    "duration": 1399,
    "start_time": "2023-11-27T16:00:16.832Z"
   },
   {
    "duration": 1384,
    "start_time": "2023-11-27T16:01:15.351Z"
   },
   {
    "duration": 1333,
    "start_time": "2023-11-27T16:01:45.332Z"
   },
   {
    "duration": 78,
    "start_time": "2023-11-27T16:03:11.088Z"
   },
   {
    "duration": 82,
    "start_time": "2023-11-27T16:03:21.912Z"
   },
   {
    "duration": 1377,
    "start_time": "2023-11-27T16:03:34.297Z"
   },
   {
    "duration": 1394,
    "start_time": "2023-11-27T16:03:42.879Z"
   },
   {
    "duration": 1407,
    "start_time": "2023-11-27T16:03:52.430Z"
   },
   {
    "duration": 12,
    "start_time": "2023-11-27T16:05:08.693Z"
   },
   {
    "duration": 25,
    "start_time": "2023-11-27T16:05:42.778Z"
   },
   {
    "duration": 1385,
    "start_time": "2023-11-27T16:06:11.140Z"
   },
   {
    "duration": 2,
    "start_time": "2023-11-27T16:06:37.297Z"
   },
   {
    "duration": 1343,
    "start_time": "2023-11-27T16:06:37.805Z"
   },
   {
    "duration": 22,
    "start_time": "2023-11-27T16:06:47.496Z"
   },
   {
    "duration": 3,
    "start_time": "2023-11-27T16:06:59.092Z"
   },
   {
    "duration": 1366,
    "start_time": "2023-11-27T16:06:59.566Z"
   },
   {
    "duration": 3,
    "start_time": "2023-11-27T16:07:09.678Z"
   },
   {
    "duration": 1362,
    "start_time": "2023-11-27T16:07:10.161Z"
   },
   {
    "duration": 17,
    "start_time": "2023-11-27T16:07:19.957Z"
   },
   {
    "duration": 2486,
    "start_time": "2023-11-27T16:07:35.697Z"
   },
   {
    "duration": 1452,
    "start_time": "2023-11-27T16:07:38.186Z"
   },
   {
    "duration": 156,
    "start_time": "2023-11-27T16:07:39.639Z"
   },
   {
    "duration": 132,
    "start_time": "2023-11-27T16:07:39.797Z"
   },
   {
    "duration": 138,
    "start_time": "2023-11-27T16:07:39.931Z"
   },
   {
    "duration": 7,
    "start_time": "2023-11-27T16:07:40.070Z"
   },
   {
    "duration": 74,
    "start_time": "2023-11-27T16:07:40.078Z"
   },
   {
    "duration": 80,
    "start_time": "2023-11-27T16:07:40.153Z"
   },
   {
    "duration": 101,
    "start_time": "2023-11-27T16:07:40.236Z"
   },
   {
    "duration": 928,
    "start_time": "2023-11-27T16:07:40.340Z"
   },
   {
    "duration": 842,
    "start_time": "2023-11-27T16:07:41.270Z"
   },
   {
    "duration": 796,
    "start_time": "2023-11-27T16:07:42.114Z"
   },
   {
    "duration": 504,
    "start_time": "2023-11-27T16:07:42.911Z"
   },
   {
    "duration": 430,
    "start_time": "2023-11-27T16:07:43.417Z"
   },
   {
    "duration": 382,
    "start_time": "2023-11-27T16:07:43.849Z"
   },
   {
    "duration": 651,
    "start_time": "2023-11-27T16:07:44.233Z"
   },
   {
    "duration": 4,
    "start_time": "2023-11-27T16:07:59.321Z"
   },
   {
    "duration": 345,
    "start_time": "2023-11-27T16:07:59.640Z"
   },
   {
    "duration": 11,
    "start_time": "2023-11-27T16:08:32.922Z"
   },
   {
    "duration": 5,
    "start_time": "2023-11-27T16:08:36.199Z"
   },
   {
    "duration": 2,
    "start_time": "2023-11-27T16:08:38.129Z"
   },
   {
    "duration": 4,
    "start_time": "2023-11-27T16:08:38.423Z"
   },
   {
    "duration": 18,
    "start_time": "2023-11-27T16:08:38.833Z"
   },
   {
    "duration": 3,
    "start_time": "2023-11-27T16:08:44.996Z"
   },
   {
    "duration": 1403,
    "start_time": "2023-11-27T16:08:45.829Z"
   },
   {
    "duration": 3,
    "start_time": "2023-11-27T16:08:48.691Z"
   },
   {
    "duration": 1416,
    "start_time": "2023-11-27T16:08:49.560Z"
   },
   {
    "duration": 3,
    "start_time": "2023-11-27T16:08:52.834Z"
   },
   {
    "duration": 1382,
    "start_time": "2023-11-27T16:08:53.297Z"
   },
   {
    "duration": 154,
    "start_time": "2023-11-27T16:09:04.087Z"
   },
   {
    "duration": 2458,
    "start_time": "2023-11-27T16:10:17.634Z"
   },
   {
    "duration": 1466,
    "start_time": "2023-11-27T16:10:20.094Z"
   },
   {
    "duration": 170,
    "start_time": "2023-11-27T16:10:21.562Z"
   },
   {
    "duration": 148,
    "start_time": "2023-11-27T16:10:21.734Z"
   },
   {
    "duration": 143,
    "start_time": "2023-11-27T16:10:21.884Z"
   },
   {
    "duration": 4,
    "start_time": "2023-11-27T16:10:22.030Z"
   },
   {
    "duration": 90,
    "start_time": "2023-11-27T16:10:22.036Z"
   },
   {
    "duration": 80,
    "start_time": "2023-11-27T16:10:22.128Z"
   },
   {
    "duration": 86,
    "start_time": "2023-11-27T16:10:22.210Z"
   },
   {
    "duration": 1062,
    "start_time": "2023-11-27T16:10:22.300Z"
   },
   {
    "duration": 862,
    "start_time": "2023-11-27T16:10:23.364Z"
   },
   {
    "duration": 810,
    "start_time": "2023-11-27T16:10:24.228Z"
   },
   {
    "duration": 577,
    "start_time": "2023-11-27T16:10:25.040Z"
   },
   {
    "duration": 385,
    "start_time": "2023-11-27T16:10:25.619Z"
   },
   {
    "duration": 351,
    "start_time": "2023-11-27T16:10:26.006Z"
   },
   {
    "duration": 642,
    "start_time": "2023-11-27T16:10:26.358Z"
   },
   {
    "duration": 3,
    "start_time": "2023-11-27T16:10:27.002Z"
   },
   {
    "duration": 345,
    "start_time": "2023-11-27T16:10:45.733Z"
   },
   {
    "duration": 93,
    "start_time": "2023-11-27T16:10:46.084Z"
   },
   {
    "duration": 4,
    "start_time": "2023-11-27T16:10:47.022Z"
   },
   {
    "duration": 2,
    "start_time": "2023-11-27T16:10:47.181Z"
   },
   {
    "duration": 3,
    "start_time": "2023-11-27T16:10:47.371Z"
   },
   {
    "duration": 18,
    "start_time": "2023-11-27T16:10:48.958Z"
   },
   {
    "duration": 3,
    "start_time": "2023-11-27T16:10:50.328Z"
   },
   {
    "duration": 1422,
    "start_time": "2023-11-27T16:10:50.687Z"
   },
   {
    "duration": 3,
    "start_time": "2023-11-27T16:10:52.111Z"
   },
   {
    "duration": 1409,
    "start_time": "2023-11-27T16:10:52.153Z"
   },
   {
    "duration": 9,
    "start_time": "2023-11-27T16:10:53.564Z"
   },
   {
    "duration": 1393,
    "start_time": "2023-11-27T16:10:53.574Z"
   },
   {
    "duration": 5043,
    "start_time": "2023-11-27T16:25:11.782Z"
   },
   {
    "duration": 5017,
    "start_time": "2023-11-27T16:26:20.125Z"
   },
   {
    "duration": 5077,
    "start_time": "2023-11-27T16:26:29.237Z"
   },
   {
    "duration": 4929,
    "start_time": "2023-11-27T16:26:37.055Z"
   },
   {
    "duration": 5100,
    "start_time": "2023-11-27T16:26:48.196Z"
   },
   {
    "duration": 5091,
    "start_time": "2023-11-27T16:27:02.840Z"
   },
   {
    "duration": 4985,
    "start_time": "2023-11-27T16:27:22.696Z"
   },
   {
    "duration": 4843,
    "start_time": "2023-11-27T16:28:51.201Z"
   },
   {
    "duration": 4998,
    "start_time": "2023-11-27T16:29:31.775Z"
   },
   {
    "duration": 605,
    "start_time": "2023-11-27T16:30:17.053Z"
   },
   {
    "duration": 4968,
    "start_time": "2023-11-27T16:31:17.129Z"
   },
   {
    "duration": 1922,
    "start_time": "2023-11-27T16:34:24.690Z"
   },
   {
    "duration": 90,
    "start_time": "2023-11-27T16:34:46.862Z"
   },
   {
    "duration": 3479,
    "start_time": "2023-11-27T16:35:25.676Z"
   },
   {
    "duration": 3515,
    "start_time": "2023-11-27T16:35:35.558Z"
   },
   {
    "duration": 3547,
    "start_time": "2023-11-27T16:35:46.834Z"
   },
   {
    "duration": 4985,
    "start_time": "2023-11-27T16:36:34.990Z"
   },
   {
    "duration": 5015,
    "start_time": "2023-11-27T16:36:50.393Z"
   },
   {
    "duration": 4910,
    "start_time": "2023-11-27T16:37:18.094Z"
   },
   {
    "duration": 4959,
    "start_time": "2023-11-27T16:38:34.227Z"
   },
   {
    "duration": 4998,
    "start_time": "2023-11-27T16:38:55.366Z"
   },
   {
    "duration": 4932,
    "start_time": "2023-11-27T16:40:10.919Z"
   },
   {
    "duration": 4971,
    "start_time": "2023-11-27T16:41:39.125Z"
   },
   {
    "duration": 5029,
    "start_time": "2023-11-27T16:41:51.141Z"
   },
   {
    "duration": 4991,
    "start_time": "2023-11-27T16:42:03.728Z"
   },
   {
    "duration": 3,
    "start_time": "2023-11-27T17:29:06.550Z"
   },
   {
    "duration": 2400,
    "start_time": "2023-11-27T17:37:15.958Z"
   },
   {
    "duration": 1482,
    "start_time": "2023-11-27T17:37:18.360Z"
   },
   {
    "duration": 160,
    "start_time": "2023-11-27T17:37:19.844Z"
   },
   {
    "duration": 150,
    "start_time": "2023-11-27T17:37:44.049Z"
   },
   {
    "duration": 148,
    "start_time": "2023-11-27T17:37:45.221Z"
   },
   {
    "duration": 3,
    "start_time": "2023-11-27T17:37:47.254Z"
   },
   {
    "duration": 70,
    "start_time": "2023-11-27T17:37:47.595Z"
   },
   {
    "duration": 64,
    "start_time": "2023-11-27T17:37:47.789Z"
   },
   {
    "duration": 70,
    "start_time": "2023-11-27T17:37:47.989Z"
   },
   {
    "duration": 882,
    "start_time": "2023-11-27T17:37:48.570Z"
   },
   {
    "duration": 819,
    "start_time": "2023-11-27T17:37:49.454Z"
   },
   {
    "duration": 763,
    "start_time": "2023-11-27T17:37:50.275Z"
   },
   {
    "duration": 479,
    "start_time": "2023-11-27T17:37:51.041Z"
   },
   {
    "duration": 369,
    "start_time": "2023-11-27T17:37:51.522Z"
   },
   {
    "duration": 335,
    "start_time": "2023-11-27T17:37:51.893Z"
   },
   {
    "duration": 608,
    "start_time": "2023-11-27T17:37:52.230Z"
   },
   {
    "duration": 4,
    "start_time": "2023-11-27T17:37:52.840Z"
   },
   {
    "duration": 443,
    "start_time": "2023-11-27T17:37:52.845Z"
   },
   {
    "duration": 186,
    "start_time": "2023-11-27T17:37:53.290Z"
   },
   {
    "duration": 3,
    "start_time": "2023-11-27T17:37:53.504Z"
   },
   {
    "duration": 3,
    "start_time": "2023-11-27T17:37:54.275Z"
   },
   {
    "duration": 3,
    "start_time": "2023-11-27T17:38:14.718Z"
   },
   {
    "duration": 21,
    "start_time": "2023-11-27T17:38:16.956Z"
   },
   {
    "duration": 2,
    "start_time": "2023-11-27T17:38:20.161Z"
   },
   {
    "duration": 1356,
    "start_time": "2023-11-27T17:38:20.413Z"
   },
   {
    "duration": 2,
    "start_time": "2023-11-27T17:38:21.773Z"
   },
   {
    "duration": 1326,
    "start_time": "2023-11-27T17:38:21.777Z"
   },
   {
    "duration": 2,
    "start_time": "2023-11-27T17:38:23.105Z"
   },
   {
    "duration": 1357,
    "start_time": "2023-11-27T17:38:23.109Z"
   },
   {
    "duration": 2467,
    "start_time": "2023-11-27T17:43:34.667Z"
   },
   {
    "duration": 1452,
    "start_time": "2023-11-27T17:43:46.608Z"
   },
   {
    "duration": 165,
    "start_time": "2023-11-27T17:43:48.062Z"
   },
   {
    "duration": 136,
    "start_time": "2023-11-27T17:43:48.228Z"
   },
   {
    "duration": 147,
    "start_time": "2023-11-27T17:43:49.826Z"
   },
   {
    "duration": 3,
    "start_time": "2023-11-27T17:43:50.913Z"
   },
   {
    "duration": 69,
    "start_time": "2023-11-27T17:43:54.229Z"
   },
   {
    "duration": 65,
    "start_time": "2023-11-27T17:43:54.629Z"
   },
   {
    "duration": 71,
    "start_time": "2023-11-27T17:43:54.789Z"
   },
   {
    "duration": 898,
    "start_time": "2023-11-27T17:43:57.415Z"
   },
   {
    "duration": 833,
    "start_time": "2023-11-27T17:43:58.907Z"
   },
   {
    "duration": 812,
    "start_time": "2023-11-27T17:43:59.742Z"
   },
   {
    "duration": 519,
    "start_time": "2023-11-27T17:44:00.556Z"
   },
   {
    "duration": 351,
    "start_time": "2023-11-27T17:44:01.077Z"
   },
   {
    "duration": 335,
    "start_time": "2023-11-27T17:44:01.674Z"
   },
   {
    "duration": 630,
    "start_time": "2023-11-27T17:44:02.164Z"
   },
   {
    "duration": 4,
    "start_time": "2023-11-27T17:44:03.478Z"
   },
   {
    "duration": 384,
    "start_time": "2023-11-27T17:44:04.102Z"
   },
   {
    "duration": 9,
    "start_time": "2023-11-27T17:44:04.846Z"
   },
   {
    "duration": 3,
    "start_time": "2023-11-27T17:44:06.537Z"
   },
   {
    "duration": 4,
    "start_time": "2023-11-27T17:44:07.295Z"
   },
   {
    "duration": 3,
    "start_time": "2023-11-27T17:44:08.067Z"
   },
   {
    "duration": 18,
    "start_time": "2023-11-27T17:44:09.368Z"
   },
   {
    "duration": 3,
    "start_time": "2023-11-27T17:44:10.555Z"
   },
   {
    "duration": 1342,
    "start_time": "2023-11-27T17:44:11.192Z"
   },
   {
    "duration": 2,
    "start_time": "2023-11-27T17:44:14.074Z"
   },
   {
    "duration": 1361,
    "start_time": "2023-11-27T17:44:16.202Z"
   },
   {
    "duration": 8,
    "start_time": "2023-11-27T17:44:17.565Z"
   },
   {
    "duration": 1336,
    "start_time": "2023-11-27T17:44:17.715Z"
   },
   {
    "duration": 2555,
    "start_time": "2023-11-27T17:59:15.498Z"
   },
   {
    "duration": 1520,
    "start_time": "2023-11-27T17:59:18.056Z"
   },
   {
    "duration": 159,
    "start_time": "2023-11-27T17:59:19.578Z"
   },
   {
    "duration": 148,
    "start_time": "2023-11-27T17:59:30.569Z"
   },
   {
    "duration": 137,
    "start_time": "2023-11-27T17:59:30.864Z"
   },
   {
    "duration": 3,
    "start_time": "2023-11-27T17:59:31.180Z"
   },
   {
    "duration": 72,
    "start_time": "2023-11-27T17:59:31.330Z"
   },
   {
    "duration": 72,
    "start_time": "2023-11-27T17:59:31.470Z"
   },
   {
    "duration": 69,
    "start_time": "2023-11-27T17:59:31.637Z"
   },
   {
    "duration": 910,
    "start_time": "2023-11-27T17:59:31.991Z"
   },
   {
    "duration": 885,
    "start_time": "2023-11-27T17:59:32.903Z"
   },
   {
    "duration": 804,
    "start_time": "2023-11-27T17:59:33.789Z"
   },
   {
    "duration": 522,
    "start_time": "2023-11-27T17:59:34.595Z"
   },
   {
    "duration": 374,
    "start_time": "2023-11-27T17:59:35.119Z"
   },
   {
    "duration": 324,
    "start_time": "2023-11-27T17:59:35.495Z"
   },
   {
    "duration": 641,
    "start_time": "2023-11-27T17:59:35.821Z"
   },
   {
    "duration": 4,
    "start_time": "2023-11-27T18:00:46.352Z"
   },
   {
    "duration": 305,
    "start_time": "2023-11-27T18:00:48.555Z"
   },
   {
    "duration": 453,
    "start_time": "2023-11-27T18:00:57.432Z"
   },
   {
    "duration": 15,
    "start_time": "2023-11-27T18:01:03.263Z"
   },
   {
    "duration": 2497,
    "start_time": "2023-11-27T18:01:41.301Z"
   },
   {
    "duration": 1459,
    "start_time": "2023-11-27T18:01:43.800Z"
   },
   {
    "duration": 173,
    "start_time": "2023-11-27T18:01:45.260Z"
   },
   {
    "duration": 140,
    "start_time": "2023-11-27T18:01:45.435Z"
   },
   {
    "duration": 142,
    "start_time": "2023-11-27T18:01:45.577Z"
   },
   {
    "duration": 3,
    "start_time": "2023-11-27T18:01:45.720Z"
   },
   {
    "duration": 84,
    "start_time": "2023-11-27T18:01:45.725Z"
   },
   {
    "duration": 76,
    "start_time": "2023-11-27T18:01:45.810Z"
   },
   {
    "duration": 70,
    "start_time": "2023-11-27T18:01:45.888Z"
   },
   {
    "duration": 923,
    "start_time": "2023-11-27T18:01:48.003Z"
   },
   {
    "duration": 833,
    "start_time": "2023-11-27T18:01:48.927Z"
   },
   {
    "duration": 785,
    "start_time": "2023-11-27T18:01:49.761Z"
   },
   {
    "duration": 497,
    "start_time": "2023-11-27T18:01:50.548Z"
   },
   {
    "duration": 360,
    "start_time": "2023-11-27T18:01:51.046Z"
   },
   {
    "duration": 333,
    "start_time": "2023-11-27T18:01:51.408Z"
   },
   {
    "duration": 628,
    "start_time": "2023-11-27T18:01:52.160Z"
   },
   {
    "duration": 4,
    "start_time": "2023-11-27T18:01:54.723Z"
   },
   {
    "duration": 402,
    "start_time": "2023-11-27T18:02:04.288Z"
   },
   {
    "duration": 10,
    "start_time": "2023-11-27T18:02:08.938Z"
   },
   {
    "duration": 3,
    "start_time": "2023-11-27T18:02:11.107Z"
   },
   {
    "duration": 3,
    "start_time": "2023-11-27T18:02:12.087Z"
   },
   {
    "duration": 3,
    "start_time": "2023-11-27T18:02:16.350Z"
   },
   {
    "duration": 18,
    "start_time": "2023-11-27T18:02:18.847Z"
   },
   {
    "duration": 2,
    "start_time": "2023-11-27T18:02:21.436Z"
   },
   {
    "duration": 1365,
    "start_time": "2023-11-27T18:02:21.779Z"
   },
   {
    "duration": 2,
    "start_time": "2023-11-27T18:02:24.106Z"
   },
   {
    "duration": 1440,
    "start_time": "2023-11-27T18:02:24.563Z"
   },
   {
    "duration": 3,
    "start_time": "2023-11-27T18:02:26.005Z"
   },
   {
    "duration": 1350,
    "start_time": "2023-11-27T18:02:30.905Z"
   },
   {
    "duration": 3318,
    "start_time": "2023-11-29T17:44:04.735Z"
   },
   {
    "duration": 1554,
    "start_time": "2023-11-29T17:44:09.413Z"
   },
   {
    "duration": 389,
    "start_time": "2023-11-29T17:44:15.997Z"
   },
   {
    "duration": 202,
    "start_time": "2023-11-29T17:44:16.644Z"
   },
   {
    "duration": 215,
    "start_time": "2023-11-29T17:44:19.421Z"
   },
   {
    "duration": 23215,
    "start_time": "2023-11-29T17:44:58.909Z"
   },
   {
    "duration": 106,
    "start_time": "2023-11-29T17:45:25.678Z"
   },
   {
    "duration": 9732,
    "start_time": "2023-11-29T17:45:59.743Z"
   },
   {
    "duration": 8501,
    "start_time": "2023-11-29T17:46:09.477Z"
   },
   {
    "duration": 42,
    "start_time": "2023-11-29T17:46:49.197Z"
   },
   {
    "duration": 16,
    "start_time": "2023-11-29T17:47:40.140Z"
   },
   {
    "duration": 15,
    "start_time": "2023-11-29T17:47:48.084Z"
   },
   {
    "duration": 87,
    "start_time": "2023-11-29T17:49:15.235Z"
   },
   {
    "duration": 77,
    "start_time": "2023-11-29T17:49:20.038Z"
   },
   {
    "duration": 76,
    "start_time": "2023-11-29T17:49:44.927Z"
   },
   {
    "duration": 2267,
    "start_time": "2023-11-29T17:50:32.580Z"
   },
   {
    "duration": 22,
    "start_time": "2023-11-29T17:52:14.027Z"
   },
   {
    "duration": 6284,
    "start_time": "2023-11-29T17:54:44.508Z"
   },
   {
    "duration": 2219,
    "start_time": "2023-11-29T17:54:54.793Z"
   },
   {
    "duration": 29,
    "start_time": "2023-11-29T17:55:07.007Z"
   },
   {
    "duration": 93,
    "start_time": "2023-11-29T17:56:28.852Z"
   }
  ],
  "kernelspec": {
   "display_name": "Python 3 (ipykernel)",
   "language": "python",
   "name": "python3"
  },
  "language_info": {
   "codemirror_mode": {
    "name": "ipython",
    "version": 3
   },
   "file_extension": ".py",
   "mimetype": "text/x-python",
   "name": "python",
   "nbconvert_exporter": "python",
   "pygments_lexer": "ipython3",
   "version": "3.10.0"
  },
  "toc": {
   "base_numbering": 1,
   "nav_menu": {},
   "number_sections": true,
   "sideBar": true,
   "skip_h1_title": true,
   "title_cell": "Table of Contents",
   "title_sidebar": "Contents",
   "toc_cell": false,
   "toc_position": {},
   "toc_section_display": true,
   "toc_window_display": false
  }
 },
 "nbformat": 4,
 "nbformat_minor": 2
}
